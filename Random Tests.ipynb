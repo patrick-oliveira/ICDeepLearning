{
 "cells": [
  {
   "cell_type": "code",
   "execution_count": 1,
   "id": "harmful-valve",
   "metadata": {},
   "outputs": [],
   "source": [
    "import pickle\n",
    "from typing import Dict, List, Tuple\n",
    "from itertools import product\n",
    "import pandas as pd\n",
    "import time\n",
    "import numpy as np"
   ]
  },
  {
   "cell_type": "markdown",
   "id": "urban-cholesterol",
   "metadata": {},
   "source": [
    "___"
   ]
  },
  {
   "cell_type": "code",
   "execution_count": 2,
   "id": "aerial-welsh",
   "metadata": {},
   "outputs": [],
   "source": [
    "data = np.asarray(range(1536))"
   ]
  },
  {
   "cell_type": "code",
   "execution_count": 24,
   "id": "accurate-mixture",
   "metadata": {},
   "outputs": [],
   "source": [
    "data = np.asarray(48*[16*[list(range(1536))]]).T"
   ]
  },
  {
   "cell_type": "code",
   "execution_count": 42,
   "id": "alert-software",
   "metadata": {},
   "outputs": [
    {
     "data": {
      "text/plain": [
       "(1536, 16, 48)"
      ]
     },
     "execution_count": 42,
     "metadata": {},
     "output_type": "execute_result"
    }
   ],
   "source": [
    "data.shape"
   ]
  },
  {
   "cell_type": "code",
   "execution_count": 43,
   "id": "surrounded-currency",
   "metadata": {},
   "outputs": [
    {
     "data": {
      "text/plain": [
       "array([[[   0,    0,    0, ...,    0,    0,    0],\n",
       "        [   0,    0,    0, ...,    0,    0,    0],\n",
       "        [   0,    0,    0, ...,    0,    0,    0],\n",
       "        ...,\n",
       "        [   0,    0,    0, ...,    0,    0,    0],\n",
       "        [   0,    0,    0, ...,    0,    0,    0],\n",
       "        [   0,    0,    0, ...,    0,    0,    0]],\n",
       "\n",
       "       [[   1,    1,    1, ...,    1,    1,    1],\n",
       "        [   1,    1,    1, ...,    1,    1,    1],\n",
       "        [   1,    1,    1, ...,    1,    1,    1],\n",
       "        ...,\n",
       "        [   1,    1,    1, ...,    1,    1,    1],\n",
       "        [   1,    1,    1, ...,    1,    1,    1],\n",
       "        [   1,    1,    1, ...,    1,    1,    1]],\n",
       "\n",
       "       [[   2,    2,    2, ...,    2,    2,    2],\n",
       "        [   2,    2,    2, ...,    2,    2,    2],\n",
       "        [   2,    2,    2, ...,    2,    2,    2],\n",
       "        ...,\n",
       "        [   2,    2,    2, ...,    2,    2,    2],\n",
       "        [   2,    2,    2, ...,    2,    2,    2],\n",
       "        [   2,    2,    2, ...,    2,    2,    2]],\n",
       "\n",
       "       ...,\n",
       "\n",
       "       [[1533, 1533, 1533, ..., 1533, 1533, 1533],\n",
       "        [1533, 1533, 1533, ..., 1533, 1533, 1533],\n",
       "        [1533, 1533, 1533, ..., 1533, 1533, 1533],\n",
       "        ...,\n",
       "        [1533, 1533, 1533, ..., 1533, 1533, 1533],\n",
       "        [1533, 1533, 1533, ..., 1533, 1533, 1533],\n",
       "        [1533, 1533, 1533, ..., 1533, 1533, 1533]],\n",
       "\n",
       "       [[1534, 1534, 1534, ..., 1534, 1534, 1534],\n",
       "        [1534, 1534, 1534, ..., 1534, 1534, 1534],\n",
       "        [1534, 1534, 1534, ..., 1534, 1534, 1534],\n",
       "        ...,\n",
       "        [1534, 1534, 1534, ..., 1534, 1534, 1534],\n",
       "        [1534, 1534, 1534, ..., 1534, 1534, 1534],\n",
       "        [1534, 1534, 1534, ..., 1534, 1534, 1534]],\n",
       "\n",
       "       [[1535, 1535, 1535, ..., 1535, 1535, 1535],\n",
       "        [1535, 1535, 1535, ..., 1535, 1535, 1535],\n",
       "        [1535, 1535, 1535, ..., 1535, 1535, 1535],\n",
       "        ...,\n",
       "        [1535, 1535, 1535, ..., 1535, 1535, 1535],\n",
       "        [1535, 1535, 1535, ..., 1535, 1535, 1535],\n",
       "        [1535, 1535, 1535, ..., 1535, 1535, 1535]]])"
      ]
     },
     "execution_count": 43,
     "metadata": {},
     "output_type": "execute_result"
    }
   ],
   "source": [
    "data"
   ]
  },
  {
   "cell_type": "code",
   "execution_count": 34,
   "id": "ready-tower",
   "metadata": {},
   "outputs": [
    {
     "name": "stdout",
     "output_type": "stream",
     "text": [
      "1536 512\n",
      "[512, 1024]\n"
     ]
    }
   ],
   "source": [
    "h = data.shape[0]\n",
    "n_seconds_split = 3\n",
    "x_split = h//n_seconds_split\n",
    "print(h, x_split)\n",
    "print(list(range(x_split, h, x_split)))"
   ]
  },
  {
   "cell_type": "code",
   "execution_count": 36,
   "id": "excited-automation",
   "metadata": {},
   "outputs": [],
   "source": [
    "splitted_data = np.split(data, range(x_split, h, x_split))"
   ]
  },
  {
   "cell_type": "code",
   "execution_count": 68,
   "id": "loose-substitute",
   "metadata": {},
   "outputs": [
    {
     "data": {
      "text/plain": [
       "(512, 16, 48)"
      ]
     },
     "execution_count": 68,
     "metadata": {},
     "output_type": "execute_result"
    }
   ],
   "source": [
    "splitted_data[1].shape"
   ]
  },
  {
   "cell_type": "code",
   "execution_count": 46,
   "id": "speaking-stopping",
   "metadata": {},
   "outputs": [
    {
     "data": {
      "text/plain": [
       "(512, 16, 48)"
      ]
     },
     "execution_count": 46,
     "metadata": {},
     "output_type": "execute_result"
    }
   ],
   "source": [
    "splitted_data[0].shape"
   ]
  },
  {
   "cell_type": "code",
   "execution_count": 48,
   "id": "parallel-central",
   "metadata": {},
   "outputs": [
    {
     "name": "stdout",
     "output_type": "stream",
     "text": [
      "[[  0   0   0 ...   0   0   0]\n",
      " [  1   1   1 ...   1   1   1]\n",
      " [  2   2   2 ...   2   2   2]\n",
      " ...\n",
      " [509 509 509 ... 509 509 509]\n",
      " [510 510 510 ... 510 510 510]\n",
      " [511 511 511 ... 511 511 511]]\n",
      "[[ 512  512  512 ...  512  512  512]\n",
      " [ 513  513  513 ...  513  513  513]\n",
      " [ 514  514  514 ...  514  514  514]\n",
      " ...\n",
      " [1021 1021 1021 ... 1021 1021 1021]\n",
      " [1022 1022 1022 ... 1022 1022 1022]\n",
      " [1023 1023 1023 ... 1023 1023 1023]]\n",
      "[[1024 1024 1024 ... 1024 1024 1024]\n",
      " [1025 1025 1025 ... 1025 1025 1025]\n",
      " [1026 1026 1026 ... 1026 1026 1026]\n",
      " ...\n",
      " [1533 1533 1533 ... 1533 1533 1533]\n",
      " [1534 1534 1534 ... 1534 1534 1534]\n",
      " [1535 1535 1535 ... 1535 1535 1535]]\n"
     ]
    }
   ],
   "source": [
    "print(splitted_data[0][:, :, 0])\n",
    "print(splitted_data[1][:, :, 0])\n",
    "print(splitted_data[2][:, :, 0])"
   ]
  },
  {
   "cell_type": "code",
   "execution_count": 52,
   "id": "international-consensus",
   "metadata": {},
   "outputs": [],
   "source": [
    "stacked_data = np.dstack(splitted_data)"
   ]
  },
  {
   "cell_type": "code",
   "execution_count": 53,
   "id": "sitting-marsh",
   "metadata": {},
   "outputs": [
    {
     "data": {
      "text/plain": [
       "(512, 16, 144)"
      ]
     },
     "execution_count": 53,
     "metadata": {},
     "output_type": "execute_result"
    }
   ],
   "source": [
    "stacked_data.shape"
   ]
  },
  {
   "cell_type": "code",
   "execution_count": 61,
   "id": "limited-hybrid",
   "metadata": {},
   "outputs": [
    {
     "data": {
      "text/plain": [
       "array([[  0,   0,   0, ...,   0,   0,   0],\n",
       "       [  1,   1,   1, ...,   1,   1,   1],\n",
       "       [  2,   2,   2, ...,   2,   2,   2],\n",
       "       ...,\n",
       "       [509, 509, 509, ..., 509, 509, 509],\n",
       "       [510, 510, 510, ..., 510, 510, 510],\n",
       "       [511, 511, 511, ..., 511, 511, 511]])"
      ]
     },
     "execution_count": 61,
     "metadata": {},
     "output_type": "execute_result"
    }
   ],
   "source": [
    "stacked_data[:, :, 0]"
   ]
  },
  {
   "cell_type": "code",
   "execution_count": 60,
   "id": "mysterious-florist",
   "metadata": {},
   "outputs": [
    {
     "data": {
      "text/plain": [
       "array([[ 512,  512,  512, ...,  512,  512,  512],\n",
       "       [ 513,  513,  513, ...,  513,  513,  513],\n",
       "       [ 514,  514,  514, ...,  514,  514,  514],\n",
       "       ...,\n",
       "       [1021, 1021, 1021, ..., 1021, 1021, 1021],\n",
       "       [1022, 1022, 1022, ..., 1022, 1022, 1022],\n",
       "       [1023, 1023, 1023, ..., 1023, 1023, 1023]])"
      ]
     },
     "execution_count": 60,
     "metadata": {},
     "output_type": "execute_result"
    }
   ],
   "source": [
    "stacked_data[:, :, 48]"
   ]
  },
  {
   "cell_type": "code",
   "execution_count": 62,
   "id": "disabled-airport",
   "metadata": {},
   "outputs": [
    {
     "data": {
      "text/plain": [
       "array([[1024, 1024, 1024, ..., 1024, 1024, 1024],\n",
       "       [1025, 1025, 1025, ..., 1025, 1025, 1025],\n",
       "       [1026, 1026, 1026, ..., 1026, 1026, 1026],\n",
       "       ...,\n",
       "       [1533, 1533, 1533, ..., 1533, 1533, 1533],\n",
       "       [1534, 1534, 1534, ..., 1534, 1534, 1534],\n",
       "       [1535, 1535, 1535, ..., 1535, 1535, 1535]])"
      ]
     },
     "execution_count": 62,
     "metadata": {},
     "output_type": "execute_result"
    }
   ],
   "source": [
    "stacked_data[:, :, 2*48]"
   ]
  },
  {
   "cell_type": "code",
   "execution_count": 63,
   "id": "deadly-bennett",
   "metadata": {},
   "outputs": [],
   "source": [
    "transposed_stacked_data = stacked_data.transpose(2, 0, 1)"
   ]
  },
  {
   "cell_type": "code",
   "execution_count": 64,
   "id": "statutory-masters",
   "metadata": {},
   "outputs": [
    {
     "data": {
      "text/plain": [
       "(144, 512, 16)"
      ]
     },
     "execution_count": 64,
     "metadata": {},
     "output_type": "execute_result"
    }
   ],
   "source": [
    "transposed_stacked_data.shape"
   ]
  },
  {
   "cell_type": "code",
   "execution_count": 65,
   "id": "proper-theme",
   "metadata": {},
   "outputs": [
    {
     "data": {
      "text/plain": [
       "array([[  0,   0,   0, ...,   0,   0,   0],\n",
       "       [  1,   1,   1, ...,   1,   1,   1],\n",
       "       [  2,   2,   2, ...,   2,   2,   2],\n",
       "       ...,\n",
       "       [509, 509, 509, ..., 509, 509, 509],\n",
       "       [510, 510, 510, ..., 510, 510, 510],\n",
       "       [511, 511, 511, ..., 511, 511, 511]])"
      ]
     },
     "execution_count": 65,
     "metadata": {},
     "output_type": "execute_result"
    }
   ],
   "source": [
    "transposed_stacked_data[0, :, :]"
   ]
  },
  {
   "cell_type": "code",
   "execution_count": 66,
   "id": "affected-morocco",
   "metadata": {},
   "outputs": [
    {
     "data": {
      "text/plain": [
       "array([[ 512,  512,  512, ...,  512,  512,  512],\n",
       "       [ 513,  513,  513, ...,  513,  513,  513],\n",
       "       [ 514,  514,  514, ...,  514,  514,  514],\n",
       "       ...,\n",
       "       [1021, 1021, 1021, ..., 1021, 1021, 1021],\n",
       "       [1022, 1022, 1022, ..., 1022, 1022, 1022],\n",
       "       [1023, 1023, 1023, ..., 1023, 1023, 1023]])"
      ]
     },
     "execution_count": 66,
     "metadata": {},
     "output_type": "execute_result"
    }
   ],
   "source": [
    "transposed_stacked_data[48, :, :]"
   ]
  },
  {
   "cell_type": "code",
   "execution_count": 67,
   "id": "entire-peeing",
   "metadata": {},
   "outputs": [
    {
     "data": {
      "text/plain": [
       "array([[1024, 1024, 1024, ..., 1024, 1024, 1024],\n",
       "       [1025, 1025, 1025, ..., 1025, 1025, 1025],\n",
       "       [1026, 1026, 1026, ..., 1026, 1026, 1026],\n",
       "       ...,\n",
       "       [1533, 1533, 1533, ..., 1533, 1533, 1533],\n",
       "       [1534, 1534, 1534, ..., 1534, 1534, 1534],\n",
       "       [1535, 1535, 1535, ..., 1535, 1535, 1535]])"
      ]
     },
     "execution_count": 67,
     "metadata": {},
     "output_type": "execute_result"
    }
   ],
   "source": [
    "transposed_stacked_data[2*48, :, :]"
   ]
  },
  {
   "cell_type": "markdown",
   "id": "incorrect-lender",
   "metadata": {},
   "source": [
    "__Extracting statistics from a saved object__"
   ]
  },
  {
   "cell_type": "code",
   "execution_count": 2,
   "id": "editorial-capacity",
   "metadata": {},
   "outputs": [],
   "source": [
    "def load_stats_file(path: str) -> Dict:\n",
    "    with open(path, 'rb') as stats_file: stats = pickle.load(stats_file)\n",
    "    return stats\n",
    "\n",
    "def singlefold_best_stats(path: str, specifications: str, *args) -> List[float]:\n",
    "    return _singlefold_best_stats(load_stats_file(path + specifications.format(*args)))\n",
    "\n",
    "def _singlefold_best_stats(statistics: Dict) -> List[float]:\n",
    "    return statistics['BestLoss']\n",
    "\n",
    "def kfold_best_stats(path: str, specifications: str, *args) -> pd.DataFrame:\n",
    "    return _kfold_best_stats(load_stats_file(path + specifications.format(*args)))\n",
    "    \n",
    "def _kfold_best_stats(statistics: Dict) -> List[float]:\n",
    "    accuracy = []\n",
    "    loss = []\n",
    "    \n",
    "    for fold in range(len(statistics) - 1):\n",
    "        accuracy.append(statistics['Fold {}'.format(fold)]['BestAccuracy'])\n",
    "        loss.append(statistics['Fold {}'.format(fold)]['BestLoss'])\n",
    "    \n",
    "    accuracy.append(np.mean(accuracy))\n",
    "    loss.append(np.mean(loss))\n",
    "    accuracy.append(np.std(accuracy[:-1]))\n",
    "    loss.append(np.std(loss[:-1]))\n",
    "    \n",
    "    return accuracy, loss"
   ]
  },
  {
   "cell_type": "code",
   "execution_count": 186,
   "id": "floating-fleet",
   "metadata": {},
   "outputs": [
    {
     "data": {
      "text/html": [
       "<div>\n",
       "<style scoped>\n",
       "    .dataframe tbody tr th:only-of-type {\n",
       "        vertical-align: middle;\n",
       "    }\n",
       "\n",
       "    .dataframe tbody tr th {\n",
       "        vertical-align: top;\n",
       "    }\n",
       "\n",
       "    .dataframe thead th {\n",
       "        text-align: right;\n",
       "    }\n",
       "</style>\n",
       "<table border=\"1\" class=\"dataframe\">\n",
       "  <thead>\n",
       "    <tr style=\"text-align: right;\">\n",
       "      <th></th>\n",
       "      <th>F1</th>\n",
       "      <th>F2</th>\n",
       "      <th>F3</th>\n",
       "      <th>F4</th>\n",
       "      <th>F5</th>\n",
       "      <th>M</th>\n",
       "      <th>STD</th>\n",
       "    </tr>\n",
       "  </thead>\n",
       "  <tbody>\n",
       "    <tr>\n",
       "      <th>(1, 1, 1)</th>\n",
       "      <td>0.833333</td>\n",
       "      <td>0.841503</td>\n",
       "      <td>0.820261</td>\n",
       "      <td>0.795752</td>\n",
       "      <td>0.795752</td>\n",
       "      <td>0.81732</td>\n",
       "      <td>0.01887</td>\n",
       "    </tr>\n",
       "    <tr>\n",
       "      <th>(1, 1, 3)</th>\n",
       "      <td>0.52451</td>\n",
       "      <td>0.629085</td>\n",
       "      <td>0.702614</td>\n",
       "      <td>0.555556</td>\n",
       "      <td>0.619281</td>\n",
       "      <td>0.606209</td>\n",
       "      <td>0.062014</td>\n",
       "    </tr>\n",
       "    <tr>\n",
       "      <th>(1, 1, 5)</th>\n",
       "      <td>0.503268</td>\n",
       "      <td>0.444444</td>\n",
       "      <td>0.818627</td>\n",
       "      <td>0.676471</td>\n",
       "      <td>0.627451</td>\n",
       "      <td>0.614052</td>\n",
       "      <td>0.131884</td>\n",
       "    </tr>\n",
       "    <tr>\n",
       "      <th>(1, 3, 1)</th>\n",
       "      <td>0.761438</td>\n",
       "      <td>0.79902</td>\n",
       "      <td>0.800654</td>\n",
       "      <td>0.702614</td>\n",
       "      <td>0.79902</td>\n",
       "      <td>0.772549</td>\n",
       "      <td>0.037962</td>\n",
       "    </tr>\n",
       "    <tr>\n",
       "      <th>(1, 3, 3)</th>\n",
       "      <td>0.405229</td>\n",
       "      <td>0.403595</td>\n",
       "      <td>0.535948</td>\n",
       "      <td>0.433007</td>\n",
       "      <td>0.411765</td>\n",
       "      <td>0.437908</td>\n",
       "      <td>0.050129</td>\n",
       "    </tr>\n",
       "    <tr>\n",
       "      <th>(1, 3, 5)</th>\n",
       "      <td>0.550654</td>\n",
       "      <td>0.415033</td>\n",
       "      <td>0.503268</td>\n",
       "      <td>0.553922</td>\n",
       "      <td>0.48366</td>\n",
       "      <td>0.501307</td>\n",
       "      <td>0.050915</td>\n",
       "    </tr>\n",
       "    <tr>\n",
       "      <th>(1, 5, 1)</th>\n",
       "      <td>0.723856</td>\n",
       "      <td>0.805556</td>\n",
       "      <td>0.79902</td>\n",
       "      <td>0.705882</td>\n",
       "      <td>0.754902</td>\n",
       "      <td>0.757843</td>\n",
       "      <td>0.039587</td>\n",
       "    </tr>\n",
       "    <tr>\n",
       "      <th>(1, 5, 3)</th>\n",
       "      <td>0.614379</td>\n",
       "      <td>0.704248</td>\n",
       "      <td>0.638889</td>\n",
       "      <td>0.568627</td>\n",
       "      <td>0.694444</td>\n",
       "      <td>0.644118</td>\n",
       "      <td>0.050515</td>\n",
       "    </tr>\n",
       "    <tr>\n",
       "      <th>(1, 5, 5)</th>\n",
       "      <td>0.705882</td>\n",
       "      <td>0.444444</td>\n",
       "      <td>0.51634</td>\n",
       "      <td>0.612745</td>\n",
       "      <td>0.547386</td>\n",
       "      <td>0.565359</td>\n",
       "      <td>0.0887</td>\n",
       "    </tr>\n",
       "  </tbody>\n",
       "</table>\n",
       "</div>"
      ],
      "text/plain": [
       "                 F1        F2        F3        F4        F5         M  \\\n",
       "(1, 1, 1)  0.833333  0.841503  0.820261  0.795752  0.795752   0.81732   \n",
       "(1, 1, 3)   0.52451  0.629085  0.702614  0.555556  0.619281  0.606209   \n",
       "(1, 1, 5)  0.503268  0.444444  0.818627  0.676471  0.627451  0.614052   \n",
       "(1, 3, 1)  0.761438   0.79902  0.800654  0.702614   0.79902  0.772549   \n",
       "(1, 3, 3)  0.405229  0.403595  0.535948  0.433007  0.411765  0.437908   \n",
       "(1, 3, 5)  0.550654  0.415033  0.503268  0.553922   0.48366  0.501307   \n",
       "(1, 5, 1)  0.723856  0.805556   0.79902  0.705882  0.754902  0.757843   \n",
       "(1, 5, 3)  0.614379  0.704248  0.638889  0.568627  0.694444  0.644118   \n",
       "(1, 5, 5)  0.705882  0.444444   0.51634  0.612745  0.547386  0.565359   \n",
       "\n",
       "                STD  \n",
       "(1, 1, 1)   0.01887  \n",
       "(1, 1, 3)  0.062014  \n",
       "(1, 1, 5)  0.131884  \n",
       "(1, 3, 1)  0.037962  \n",
       "(1, 3, 3)  0.050129  \n",
       "(1, 3, 5)  0.050915  \n",
       "(1, 5, 1)  0.039587  \n",
       "(1, 5, 3)  0.050515  \n",
       "(1, 5, 5)    0.0887  "
      ]
     },
     "execution_count": 186,
     "metadata": {},
     "output_type": "execute_result"
    }
   ],
   "source": [
    "path = 'Outputs/Model (1 Layer)/ResNet50 - N-TL - Autoencoder - '\n",
    "S = [1]\n",
    "K = [1, 3, 5]\n",
    "FM = [1, 3, 5]\n",
    "cols = ['F1', 'F2', 'F3', 'F4', 'F5', 'M', 'STD']\n",
    "table = pd.DataFrame(columns = cols, index = map(lambda x: str(x), list(product(S, K, FM))))\n",
    "for (s, k, fm) in product(S, K, FM):\n",
    "    best_stats = kfold_best_stats(path, 's = {} k = {} fm = {} - 5 classes - stats', s, k, fm)\n",
    "    for i in range(len(cols)):\n",
    "        table.loc[str((s, k, fm))][cols[i]] = best_stats[0][i]\n",
    "\n",
    "table"
   ]
  },
  {
   "cell_type": "code",
   "execution_count": 8,
   "id": "eligible-origin",
   "metadata": {},
   "outputs": [
    {
     "data": {
      "text/html": [
       "<div>\n",
       "<style scoped>\n",
       "    .dataframe tbody tr th:only-of-type {\n",
       "        vertical-align: middle;\n",
       "    }\n",
       "\n",
       "    .dataframe tbody tr th {\n",
       "        vertical-align: top;\n",
       "    }\n",
       "\n",
       "    .dataframe thead th {\n",
       "        text-align: right;\n",
       "    }\n",
       "</style>\n",
       "<table border=\"1\" class=\"dataframe\">\n",
       "  <thead>\n",
       "    <tr style=\"text-align: right;\">\n",
       "      <th></th>\n",
       "      <th>F1</th>\n",
       "      <th>F2</th>\n",
       "      <th>F3</th>\n",
       "      <th>F4</th>\n",
       "      <th>F5</th>\n",
       "      <th>M</th>\n",
       "      <th>STD</th>\n",
       "    </tr>\n",
       "  </thead>\n",
       "  <tbody>\n",
       "    <tr>\n",
       "      <th>(2, 1, 1, 0)</th>\n",
       "      <td>0.735294</td>\n",
       "      <td>0.697712</td>\n",
       "      <td>0.746732</td>\n",
       "      <td>0.764706</td>\n",
       "      <td>0.727124</td>\n",
       "      <td>0.734314</td>\n",
       "      <td>0.022227</td>\n",
       "    </tr>\n",
       "    <tr>\n",
       "      <th>(2, 1, 3, 0)</th>\n",
       "      <td>0.496732</td>\n",
       "      <td>0.462418</td>\n",
       "      <td>0.398693</td>\n",
       "      <td>0.591503</td>\n",
       "      <td>0.413399</td>\n",
       "      <td>0.472549</td>\n",
       "      <td>0.06898</td>\n",
       "    </tr>\n",
       "    <tr>\n",
       "      <th>(2, 1, 5, 0)</th>\n",
       "      <td>0.598039</td>\n",
       "      <td>0.630719</td>\n",
       "      <td>0.645425</td>\n",
       "      <td>0.428105</td>\n",
       "      <td>0.539216</td>\n",
       "      <td>0.568301</td>\n",
       "      <td>0.079031</td>\n",
       "    </tr>\n",
       "    <tr>\n",
       "      <th>(2, 3, 1, 0)</th>\n",
       "      <td>0.79902</td>\n",
       "      <td>0.80719</td>\n",
       "      <td>0.80719</td>\n",
       "      <td>0.771242</td>\n",
       "      <td>0.816993</td>\n",
       "      <td>0.800327</td>\n",
       "      <td>0.015618</td>\n",
       "    </tr>\n",
       "    <tr>\n",
       "      <th>(2, 3, 3, 0)</th>\n",
       "      <td>0.637255</td>\n",
       "      <td>0.377451</td>\n",
       "      <td>0.679739</td>\n",
       "      <td>0.5</td>\n",
       "      <td>0.598039</td>\n",
       "      <td>0.558497</td>\n",
       "      <td>0.108319</td>\n",
       "    </tr>\n",
       "    <tr>\n",
       "      <th>(2, 3, 5, 0)</th>\n",
       "      <td>0.77451</td>\n",
       "      <td>0.480392</td>\n",
       "      <td>0.514706</td>\n",
       "      <td>0.408497</td>\n",
       "      <td>0.609477</td>\n",
       "      <td>0.557516</td>\n",
       "      <td>0.126312</td>\n",
       "    </tr>\n",
       "    <tr>\n",
       "      <th>(2, 5, 1, 0)</th>\n",
       "      <td>0.821895</td>\n",
       "      <td>0.800654</td>\n",
       "      <td>0.650327</td>\n",
       "      <td>0.792484</td>\n",
       "      <td>0.825163</td>\n",
       "      <td>0.778105</td>\n",
       "      <td>0.065076</td>\n",
       "    </tr>\n",
       "    <tr>\n",
       "      <th>(2, 5, 3, 0)</th>\n",
       "      <td>0.377451</td>\n",
       "      <td>0.403595</td>\n",
       "      <td>0.472222</td>\n",
       "      <td>0.593137</td>\n",
       "      <td>0.395425</td>\n",
       "      <td>0.448366</td>\n",
       "      <td>0.079201</td>\n",
       "    </tr>\n",
       "    <tr>\n",
       "      <th>(2, 5, 5, 0)</th>\n",
       "      <td>0.444444</td>\n",
       "      <td>0.519608</td>\n",
       "      <td>0.359477</td>\n",
       "      <td>0.400327</td>\n",
       "      <td>0.408497</td>\n",
       "      <td>0.426471</td>\n",
       "      <td>0.053837</td>\n",
       "    </tr>\n",
       "  </tbody>\n",
       "</table>\n",
       "</div>"
      ],
      "text/plain": [
       "                    F1        F2        F3        F4        F5         M  \\\n",
       "(2, 1, 1, 0)  0.735294  0.697712  0.746732  0.764706  0.727124  0.734314   \n",
       "(2, 1, 3, 0)  0.496732  0.462418  0.398693  0.591503  0.413399  0.472549   \n",
       "(2, 1, 5, 0)  0.598039  0.630719  0.645425  0.428105  0.539216  0.568301   \n",
       "(2, 3, 1, 0)   0.79902   0.80719   0.80719  0.771242  0.816993  0.800327   \n",
       "(2, 3, 3, 0)  0.637255  0.377451  0.679739       0.5  0.598039  0.558497   \n",
       "(2, 3, 5, 0)   0.77451  0.480392  0.514706  0.408497  0.609477  0.557516   \n",
       "(2, 5, 1, 0)  0.821895  0.800654  0.650327  0.792484  0.825163  0.778105   \n",
       "(2, 5, 3, 0)  0.377451  0.403595  0.472222  0.593137  0.395425  0.448366   \n",
       "(2, 5, 5, 0)  0.444444  0.519608  0.359477  0.400327  0.408497  0.426471   \n",
       "\n",
       "                   STD  \n",
       "(2, 1, 1, 0)  0.022227  \n",
       "(2, 1, 3, 0)   0.06898  \n",
       "(2, 1, 5, 0)  0.079031  \n",
       "(2, 3, 1, 0)  0.015618  \n",
       "(2, 3, 3, 0)  0.108319  \n",
       "(2, 3, 5, 0)  0.126312  \n",
       "(2, 5, 1, 0)  0.065076  \n",
       "(2, 5, 3, 0)  0.079201  \n",
       "(2, 5, 5, 0)  0.053837  "
      ]
     },
     "execution_count": 8,
     "metadata": {},
     "output_type": "execute_result"
    }
   ],
   "source": [
    "path = 'Outputs/Model (1 Layer)/50 folds - ResNet50 - N-TL - 50 folds - Autoencoder - '\n",
    "S = [2]\n",
    "K = [1, 3, 5]\n",
    "FM = [1, 3, 5]\n",
    "DP = [0]\n",
    "cols = ['F1', 'F2', 'F3', 'F4', 'F5', 'M', 'STD']\n",
    "table = pd.DataFrame(columns = cols, index = map(lambda x: str(x), list(product(S, K, FM, DP))))\n",
    "for (s, k, fm, dp) in product(S, K, FM, DP):\n",
    "    best_stats = kfold_best_stats(path, 's = {} k = {} fm = {} dp = {} - 5 classes - stats', s, k, fm, dp)\n",
    "    for i in range(len(cols)):\n",
    "        table.loc[str((s, k, fm, dp))][cols[i]] = best_stats[0][i]\n",
    "\n",
    "table"
   ]
  },
  {
   "cell_type": "code",
   "execution_count": 189,
   "id": "absolute-substitute",
   "metadata": {},
   "outputs": [
    {
     "data": {
      "text/html": [
       "<div>\n",
       "<style scoped>\n",
       "    .dataframe tbody tr th:only-of-type {\n",
       "        vertical-align: middle;\n",
       "    }\n",
       "\n",
       "    .dataframe tbody tr th {\n",
       "        vertical-align: top;\n",
       "    }\n",
       "\n",
       "    .dataframe thead th {\n",
       "        text-align: right;\n",
       "    }\n",
       "</style>\n",
       "<table border=\"1\" class=\"dataframe\">\n",
       "  <thead>\n",
       "    <tr style=\"text-align: right;\">\n",
       "      <th></th>\n",
       "      <th>F1</th>\n",
       "      <th>F2</th>\n",
       "      <th>F3</th>\n",
       "      <th>F4</th>\n",
       "      <th>F5</th>\n",
       "      <th>M</th>\n",
       "      <th>STD</th>\n",
       "    </tr>\n",
       "  </thead>\n",
       "  <tbody>\n",
       "    <tr>\n",
       "      <th>(1, 1, 1, 0.1)</th>\n",
       "      <td>0.794118</td>\n",
       "      <td>0.856209</td>\n",
       "      <td>0.736928</td>\n",
       "      <td>0.851307</td>\n",
       "      <td>0.851307</td>\n",
       "      <td>0.817974</td>\n",
       "      <td>0.046522</td>\n",
       "    </tr>\n",
       "    <tr>\n",
       "      <th>(1, 1, 1, 0.15)</th>\n",
       "      <td>0.810458</td>\n",
       "      <td>0.800654</td>\n",
       "      <td>0.866013</td>\n",
       "      <td>0.854575</td>\n",
       "      <td>0.843137</td>\n",
       "      <td>0.834967</td>\n",
       "      <td>0.025271</td>\n",
       "    </tr>\n",
       "    <tr>\n",
       "      <th>(1, 1, 1, 0.2)</th>\n",
       "      <td>0.838235</td>\n",
       "      <td>0.633987</td>\n",
       "      <td>0.834967</td>\n",
       "      <td>0.54085</td>\n",
       "      <td>0.795752</td>\n",
       "      <td>0.728758</td>\n",
       "      <td>0.120037</td>\n",
       "    </tr>\n",
       "    <tr>\n",
       "      <th>(1, 1, 1, 0.25)</th>\n",
       "      <td>0.555556</td>\n",
       "      <td>0.831699</td>\n",
       "      <td>0.859477</td>\n",
       "      <td>0.810458</td>\n",
       "      <td>0.728758</td>\n",
       "      <td>0.75719</td>\n",
       "      <td>0.109833</td>\n",
       "    </tr>\n",
       "    <tr>\n",
       "      <th>(1, 1, 1, 0.5)</th>\n",
       "      <td>0.361111</td>\n",
       "      <td>0.397059</td>\n",
       "      <td>0.297386</td>\n",
       "      <td>0.253268</td>\n",
       "      <td>0.437908</td>\n",
       "      <td>0.349346</td>\n",
       "      <td>0.066617</td>\n",
       "    </tr>\n",
       "    <tr>\n",
       "      <th>(1, 1, 1, 0.75)</th>\n",
       "      <td>0.28268</td>\n",
       "      <td>0.267974</td>\n",
       "      <td>0.222222</td>\n",
       "      <td>0.223856</td>\n",
       "      <td>0.235294</td>\n",
       "      <td>0.246405</td>\n",
       "      <td>0.024486</td>\n",
       "    </tr>\n",
       "  </tbody>\n",
       "</table>\n",
       "</div>"
      ],
      "text/plain": [
       "                       F1        F2        F3        F4        F5         M  \\\n",
       "(1, 1, 1, 0.1)   0.794118  0.856209  0.736928  0.851307  0.851307  0.817974   \n",
       "(1, 1, 1, 0.15)  0.810458  0.800654  0.866013  0.854575  0.843137  0.834967   \n",
       "(1, 1, 1, 0.2)   0.838235  0.633987  0.834967   0.54085  0.795752  0.728758   \n",
       "(1, 1, 1, 0.25)  0.555556  0.831699  0.859477  0.810458  0.728758   0.75719   \n",
       "(1, 1, 1, 0.5)   0.361111  0.397059  0.297386  0.253268  0.437908  0.349346   \n",
       "(1, 1, 1, 0.75)   0.28268  0.267974  0.222222  0.223856  0.235294  0.246405   \n",
       "\n",
       "                      STD  \n",
       "(1, 1, 1, 0.1)   0.046522  \n",
       "(1, 1, 1, 0.15)  0.025271  \n",
       "(1, 1, 1, 0.2)   0.120037  \n",
       "(1, 1, 1, 0.25)  0.109833  \n",
       "(1, 1, 1, 0.5)   0.066617  \n",
       "(1, 1, 1, 0.75)  0.024486  "
      ]
     },
     "execution_count": 189,
     "metadata": {},
     "output_type": "execute_result"
    }
   ],
   "source": [
    "path = 'Outputs/Model (1 Layer + Dropout)/ResNet50 - N-TL - Autoencoder - '\n",
    "S = [1]\n",
    "K = [1]\n",
    "FM = [1]\n",
    "DP = [0.1, 0.15, 0.2, 0.25, 0.5, 0.75]\n",
    "cols = ['F1', 'F2', 'F3', 'F4', 'F5', 'M', 'STD']\n",
    "table = pd.DataFrame(columns = cols, index = map(lambda x: str(x), list(product(S, K, FM, DP))))\n",
    "for (s, k, fm, dp) in product(S, K, FM, DP):\n",
    "    best_stats = kfold_best_stats(path, 's = {} k = {} fm = {} dp = {} - 5 classes - stats', s, k, fm, dp)\n",
    "    for i in range(len(cols)):\n",
    "        table.loc[str((s, k, fm, dp))][cols[i]] = best_stats[0][i]\n",
    "\n",
    "table"
   ]
  },
  {
   "cell_type": "code",
   "execution_count": 11,
   "id": "clean-jurisdiction",
   "metadata": {},
   "outputs": [
    {
     "data": {
      "text/html": [
       "<div>\n",
       "<style scoped>\n",
       "    .dataframe tbody tr th:only-of-type {\n",
       "        vertical-align: middle;\n",
       "    }\n",
       "\n",
       "    .dataframe tbody tr th {\n",
       "        vertical-align: top;\n",
       "    }\n",
       "\n",
       "    .dataframe thead th {\n",
       "        text-align: right;\n",
       "    }\n",
       "</style>\n",
       "<table border=\"1\" class=\"dataframe\">\n",
       "  <thead>\n",
       "    <tr style=\"text-align: right;\">\n",
       "      <th></th>\n",
       "      <th>Loss</th>\n",
       "    </tr>\n",
       "  </thead>\n",
       "  <tbody>\n",
       "    <tr>\n",
       "      <th>(2, 1, 1, 0)</th>\n",
       "      <td>0.438167</td>\n",
       "    </tr>\n",
       "    <tr>\n",
       "      <th>(2, 1, 3, 0)</th>\n",
       "      <td>0.26566</td>\n",
       "    </tr>\n",
       "    <tr>\n",
       "      <th>(2, 1, 5, 0)</th>\n",
       "      <td>0.193839</td>\n",
       "    </tr>\n",
       "    <tr>\n",
       "      <th>(2, 3, 1, 0)</th>\n",
       "      <td>0.254984</td>\n",
       "    </tr>\n",
       "    <tr>\n",
       "      <th>(2, 3, 3, 0)</th>\n",
       "      <td>0.180626</td>\n",
       "    </tr>\n",
       "    <tr>\n",
       "      <th>(2, 3, 5, 0)</th>\n",
       "      <td>0.148386</td>\n",
       "    </tr>\n",
       "    <tr>\n",
       "      <th>(2, 5, 1, 0)</th>\n",
       "      <td>0.249937</td>\n",
       "    </tr>\n",
       "    <tr>\n",
       "      <th>(2, 5, 3, 0)</th>\n",
       "      <td>0.158963</td>\n",
       "    </tr>\n",
       "    <tr>\n",
       "      <th>(2, 5, 5, 0)</th>\n",
       "      <td>0.117496</td>\n",
       "    </tr>\n",
       "  </tbody>\n",
       "</table>\n",
       "</div>"
      ],
      "text/plain": [
       "                  Loss\n",
       "(2, 1, 1, 0)  0.438167\n",
       "(2, 1, 3, 0)   0.26566\n",
       "(2, 1, 5, 0)  0.193839\n",
       "(2, 3, 1, 0)  0.254984\n",
       "(2, 3, 3, 0)  0.180626\n",
       "(2, 3, 5, 0)  0.148386\n",
       "(2, 5, 1, 0)  0.249937\n",
       "(2, 5, 3, 0)  0.158963\n",
       "(2, 5, 5, 0)  0.117496"
      ]
     },
     "execution_count": 11,
     "metadata": {},
     "output_type": "execute_result"
    }
   ],
   "source": [
    "path = 'Outputs/Model (1 Layer)/50 folds - Autoencoder - '\n",
    "S = [2]\n",
    "K = [1, 3, 5]\n",
    "FM = [1, 3, 5]\n",
    "DP = [0]\n",
    "cols = ['Loss']\n",
    "table = pd.DataFrame(columns = cols, index = map(lambda x: str(x), list(product(S, K, FM, DP))))\n",
    "for (s, k, fm, dp) in product(S, K, FM, DP):\n",
    "    best_stats = singlefold_best_stats(path, 's = {} k = {} fm = {} dp = {} - 5 classes - stats', s, k, fm, dp)\n",
    "    table.loc[str((s, k, fm, dp))]['Loss'] = best_stats\n",
    "    \n",
    "table"
   ]
  },
  {
   "cell_type": "code",
   "execution_count": 194,
   "id": "sticky-brooklyn",
   "metadata": {},
   "outputs": [
    {
     "data": {
      "text/html": [
       "<div>\n",
       "<style scoped>\n",
       "    .dataframe tbody tr th:only-of-type {\n",
       "        vertical-align: middle;\n",
       "    }\n",
       "\n",
       "    .dataframe tbody tr th {\n",
       "        vertical-align: top;\n",
       "    }\n",
       "\n",
       "    .dataframe thead th {\n",
       "        text-align: right;\n",
       "    }\n",
       "</style>\n",
       "<table border=\"1\" class=\"dataframe\">\n",
       "  <thead>\n",
       "    <tr style=\"text-align: right;\">\n",
       "      <th></th>\n",
       "      <th>Loss</th>\n",
       "    </tr>\n",
       "  </thead>\n",
       "  <tbody>\n",
       "    <tr>\n",
       "      <th>(1, 1, 1, 0.1)</th>\n",
       "      <td>0.199067</td>\n",
       "    </tr>\n",
       "    <tr>\n",
       "      <th>(1, 1, 1, 0.15)</th>\n",
       "      <td>0.21271</td>\n",
       "    </tr>\n",
       "    <tr>\n",
       "      <th>(1, 1, 1, 0.2)</th>\n",
       "      <td>0.236202</td>\n",
       "    </tr>\n",
       "    <tr>\n",
       "      <th>(1, 1, 1, 0.25)</th>\n",
       "      <td>0.242042</td>\n",
       "    </tr>\n",
       "    <tr>\n",
       "      <th>(1, 1, 1, 0.5)</th>\n",
       "      <td>0.562208</td>\n",
       "    </tr>\n",
       "    <tr>\n",
       "      <th>(1, 1, 1, 0.75)</th>\n",
       "      <td>0.827955</td>\n",
       "    </tr>\n",
       "  </tbody>\n",
       "</table>\n",
       "</div>"
      ],
      "text/plain": [
       "                     Loss\n",
       "(1, 1, 1, 0.1)   0.199067\n",
       "(1, 1, 1, 0.15)   0.21271\n",
       "(1, 1, 1, 0.2)   0.236202\n",
       "(1, 1, 1, 0.25)  0.242042\n",
       "(1, 1, 1, 0.5)   0.562208\n",
       "(1, 1, 1, 0.75)  0.827955"
      ]
     },
     "execution_count": 194,
     "metadata": {},
     "output_type": "execute_result"
    }
   ],
   "source": [
    "path = 'Outputs/Model (1 Layer + Dropout)/Autoencoder - '\n",
    "S = [1]\n",
    "K = [1]\n",
    "FM = [1]\n",
    "DP = [0.1, 0.15, 0.2, 0.25, 0.5, 0.75]\n",
    "cols = ['Loss']\n",
    "table = pd.DataFrame(columns = cols, index = map(lambda x: str(x), list(product(S, K, FM, DP))))\n",
    "for (s, k, fm, dp) in product(S, K, FM, DP):\n",
    "    best_stats = singlefold_best_stats(path, 's = {} k = {} fm = {} dp = {} - 5 classes - stats', s, k, fm, dp)\n",
    "    table.loc[str((s, k, fm, dp))]['Loss'] = best_stats\n",
    "    \n",
    "table"
   ]
  },
  {
   "cell_type": "markdown",
   "id": "opening-portland",
   "metadata": {},
   "source": [
    "__Extracting statistics from log files__"
   ]
  },
  {
   "cell_type": "code",
   "execution_count": 4,
   "id": "bulgarian-configuration",
   "metadata": {},
   "outputs": [],
   "source": [
    "def _read_folds_from_file(path: str, epochs: int) -> Dict:\n",
    "    file = open(path).readlines()\n",
    "    return [file[i+3:i+3+2*epochs+3] for i in range(0, len(file) - 1, 2*epochs + 7)]\n",
    "\n",
    "def extract_values(path: str, epochs: int) -> Tuple[Dict]:\n",
    "    folds = _read_folds_from_file(path, epochs)[:-1]\n",
    "    training = {}\n",
    "    validation = {}\n",
    "    for i, f in enumerate(folds):\n",
    "        training[i + 1] = [np.asarray([]), np.asarray([])]  # loss = 0, accuracy = 1\n",
    "        validation[i + 1] = [np.asarray([]), np.asarray([])]\n",
    "        for line in f:\n",
    "            if 'Training' in line and 'complete' not in line:\n",
    "                training[i+1][0] = np.append(training[i+1][0], float(line[21:25]))\n",
    "                training[i+1][1] = np.append(training[i+1][1], float(line[29:34]))\n",
    "            if 'Validation' in line and 'Best' not in line:\n",
    "                validation[i+1][0] = np.append(validation[i+1][0], float(line[21:25]))\n",
    "                validation[i+1][1] = np.append(validation[i+1][1], float(line[29:34]))\n",
    "\n",
    "            if 'Best Validation Accuracy' in line:\n",
    "                validation[i + 1].append(float(line[26:30]))\n",
    "\n",
    "            if 'Best Validation Loss' in line:\n",
    "                validation[i+1].append(float(line[22:26]))\n",
    "                \n",
    "    return training, validation\n",
    "\n",
    "def get_best_validation(validation_data: Dict):\n",
    "    best_acc = []\n",
    "    best_loss = []\n",
    "    \n",
    "    for fold in validation_data.keys():\n",
    "        best_acc.append(validation_data[fold][-2])\n",
    "        best_loss.append(validation_data[fold][-1])\n",
    "    \n",
    "    best_acc.append(np.mean(best_acc)); best_acc.append(np.std(best_acc[:-1]))\n",
    "    best_loss.append(np.mean(best_loss)); best_loss.append(np.std(best_loss[:-1]))\n",
    "    \n",
    "    return best_acc, best_loss"
   ]
  },
  {
   "cell_type": "code",
   "execution_count": 129,
   "id": "relative-press",
   "metadata": {},
   "outputs": [
    {
     "name": "stdout",
     "output_type": "stream",
     "text": [
      "[0.85, 0.81, 0.86, 0.84, 0.82, 0.836, 0.01854723699099139]\n"
     ]
    }
   ],
   "source": [
    "path = 'Outputs/Training - Resnet18 - Pretrained - 5 Classes - Adam - Feb-18-2021.log'\n",
    "epochs = 50\n",
    "training, validation = extract_values(path, epochs)\n",
    "best_validation_acc, best_validation_loss = get_best_validation(validation)\n",
    "print(best_validation_acc)"
   ]
  },
  {
   "cell_type": "code",
   "execution_count": 130,
   "id": "pointed-environment",
   "metadata": {},
   "outputs": [
    {
     "name": "stdout",
     "output_type": "stream",
     "text": [
      "[0.82, 0.81, 0.82, 0.78, 0.82, 0.8099999999999999, 0.015491933384829638]\n"
     ]
    }
   ],
   "source": [
    "path = 'Outputs/Training - Resnet18 - N Pretrained - 5 Classes - Adam - Feb-18-2021.log'\n",
    "epochs = 50\n",
    "training, validation = extract_values(path, epochs)\n",
    "best_validation_acc, best_validation_loss = get_best_validation(validation)\n",
    "print(best_validation_acc)"
   ]
  },
  {
   "cell_type": "markdown",
   "id": "fixed-highland",
   "metadata": {},
   "source": [
    "***"
   ]
  },
  {
   "cell_type": "code",
   "execution_count": 32,
   "id": "recognized-class",
   "metadata": {},
   "outputs": [],
   "source": [
    "cols = ['Length', 'F1', 'F2', 'F3', 'F4', 'F5', 'Mean', 'Std']\n",
    "table = pd.DataFrame(columns = cols).set_index('Length')"
   ]
  },
  {
   "cell_type": "code",
   "execution_count": 45,
   "id": "processed-secretariat",
   "metadata": {},
   "outputs": [
    {
     "name": "stdout",
     "output_type": "stream",
     "text": [
      "[0.8, 0.78, 0.78, 0.78, 0.79, 0.7860000000000001, 0.008000000000000007]\n"
     ]
    }
   ],
   "source": [
    "path = 'Outputs/Training - Resnet18 - N Pretrained - 5 Classes - Adam - 250 - 26 Subjects - Feb-22-2021.log'\n",
    "epochs = 50\n",
    "training, validation = extract_values(path, epochs)\n",
    "best_validation_acc, best_validation_loss = get_best_validation(validation)\n",
    "print(best_validation_acc)"
   ]
  },
  {
   "cell_type": "code",
   "execution_count": 46,
   "id": "discrete-shift",
   "metadata": {},
   "outputs": [],
   "source": [
    "table.loc['250 - 26'] = best_validation_acc"
   ]
  },
  {
   "cell_type": "code",
   "execution_count": 47,
   "id": "olive-significance",
   "metadata": {},
   "outputs": [
    {
     "data": {
      "text/html": [
       "<div>\n",
       "<style scoped>\n",
       "    .dataframe tbody tr th:only-of-type {\n",
       "        vertical-align: middle;\n",
       "    }\n",
       "\n",
       "    .dataframe tbody tr th {\n",
       "        vertical-align: top;\n",
       "    }\n",
       "\n",
       "    .dataframe thead th {\n",
       "        text-align: right;\n",
       "    }\n",
       "</style>\n",
       "<table border=\"1\" class=\"dataframe\">\n",
       "  <thead>\n",
       "    <tr style=\"text-align: right;\">\n",
       "      <th></th>\n",
       "      <th>F1</th>\n",
       "      <th>F2</th>\n",
       "      <th>F3</th>\n",
       "      <th>F4</th>\n",
       "      <th>F5</th>\n",
       "      <th>Mean</th>\n",
       "      <th>Std</th>\n",
       "    </tr>\n",
       "    <tr>\n",
       "      <th>Length</th>\n",
       "      <th></th>\n",
       "      <th></th>\n",
       "      <th></th>\n",
       "      <th></th>\n",
       "      <th></th>\n",
       "      <th></th>\n",
       "      <th></th>\n",
       "    </tr>\n",
       "  </thead>\n",
       "  <tbody>\n",
       "    <tr>\n",
       "      <th>1000 - 35</th>\n",
       "      <td>0.80</td>\n",
       "      <td>0.90</td>\n",
       "      <td>0.89</td>\n",
       "      <td>0.89</td>\n",
       "      <td>0.82</td>\n",
       "      <td>0.860</td>\n",
       "      <td>0.041473</td>\n",
       "    </tr>\n",
       "    <tr>\n",
       "      <th>750 - 35</th>\n",
       "      <td>0.84</td>\n",
       "      <td>0.84</td>\n",
       "      <td>0.86</td>\n",
       "      <td>0.84</td>\n",
       "      <td>0.83</td>\n",
       "      <td>0.842</td>\n",
       "      <td>0.009798</td>\n",
       "    </tr>\n",
       "    <tr>\n",
       "      <th>500 - 26</th>\n",
       "      <td>0.84</td>\n",
       "      <td>0.83</td>\n",
       "      <td>0.83</td>\n",
       "      <td>0.85</td>\n",
       "      <td>0.83</td>\n",
       "      <td>0.836</td>\n",
       "      <td>0.008000</td>\n",
       "    </tr>\n",
       "    <tr>\n",
       "      <th>250 - 35</th>\n",
       "      <td>0.78</td>\n",
       "      <td>0.77</td>\n",
       "      <td>0.77</td>\n",
       "      <td>0.78</td>\n",
       "      <td>0.78</td>\n",
       "      <td>0.776</td>\n",
       "      <td>0.004899</td>\n",
       "    </tr>\n",
       "    <tr>\n",
       "      <th>250 - 26</th>\n",
       "      <td>0.80</td>\n",
       "      <td>0.78</td>\n",
       "      <td>0.78</td>\n",
       "      <td>0.78</td>\n",
       "      <td>0.79</td>\n",
       "      <td>0.786</td>\n",
       "      <td>0.008000</td>\n",
       "    </tr>\n",
       "  </tbody>\n",
       "</table>\n",
       "</div>"
      ],
      "text/plain": [
       "             F1    F2    F3    F4    F5   Mean       Std\n",
       "Length                                                  \n",
       "1000 - 35  0.80  0.90  0.89  0.89  0.82  0.860  0.041473\n",
       "750 - 35   0.84  0.84  0.86  0.84  0.83  0.842  0.009798\n",
       "500 - 26   0.84  0.83  0.83  0.85  0.83  0.836  0.008000\n",
       "250 - 35   0.78  0.77  0.77  0.78  0.78  0.776  0.004899\n",
       "250 - 26   0.80  0.78  0.78  0.78  0.79  0.786  0.008000"
      ]
     },
     "execution_count": 47,
     "metadata": {},
     "output_type": "execute_result"
    }
   ],
   "source": [
    "table"
   ]
  },
  {
   "cell_type": "markdown",
   "id": "welcome-postage",
   "metadata": {},
   "source": [
    "***"
   ]
  },
  {
   "cell_type": "code",
   "execution_count": 74,
   "id": "knowing-skill",
   "metadata": {},
   "outputs": [],
   "source": [
    "cols = ['Length', 'F1', 'F2', 'F3', 'F4', 'F5', 'Mean', 'Std']\n",
    "table = pd.DataFrame(columns = cols).set_index('Length')"
   ]
  },
  {
   "cell_type": "code",
   "execution_count": 66,
   "id": "undefined-charleston",
   "metadata": {},
   "outputs": [
    {
     "name": "stdout",
     "output_type": "stream",
     "text": [
      "[0.42, 0.48, 0.5, 0.5, 0.5, 0.48, 0.030983866769659345]\n"
     ]
    }
   ],
   "source": [
    "path = 'Outputs/Training - Resnet18 - Pretrained - 5 Classes - Adam - 1500 - Feb-21-2021.log'\n",
    "epochs = 50\n",
    "training, validation = extract_values(path, epochs)\n",
    "best_validation_acc, best_validation_loss = get_best_validation(validation)\n",
    "print(best_validation_acc)"
   ]
  },
  {
   "cell_type": "code",
   "execution_count": 67,
   "id": "functioning-roller",
   "metadata": {},
   "outputs": [],
   "source": [
    "table.loc['1500 - 35'] = best_validation_acc"
   ]
  },
  {
   "cell_type": "code",
   "execution_count": 89,
   "id": "voluntary-variable",
   "metadata": {},
   "outputs": [
    {
     "data": {
      "text/html": [
       "<div>\n",
       "<style scoped>\n",
       "    .dataframe tbody tr th:only-of-type {\n",
       "        vertical-align: middle;\n",
       "    }\n",
       "\n",
       "    .dataframe tbody tr th {\n",
       "        vertical-align: top;\n",
       "    }\n",
       "\n",
       "    .dataframe thead th {\n",
       "        text-align: right;\n",
       "    }\n",
       "</style>\n",
       "<table border=\"1\" class=\"dataframe\">\n",
       "  <thead>\n",
       "    <tr style=\"text-align: right;\">\n",
       "      <th></th>\n",
       "      <th>F1</th>\n",
       "      <th>F2</th>\n",
       "      <th>F3</th>\n",
       "      <th>F4</th>\n",
       "      <th>F5</th>\n",
       "      <th>Mean</th>\n",
       "      <th>Std</th>\n",
       "    </tr>\n",
       "    <tr>\n",
       "      <th>Length</th>\n",
       "      <th></th>\n",
       "      <th></th>\n",
       "      <th></th>\n",
       "      <th></th>\n",
       "      <th></th>\n",
       "      <th></th>\n",
       "      <th></th>\n",
       "    </tr>\n",
       "  </thead>\n",
       "  <tbody>\n",
       "    <tr>\n",
       "      <th>1000 - 26</th>\n",
       "      <td>0.93</td>\n",
       "      <td>0.87</td>\n",
       "      <td>0.77</td>\n",
       "      <td>0.90</td>\n",
       "      <td>0.79</td>\n",
       "      <td>0.852</td>\n",
       "      <td>0.062097</td>\n",
       "    </tr>\n",
       "    <tr>\n",
       "      <th>750 - 35</th>\n",
       "      <td>0.48</td>\n",
       "      <td>0.54</td>\n",
       "      <td>0.45</td>\n",
       "      <td>0.52</td>\n",
       "      <td>0.47</td>\n",
       "      <td>0.492</td>\n",
       "      <td>0.033106</td>\n",
       "    </tr>\n",
       "    <tr>\n",
       "      <th>500 - 26</th>\n",
       "      <td>0.74</td>\n",
       "      <td>0.82</td>\n",
       "      <td>0.56</td>\n",
       "      <td>0.85</td>\n",
       "      <td>0.88</td>\n",
       "      <td>0.770</td>\n",
       "      <td>0.114891</td>\n",
       "    </tr>\n",
       "    <tr>\n",
       "      <th>500 - 1</th>\n",
       "      <td>0.84</td>\n",
       "      <td>0.85</td>\n",
       "      <td>0.85</td>\n",
       "      <td>0.88</td>\n",
       "      <td>0.87</td>\n",
       "      <td>0.858</td>\n",
       "      <td>0.014697</td>\n",
       "    </tr>\n",
       "    <tr>\n",
       "      <th>250 - 35</th>\n",
       "      <td>0.39</td>\n",
       "      <td>0.33</td>\n",
       "      <td>0.44</td>\n",
       "      <td>0.50</td>\n",
       "      <td>0.39</td>\n",
       "      <td>0.410</td>\n",
       "      <td>0.056921</td>\n",
       "    </tr>\n",
       "    <tr>\n",
       "      <th>250 - 26</th>\n",
       "      <td>0.80</td>\n",
       "      <td>0.80</td>\n",
       "      <td>0.79</td>\n",
       "      <td>0.79</td>\n",
       "      <td>0.78</td>\n",
       "      <td>0.792</td>\n",
       "      <td>0.007483</td>\n",
       "    </tr>\n",
       "    <tr>\n",
       "      <th>1500 - 35</th>\n",
       "      <td>0.79</td>\n",
       "      <td>0.80</td>\n",
       "      <td>0.82</td>\n",
       "      <td>0.80</td>\n",
       "      <td>0.80</td>\n",
       "      <td>0.802</td>\n",
       "      <td>0.009798</td>\n",
       "    </tr>\n",
       "  </tbody>\n",
       "</table>\n",
       "</div>"
      ],
      "text/plain": [
       "             F1    F2    F3    F4    F5   Mean       Std\n",
       "Length                                                  \n",
       "1000 - 26  0.93  0.87  0.77  0.90  0.79  0.852  0.062097\n",
       "750 - 35   0.48  0.54  0.45  0.52  0.47  0.492  0.033106\n",
       "500 - 26   0.74  0.82  0.56  0.85  0.88  0.770  0.114891\n",
       "500 - 1    0.84  0.85  0.85  0.88  0.87  0.858  0.014697\n",
       "250 - 35   0.39  0.33  0.44  0.50  0.39  0.410  0.056921\n",
       "250 - 26   0.80  0.80  0.79  0.79  0.78  0.792  0.007483\n",
       "1500 - 35  0.79  0.80  0.82  0.80  0.80  0.802  0.009798"
      ]
     },
     "execution_count": 89,
     "metadata": {},
     "output_type": "execute_result"
    }
   ],
   "source": [
    "table"
   ]
  },
  {
   "cell_type": "code",
   "execution_count": null,
   "id": "realistic-woman",
   "metadata": {},
   "outputs": [],
   "source": []
  }
 ],
 "metadata": {
  "kernelspec": {
   "display_name": "Python 3",
   "language": "python",
   "name": "python3"
  },
  "language_info": {
   "codemirror_mode": {
    "name": "ipython",
    "version": 3
   },
   "file_extension": ".py",
   "mimetype": "text/x-python",
   "name": "python",
   "nbconvert_exporter": "python",
   "pygments_lexer": "ipython3",
   "version": "3.8.5"
  }
 },
 "nbformat": 4,
 "nbformat_minor": 5
}
