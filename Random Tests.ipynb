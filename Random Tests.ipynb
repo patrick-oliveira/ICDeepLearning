{
 "cells": [
  {
   "cell_type": "code",
   "execution_count": 1,
   "id": "classical-paradise",
   "metadata": {},
   "outputs": [],
   "source": [
    "import time"
   ]
  },
  {
   "cell_type": "code",
   "execution_count": 5,
   "id": "potential-omaha",
   "metadata": {},
   "outputs": [
    {
     "data": {
      "text/plain": [
       "'Feb-07-2021'"
      ]
     },
     "execution_count": 5,
     "metadata": {},
     "output_type": "execute_result"
    }
   ],
   "source": [
    "time.strftime('%b-%d-%Y', time.localtime())"
   ]
  },
  {
   "cell_type": "code",
   "execution_count": 7,
   "id": "graphic-swimming",
   "metadata": {},
   "outputs": [
    {
     "name": "stdout",
     "output_type": "stream",
     "text": [
      "Not None.\n"
     ]
    }
   ],
   "source": [
    "if None:\n",
    "    print(\"None\")\n",
    "else:\n",
    "    print(\"Not None.\")"
   ]
  },
  {
   "cell_type": "code",
   "execution_count": 8,
   "id": "consolidated-momentum",
   "metadata": {},
   "outputs": [],
   "source": [
    "from pathlib import Path\n"
   ]
  },
  {
   "cell_type": "code",
   "execution_count": 1,
   "id": "available-western",
   "metadata": {},
   "outputs": [],
   "source": [
    "from torch import nn"
   ]
  },
  {
   "cell_type": "code",
   "execution_count": 6,
   "id": "valued-cameroon",
   "metadata": {},
   "outputs": [],
   "source": [
    "deconv = nn.ConvTranspose2d(1, 1, kernel_size = (1, 2*1 + 1), padding = (0, 1), stride = (1, 1), output_padding = (0, 1 - 1))"
   ]
  },
  {
   "cell_type": "code",
   "execution_count": 7,
   "id": "linear-riding",
   "metadata": {},
   "outputs": [
    {
     "data": {
      "text/plain": [
       "Parameter containing:\n",
       "tensor([[[[-0.2384,  0.0251,  0.0657]]]], requires_grad=True)"
      ]
     },
     "execution_count": 7,
     "metadata": {},
     "output_type": "execute_result"
    }
   ],
   "source": [
    "deconv.weight"
   ]
  },
  {
   "cell_type": "code",
   "execution_count": 1,
   "id": "velvet-support",
   "metadata": {},
   "outputs": [],
   "source": [
    "import numpy as np"
   ]
  },
  {
   "cell_type": "code",
   "execution_count": 5,
   "id": "sacred-article",
   "metadata": {},
   "outputs": [
    {
     "data": {
      "text/plain": [
       "array([[[0],\n",
       "        [1],\n",
       "        [2],\n",
       "        [3],\n",
       "        [4],\n",
       "        [5],\n",
       "        [6],\n",
       "        [7],\n",
       "        [8],\n",
       "        [9]],\n",
       "\n",
       "       [[0],\n",
       "        [0],\n",
       "        [0],\n",
       "        [0],\n",
       "        [0],\n",
       "        [0],\n",
       "        [0],\n",
       "        [0],\n",
       "        [0],\n",
       "        [0]]])"
      ]
     },
     "execution_count": 5,
     "metadata": {},
     "output_type": "execute_result"
    }
   ],
   "source": [
    "np.indices((10, 1))"
   ]
  },
  {
   "cell_type": "code",
   "execution_count": 33,
   "id": "formal-victor",
   "metadata": {},
   "outputs": [],
   "source": [
    "import pickle\n",
    "from typing import Dict, List\n",
    "from itertools import product\n",
    "import pandas as pd"
   ]
  },
  {
   "cell_type": "code",
   "execution_count": 31,
   "id": "informed-channels",
   "metadata": {},
   "outputs": [],
   "source": [
    "specifications = 's = {} k = {} fm = {} - 5 classes - stats'.format(1, 1, 1)"
   ]
  },
  {
   "cell_type": "code",
   "execution_count": 47,
   "id": "acoustic-acrobat",
   "metadata": {},
   "outputs": [],
   "source": [
    "teste = '{} {} {}'"
   ]
  },
  {
   "cell_type": "code",
   "execution_count": 48,
   "id": "emerging-attack",
   "metadata": {},
   "outputs": [
    {
     "data": {
      "text/plain": [
       "'1 2 3'"
      ]
     },
     "execution_count": 48,
     "metadata": {},
     "output_type": "execute_result"
    }
   ],
   "source": [
    "teste.format(1, 2, 3)"
   ]
  },
  {
   "cell_type": "code",
   "execution_count": 85,
   "id": "descending-fishing",
   "metadata": {},
   "outputs": [],
   "source": [
    "def _get_best_stats(statistics: Dict) -> List[float]:\n",
    "    accuracy = []\n",
    "    loss = []\n",
    "    for fold in range(len(statistics) - 1):\n",
    "        accuracy.append(statistics['Fold {}'.format(fold)]['BestAccuracy'])\n",
    "        loss.append(statistics['Fold {}'.format(fold)]['BestLoss'])\n",
    "        \n",
    "    accuracy.append(np.mean(accuracy))\n",
    "    loss.append(np.mean(loss))\n",
    "    \n",
    "    accuracy.append(np.std(accuracy[:-1]))\n",
    "    loss.append(np.std(loss[:-1]))\n",
    "    \n",
    "    return accuracy, loss\n",
    "\n",
    "def get_best_stats(path: str, specifications: str, *args, **kwargs) -> pd.DataFrame:\n",
    "    specifications = specifications.format(*args)\n",
    "    \n",
    "    with open(path + specifications, 'rb') as stats_file:\n",
    "        stats = pickle.load(stats_file)\n",
    "    best_stats = _get_best_stats(stats)\n",
    "    \n",
    "    return best_stats\n"
   ]
  },
  {
   "cell_type": "code",
   "execution_count": 88,
   "id": "exclusive-vintage",
   "metadata": {},
   "outputs": [],
   "source": [
    "table = pd.DataFrame(columns = ['1', '3', '5'], index = ['1', '3', '5'])\n",
    "for (s, k, fm) in product(S, K, FM):\n",
    "    best_stats = get_best_stats(path, 's = {} k = {} fm = {} - 5 classes - stats', s, k, fm)\n",
    "    table.loc[str(k)][str(fm)] = str(round(best_stats[0][-2], ndigits = 2)) + \" \" + str(round(best_stats[0][-1], ndigits = 2))"
   ]
  },
  {
   "cell_type": "code",
   "execution_count": 89,
   "id": "defensive-lottery",
   "metadata": {},
   "outputs": [
    {
     "data": {
      "text/html": [
       "<div>\n",
       "<style scoped>\n",
       "    .dataframe tbody tr th:only-of-type {\n",
       "        vertical-align: middle;\n",
       "    }\n",
       "\n",
       "    .dataframe tbody tr th {\n",
       "        vertical-align: top;\n",
       "    }\n",
       "\n",
       "    .dataframe thead th {\n",
       "        text-align: right;\n",
       "    }\n",
       "</style>\n",
       "<table border=\"1\" class=\"dataframe\">\n",
       "  <thead>\n",
       "    <tr style=\"text-align: right;\">\n",
       "      <th></th>\n",
       "      <th>1</th>\n",
       "      <th>3</th>\n",
       "      <th>5</th>\n",
       "    </tr>\n",
       "  </thead>\n",
       "  <tbody>\n",
       "    <tr>\n",
       "      <th>1</th>\n",
       "      <td>0.82 0.02</td>\n",
       "      <td>0.61 0.06</td>\n",
       "      <td>0.61 0.13</td>\n",
       "    </tr>\n",
       "    <tr>\n",
       "      <th>3</th>\n",
       "      <td>0.77 0.04</td>\n",
       "      <td>0.44 0.05</td>\n",
       "      <td>0.5 0.05</td>\n",
       "    </tr>\n",
       "    <tr>\n",
       "      <th>5</th>\n",
       "      <td>0.76 0.04</td>\n",
       "      <td>0.64 0.05</td>\n",
       "      <td>0.57 0.09</td>\n",
       "    </tr>\n",
       "  </tbody>\n",
       "</table>\n",
       "</div>"
      ],
      "text/plain": [
       "           1          3          5\n",
       "1  0.82 0.02  0.61 0.06  0.61 0.13\n",
       "3  0.77 0.04  0.44 0.05   0.5 0.05\n",
       "5  0.76 0.04  0.64 0.05  0.57 0.09"
      ]
     },
     "execution_count": 89,
     "metadata": {},
     "output_type": "execute_result"
    }
   ],
   "source": [
    "table"
   ]
  },
  {
   "cell_type": "code",
   "execution_count": 94,
   "id": "furnished-grove",
   "metadata": {},
   "outputs": [],
   "source": [
    "table = pd.DataFrame(columns = ['0.1', '0.25', '0.5', '0.75'], index = ['1'])\n",
    "S = [1]; K = [1]; FM = [1]; DP = [0.1, 0.25, 0.5, 0.75]; \n",
    "path = 'Outputs/ResNet50 - N-TL - Autoencoder - '\n",
    "for (s, k, fm, dp) in product(S, K, FM, DP):\n",
    "    best_stats = get_best_stats(path, 's = {} k = {} fm = {} dp = {} - 5 classes - stats', s, k, fm, dp)\n",
    "    table.loc[str(k)][str(dp)] = str(round(best_stats[0][-2], ndigits = 2)) + \" \" + str(round(best_stats[0][-1], ndigits = 2))"
   ]
  },
  {
   "cell_type": "code",
   "execution_count": 95,
   "id": "light-madness",
   "metadata": {},
   "outputs": [
    {
     "data": {
      "text/html": [
       "<div>\n",
       "<style scoped>\n",
       "    .dataframe tbody tr th:only-of-type {\n",
       "        vertical-align: middle;\n",
       "    }\n",
       "\n",
       "    .dataframe tbody tr th {\n",
       "        vertical-align: top;\n",
       "    }\n",
       "\n",
       "    .dataframe thead th {\n",
       "        text-align: right;\n",
       "    }\n",
       "</style>\n",
       "<table border=\"1\" class=\"dataframe\">\n",
       "  <thead>\n",
       "    <tr style=\"text-align: right;\">\n",
       "      <th></th>\n",
       "      <th>0.1</th>\n",
       "      <th>0.25</th>\n",
       "      <th>0.5</th>\n",
       "      <th>0.75</th>\n",
       "    </tr>\n",
       "  </thead>\n",
       "  <tbody>\n",
       "    <tr>\n",
       "      <th>1</th>\n",
       "      <td>0.81 0.06</td>\n",
       "      <td>0.76 0.11</td>\n",
       "      <td>0.35 0.07</td>\n",
       "      <td>0.25 0.02</td>\n",
       "    </tr>\n",
       "  </tbody>\n",
       "</table>\n",
       "</div>"
      ],
      "text/plain": [
       "         0.1       0.25        0.5       0.75\n",
       "1  0.81 0.06  0.76 0.11  0.35 0.07  0.25 0.02"
      ]
     },
     "execution_count": 95,
     "metadata": {},
     "output_type": "execute_result"
    }
   ],
   "source": [
    "table"
   ]
  },
  {
   "cell_type": "code",
   "execution_count": null,
   "id": "concerned-headset",
   "metadata": {},
   "outputs": [],
   "source": []
  },
  {
   "cell_type": "code",
   "execution_count": 60,
   "id": "cardiovascular-repository",
   "metadata": {},
   "outputs": [
    {
     "name": "stdout",
     "output_type": "stream",
     "text": [
      "3\n",
      "[(1, 1, 1), (1, 1, 3), (1, 1, 5), (1, 3, 1), (1, 3, 3), (1, 3, 5), (1, 5, 1), (1, 5, 3), (1, 5, 5)]\n"
     ]
    }
   ],
   "source": [
    "teste(S, K, FM)"
   ]
  },
  {
   "cell_type": "code",
   "execution_count": 45,
   "id": "meaning-breakfast",
   "metadata": {},
   "outputs": [],
   "source": [
    "path = 'Outputs/Model (1 Layer)/ResNet50 - N-TL - Autoencoder - '\n",
    "S = [1]\n",
    "K = [1, 3, 5]\n",
    "FM = [1, 3, 5]\n",
    "\n",
    "table = pd.DataFrame(columns = ['1', '3', '5'], index = ['1', '3', '5'])\n",
    "\n",
    "for (s, k, fm) in product(S, K, FM):\n",
    "    specifications = 's = {} k = {} fm = {} - 5 classes - stats'.format(s, k, fm)\n",
    "    \n",
    "    with open(path + specifications, 'rb') as stats_file:\n",
    "        stats = pickle.load(stats_file)\n",
    "    best_stats = get_best_stats(stats)\n",
    "    \n",
    "    table.loc[str(k)][str(fm)] = str(round(best_stats[0][-2], ndigits = 2)) + \" \" + str(round(best_stats[0][-1], ndigits = 2))\n",
    "    "
   ]
  },
  {
   "cell_type": "code",
   "execution_count": 46,
   "id": "systematic-membership",
   "metadata": {},
   "outputs": [
    {
     "data": {
      "text/html": [
       "<div>\n",
       "<style scoped>\n",
       "    .dataframe tbody tr th:only-of-type {\n",
       "        vertical-align: middle;\n",
       "    }\n",
       "\n",
       "    .dataframe tbody tr th {\n",
       "        vertical-align: top;\n",
       "    }\n",
       "\n",
       "    .dataframe thead th {\n",
       "        text-align: right;\n",
       "    }\n",
       "</style>\n",
       "<table border=\"1\" class=\"dataframe\">\n",
       "  <thead>\n",
       "    <tr style=\"text-align: right;\">\n",
       "      <th></th>\n",
       "      <th>1</th>\n",
       "      <th>3</th>\n",
       "      <th>5</th>\n",
       "    </tr>\n",
       "  </thead>\n",
       "  <tbody>\n",
       "    <tr>\n",
       "      <th>1</th>\n",
       "      <td>0.82 0.02</td>\n",
       "      <td>0.61 0.06</td>\n",
       "      <td>0.61 0.13</td>\n",
       "    </tr>\n",
       "    <tr>\n",
       "      <th>3</th>\n",
       "      <td>0.77 0.04</td>\n",
       "      <td>0.44 0.05</td>\n",
       "      <td>0.5 0.05</td>\n",
       "    </tr>\n",
       "    <tr>\n",
       "      <th>5</th>\n",
       "      <td>0.76 0.04</td>\n",
       "      <td>0.64 0.05</td>\n",
       "      <td>0.57 0.09</td>\n",
       "    </tr>\n",
       "  </tbody>\n",
       "</table>\n",
       "</div>"
      ],
      "text/plain": [
       "           1          3          5\n",
       "1  0.82 0.02  0.61 0.06  0.61 0.13\n",
       "3  0.77 0.04  0.44 0.05   0.5 0.05\n",
       "5  0.76 0.04  0.64 0.05  0.57 0.09"
      ]
     },
     "execution_count": 46,
     "metadata": {},
     "output_type": "execute_result"
    }
   ],
   "source": [
    "table"
   ]
  },
  {
   "cell_type": "code",
   "execution_count": 30,
   "id": "detected-villa",
   "metadata": {},
   "outputs": [
    {
     "data": {
      "text/plain": [
       "([0.8333333333333334,\n",
       "  0.8415032679738562,\n",
       "  0.8202614379084967,\n",
       "  0.7957516339869282,\n",
       "  0.7957516339869282,\n",
       "  0.8173202614379085,\n",
       "  0.018869542527126845],\n",
       " [0.5620139241218567,\n",
       "  0.5635195374488831,\n",
       "  0.711151659488678,\n",
       "  0.8410573601722717,\n",
       "  0.6727930903434753,\n",
       "  0.670107114315033,\n",
       "  0.10388542248335204])"
      ]
     },
     "execution_count": 30,
     "metadata": {},
     "output_type": "execute_result"
    }
   ],
   "source": [
    "temp(stats)"
   ]
  },
  {
   "cell_type": "code",
   "execution_count": null,
   "id": "sonic-facial",
   "metadata": {},
   "outputs": [],
   "source": []
  }
 ],
 "metadata": {
  "kernelspec": {
   "display_name": "Python 3",
   "language": "python",
   "name": "python3"
  },
  "language_info": {
   "codemirror_mode": {
    "name": "ipython",
    "version": 3
   },
   "file_extension": ".py",
   "mimetype": "text/x-python",
   "name": "python",
   "nbconvert_exporter": "python",
   "pygments_lexer": "ipython3",
   "version": "3.8.5"
  }
 },
 "nbformat": 4,
 "nbformat_minor": 5
}
