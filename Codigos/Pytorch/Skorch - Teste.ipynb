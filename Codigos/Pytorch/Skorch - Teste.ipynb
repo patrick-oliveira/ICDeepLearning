{
 "cells": [
  {
   "cell_type": "code",
   "execution_count": 1,
   "metadata": {},
   "outputs": [
    {
     "name": "stderr",
     "output_type": "stream",
     "text": [
      "C:\\Users\\Patrick\\Anaconda3\\lib\\site-packages\\sklearn\\utils\\deprecation.py:144: FutureWarning: The sklearn.metrics.scorer module is  deprecated in version 0.22 and will be removed in version 0.24. The corresponding classes / functions should instead be imported from sklearn.metrics. Anything that cannot be imported from sklearn.metrics is now part of the private API.\n",
      "  warnings.warn(message, FutureWarning)\n"
     ]
    }
   ],
   "source": [
    "import numpy as np\n",
    "from sklearn.datasets import make_classification\n",
    "from torch import nn\n",
    "import torch.nn.functional as F\n",
    "from skorch import NeuralNetClassifier"
   ]
  },
  {
   "cell_type": "code",
   "execution_count": 2,
   "metadata": {},
   "outputs": [
    {
     "name": "stdout",
     "output_type": "stream",
     "text": [
      "  epoch    train_loss    valid_acc    valid_loss     dur\n",
      "-------  ------------  -----------  ------------  ------\n",
      "      1        \u001b[36m0.7027\u001b[0m       \u001b[32m0.5250\u001b[0m        \u001b[35m0.6806\u001b[0m  1.0139\n",
      "      2        \u001b[36m0.6737\u001b[0m       \u001b[32m0.6450\u001b[0m        \u001b[35m0.6672\u001b[0m  0.0180\n",
      "      3        \u001b[36m0.6550\u001b[0m       \u001b[32m0.6650\u001b[0m        \u001b[35m0.6511\u001b[0m  0.0180\n",
      "      4        \u001b[36m0.6396\u001b[0m       0.6600        \u001b[35m0.6351\u001b[0m  0.0189\n",
      "      5        \u001b[36m0.6102\u001b[0m       \u001b[32m0.6900\u001b[0m        \u001b[35m0.6135\u001b[0m  0.0170\n",
      "      6        0.6112       \u001b[32m0.7150\u001b[0m        \u001b[35m0.5995\u001b[0m  0.0209\n",
      "      7        \u001b[36m0.5913\u001b[0m       \u001b[32m0.7200\u001b[0m        \u001b[35m0.5830\u001b[0m  0.0170\n",
      "      8        0.5924       \u001b[32m0.7250\u001b[0m        \u001b[35m0.5739\u001b[0m  0.0199\n",
      "      9        \u001b[36m0.5589\u001b[0m       \u001b[32m0.7350\u001b[0m        \u001b[35m0.5605\u001b[0m  0.0189\n",
      "     10        \u001b[36m0.5522\u001b[0m       \u001b[32m0.7500\u001b[0m        \u001b[35m0.5517\u001b[0m  0.0189\n"
     ]
    }
   ],
   "source": [
    "X, y = make_classification(1000, 20, n_informative=10, random_state=0)\n",
    "X = X.astype(np.float32)\n",
    "y = y.astype(np.int64)\n",
    "\n",
    "class MyModule(nn.Module):\n",
    "    def __init__(self, num_units=10, nonlin=F.relu):\n",
    "        super(MyModule, self).__init__()\n",
    "\n",
    "        self.dense0 = nn.Linear(20, num_units)\n",
    "        self.nonlin = nonlin\n",
    "        self.dropout = nn.Dropout(0.5)\n",
    "        self.dense1 = nn.Linear(num_units, 10)\n",
    "        self.output = nn.Linear(10, 2)\n",
    "\n",
    "    def forward(self, X, **kwargs):\n",
    "        X = self.nonlin(self.dense0(X))\n",
    "        X = self.dropout(X)\n",
    "        X = F.relu(self.dense1(X))\n",
    "        X = F.softmax(self.output(X), dim=-1)\n",
    "        return X\n",
    "\n",
    "\n",
    "net = NeuralNetClassifier(\n",
    "    MyModule,\n",
    "    max_epochs=10,\n",
    "    lr=0.1,\n",
    "    # Shuffle training data on each epoch\n",
    "    iterator_train__shuffle=True,\n",
    ")\n",
    "\n",
    "net.fit(X, y)\n",
    "y_proba = net.predict_proba(X)"
   ]
  },
  {
   "cell_type": "code",
   "execution_count": null,
   "metadata": {},
   "outputs": [],
   "source": []
  }
 ],
 "metadata": {
  "kernelspec": {
   "display_name": "Python 3",
   "language": "python",
   "name": "python3"
  },
  "language_info": {
   "codemirror_mode": {
    "name": "ipython",
    "version": 3
   },
   "file_extension": ".py",
   "mimetype": "text/x-python",
   "name": "python",
   "nbconvert_exporter": "python",
   "pygments_lexer": "ipython3",
   "version": "3.7.6"
  }
 },
 "nbformat": 4,
 "nbformat_minor": 4
}
