{
 "cells": [
  {
   "cell_type": "code",
   "execution_count": 1,
   "metadata": {},
   "outputs": [],
   "source": [
    "from __future__ import print_function # What is that?\n",
    "import torch"
   ]
  },
  {
   "cell_type": "code",
   "execution_count": 5,
   "metadata": {},
   "outputs": [
    {
     "name": "stdout",
     "output_type": "stream",
     "text": [
      "tensor([[9.6429e-39, 9.8265e-39, 5.9694e-39],\n",
      "        [8.9082e-39, 1.0194e-38, 9.1837e-39],\n",
      "        [4.6837e-39, 9.9184e-39, 9.0000e-39],\n",
      "        [1.0561e-38, 1.0653e-38, 4.1327e-39],\n",
      "        [8.9082e-39, 9.8265e-39, 9.4592e-39]])\n"
     ]
    }
   ],
   "source": [
    "X = torch.empty(5, 3)\n",
    "print(X)"
   ]
  },
  {
   "cell_type": "code",
   "execution_count": 6,
   "metadata": {},
   "outputs": [
    {
     "name": "stdout",
     "output_type": "stream",
     "text": [
      "tensor([[0.8069, 0.1464, 0.7867],\n",
      "        [0.3557, 0.9087, 0.1259],\n",
      "        [0.2892, 0.1047, 0.6829],\n",
      "        [0.5045, 0.2029, 0.5566],\n",
      "        [0.1056, 0.6157, 0.2313]])\n"
     ]
    }
   ],
   "source": [
    "X = torch.rand(5, 3)\n",
    "print(X)"
   ]
  },
  {
   "cell_type": "code",
   "execution_count": 16,
   "metadata": {},
   "outputs": [
    {
     "name": "stdout",
     "output_type": "stream",
     "text": [
      "tensor([[0, 0, 0],\n",
      "        [0, 0, 0],\n",
      "        [0, 0, 0],\n",
      "        [0, 0, 0],\n",
      "        [0, 0, 0]])\n"
     ]
    }
   ],
   "source": [
    "X = torch.zeros(5, 3, dtype = torch.long)\n",
    "print(X)"
   ]
  },
  {
   "cell_type": "code",
   "execution_count": 19,
   "metadata": {},
   "outputs": [
    {
     "name": "stdout",
     "output_type": "stream",
     "text": [
      "tensor([5.5000, 3.0000])\n"
     ]
    }
   ],
   "source": [
    "X = torch.tensor([5.5, 3])\n",
    "print(X)"
   ]
  },
  {
   "cell_type": "code",
   "execution_count": 23,
   "metadata": {},
   "outputs": [
    {
     "name": "stdout",
     "output_type": "stream",
     "text": [
      "tensor([[5.5000],\n",
      "        [3.0000]])\n"
     ]
    }
   ],
   "source": [
    "X = torch.tensor([[5.5], [3]])\n",
    "print(X)"
   ]
  },
  {
   "cell_type": "code",
   "execution_count": 28,
   "metadata": {},
   "outputs": [
    {
     "name": "stdout",
     "output_type": "stream",
     "text": [
      "tensor([[1., 1., 1.],\n",
      "        [1., 1., 1.],\n",
      "        [1., 1., 1.],\n",
      "        [1., 1., 1.],\n",
      "        [1., 1., 1.]], dtype=torch.float64)\n"
     ]
    }
   ],
   "source": [
    "X = X.new_ones(5, 3, dtype = torch.double)\n",
    "print(X)"
   ]
  },
  {
   "cell_type": "code",
   "execution_count": 56,
   "metadata": {},
   "outputs": [
    {
     "name": "stdout",
     "output_type": "stream",
     "text": [
      "tensor([[-0.5985,  0.3188,  0.6822,  0.9907],\n",
      "        [ 2.5392,  0.8281,  0.1896,  1.0113],\n",
      "        [-0.6257,  0.6534, -1.5487, -1.2649],\n",
      "        [-0.9367, -0.8208, -0.0733, -0.2934],\n",
      "        [-1.1888, -0.4929, -1.3146, -1.2630]])\n"
     ]
    }
   ],
   "source": [
    "X = torch.randn_like(X, dtype = torch.float)\n",
    "print(X)"
   ]
  },
  {
   "cell_type": "code",
   "execution_count": 59,
   "metadata": {},
   "outputs": [
    {
     "name": "stdout",
     "output_type": "stream",
     "text": [
      "tensor([[0.5981, 0.4840, 0.0751, 0.3412],\n",
      "        [0.1793, 0.1599, 0.8514, 0.1643],\n",
      "        [0.4888, 0.3092, 0.1587, 0.2879],\n",
      "        [0.6893, 0.5056, 0.4527, 0.7101],\n",
      "        [0.8926, 0.4788, 0.5785, 0.5306]])\n"
     ]
    }
   ],
   "source": [
    "Y = torch.rand(5, 4)\n",
    "print(Y)"
   ]
  },
  {
   "cell_type": "code",
   "execution_count": 60,
   "metadata": {},
   "outputs": [
    {
     "name": "stdout",
     "output_type": "stream",
     "text": [
      "tensor([[-4.0871e-04,  8.0281e-01,  7.5737e-01,  1.3318e+00],\n",
      "        [ 2.7185e+00,  9.8795e-01,  1.0410e+00,  1.1756e+00],\n",
      "        [-1.3696e-01,  9.6261e-01, -1.3900e+00, -9.7699e-01],\n",
      "        [-2.4740e-01, -3.1528e-01,  3.7935e-01,  4.1663e-01],\n",
      "        [-2.9621e-01, -1.4094e-02, -7.3601e-01, -7.3237e-01]])\n"
     ]
    }
   ],
   "source": [
    "print(X+Y)"
   ]
  },
  {
   "cell_type": "code",
   "execution_count": 64,
   "metadata": {},
   "outputs": [
    {
     "name": "stdout",
     "output_type": "stream",
     "text": [
      "tensor([[-4.0871e-04,  8.0281e-01,  7.5737e-01,  1.3318e+00],\n",
      "        [ 2.7185e+00,  9.8795e-01,  1.0410e+00,  1.1756e+00],\n",
      "        [-1.3696e-01,  9.6261e-01, -1.3900e+00, -9.7699e-01],\n",
      "        [-2.4740e-01, -3.1528e-01,  3.7935e-01,  4.1663e-01],\n",
      "        [-2.9621e-01, -1.4094e-02, -7.3601e-01, -7.3237e-01]])\n"
     ]
    }
   ],
   "source": [
    "print(torch.add(X, Y))"
   ]
  },
  {
   "cell_type": "code",
   "execution_count": 66,
   "metadata": {},
   "outputs": [
    {
     "data": {
      "text/plain": [
       "tensor([[-4.0871e-04,  8.0281e-01,  7.5737e-01,  1.3318e+00],\n",
       "        [ 2.7185e+00,  9.8795e-01,  1.0410e+00,  1.1756e+00],\n",
       "        [-1.3696e-01,  9.6261e-01, -1.3900e+00, -9.7699e-01],\n",
       "        [-2.4740e-01, -3.1528e-01,  3.7935e-01,  4.1663e-01],\n",
       "        [-2.9621e-01, -1.4094e-02, -7.3601e-01, -7.3237e-01]])"
      ]
     },
     "execution_count": 66,
     "metadata": {},
     "output_type": "execute_result"
    }
   ],
   "source": [
    "result = torch.empty(5, 3)\n",
    "torch.add(X, Y, out = result)\n",
    "result"
   ]
  },
  {
   "cell_type": "code",
   "execution_count": 67,
   "metadata": {},
   "outputs": [
    {
     "name": "stdout",
     "output_type": "stream",
     "text": [
      "tensor([[-4.0871e-04,  8.0281e-01,  7.5737e-01,  1.3318e+00],\n",
      "        [ 2.7185e+00,  9.8795e-01,  1.0410e+00,  1.1756e+00],\n",
      "        [-1.3696e-01,  9.6261e-01, -1.3900e+00, -9.7699e-01],\n",
      "        [-2.4740e-01, -3.1528e-01,  3.7935e-01,  4.1663e-01],\n",
      "        [-2.9621e-01, -1.4094e-02, -7.3601e-01, -7.3237e-01]])\n"
     ]
    }
   ],
   "source": [
    "Y.add_(X) # in place\n",
    "print(Y)"
   ]
  },
  {
   "cell_type": "code",
   "execution_count": 70,
   "metadata": {},
   "outputs": [
    {
     "data": {
      "text/plain": [
       "tensor([[-0.5985,  0.3188,  0.6822,  0.9907],\n",
       "        [ 2.5392,  0.8281,  0.1896,  1.0113],\n",
       "        [-0.6257,  0.6534, -1.5487, -1.2649],\n",
       "        [-0.9367, -0.8208, -0.0733, -0.2934],\n",
       "        [-1.1888, -0.4929, -1.3146, -1.2630]])"
      ]
     },
     "execution_count": 70,
     "metadata": {},
     "output_type": "execute_result"
    }
   ],
   "source": [
    "X"
   ]
  },
  {
   "cell_type": "code",
   "execution_count": 69,
   "metadata": {},
   "outputs": [
    {
     "data": {
      "text/plain": [
       "tensor([2.5392, 0.8281, 0.1896, 1.0113])"
      ]
     },
     "execution_count": 69,
     "metadata": {},
     "output_type": "execute_result"
    }
   ],
   "source": [
    "X[1]"
   ]
  },
  {
   "cell_type": "code",
   "execution_count": 72,
   "metadata": {},
   "outputs": [
    {
     "data": {
      "text/plain": [
       "tensor([[ 2.5392,  0.8281,  0.1896,  1.0113],\n",
       "        [-0.6257,  0.6534, -1.5487, -1.2649],\n",
       "        [-0.9367, -0.8208, -0.0733, -0.2934],\n",
       "        [-1.1888, -0.4929, -1.3146, -1.2630]])"
      ]
     },
     "execution_count": 72,
     "metadata": {},
     "output_type": "execute_result"
    }
   ],
   "source": [
    "X[1:]"
   ]
  },
  {
   "cell_type": "code",
   "execution_count": 73,
   "metadata": {},
   "outputs": [
    {
     "data": {
      "text/plain": [
       "tensor([ 0.3188,  0.8281,  0.6534, -0.8208, -0.4929])"
      ]
     },
     "execution_count": 73,
     "metadata": {},
     "output_type": "execute_result"
    }
   ],
   "source": [
    "X[:, 1]"
   ]
  },
  {
   "cell_type": "code",
   "execution_count": 79,
   "metadata": {},
   "outputs": [
    {
     "name": "stdout",
     "output_type": "stream",
     "text": [
      "tensor([[-0.2788, -1.2378,  0.6189, -0.7178],\n",
      "        [-1.1923,  0.7078, -1.1669, -1.5204],\n",
      "        [ 0.7095, -0.0715,  0.2990,  0.3003],\n",
      "        [ 1.3313, -0.8713,  1.2750, -0.9517]])\n"
     ]
    }
   ],
   "source": [
    "X = torch.randn(4, 4)\n",
    "print(X)"
   ]
  },
  {
   "cell_type": "code",
   "execution_count": 76,
   "metadata": {},
   "outputs": [
    {
     "name": "stdout",
     "output_type": "stream",
     "text": [
      "tensor([ 0.5503,  1.3769,  0.2271, -0.1897,  0.3775,  0.4012, -1.0758,  0.9342,\n",
      "         1.0645,  0.3299, -1.1190,  0.0491, -0.4796, -1.9845, -1.4883,  2.2555])\n"
     ]
    }
   ],
   "source": [
    "X = X.view(16)\n",
    "print(X)"
   ]
  },
  {
   "cell_type": "code",
   "execution_count": 82,
   "metadata": {},
   "outputs": [
    {
     "name": "stdout",
     "output_type": "stream",
     "text": [
      "tensor([-0.2788, -1.2378,  0.6189, -0.7178, -1.1923,  0.7078, -1.1669, -1.5204,\n",
      "         0.7095, -0.0715,  0.2990,  0.3003,  1.3313, -0.8713,  1.2750, -0.9517])\n"
     ]
    }
   ],
   "source": [
    "Y = X.view(16)\n",
    "print(Y)"
   ]
  },
  {
   "cell_type": "code",
   "execution_count": 86,
   "metadata": {},
   "outputs": [
    {
     "name": "stdout",
     "output_type": "stream",
     "text": [
      "tensor([[-0.2788, -1.2378,  0.6189, -0.7178, -1.1923,  0.7078, -1.1669, -1.5204],\n",
      "        [ 0.7095, -0.0715,  0.2990,  0.3003,  1.3313, -0.8713,  1.2750, -0.9517]])\n"
     ]
    }
   ],
   "source": [
    "Z = X.view(-1, 8) # the size -1 is inferred from other dimensions\n",
    "print(Z)"
   ]
  },
  {
   "cell_type": "code",
   "execution_count": 87,
   "metadata": {},
   "outputs": [
    {
     "name": "stdout",
     "output_type": "stream",
     "text": [
      "torch.Size([2, 8])\n"
     ]
    }
   ],
   "source": [
    "print(Z.size())"
   ]
  },
  {
   "cell_type": "code",
   "execution_count": 90,
   "metadata": {},
   "outputs": [
    {
     "name": "stdout",
     "output_type": "stream",
     "text": [
      "tensor([-0.8974])\n",
      "-0.8974248766899109\n"
     ]
    }
   ],
   "source": [
    "X = torch.randn(1)\n",
    "print(X)\n",
    "print(X.item())"
   ]
  },
  {
   "cell_type": "code",
   "execution_count": 91,
   "metadata": {},
   "outputs": [
    {
     "name": "stdout",
     "output_type": "stream",
     "text": [
      "tensor([1., 1., 1., 1., 1.])\n"
     ]
    }
   ],
   "source": [
    "A = torch.ones(5)\n",
    "print(A)"
   ]
  },
  {
   "cell_type": "code",
   "execution_count": 92,
   "metadata": {},
   "outputs": [
    {
     "name": "stdout",
     "output_type": "stream",
     "text": [
      "[1. 1. 1. 1. 1.]\n"
     ]
    }
   ],
   "source": [
    "B = A.numpy()\n",
    "print(B)"
   ]
  },
  {
   "cell_type": "code",
   "execution_count": 93,
   "metadata": {},
   "outputs": [
    {
     "name": "stdout",
     "output_type": "stream",
     "text": [
      "tensor([2., 2., 2., 2., 2.])\n",
      "[2. 2. 2. 2. 2.]\n"
     ]
    }
   ],
   "source": [
    "A.add_(1)\n",
    "print(A)\n",
    "print(B)"
   ]
  },
  {
   "cell_type": "code",
   "execution_count": 94,
   "metadata": {},
   "outputs": [
    {
     "name": "stdout",
     "output_type": "stream",
     "text": [
      "[2. 2. 2. 2. 2.]\n",
      "tensor([2., 2., 2., 2., 2.], dtype=torch.float64)\n"
     ]
    }
   ],
   "source": [
    "import numpy as np\n",
    "A = np.ones(5)\n",
    "B = torch.from_numpy(A)\n",
    "np.add(A, 1, out = A)\n",
    "print(A)\n",
    "print(B)"
   ]
  },
  {
   "cell_type": "code",
   "execution_count": 97,
   "metadata": {},
   "outputs": [
    {
     "name": "stdout",
     "output_type": "stream",
     "text": [
      "tensor([0.1026], device='cuda:0')\n",
      "tensor([0.1026], dtype=torch.float64)\n"
     ]
    }
   ],
   "source": [
    "device = torch.device(\"cuda\") # a CUDA device object\n",
    "Y = torch.ones_like(X, device = device) # directly create a tensor on GPU\n",
    "X = X.to(device) # or just use strings \".to(\"cuda\")\"\n",
    "Z = X + Y\n",
    "print(Z)\n",
    "print(Z.to(\"cpu\", torch.double))"
   ]
  },
  {
   "cell_type": "markdown",
   "metadata": {},
   "source": [
    "***"
   ]
  },
  {
   "cell_type": "code",
   "execution_count": 131,
   "metadata": {},
   "outputs": [
    {
     "name": "stdout",
     "output_type": "stream",
     "text": [
      "tensor([[1., 1.],\n",
      "        [1., 1.]], requires_grad=True)\n"
     ]
    }
   ],
   "source": [
    "X = torch.ones(2,2, requires_grad = True)\n",
    "print(X)"
   ]
  },
  {
   "cell_type": "code",
   "execution_count": 139,
   "metadata": {},
   "outputs": [
    {
     "name": "stdout",
     "output_type": "stream",
     "text": [
      "tensor([[3., 3.],\n",
      "        [3., 3.]], grad_fn=<AddBackward0>)\n"
     ]
    }
   ],
   "source": [
    "Y = X + 2\n",
    "print(Y)"
   ]
  },
  {
   "cell_type": "code",
   "execution_count": 142,
   "metadata": {},
   "outputs": [
    {
     "data": {
      "text/plain": [
       "\u001b[1;31mSignature:\u001b[0m \u001b[0mY\u001b[0m\u001b[1;33m.\u001b[0m\u001b[0mbackward\u001b[0m\u001b[1;33m(\u001b[0m\u001b[0mgradient\u001b[0m\u001b[1;33m=\u001b[0m\u001b[1;32mNone\u001b[0m\u001b[1;33m,\u001b[0m \u001b[0mretain_graph\u001b[0m\u001b[1;33m=\u001b[0m\u001b[1;32mNone\u001b[0m\u001b[1;33m,\u001b[0m \u001b[0mcreate_graph\u001b[0m\u001b[1;33m=\u001b[0m\u001b[1;32mFalse\u001b[0m\u001b[1;33m)\u001b[0m\u001b[1;33m\u001b[0m\u001b[1;33m\u001b[0m\u001b[0m\n",
       "\u001b[1;31mDocstring:\u001b[0m\n",
       "Computes the gradient of current tensor w.r.t. graph leaves.\n",
       "\n",
       "The graph is differentiated using the chain rule. If the tensor is\n",
       "non-scalar (i.e. its data has more than one element) and requires\n",
       "gradient, the function additionally requires specifying ``gradient``.\n",
       "It should be a tensor of matching type and location, that contains\n",
       "the gradient of the differentiated function w.r.t. ``self``.\n",
       "\n",
       "This function accumulates gradients in the leaves - you might need to\n",
       "zero them before calling it.\n",
       "\n",
       "Arguments:\n",
       "    gradient (Tensor or None): Gradient w.r.t. the\n",
       "        tensor. If it is a tensor, it will be automatically converted\n",
       "        to a Tensor that does not require grad unless ``create_graph`` is True.\n",
       "        None values can be specified for scalar Tensors or ones that\n",
       "        don't require grad. If a None value would be acceptable then\n",
       "        this argument is optional.\n",
       "    retain_graph (bool, optional): If ``False``, the graph used to compute\n",
       "        the grads will be freed. Note that in nearly all cases setting\n",
       "        this option to True is not needed and often can be worked around\n",
       "        in a much more efficient way. Defaults to the value of\n",
       "        ``create_graph``.\n",
       "    create_graph (bool, optional): If ``True``, graph of the derivative will\n",
       "        be constructed, allowing to compute higher order derivative\n",
       "        products. Defaults to ``False``.\n",
       "\u001b[1;31mFile:\u001b[0m      c:\\users\\patrick\\anaconda3\\lib\\site-packages\\torch\\tensor.py\n",
       "\u001b[1;31mType:\u001b[0m      method\n"
      ]
     },
     "metadata": {},
     "output_type": "display_data"
    }
   ],
   "source": [
    "Y.backward?"
   ]
  },
  {
   "cell_type": "code",
   "execution_count": 120,
   "metadata": {},
   "outputs": [
    {
     "name": "stdout",
     "output_type": "stream",
     "text": [
      "tensor([[9., 9.],\n",
      "        [9., 9.]], grad_fn=<MulBackward0>)\n"
     ]
    }
   ],
   "source": [
    "Z = Y*3\n",
    "print(Z)"
   ]
  },
  {
   "cell_type": "code",
   "execution_count": 121,
   "metadata": {},
   "outputs": [
    {
     "name": "stdout",
     "output_type": "stream",
     "text": [
      "tensor([[27., 27.],\n",
      "        [27., 27.]], grad_fn=<MulBackward0>)\n"
     ]
    }
   ],
   "source": [
    "Z = Z*Y\n",
    "print(Z)"
   ]
  },
  {
   "cell_type": "code",
   "execution_count": 122,
   "metadata": {},
   "outputs": [
    {
     "name": "stdout",
     "output_type": "stream",
     "text": [
      "tensor(27., grad_fn=<MeanBackward0>)\n"
     ]
    }
   ],
   "source": [
    "out = Z.mean()\n",
    "print(out)"
   ]
  },
  {
   "cell_type": "code",
   "execution_count": 123,
   "metadata": {},
   "outputs": [
    {
     "name": "stdout",
     "output_type": "stream",
     "text": [
      "False\n",
      "True\n",
      "<SumBackward0 object at 0x000001270F770748>\n"
     ]
    }
   ],
   "source": [
    "a = torch.randn(2, 2)\n",
    "a = ((a*3) / (a - 1))\n",
    "print(a.requires_grad)\n",
    "a.requires_grad_(True)\n",
    "print(a.requires_grad)\n",
    "b = (a * a).sum()\n",
    "print(b.grad_fn)"
   ]
  },
  {
   "cell_type": "code",
   "execution_count": 125,
   "metadata": {},
   "outputs": [],
   "source": [
    "out.backward()"
   ]
  },
  {
   "cell_type": "code",
   "execution_count": 126,
   "metadata": {},
   "outputs": [
    {
     "name": "stdout",
     "output_type": "stream",
     "text": [
      "tensor([[4.5000, 4.5000],\n",
      "        [4.5000, 4.5000]])\n"
     ]
    }
   ],
   "source": [
    "print(X.grad)"
   ]
  },
  {
   "cell_type": "code",
   "execution_count": 150,
   "metadata": {},
   "outputs": [
    {
     "name": "stdout",
     "output_type": "stream",
     "text": [
      "tensor([ 488.2023, -720.7322, -913.4827], grad_fn=<MulBackward0>)\n"
     ]
    }
   ],
   "source": [
    "X = torch.randn(3, requires_grad = True)\n",
    "\n",
    "Y = X*2\n",
    "while Y.data.norm() < 1000:\n",
    "    Y = Y*2\n",
    "    \n",
    "print(Y)"
   ]
  },
  {
   "cell_type": "code",
   "execution_count": 151,
   "metadata": {},
   "outputs": [
    {
     "name": "stdout",
     "output_type": "stream",
     "text": [
      "tensor([1.0240e+02, 1.0240e+03, 1.0240e-01])\n"
     ]
    }
   ],
   "source": [
    "v = torch.tensor([0.1, 1.0, 0.0001], dtype = torch.float)\n",
    "Y.backward(v)\n",
    "\n",
    "print(X.grad)"
   ]
  },
  {
   "cell_type": "markdown",
   "metadata": {},
   "source": [
    "***"
   ]
  },
  {
   "cell_type": "code",
   "execution_count": null,
   "metadata": {},
   "outputs": [],
   "source": []
  }
 ],
 "metadata": {
  "kernelspec": {
   "display_name": "Python 3",
   "language": "python",
   "name": "python3"
  },
  "language_info": {
   "codemirror_mode": {
    "name": "ipython",
    "version": 3
   },
   "file_extension": ".py",
   "mimetype": "text/x-python",
   "name": "python",
   "nbconvert_exporter": "python",
   "pygments_lexer": "ipython3",
   "version": "3.7.3"
  }
 },
 "nbformat": 4,
 "nbformat_minor": 2
}
