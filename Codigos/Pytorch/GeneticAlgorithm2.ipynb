{
 "cells": [
  {
   "cell_type": "code",
   "execution_count": null,
   "metadata": {},
   "outputs": [],
   "source": [
    "# Basic structure of the algorithm.\n",
    "\n",
    "# new_population = []\n",
    "# while size(new_population) < population_size:\n",
    "#   choose k(tournament) individuals from the population at random\n",
    "#   choose the best from pool/tournament with probability p1\n",
    "#   choose the second best individual with probability p2\n",
    "#   choose the third best individual with probability p3\n",
    "#   mutate and append selected to the new_population"
   ]
  }
 ],
 "metadata": {
  "kernelspec": {
   "display_name": "Python 3",
   "language": "python",
   "name": "python3"
  },
  "language_info": {
   "codemirror_mode": {
    "name": "ipython",
    "version": 3
   },
   "file_extension": ".py",
   "mimetype": "text/x-python",
   "name": "python",
   "nbconvert_exporter": "python",
   "pygments_lexer": "ipython3",
   "version": "3.7.6"
  }
 },
 "nbformat": 4,
 "nbformat_minor": 4
}
