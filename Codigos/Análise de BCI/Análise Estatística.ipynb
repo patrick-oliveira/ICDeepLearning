{
 "cells": [
  {
   "cell_type": "code",
   "execution_count": 1,
   "metadata": {},
   "outputs": [],
   "source": [
    "import os\n",
    "import torch\n",
    "import torch.nn as nn\n",
    "import torch.optim as optim\n",
    "import torch.nn.functional as F\n",
    "from torchvision import transforms, utils, datasets, models\n",
    "\n",
    "import sys\n",
    "sys.path.append('Scripts')\n",
    "from utils import getData"
   ]
  },
  {
   "cell_type": "code",
   "execution_count": 2,
   "metadata": {},
   "outputs": [],
   "source": [
    "import numpy as np"
   ]
  },
  {
   "cell_type": "code",
   "execution_count": 3,
   "metadata": {},
   "outputs": [],
   "source": [
    "%load_ext autoreload\n",
    "%autoreload 2"
   ]
  },
  {
   "cell_type": "code",
   "execution_count": 4,
   "metadata": {},
   "outputs": [],
   "source": [
    "image_size = 224\n",
    "batch_size = 1\n",
    "workers = 1\n",
    "ngpu = 1\n",
    "validation_split = 0\n",
    "train_split = 0\n",
    "shuffle_dataset = True\n",
    "random_seed = 42\n",
    "image_size = 224\n",
    "device = torch.device(\"cuda:0\" if (torch.cuda.is_available() and ngpu > 0) else \"cpu\")\n",
    "# device = \"cpu\"    "
   ]
  },
  {
   "cell_type": "code",
   "execution_count": 5,
   "metadata": {},
   "outputs": [],
   "source": [
    "folder = 'Test_GASF'\n",
    "figPath = 'C:\\\\Users\\\\Patrick\\\\Documents\\\\GitHub\\\\ICDeepLearning\\\\Data\\\\'+folder+'\\\\512'\n",
    "dataloaders, dataset_sizes, dataloader, class_names = getData(figPath, image_size, train_split, validation_split, batch_size = batch_size)"
   ]
  },
  {
   "cell_type": "code",
   "execution_count": 6,
   "metadata": {},
   "outputs": [],
   "source": [
    "class predictor(nn.Module):\n",
    "    def __init__(self, model):\n",
    "        super().__init__()\n",
    "        self.model = model\n",
    "        \n",
    "    def predict(self, dataloader):\n",
    "        outputs = []\n",
    "        targets = []\n",
    "        for sample, target in dataloader:\n",
    "            o = torch.argmax(F.softmax(self.model(sample), dim = 1)).item()\n",
    "            outputs.append(o)\n",
    "            targets.append(target.item())\n",
    "            \n",
    "        outputs = np.array(outputs)\n",
    "        targets = np.array(targets)\n",
    "        right_pred = 1*(outputs == targets)\n",
    "        return outputs, right_pred"
   ]
  },
  {
   "cell_type": "code",
   "execution_count": 8,
   "metadata": {},
   "outputs": [],
   "source": [
    "method = 'gadf'\n",
    "path = 'Models\\\\'+method\n",
    "names = os.listdir(path)[1:]"
   ]
  },
  {
   "cell_type": "code",
   "execution_count": 55,
   "metadata": {},
   "outputs": [],
   "source": [
    "modelDict = {\n",
    "#     'resnet18': models.resnet18(),\n",
    "#     'resnet34': models.resnet34(),\n",
    "#     'resnet50': models.resnet50(),\n",
    "#     'resnet101': models.resnet101(),\n",
    "#     'resnet152': models.resnet152(),\n",
    "#     'densenet121': models.densenet121(),\n",
    "#     'densenet161': models.densenet161(),\n",
    "#     'densenet169': models.densenet169(),\n",
    "#     'densenet201': models.densenet201(),\n",
    "#     'alexnet': models.alexnet(),\n",
    "    'googlenet': models.googlenet(),\n",
    "#     'vgg11': models.vgg11(),\n",
    "#     'vgg13': models.vgg13(),\n",
    "#     'vgg16': models.vgg16()\n",
    "}"
   ]
  },
  {
   "cell_type": "code",
   "execution_count": null,
   "metadata": {},
   "outputs": [],
   "source": [
    "modelName = 'googlenet'\n",
    "network = modelDict[modelName]\n",
    "modelPath = path+\"\\\\\"+modelName+'\\\\cca128\\\\model.pth'\n",
    "network.load_state_dict(torch.load(modelPath))\n",
    "predic = predictor(network)\n",
    "_, out = predic.predict(dataloader)\n",
    "resultsDict[modelName] = out\n",
    "#     numFeatures = modelDict[modelName][1]\n",
    "\n",
    "#     temp = modelName\n",
    "#     for d in modelName:\n",
    "#         if d.isdigit():\n",
    "#             temp = temp.replace(d, '')\n",
    "\n",
    "    "
   ]
  },
  {
   "cell_type": "code",
   "execution_count": 61,
   "metadata": {},
   "outputs": [
    {
     "data": {
      "text/plain": [
       "Ttest_indResult(statistic=0.0, pvalue=1.0)"
      ]
     },
     "execution_count": 61,
     "metadata": {},
     "output_type": "execute_result"
    }
   ],
   "source": [
    "from scipy import stats\n",
    "stats.ttest_ind(resultsDict['resnet18'], resultsDict['densenet121'], equal_var=True)"
   ]
  },
  {
   "cell_type": "code",
   "execution_count": 62,
   "metadata": {},
   "outputs": [
    {
     "data": {
      "text/plain": [
       "0.242"
      ]
     },
     "execution_count": 62,
     "metadata": {},
     "output_type": "execute_result"
    }
   ],
   "source": [
    "np.count_nonzero(resultsDict['resnet18'])/500"
   ]
  },
  {
   "cell_type": "code",
   "execution_count": 63,
   "metadata": {},
   "outputs": [
    {
     "data": {
      "text/plain": [
       "0.242"
      ]
     },
     "execution_count": 63,
     "metadata": {},
     "output_type": "execute_result"
    }
   ],
   "source": [
    "np.count_nonzero(resultsDict['densenet121'])/500"
   ]
  },
  {
   "cell_type": "code",
   "execution_count": 66,
   "metadata": {},
   "outputs": [
    {
     "data": {
      "text/plain": [
       "0.2"
      ]
     },
     "execution_count": 66,
     "metadata": {},
     "output_type": "execute_result"
    }
   ],
   "source": [
    "np.count_nonzero(resultsDict['alexnet'])/500"
   ]
  },
  {
   "cell_type": "code",
   "execution_count": 67,
   "metadata": {},
   "outputs": [
    {
     "data": {
      "text/plain": [
       "0.24"
      ]
     },
     "execution_count": 67,
     "metadata": {},
     "output_type": "execute_result"
    }
   ],
   "source": [
    "np.count_nonzero(resultsDict['densenet201'])/500"
   ]
  },
  {
   "cell_type": "code",
   "execution_count": null,
   "metadata": {},
   "outputs": [],
   "source": []
  }
 ],
 "metadata": {
  "kernelspec": {
   "display_name": "Python 3",
   "language": "python",
   "name": "python3"
  },
  "language_info": {
   "codemirror_mode": {
    "name": "ipython",
    "version": 3
   },
   "file_extension": ".py",
   "mimetype": "text/x-python",
   "name": "python",
   "nbconvert_exporter": "python",
   "pygments_lexer": "ipython3",
   "version": "3.7.6"
  }
 },
 "nbformat": 4,
 "nbformat_minor": 4
}
