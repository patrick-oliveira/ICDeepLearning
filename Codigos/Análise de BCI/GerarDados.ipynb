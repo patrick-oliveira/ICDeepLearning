{
 "cells": [
  {
   "cell_type": "code",
   "execution_count": 7,
   "metadata": {},
   "outputs": [],
   "source": [
    "import sys\n",
    "sys.path.append('C:\\\\Users\\\\Patrick\\\\Documents\\\\GitHub\\\\ICDeepLearning\\\\Scripts')\n",
    "sys.path.append('C:\\\\Users\\\\Patrick\\\\Documents\\\\GitHub\\\\BCI_ssvep_dataset')\n",
    "import os\n",
    "\n",
    "%load_ext autoreload\n",
    "%autoreload 2\n",
    "\n",
    "from dsloader import * # Inside BCI_ssvep_dataset\n",
    "import pandas as pd\n",
    "import numpy as np"
   ]
  },
  {
   "cell_type": "code",
   "execution_count": 15,
   "metadata": {},
   "outputs": [],
   "source": [
    "from dataprep import SplitData\n",
    "\n",
    "s = '128'\n",
    "dataset = 'cca_dataset'\n",
    "RawDataPath = \"C:\\\\Users\\\\Patrick\\\\Documents\\\\GitHub\\\\BCI_ssvep_dataset\\\\\"+dataset\n",
    "outDataPath = 'C:\\\\Users\\\\Patrick\\\\Documents\\\\GitHub\\\\ICDeepLearning\\\\Data\\\\Originais\\\\CCA\\\\'+str(s)\n",
    "SplitData(s, dataset, RawDataPath, outDataPath)"
   ]
  },
  {
   "cell_type": "code",
   "execution_count": null,
   "metadata": {},
   "outputs": [],
   "source": []
  }
 ],
 "metadata": {
  "kernelspec": {
   "display_name": "Python 3",
   "language": "python",
   "name": "python3"
  },
  "language_info": {
   "codemirror_mode": {
    "name": "ipython",
    "version": 3
   },
   "file_extension": ".py",
   "mimetype": "text/x-python",
   "name": "python",
   "nbconvert_exporter": "python",
   "pygments_lexer": "ipython3",
   "version": "3.7.6"
  }
 },
 "nbformat": 4,
 "nbformat_minor": 4
}
