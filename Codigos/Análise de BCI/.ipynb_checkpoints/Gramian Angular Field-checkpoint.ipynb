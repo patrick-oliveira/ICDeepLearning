{
 "cells": [
  {
   "cell_type": "code",
   "execution_count": 1,
   "metadata": {},
   "outputs": [],
   "source": [
    "import sys\n",
    "sys.path.append('Scripts')\n",
    "%load_ext autoreload\n",
    "%autoreload 2\n",
    "\n",
    "import torch\n",
    "import torch.nn as nn\n",
    "import torch.optim as optim\n",
    "import torch.nn.functional as F\n",
    "from torchvision import transforms, utils\n",
    "from torch.utils.data import Dataset, DataLoader\n",
    "\n",
    "import pandas as pd\n",
    "import matplotlib.pyplot as plt\n",
    "import numpy as np\n",
    "\n",
    "from utils import path\n",
    "from sklearn import preprocessing\n",
    "import os\n",
    "import gc\n",
    "\n",
    "from mpl_toolkits.axes_grid1 import ImageGrid\n",
    "from pyts.image import GramianAngularField\n",
    "\n",
    "def read_data(dataframe):\n",
    "    return pd.read_csv(dataframe['path'], names = range(1, 16+1), dtype = float)"
   ]
  },
  {
   "cell_type": "markdown",
   "metadata": {},
   "source": [
    "Gramian Angular Field Script"
   ]
  },
  {
   "cell_type": "code",
   "execution_count": null,
   "metadata": {},
   "outputs": [],
   "source": [
    "dataType = '512'\n",
    "method = '512'\n",
    "methodDict = {\n",
    "    'Simple': ['Dados_BCI_Combinados', 'GAF_Combinados', 'Combined_'],\n",
    "    'PCA': ['Dados_BCI_CombinadosPCA', 'GAF_PCA', 'PCA_'],\n",
    "    'Full': ['Dados_BCI_FullDataset', 'GAF_FullDataset', 'FullDataset_'] # Problemático\n",
    "}\n",
    "dataPath = path('C:\\\\Users\\Patrick\\\\Documents\\\\GitHub\\\\ICDeepLearning\\\\Data\\\\'+methodDict[method][0]+'\\\\'+dataType)\n",
    "figPath = path('C:\\\\Users\\\\Patrick\\\\Documents\\\\GitHub\\\\ICDeepLearning\\\\Data\\\\'+methodDict[method][1]+\"\\\\\"+dataType)\n",
    "\n",
    "data = pd.read_csv('SSVEPDataset'+methodDict[method][2]+dataType+\".csv\")\n",
    "\n",
    "gasf = GramianAngularField(image_size = 80, method = 'summation')\n",
    "files = list(range(len(data)))\n",
    "n = len(files)\n",
    "newlist = list(range(0, len(data), n//5))\n",
    "for k in range(1, len(newlist)):\n",
    "    print(\"Part {} started.\".format(k))\n",
    "    for i in range(newlist[k-1], newlist[k]):\n",
    "        sample = np.loadtxt(data.loc[i]['path']).reshape(1, -1)\n",
    "        if sample[0][1] != 0:\n",
    "            X = gasf.fit_transform(sample)\n",
    "            fig, ax = plt.subplots(nrows = 1, ncols = 1, figsize = (12, 12))\n",
    "            plt.axis('off')\n",
    "            im = ax.imshow(X[0], cmap = 'rainbow', origin = 'lower')\n",
    "\n",
    "            state = str(data.loc[i]['state'])\n",
    "            subject = str(data.loc[i]['subject'])\n",
    "            if data.loc[i]['path'][-6] == '\\\\':\n",
    "                file = data.loc[i]['path'][-5]\n",
    "            else:\n",
    "                file = data.loc[i]['path'][-6:-4]\n",
    "\n",
    "            try:\n",
    "                fig.savefig(figPath()+'\\\\'+state+'\\\\'+subject+'_'+file+\".png\", dpi = 200, bbox_inches = 'tight')\n",
    "                plt.close()\n",
    "            except:\n",
    "                print(\"Error creating picture: {}\".format(figPath()+'\\\\'+state+'\\\\'+subject+'_'+file+\".png\"))\n",
    "    print(\"Part {} finished.\".format(k))"
   ]
  },
  {
   "cell_type": "markdown",
   "metadata": {},
   "source": [
    "***"
   ]
  },
  {
   "cell_type": "markdown",
   "metadata": {},
   "source": [
    "Example"
   ]
  },
  {
   "cell_type": "code",
   "execution_count": 22,
   "metadata": {},
   "outputs": [],
   "source": [
    "gasf = GramianAngularField(image_size = 80, method = 'summation')\n",
    "X_gasf = gasf.fit_transform(sample)"
   ]
  },
  {
   "cell_type": "code",
   "execution_count": 23,
   "metadata": {},
   "outputs": [
    {
     "data": {
      "image/png": "[encoded data removed]",
      "text/plain": [
       "<Figure size 864x504 with 2 Axes>"
      ]
     },
     "metadata": {
      "needs_background": "light"
     },
     "output_type": "display_data"
    }
   ],
   "source": [
    "fig = plt.figure(figsize = (12, 7))\n",
    "grid = ImageGrid(fig, 111,\n",
    "                 nrows_ncols=(1, 1),\n",
    "                 axes_pad=0.15,\n",
    "                 share_all=True,\n",
    "                 cbar_location=\"right\",\n",
    "                 cbar_mode=\"single\",\n",
    "                 cbar_size=\"7%\",\n",
    "                 cbar_pad=0.3,\n",
    "                 )\n",
    "\n",
    "for ax in grid:\n",
    "    im = ax.imshow(X_gasf[0], cmap = 'rainbow', origin = 'lower')\n",
    "\n",
    "ax.cax.colorbar(im)\n",
    "ax.cax.toggle_label(True)\n",
    "plt.show()"
   ]
  },
  {
   "cell_type": "code",
   "execution_count": null,
   "metadata": {},
   "outputs": [],
   "source": []
  }
 ],
 "metadata": {
  "kernelspec": {
   "display_name": "Python 3",
   "language": "python",
   "name": "python3"
  },
  "language_info": {
   "codemirror_mode": {
    "name": "ipython",
    "version": 3
   },
   "file_extension": ".py",
   "mimetype": "text/x-python",
   "name": "python",
   "nbconvert_exporter": "python",
   "pygments_lexer": "ipython3",
   "version": "3.7.6"
  }
 },
 "nbformat": 4,
 "nbformat_minor": 4
}
