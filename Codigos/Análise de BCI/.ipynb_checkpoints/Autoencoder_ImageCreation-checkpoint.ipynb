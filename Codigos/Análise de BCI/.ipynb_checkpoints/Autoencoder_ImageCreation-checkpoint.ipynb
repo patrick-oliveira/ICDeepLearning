{
 "cells": [
  {
   "cell_type": "code",
   "execution_count": 1,
   "metadata": {},
   "outputs": [],
   "source": [
    "# %run \"Scripts/dataprep.py\"\n",
    "%load_ext autoreload\n",
    "%autoreload 2\n",
    "import sys\n",
    "sys.path.append('Scripts')\n",
    "\n",
    "import torch\n",
    "import torch.nn as nn\n",
    "import torch.optim as optim\n",
    "import torch.nn.functional as F\n",
    "from torchvision import transforms, utils, models\n",
    "from torch.utils.data import Dataset, DataLoader\n",
    "\n",
    "import pandas as pd\n",
    "import matplotlib.pyplot as plt\n",
    "import numpy as np\n",
    "\n",
    "from utils import *\n",
    "from SSVEPDataset import SSVEPDataset\n",
    "from classes import *\n",
    "from SSVEPDataloader import *\n",
    "\n",
    "from sklearn import preprocessing\n",
    "import os\n",
    "import time\n",
    "import copy\n",
    "from functools import partial\n",
    "\n",
    "def read_data(dataframe):\n",
    "    return torch.tensor(pd.read_csv(dataframe['path'], names = range(1, 16+1), dtype = float).values)\n",
    "\n",
    "def dataVisualization(X):\n",
    "    X = X.squeeze().T\n",
    "    \n",
    "    fig = plt.figure(figsize = (15, 15))\n",
    "    ax = fig.add_subplot()\n",
    "    ax.imshow(X, cmap = 'gray')"
   ]
  },
  {
   "cell_type": "code",
   "execution_count": 2,
   "metadata": {},
   "outputs": [],
   "source": [
    "dataType = '512'\n",
    "data = pd.read_csv('SSVEPDataset_'+dataType+'.csv')\n",
    "dataset = SSVEPDataset(data)\n",
    "\n",
    "batchSize = 4\n",
    "dataloaders, datasetsSizes = SSVEPDataloaders(dataset, batchSize)\n",
    "# example = next(iter(dataloaders['train']))['series']\n",
    "\n",
    "device = torch.device(\"cuda:0\" if (torch.cuda.is_available()) else \"cpu\")\n",
    "# device = 'cpu'"
   ]
  },
  {
   "cell_type": "code",
   "execution_count": 3,
   "metadata": {},
   "outputs": [],
   "source": [
    "# ** Training algorithms\n",
    "\n",
    "def train(model, dataloaders, criterion, optimizer, scheduler, device,\n",
    "          num_epochs = 25, learningRate = 1e-2, temp = 0):\n",
    "    since = time.time()\n",
    "    bestModel = copy.deepcopy(model.state_dict())\n",
    "    bestLoss = np.inf\n",
    "    \n",
    "    trainLoss = []\n",
    "    validLoss = []\n",
    "    \n",
    "    for epoch in range(num_epochs):\n",
    "        print('Epoch {}/{}'.format(epoch, num_epochs - 1))\n",
    "        print('-' * 10)\n",
    "        \n",
    "        # Each epoch has a training and a validation phase\n",
    "        for phase in ['train', 'val']:\n",
    "            if phase == 'train':\n",
    "                model.train()\n",
    "            else:\n",
    "                model.eval()\n",
    "                \n",
    "            runningLoss = 0.0\n",
    "            runningCorrects = 0\n",
    "            \n",
    "            for sample in dataloaders[phase]:\n",
    "                inputs = sample['series'].to(device)\n",
    "                labels = sample['class'].to(device)\n",
    "                \n",
    "                optimizer.zero_grad()\n",
    "                \n",
    "                with torch.set_grad_enabled(phase == 'train'):\n",
    "                    outputs = model(inputs)\n",
    "                    if temp == 0:\n",
    "                        loss = criterion(outputs, inputs)\n",
    "                    else:\n",
    "                        loss = criterion(outputs, labels)\n",
    "                    \n",
    "                    \n",
    "                    if phase == 'train':\n",
    "                        loss.backward()\n",
    "                        optimizer.step()\n",
    "                        \n",
    "                runningLoss += loss.item() * inputs.size(0)\n",
    "                del(inputs); del(labels)\n",
    "                \n",
    "            if phase == 'train':\n",
    "                scheduler.step()\n",
    "                \n",
    "            epochLoss = runningLoss/datasetsSizes[phase]\n",
    "            \n",
    "            if phase == 'train':\n",
    "                trainLoss.append(epochLoss)\n",
    "            else:\n",
    "                validLoss.append(epochLoss)\n",
    "            \n",
    "            print('{} Loss: {:.4f}'.format(phase, epochLoss))\n",
    "            \n",
    "            if phase == 'val' and epochLoss < bestLoss:\n",
    "                bestLoss = epochLoss\n",
    "                bestModel = copy.deepcopy(model.state_dict())\n",
    "                \n",
    "        print()\n",
    "        \n",
    "    time_elapsed = time.time() - since\n",
    "    print('Training complete in {:.0f}m {:.0f}s'.format(time_elapsed // 60, time_elapsed % 60))\n",
    "    print('Best val Loss: {:4f}'.format(bestLoss))\n",
    "    \n",
    "    model.load_state_dict(bestModel)\n",
    "    return model, [trainLoss, validLoss], bestLoss"
   ]
  },
  {
   "cell_type": "code",
   "execution_count": 4,
   "metadata": {},
   "outputs": [],
   "source": [
    "# class Autoencoder(nn.Module):\n",
    "#     def __init__(self,):\n",
    "#         super(Autoencoder, self).__init__()\n",
    "        \n",
    "#         self.encoder = nn.Sequential(\n",
    "#             ConvBlock(1, 16, kernel_size = (257, 1))\n",
    "#         )\n",
    "#         self.decoder = nn.Sequential(\n",
    "#             DeconvBlock(16, 1, kernel_size = (257, 1)),\n",
    "#         )\n",
    "        \n",
    "#     def forward(self, X):\n",
    "#         X = self.encoder(X)\n",
    "#         X = self.decoder(X)\n",
    "#         return X\n",
    "\n",
    "# class Classifier(nn.Module):\n",
    "#     def __init__(self):\n",
    "#         super(Classifier, self).__init__()\n",
    "#         self.Conv1 = ConvBlock(3, 16, kernel_size = 57)\n",
    "#         self.Linear1 = nn.Linear(16*200*200, 100)\n",
    "#         self.Linear2 = nn.Linear(100, 5)\n",
    "        \n",
    "#     def forward(self, X):\n",
    "#         X = self.Conv1(X)\n",
    "#         X = X.view((4, -1))\n",
    "#         X = self.Linear1(X)\n",
    "#         X = self.Linear2(X)\n",
    "#         return X\n",
    "    \n",
    "class MergedModel(nn.Module):\n",
    "    def __init__(self):\n",
    "        super(MergedModel, self).__init__()\n",
    "        self.Encoder = ConvBlock(1, 16, kernel_size = (257, 1))\n",
    "        self.Intermid1 = nn.Conv2d(1, 3, kernel_size = 11, padding = 11//2)\n",
    "        self.Intermid2 = ConvBlock(3, 16, kernel_size = 57)\n",
    "        self.Intermid3 = ConvBlock(16, 8, kernel_size = 21)\n",
    "        self.Classifier = nn.Sequential(\n",
    "            nn.Linear(8*40*40, 100),\n",
    "            nn.Linear(100, 5)\n",
    "        )\n",
    "        self.Pool = nn.MaxPool2d(2)\n",
    "        \n",
    "    def forward(self, X):\n",
    "        X = self.Encoder(X)\n",
    "        X = X.reshape(4, 1, 256, 256)\n",
    "        X = self.Intermid1(X)\n",
    "        X = self.Intermid2(X)\n",
    "        X = self.Pool(X)\n",
    "        X = self.Intermid3(X)\n",
    "        X = self.Pool(X)\n",
    "        X = X.view((4, -1))\n",
    "        X = self.Classifier(X)\n",
    "        return X    \n",
    "\n",
    "# Autoencoder = Autoencoder().double().to(device)"
   ]
  },
  {
   "cell_type": "code",
   "execution_count": 4,
   "metadata": {},
   "outputs": [
    {
     "data": {
      "text/plain": [
       "\u001b[1;31mInit signature:\u001b[0m\n",
       "\u001b[0mnn\u001b[0m\u001b[1;33m.\u001b[0m\u001b[0mMaxPool2d\u001b[0m\u001b[1;33m(\u001b[0m\u001b[1;33m\n",
       "\u001b[0m    \u001b[0mkernel_size\u001b[0m\u001b[1;33m,\u001b[0m\u001b[1;33m\n",
       "\u001b[0m    \u001b[0mstride\u001b[0m\u001b[1;33m=\u001b[0m\u001b[1;32mNone\u001b[0m\u001b[1;33m,\u001b[0m\u001b[1;33m\n",
       "\u001b[0m    \u001b[0mpadding\u001b[0m\u001b[1;33m=\u001b[0m\u001b[1;36m0\u001b[0m\u001b[1;33m,\u001b[0m\u001b[1;33m\n",
       "\u001b[0m    \u001b[0mdilation\u001b[0m\u001b[1;33m=\u001b[0m\u001b[1;36m1\u001b[0m\u001b[1;33m,\u001b[0m\u001b[1;33m\n",
       "\u001b[0m    \u001b[0mreturn_indices\u001b[0m\u001b[1;33m=\u001b[0m\u001b[1;32mFalse\u001b[0m\u001b[1;33m,\u001b[0m\u001b[1;33m\n",
       "\u001b[0m    \u001b[0mceil_mode\u001b[0m\u001b[1;33m=\u001b[0m\u001b[1;32mFalse\u001b[0m\u001b[1;33m,\u001b[0m\u001b[1;33m\n",
       "\u001b[0m\u001b[1;33m)\u001b[0m\u001b[1;33m\u001b[0m\u001b[1;33m\u001b[0m\u001b[0m\n",
       "\u001b[1;31mDocstring:\u001b[0m     \n",
       "Applies a 2D max pooling over an input signal composed of several input\n",
       "planes.\n",
       "\n",
       "In the simplest case, the output value of the layer with input size :math:`(N, C, H, W)`,\n",
       "output :math:`(N, C, H_{out}, W_{out})` and :attr:`kernel_size` :math:`(kH, kW)`\n",
       "can be precisely described as:\n",
       "\n",
       ".. math::\n",
       "    \\begin{aligned}\n",
       "        out(N_i, C_j, h, w) ={} & \\max_{m=0, \\ldots, kH-1} \\max_{n=0, \\ldots, kW-1} \\\\\n",
       "                                & \\text{input}(N_i, C_j, \\text{stride[0]} \\times h + m,\n",
       "                                               \\text{stride[1]} \\times w + n)\n",
       "    \\end{aligned}\n",
       "\n",
       "If :attr:`padding` is non-zero, then the input is implicitly zero-padded on both sides\n",
       "for :attr:`padding` number of points. :attr:`dilation` controls the spacing between the kernel points.\n",
       "It is harder to describe, but this `link`_ has a nice visualization of what :attr:`dilation` does.\n",
       "\n",
       "The parameters :attr:`kernel_size`, :attr:`stride`, :attr:`padding`, :attr:`dilation` can either be:\n",
       "\n",
       "    - a single ``int`` -- in which case the same value is used for the height and width dimension\n",
       "    - a ``tuple`` of two ints -- in which case, the first `int` is used for the height dimension,\n",
       "      and the second `int` for the width dimension\n",
       "\n",
       "Args:\n",
       "    kernel_size: the size of the window to take a max over\n",
       "    stride: the stride of the window. Default value is :attr:`kernel_size`\n",
       "    padding: implicit zero padding to be added on both sides\n",
       "    dilation: a parameter that controls the stride of elements in the window\n",
       "    return_indices: if ``True``, will return the max indices along with the outputs.\n",
       "                    Useful for :class:`torch.nn.MaxUnpool2d` later\n",
       "    ceil_mode: when True, will use `ceil` instead of `floor` to compute the output shape\n",
       "\n",
       "Shape:\n",
       "    - Input: :math:`(N, C, H_{in}, W_{in})`\n",
       "    - Output: :math:`(N, C, H_{out}, W_{out})`, where\n",
       "\n",
       "      .. math::\n",
       "          H_{out} = \\left\\lfloor\\frac{H_{in} + 2 * \\text{padding[0]} - \\text{dilation[0]}\n",
       "                \\times (\\text{kernel\\_size[0]} - 1) - 1}{\\text{stride[0]}} + 1\\right\\rfloor\n",
       "\n",
       "      .. math::\n",
       "          W_{out} = \\left\\lfloor\\frac{W_{in} + 2 * \\text{padding[1]} - \\text{dilation[1]}\n",
       "                \\times (\\text{kernel\\_size[1]} - 1) - 1}{\\text{stride[1]}} + 1\\right\\rfloor\n",
       "\n",
       "Examples::\n",
       "\n",
       "    >>> # pool of square window of size=3, stride=2\n",
       "    >>> m = nn.MaxPool2d(3, stride=2)\n",
       "    >>> # pool of non-square window\n",
       "    >>> m = nn.MaxPool2d((3, 2), stride=(2, 1))\n",
       "    >>> input = torch.randn(20, 16, 50, 32)\n",
       "    >>> output = m(input)\n",
       "\n",
       ".. _link:\n",
       "    https://github.com/vdumoulin/conv_arithmetic/blob/master/README.md\n",
       "\u001b[1;31mFile:\u001b[0m           c:\\users\\patrick\\anaconda3\\lib\\site-packages\\torch\\nn\\modules\\pooling.py\n",
       "\u001b[1;31mType:\u001b[0m           type\n",
       "\u001b[1;31mSubclasses:\u001b[0m     \n"
      ]
     },
     "metadata": {},
     "output_type": "display_data"
    }
   ],
   "source": [
    "nn.MaxPool2d?"
   ]
  },
  {
   "cell_type": "code",
   "execution_count": 3,
   "metadata": {},
   "outputs": [
    {
     "data": {
      "text/plain": [
       "640000"
      ]
     },
     "execution_count": 3,
     "metadata": {},
     "output_type": "execute_result"
    }
   ],
   "source": [
    "16*200*200"
   ]
  },
  {
   "cell_type": "code",
   "execution_count": 38,
   "metadata": {
    "collapsed": true,
    "jupyter": {
     "outputs_hidden": true
    }
   },
   "outputs": [
    {
     "name": "stdout",
     "output_type": "stream",
     "text": [
      "Epoch 0/9\n",
      "----------\n",
      "train Loss: 0.3644\n",
      "val Loss: 0.0751\n",
      "\n",
      "Epoch 1/9\n",
      "----------\n",
      "train Loss: 0.2846\n",
      "val Loss: 0.0548\n",
      "\n",
      "Epoch 2/9\n",
      "----------\n",
      "train Loss: 0.2751\n",
      "val Loss: 0.0515\n",
      "\n",
      "Epoch 3/9\n",
      "----------\n",
      "train Loss: 0.2730\n",
      "val Loss: 0.0569\n",
      "\n",
      "Epoch 4/9\n",
      "----------\n",
      "train Loss: 0.2720\n",
      "val Loss: 0.0492\n",
      "\n",
      "Epoch 5/9\n",
      "----------\n",
      "train Loss: 0.2710\n",
      "val Loss: 0.0482\n",
      "\n",
      "Epoch 6/9\n",
      "----------\n",
      "train Loss: 0.2704\n",
      "val Loss: 0.0477\n",
      "\n",
      "Epoch 7/9\n",
      "----------\n",
      "train Loss: 0.2699\n",
      "val Loss: 0.0478\n",
      "\n",
      "Epoch 8/9\n",
      "----------\n",
      "train Loss: 0.2699\n",
      "val Loss: 0.0543\n",
      "\n",
      "Epoch 9/9\n",
      "----------\n",
      "train Loss: 0.2698\n",
      "val Loss: 0.0511\n",
      "\n",
      "Training complete in 1m 53s\n",
      "Best val Loss: 0.047683\n"
     ]
    }
   ],
   "source": [
    "criterion = nn.MSELoss()\n",
    "Autoencoder, stats, bestLoss = train(Autoencoder, dataloaders, criterion, optimizer, scheduler, device,\n",
    "                         num_epochs = 10)"
   ]
  },
  {
   "cell_type": "code",
   "execution_count": 15,
   "metadata": {},
   "outputs": [
    {
     "data": {
      "image/png": "[encoded data removed]",
      "text/plain": [
       "<Figure size 1080x1080 with 1 Axes>"
      ]
     },
     "metadata": {
      "needs_background": "light"
     },
     "output_type": "display_data"
    }
   ],
   "source": [
    "exemplo = iter(dataloaders['train']).next()['series']\n",
    "stage = iter(dataloaders['train']).next()['class']\n",
    "dataVisualization(exemplo[0])\n",
    "# dataVisualization(Autoencoder(exemplo.to(device))[0].cpu().detach().numpy())"
   ]
  },
  {
   "cell_type": "code",
   "execution_count": 5,
   "metadata": {},
   "outputs": [],
   "source": [
    "model = MergedModel().double().to(device)\n",
    "optimizer = optim.Adam(model.parameters(), lr = 0.001)\n",
    "scheduler = optim.lr_scheduler.StepLR(optimizer, step_size = 7, gamma = 0.1)"
   ]
  },
  {
   "cell_type": "code",
   "execution_count": 6,
   "metadata": {},
   "outputs": [
    {
     "name": "stdout",
     "output_type": "stream",
     "text": [
      "Epoch 0/9\n",
      "----------\n"
     ]
    },
    {
     "ename": "RuntimeError",
     "evalue": "CUDA out of memory. Tried to allocate 490.00 MiB (GPU 0; 4.00 GiB total capacity; 2.39 GiB already allocated; 358.15 MiB free; 22.59 MiB cached)",
     "output_type": "error",
     "traceback": [
      "\u001b[1;31m---------------------------------------------------------------------------\u001b[0m",
      "\u001b[1;31mRuntimeError\u001b[0m                              Traceback (most recent call last)",
      "\u001b[1;32m<ipython-input-6-68b4e60b7948>\u001b[0m in \u001b[0;36m<module>\u001b[1;34m\u001b[0m\n\u001b[0;32m      1\u001b[0m \u001b[0mcriterion\u001b[0m \u001b[1;33m=\u001b[0m \u001b[0mnn\u001b[0m\u001b[1;33m.\u001b[0m\u001b[0mCrossEntropyLoss\u001b[0m\u001b[1;33m(\u001b[0m\u001b[1;33m)\u001b[0m\u001b[1;33m\u001b[0m\u001b[1;33m\u001b[0m\u001b[0m\n\u001b[0;32m      2\u001b[0m model, stats, bestLoss = train(model, dataloaders, criterion, optimizer, scheduler, device,\n\u001b[1;32m----> 3\u001b[1;33m                          num_epochs = 10, temp = 1)\n\u001b[0m",
      "\u001b[1;32m<ipython-input-3-39f1a3dcfd39>\u001b[0m in \u001b[0;36mtrain\u001b[1;34m(model, dataloaders, criterion, optimizer, scheduler, device, num_epochs, learningRate, temp)\u001b[0m\n\u001b[0;32m     40\u001b[0m                     \u001b[1;32mif\u001b[0m \u001b[0mphase\u001b[0m \u001b[1;33m==\u001b[0m \u001b[1;34m'train'\u001b[0m\u001b[1;33m:\u001b[0m\u001b[1;33m\u001b[0m\u001b[1;33m\u001b[0m\u001b[0m\n\u001b[0;32m     41\u001b[0m                         \u001b[0mloss\u001b[0m\u001b[1;33m.\u001b[0m\u001b[0mbackward\u001b[0m\u001b[1;33m(\u001b[0m\u001b[1;33m)\u001b[0m\u001b[1;33m\u001b[0m\u001b[1;33m\u001b[0m\u001b[0m\n\u001b[1;32m---> 42\u001b[1;33m                         \u001b[0moptimizer\u001b[0m\u001b[1;33m.\u001b[0m\u001b[0mstep\u001b[0m\u001b[1;33m(\u001b[0m\u001b[1;33m)\u001b[0m\u001b[1;33m\u001b[0m\u001b[1;33m\u001b[0m\u001b[0m\n\u001b[0m\u001b[0;32m     43\u001b[0m \u001b[1;33m\u001b[0m\u001b[0m\n\u001b[0;32m     44\u001b[0m                 \u001b[0mrunningLoss\u001b[0m \u001b[1;33m+=\u001b[0m \u001b[0mloss\u001b[0m\u001b[1;33m.\u001b[0m\u001b[0mitem\u001b[0m\u001b[1;33m(\u001b[0m\u001b[1;33m)\u001b[0m \u001b[1;33m*\u001b[0m \u001b[0minputs\u001b[0m\u001b[1;33m.\u001b[0m\u001b[0msize\u001b[0m\u001b[1;33m(\u001b[0m\u001b[1;36m0\u001b[0m\u001b[1;33m)\u001b[0m\u001b[1;33m\u001b[0m\u001b[1;33m\u001b[0m\u001b[0m\n",
      "\u001b[1;32m~\\Anaconda3\\lib\\site-packages\\torch\\optim\\lr_scheduler.py\u001b[0m in \u001b[0;36mwrapper\u001b[1;34m(*args, **kwargs)\u001b[0m\n\u001b[0;32m     34\u001b[0m             \u001b[1;32mdef\u001b[0m \u001b[0mwrapper\u001b[0m\u001b[1;33m(\u001b[0m\u001b[1;33m*\u001b[0m\u001b[0margs\u001b[0m\u001b[1;33m,\u001b[0m \u001b[1;33m**\u001b[0m\u001b[0mkwargs\u001b[0m\u001b[1;33m)\u001b[0m\u001b[1;33m:\u001b[0m\u001b[1;33m\u001b[0m\u001b[1;33m\u001b[0m\u001b[0m\n\u001b[0;32m     35\u001b[0m                 \u001b[0mopt\u001b[0m\u001b[1;33m.\u001b[0m\u001b[0m_step_count\u001b[0m \u001b[1;33m+=\u001b[0m \u001b[1;36m1\u001b[0m\u001b[1;33m\u001b[0m\u001b[1;33m\u001b[0m\u001b[0m\n\u001b[1;32m---> 36\u001b[1;33m                 \u001b[1;32mreturn\u001b[0m \u001b[0mfunc\u001b[0m\u001b[1;33m(\u001b[0m\u001b[1;33m*\u001b[0m\u001b[0margs\u001b[0m\u001b[1;33m,\u001b[0m \u001b[1;33m**\u001b[0m\u001b[0mkwargs\u001b[0m\u001b[1;33m)\u001b[0m\u001b[1;33m\u001b[0m\u001b[1;33m\u001b[0m\u001b[0m\n\u001b[0m\u001b[0;32m     37\u001b[0m             \u001b[0mwrapper\u001b[0m\u001b[1;33m.\u001b[0m\u001b[0m_with_counter\u001b[0m \u001b[1;33m=\u001b[0m \u001b[1;32mTrue\u001b[0m\u001b[1;33m\u001b[0m\u001b[1;33m\u001b[0m\u001b[0m\n\u001b[0;32m     38\u001b[0m             \u001b[1;32mreturn\u001b[0m \u001b[0mwrapper\u001b[0m\u001b[1;33m\u001b[0m\u001b[1;33m\u001b[0m\u001b[0m\n",
      "\u001b[1;32m~\\Anaconda3\\lib\\site-packages\\torch\\optim\\adam.py\u001b[0m in \u001b[0;36mstep\u001b[1;34m(self, closure)\u001b[0m\n\u001b[0;32m     99\u001b[0m                     \u001b[0mdenom\u001b[0m \u001b[1;33m=\u001b[0m \u001b[0mmax_exp_avg_sq\u001b[0m\u001b[1;33m.\u001b[0m\u001b[0msqrt\u001b[0m\u001b[1;33m(\u001b[0m\u001b[1;33m)\u001b[0m\u001b[1;33m.\u001b[0m\u001b[0madd_\u001b[0m\u001b[1;33m(\u001b[0m\u001b[0mgroup\u001b[0m\u001b[1;33m[\u001b[0m\u001b[1;34m'eps'\u001b[0m\u001b[1;33m]\u001b[0m\u001b[1;33m)\u001b[0m\u001b[1;33m\u001b[0m\u001b[1;33m\u001b[0m\u001b[0m\n\u001b[0;32m    100\u001b[0m                 \u001b[1;32melse\u001b[0m\u001b[1;33m:\u001b[0m\u001b[1;33m\u001b[0m\u001b[1;33m\u001b[0m\u001b[0m\n\u001b[1;32m--> 101\u001b[1;33m                     \u001b[0mdenom\u001b[0m \u001b[1;33m=\u001b[0m \u001b[0mexp_avg_sq\u001b[0m\u001b[1;33m.\u001b[0m\u001b[0msqrt\u001b[0m\u001b[1;33m(\u001b[0m\u001b[1;33m)\u001b[0m\u001b[1;33m.\u001b[0m\u001b[0madd_\u001b[0m\u001b[1;33m(\u001b[0m\u001b[0mgroup\u001b[0m\u001b[1;33m[\u001b[0m\u001b[1;34m'eps'\u001b[0m\u001b[1;33m]\u001b[0m\u001b[1;33m)\u001b[0m\u001b[1;33m\u001b[0m\u001b[1;33m\u001b[0m\u001b[0m\n\u001b[0m\u001b[0;32m    102\u001b[0m \u001b[1;33m\u001b[0m\u001b[0m\n\u001b[0;32m    103\u001b[0m                 \u001b[0mbias_correction1\u001b[0m \u001b[1;33m=\u001b[0m \u001b[1;36m1\u001b[0m \u001b[1;33m-\u001b[0m \u001b[0mbeta1\u001b[0m \u001b[1;33m**\u001b[0m \u001b[0mstate\u001b[0m\u001b[1;33m[\u001b[0m\u001b[1;34m'step'\u001b[0m\u001b[1;33m]\u001b[0m\u001b[1;33m\u001b[0m\u001b[1;33m\u001b[0m\u001b[0m\n",
      "\u001b[1;31mRuntimeError\u001b[0m: CUDA out of memory. Tried to allocate 490.00 MiB (GPU 0; 4.00 GiB total capacity; 2.39 GiB already allocated; 358.15 MiB free; 22.59 MiB cached)"
     ]
    }
   ],
   "source": [
    "criterion = nn.CrossEntropyLoss()\n",
    "model, stats, bestLoss = train(model, dataloaders, criterion, optimizer, scheduler, device,\n",
    "                         num_epochs = 10, temp = 1)"
   ]
  },
  {
   "cell_type": "markdown",
   "metadata": {},
   "source": [
    "***"
   ]
  },
  {
   "cell_type": "code",
   "execution_count": 6,
   "metadata": {},
   "outputs": [
    {
     "data": {
      "text/plain": [
       "80"
      ]
     },
     "execution_count": 6,
     "metadata": {},
     "output_type": "execute_result"
    }
   ],
   "source": [
    "ConvArithSelect('R5', i = 100, k = 21, s = 1)"
   ]
  },
  {
   "cell_type": "code",
   "execution_count": 26,
   "metadata": {},
   "outputs": [
    {
     "data": {
      "text/plain": [
       "436"
      ]
     },
     "execution_count": 26,
     "metadata": {},
     "output_type": "execute_result"
    }
   ],
   "source": [
    "ConvArithSelect('R5', i = 512, k = 77, s = 1)"
   ]
  },
  {
   "cell_type": "code",
   "execution_count": 8,
   "metadata": {},
   "outputs": [],
   "source": [
    "n = 13"
   ]
  },
  {
   "cell_type": "code",
   "execution_count": 9,
   "metadata": {
    "collapsed": true,
    "jupyter": {
     "outputs_hidden": true
    }
   },
   "outputs": [
    {
     "name": "stdout",
     "output_type": "stream",
     "text": [
      "Directory Models\\Autoencoders\\ImageGeneration loaded successfully.\n",
      "Epoch 0/9\n",
      "----------\n",
      "train Loss: 0.0801\n",
      "val Loss: 0.0365\n",
      "\n",
      "Epoch 1/9\n",
      "----------\n",
      "train Loss: 0.0367\n",
      "val Loss: 0.0363\n",
      "\n",
      "Epoch 2/9\n",
      "----------\n",
      "train Loss: 0.0346\n",
      "val Loss: 0.0319\n",
      "\n",
      "Epoch 3/9\n",
      "----------\n",
      "train Loss: 0.0288\n",
      "val Loss: 0.0267\n",
      "\n",
      "Epoch 4/9\n",
      "----------\n",
      "train Loss: 0.0271\n",
      "val Loss: 0.0259\n",
      "\n",
      "Epoch 5/9\n",
      "----------\n",
      "train Loss: 0.0266\n",
      "val Loss: 0.0255\n",
      "\n",
      "Epoch 6/9\n",
      "----------\n",
      "train Loss: 0.0241\n",
      "val Loss: 0.0238\n",
      "\n",
      "Epoch 7/9\n",
      "----------\n",
      "train Loss: 0.0232\n",
      "val Loss: 0.0237\n",
      "\n",
      "Epoch 8/9\n",
      "----------\n",
      "train Loss: 0.0233\n",
      "val Loss: 0.0234\n",
      "\n",
      "Epoch 9/9\n",
      "----------\n",
      "train Loss: 0.0230\n",
      "val Loss: 0.0235\n",
      "\n",
      "Training complete in 14m 32s\n",
      "Best val Loss: 0.023418\n"
     ]
    }
   ],
   "source": [
    "n = n + 1\n",
    "modelPath = path('Models\\\\Autoencoders\\\\ImageGeneration')\n",
    "modelName = 'Autoencoder'+str(n)\n",
    "file = open(modelPath/modelName+\".txt\", 'w')\n",
    "\n",
    "model, stats, bestLoss = train(model, dataloaders, criterion, optimizer, scheduler, device,\n",
    "                         num_epochs = 10)\n",
    "\n",
    "file.write(str(model)+\"\\n\\n\")\n",
    "file.write(\"Best Val Loss:{}\\n\\n\".format(bestLoss))\n",
    "file.write(\"Training Loss: {}\\n\\n\".format(stats[0]))\n",
    "file.write(\"Validation Loss: {}\\n\\n\".format(stats[1]))\n",
    "file.close()"
   ]
  }
 ],
 "metadata": {
  "kernelspec": {
   "display_name": "Python 3",
   "language": "python",
   "name": "python3"
  },
  "language_info": {
   "codemirror_mode": {
    "name": "ipython",
    "version": 3
   },
   "file_extension": ".py",
   "mimetype": "text/x-python",
   "name": "python",
   "nbconvert_exporter": "python",
   "pygments_lexer": "ipython3",
   "version": "3.7.6"
  }
 },
 "nbformat": 4,
 "nbformat_minor": 4
}
