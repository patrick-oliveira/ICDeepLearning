{
 "cells": [
  {
   "cell_type": "code",
   "execution_count": 1,
   "metadata": {},
   "outputs": [],
   "source": [
    "# %run \"Scripts/dataprep.py\"\n",
    "%load_ext autoreload\n",
    "%autoreload 2\n",
    "import sys\n",
    "sys.path.append('Scripts')\n",
    "\n",
    "import torch\n",
    "import torch.nn as nn\n",
    "import torch.optim as optim\n",
    "import torch.nn.functional as F\n",
    "from torchvision import transforms, utils, models\n",
    "from torch.utils.data import Dataset, DataLoader\n",
    "\n",
    "import pandas as pd\n",
    "import matplotlib.pyplot as plt\n",
    "import numpy as np\n",
    "\n",
    "from utils import *\n",
    "from SSVEPDataset import SSVEPDataset\n",
    "from classes import *\n",
    "from SSVEPDataloader import *\n",
    "\n",
    "from sklearn import preprocessing\n",
    "import os\n",
    "import time\n",
    "import copy\n",
    "from functools import partial\n",
    "\n",
    "def read_data(dataframe):\n",
    "    return torch.tensor(pd.read_csv(dataframe['path'], names = range(1, 16+1), dtype = float).values)\n",
    "\n",
    "def dataVisualization(X):\n",
    "    X = X.squeeze().T\n",
    "    \n",
    "    fig = plt.figure(figsize = (15, 15))\n",
    "    ax = fig.add_subplot()\n",
    "    ax.imshow(X, cmap = 'gray')"
   ]
  },
  {
   "cell_type": "code",
   "execution_count": 2,
   "metadata": {},
   "outputs": [],
   "source": [
    "dataType = '512'\n",
    "data = pd.read_csv('SSVEPDataset_'+dataType+'.csv')\n",
    "dataset = SSVEPDataset(data)\n",
    "\n",
    "batchSize = 16\n",
    "dataloaders, datasetsSizes = SSVEPDataloaders(dataset, batchSize)\n",
    "# example = next(iter(dataloaders['train']))['series']\n",
    "\n",
    "device = torch.device(\"cuda:0\" if (torch.cuda.is_available()) else \"cpu\")\n",
    "# device = 'cpu'"
   ]
  },
  {
   "cell_type": "code",
   "execution_count": 3,
   "metadata": {},
   "outputs": [],
   "source": [
    "class Autoencoder(nn.Module):\n",
    "    def __init__(self,):\n",
    "        super(Autoencoder, self).__init__()\n",
    "        \n",
    "        self.encoder = nn.Sequential(\n",
    "            ConvBlock(1, 16, kernel_size = (257, 1))\n",
    "        )\n",
    "        self.decoder = nn.Sequential(\n",
    "            DeconvBlock(16, 1, kernel_size = (257, 1)),\n",
    "        )\n",
    "        \n",
    "    def forward(self, X):\n",
    "        X = self.encoder(X)\n",
    "        X = self.decoder(X)\n",
    "        return X\n",
    "\n",
    "    \n",
    "class MergedModel(nn.Module):\n",
    "    def __init__(self, Encoder, Classifier):\n",
    "        super(MergedModel, self).__init__()\n",
    "        self.Encoder = Encoder\n",
    "        self.Temp = nn.Conv2d(1, 3, kernel_size = 11, padding = 11//2).double()\n",
    "        self.Classifier = Classifier.double()\n",
    "        \n",
    "    def forward(self, X):\n",
    "        X = self.Encoder(X)\n",
    "        X = X.reshape((X.shape[1], 1, 256, 256))\n",
    "        X = self.Temp(X)\n",
    "        X = self.Classifier(X)\n",
    "        return X    \n",
    "\n",
    "Autoencoder = Autoencoder().double().to(device)"
   ]
  },
  {
   "cell_type": "code",
   "execution_count": 4,
   "metadata": {},
   "outputs": [],
   "source": [
    "optimizer = optim.Adam(Autoencoder.parameters(), lr = 0.01)\n",
    "scheduler = optim.lr_scheduler.StepLR(optimizer, step_size = 7, gamma = 0.1)"
   ]
  },
  {
   "cell_type": "code",
   "execution_count": null,
   "metadata": {},
   "outputs": [],
   "source": [
    "criterion = nn.MSELoss()\n",
    "Autoencoder, stats, bestLoss = train(Autoencoder, dataloaders, criterion, optimizer, scheduler, device,\n",
    "                         num_epochs = 10)"
   ]
  },
  {
   "cell_type": "code",
   "execution_count": 7,
   "metadata": {},
   "outputs": [
    {
     "data": {
      "text/plain": [
       "tensor([[[[0.0000, 0.0000, 0.0096,  ..., 0.0129, 0.0099, 0.0000],\n",
       "          [0.0000, 0.0000, 0.0000,  ..., 0.0000, 0.0000, 0.0000],\n",
       "          [0.0334, 0.0441, 0.0278,  ..., 0.0292, 0.0332, 0.0000],\n",
       "          ...,\n",
       "          [0.0217, 0.0320, 0.0133,  ..., 0.0180, 0.0148, 0.4011],\n",
       "          [0.0143, 0.0174, 0.0024,  ..., 0.0054, 0.0026, 0.0000],\n",
       "          [0.0151, 0.0185, 0.0119,  ..., 0.0152, 0.0147, 0.0000]]],\n",
       "\n",
       "\n",
       "        [[[0.0000, 0.0000, 0.0000,  ..., 0.0000, 0.0000, 0.0000],\n",
       "          [0.0000, 0.0000, 0.0000,  ..., 0.0000, 0.0000, 0.0000],\n",
       "          [0.0000, 0.1362, 0.1367,  ..., 0.1258, 0.1252, 0.1246],\n",
       "          ...,\n",
       "          [0.1266, 0.1296, 0.1297,  ..., 0.1299, 0.1299, 0.1307],\n",
       "          [0.0487, 0.0493, 0.0491,  ..., 0.0496, 0.0498, 0.0499],\n",
       "          [0.0045, 0.0045, 0.0043,  ..., 0.0046, 0.0048, 0.0045]]],\n",
       "\n",
       "\n",
       "        [[[0.0142, 0.0050, 0.0066,  ..., 0.0000, 0.0000, 0.0000],\n",
       "          [0.0000, 0.0000, 0.0000,  ..., 0.0000, 0.0000, 0.0000],\n",
       "          [0.0000, 0.0000, 0.0000,  ..., 0.0000, 0.0000, 0.0000],\n",
       "          ...,\n",
       "          [0.0000, 0.0138, 0.0000,  ..., 0.0361, 0.0310, 0.5324],\n",
       "          [0.0013, 0.0071, 0.0000,  ..., 0.0207, 0.0233, 0.2280],\n",
       "          [0.0052, 0.0000, 0.0000,  ..., 0.0073, 0.0099, 0.0930]]],\n",
       "\n",
       "\n",
       "        [[[0.0000, 0.0000, 0.0000,  ..., 0.0000, 0.0000, 0.0000],\n",
       "          [0.0000, 0.0000, 0.0000,  ..., 0.0000, 0.0000, 0.0000],\n",
       "          [0.1624, 0.1679, 0.1450,  ..., 0.0000, 0.0000, 0.0000],\n",
       "          ...,\n",
       "          [0.0000, 0.1718, 0.1542,  ..., 0.4437, 0.1356, 0.3313],\n",
       "          [0.0000, 0.1107, 0.0415,  ..., 0.1767, 0.0000, 0.1706],\n",
       "          [0.0000, 0.0988, 0.0611,  ..., 0.0283, 0.0000, 0.1076]]]],\n",
       "       device='cuda:0', dtype=torch.float64, grad_fn=<ReluBackward1>)"
      ]
     },
     "execution_count": 7,
     "metadata": {},
     "output_type": "execute_result"
    }
   ],
   "source": [
    "Autoencoder(exemplo.to(device))"
   ]
  },
  {
   "cell_type": "code",
   "execution_count": 6,
   "metadata": {},
   "outputs": [
    {
     "data": {
      "image/png": "[encoded data removed]",
      "text/plain": [
       "<Figure size 1080x1080 with 1 Axes>"
      ]
     },
     "metadata": {
      "needs_background": "light"
     },
     "output_type": "display_data"
    },
    {
     "data": {
      "image/png": "[encoded data removed]",
      "text/plain": [
       "<Figure size 1080x1080 with 1 Axes>"
      ]
     },
     "metadata": {
      "needs_background": "light"
     },
     "output_type": "display_data"
    }
   ],
   "source": [
    "exemplo = iter(dataloaders['train']).next()['series']\n",
    "stage = iter(dataloaders['train']).next()['class']\n",
    "dataVisualization(exemplo[0])\n",
    "dataVisualization(Autoencoder(exemplo.to(device))[0].cpu().detach().numpy())"
   ]
  },
  {
   "cell_type": "code",
   "execution_count": 5,
   "metadata": {},
   "outputs": [],
   "source": [
    "Encoder = Autoencoder.encoder\n",
    "Classifier = models.resnet18(pretrained = True)\n",
    "Classifier.fc = nn.Linear(512, 5)\n",
    "\n",
    "model = MergedModel(Encoder, Classifier).to(device)"
   ]
  },
  {
   "cell_type": "code",
   "execution_count": null,
   "metadata": {},
   "outputs": [],
   "source": [
    "criterion = nn.MSELoss()\n",
    "model, stats, bestLoss = train(model, dataloaders, criterion, optimizer, scheduler, device,\n",
    "                         num_epochs = 10, temp = 1)"
   ]
  },
  {
   "cell_type": "markdown",
   "metadata": {},
   "source": [
    "***"
   ]
  },
  {
   "cell_type": "code",
   "execution_count": 9,
   "metadata": {},
   "outputs": [
    {
     "data": {
      "text/plain": [
       "252"
      ]
     },
     "execution_count": 9,
     "metadata": {},
     "output_type": "execute_result"
    }
   ],
   "source": [
    "ConvArithSelect('R5', i = 256, k = 5, s = 1)"
   ]
  },
  {
   "cell_type": "code",
   "execution_count": 26,
   "metadata": {},
   "outputs": [
    {
     "data": {
      "text/plain": [
       "436"
      ]
     },
     "execution_count": 26,
     "metadata": {},
     "output_type": "execute_result"
    }
   ],
   "source": [
    "ConvArithSelect('R5', i = 512, k = 77, s = 1)"
   ]
  },
  {
   "cell_type": "code",
   "execution_count": 7,
   "metadata": {},
   "outputs": [],
   "source": [
    "# ** Training algorithms\n",
    "\n",
    "def train(model, dataloaders, criterion, optimizer, scheduler, device,\n",
    "          num_epochs = 25, learningRate = 1e-3, temp = 0):\n",
    "    since = time.time()\n",
    "    bestModel = copy.deepcopy(model.state_dict())\n",
    "    bestLoss = np.inf\n",
    "    \n",
    "    trainLoss = []\n",
    "    validLoss = []\n",
    "    \n",
    "    for epoch in range(num_epochs):\n",
    "        print('Epoch {}/{}'.format(epoch, num_epochs - 1))\n",
    "        print('-' * 10)\n",
    "        \n",
    "        # Each epoch has a training and a validation phase\n",
    "        for phase in ['train', 'val']:\n",
    "            if phase == 'train':\n",
    "                model.train()\n",
    "            else:\n",
    "                model.eval()\n",
    "                \n",
    "            runningLoss = 0.0\n",
    "            runningCorrects = 0\n",
    "            \n",
    "            for sample in dataloaders[phase]:\n",
    "                inputs = sample['series'].to(device)\n",
    "                labels = sample['class'].to(device)\n",
    "                \n",
    "                optimizer.zero_grad()\n",
    "                \n",
    "                with torch.set_grad_enabled(phase == 'train'):\n",
    "                    outputs = model(inputs)\n",
    "                    if temp == 0:\n",
    "                        loss = criterion(outputs, inputs)\n",
    "                    else:\n",
    "                        _, preds = torch.max(outputs, 1)\n",
    "                        loss = criterion(outputs, labels.double())\n",
    "                    \n",
    "                    \n",
    "                    if phase == 'train':\n",
    "                        loss.backward()\n",
    "                        optimizer.step()\n",
    "                        \n",
    "                runningLoss += loss.item() * inputs.size(0)\n",
    "            if phase == 'train':\n",
    "                scheduler.step()\n",
    "                \n",
    "            epochLoss = runningLoss/datasetsSizes[phase]\n",
    "            \n",
    "            if phase == 'train':\n",
    "                trainLoss.append(epochLoss)\n",
    "            else:\n",
    "                validLoss.append(epochLoss)\n",
    "            \n",
    "            print('{} Loss: {:.4f}'.format(phase, epochLoss))\n",
    "            \n",
    "            if phase == 'val' and epochLoss < bestLoss:\n",
    "                bestLoss = epochLoss\n",
    "                bestModel = copy.deepcopy(model.state_dict())\n",
    "                \n",
    "        print()\n",
    "        \n",
    "    time_elapsed = time.time() - since\n",
    "    print('Training complete in {:.0f}m {:.0f}s'.format(time_elapsed // 60, time_elapsed % 60))\n",
    "    print('Best val Loss: {:4f}'.format(bestLoss))\n",
    "    \n",
    "    model.load_state_dict(bestModel)\n",
    "    return model, [trainLoss, validLoss], bestLoss"
   ]
  },
  {
   "cell_type": "code",
   "execution_count": 8,
   "metadata": {},
   "outputs": [],
   "source": [
    "n = 13"
   ]
  },
  {
   "cell_type": "code",
   "execution_count": 9,
   "metadata": {
    "collapsed": true,
    "jupyter": {
     "outputs_hidden": true
    }
   },
   "outputs": [
    {
     "name": "stdout",
     "output_type": "stream",
     "text": [
      "Directory Models\\Autoencoders\\ImageGeneration loaded successfully.\n",
      "Epoch 0/9\n",
      "----------\n",
      "train Loss: 0.0801\n",
      "val Loss: 0.0365\n",
      "\n",
      "Epoch 1/9\n",
      "----------\n",
      "train Loss: 0.0367\n",
      "val Loss: 0.0363\n",
      "\n",
      "Epoch 2/9\n",
      "----------\n",
      "train Loss: 0.0346\n",
      "val Loss: 0.0319\n",
      "\n",
      "Epoch 3/9\n",
      "----------\n",
      "train Loss: 0.0288\n",
      "val Loss: 0.0267\n",
      "\n",
      "Epoch 4/9\n",
      "----------\n",
      "train Loss: 0.0271\n",
      "val Loss: 0.0259\n",
      "\n",
      "Epoch 5/9\n",
      "----------\n",
      "train Loss: 0.0266\n",
      "val Loss: 0.0255\n",
      "\n",
      "Epoch 6/9\n",
      "----------\n",
      "train Loss: 0.0241\n",
      "val Loss: 0.0238\n",
      "\n",
      "Epoch 7/9\n",
      "----------\n",
      "train Loss: 0.0232\n",
      "val Loss: 0.0237\n",
      "\n",
      "Epoch 8/9\n",
      "----------\n",
      "train Loss: 0.0233\n",
      "val Loss: 0.0234\n",
      "\n",
      "Epoch 9/9\n",
      "----------\n",
      "train Loss: 0.0230\n",
      "val Loss: 0.0235\n",
      "\n",
      "Training complete in 14m 32s\n",
      "Best val Loss: 0.023418\n"
     ]
    }
   ],
   "source": [
    "n = n + 1\n",
    "modelPath = path('Models\\\\Autoencoders\\\\ImageGeneration')\n",
    "modelName = 'Autoencoder'+str(n)\n",
    "file = open(modelPath/modelName+\".txt\", 'w')\n",
    "\n",
    "model, stats, bestLoss = train(model, dataloaders, criterion, optimizer, scheduler, device,\n",
    "                         num_epochs = 10)\n",
    "\n",
    "file.write(str(model)+\"\\n\\n\")\n",
    "file.write(\"Best Val Loss:{}\\n\\n\".format(bestLoss))\n",
    "file.write(\"Training Loss: {}\\n\\n\".format(stats[0]))\n",
    "file.write(\"Validation Loss: {}\\n\\n\".format(stats[1]))\n",
    "file.close()"
   ]
  }
 ],
 "metadata": {
  "kernelspec": {
   "display_name": "Python 3",
   "language": "python",
   "name": "python3"
  },
  "language_info": {
   "codemirror_mode": {
    "name": "ipython",
    "version": 3
   },
   "file_extension": ".py",
   "mimetype": "text/x-python",
   "name": "python",
   "nbconvert_exporter": "python",
   "pygments_lexer": "ipython3",
   "version": "3.7.6"
  }
 },
 "nbformat": 4,
 "nbformat_minor": 4
}
