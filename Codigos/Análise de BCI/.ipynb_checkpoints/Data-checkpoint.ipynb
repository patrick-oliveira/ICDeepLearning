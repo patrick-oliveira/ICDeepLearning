{
 "cells": [
  {
   "cell_type": "code",
   "execution_count": 2,
   "metadata": {},
   "outputs": [],
   "source": [
    "import sys\n",
    "sys.path.append('Scripts')\n",
    "sys.path.append('C:\\\\Users\\\\Patrick\\\\Documents\\\\GitHub\\\\BCI_ssvep_dataset')\n",
    "import os\n",
    "\n",
    "from utils import path\n",
    "from dsloader import *\n",
    "import pandas as pd\n",
    "import numpy as np"
   ]
  },
  {
   "cell_type": "code",
   "execution_count": null,
   "metadata": {},
   "outputs": [],
   "source": [
    "RawDataPath = path(\"C:\\\\Users\\\\Patrick\\\\Documents\\\\GitHub\\\\BCI_ssvep_dataset\\\\wcar_dataset\")\n",
    "files = os.listdir(RawDataPath())\n",
    "data1 = get_data_from_file(RawDataPath()+'\\\\'+files[0])\n",
    "# BackupRawDataPath = path('C:\\\\Users\\\\Patrick\\\\Documents\\\\GitHub\\\\ICDeepLearning\\\\Data\\\\Backup\\\\Originais\\\\512\\\\06469920170608')\n",
    "# data2 = pd.read_csv(BackupRawDataPath()+\"\\\\1\\\\full.csv\")\n",
    "data1"
   ]
  },
  {
   "cell_type": "code",
   "execution_count": 13,
   "metadata": {},
   "outputs": [],
   "source": [
    "split = {\n",
    "    '256':1,\n",
    "    '512':2,\n",
    "    '768':3\n",
    "}\n",
    "s = 256\n",
    "\n",
    "RawDataPath = path(\"C:\\\\Users\\\\Patrick\\\\Documents\\\\GitHub\\\\BCI_ssvep_dataset\\\\wcar_dataset\")\n",
    "DataPath = path('C:\\\\Users\\\\Patrick\\\\Documents\\\\GitHub\\\\ICDeepLearning\\\\Data\\\\Originais_WCAR\\\\'+str(s))\n",
    "\n",
    "Subjects = set()\n",
    "Stages = ['1', '2', '3', '4', '5']\n",
    "RawDataFiles = os.listdir(RawDataPath())\n",
    "for filename in RawDataFiles:\n",
    "    Subjects.add(filename[11:25])\n",
    "    \n",
    "for subjectName in Subjects:\n",
    "    os.mkdir(DataPath/subjectName)\n",
    "    for i in Stages:\n",
    "        os.mkdir(DataPath/subjectName+\"//\"+i)\n",
    "                \n",
    "for file in RawDataFiles:\n",
    "    filename = file[11:25]\n",
    "    stage = file[-5]\n",
    "    outputPath = DataPath()+\"\\\\\"+filename+\"\\\\\"+stage\n",
    "    \n",
    "    data = get_data_from_file(RawDataPath()+'\\\\'+file)\n",
    "    splittedData = get_splitted_dataset(data[0], split[str(s)])\n",
    "    k = len(splittedData)\n",
    "    \n",
    "    for i, data in zip(range(1, k), splittedData[:-1]):\n",
    "        data.to_csv(outputPath+\"\\\\\"+str(i)+\".csv\", sep = ',', header = False, index = False)\n",
    "        \n",
    "    if len(splittedData[-1]) == s:\n",
    "        splittedData[-1].to_csv(outputPath+\"\\\\\"+str(i + 1)+\".csv\", header = False, index=  False)"
   ]
  },
  {
   "cell_type": "code",
   "execution_count": 3,
   "metadata": {},
   "outputs": [],
   "source": [
    "split = {\n",
    "    '256':1,\n",
    "    '512':2,\n",
    "    '768':3\n",
    "}\n",
    "s = str(256)\n",
    "cols = ['Cz', 'Oz']\n",
    "\n",
    "dataset1 = get_dataset(path='C:\\\\Users\\\\Patrick\\\\Documents\\\\GitHub\\\\BCI_ssvep_dataset\\\\dataset', cols = cols, export_to_file=False, filename='cz-oz.txt', n_seconds_split = split[s])\n",
    "# temp = pd.DataFrame(columns = ['subject', 'state', 'path'])\n",
    "\n",
    "# for state in [1, 2, 3, 4, 5]:\n",
    "#     df = dataset1[dataset1['class'] == state].reset_index()\n",
    "#     path = 'C:\\\\Users\\\\Patrick\\\\Documents\\\\GitHub\\\\ICDeepLearning\\\\Data\\\\FullDataset\\\\'+s+'\\\\_\\\\'+str(state)\n",
    "    \n",
    "#     for i in range(len(df)):\n",
    "#         series = df.loc[i][:-1].values\n",
    "#         filePath = path+'\\\\'+str(i)+'.csv'\n",
    "        \n",
    "#         tempRow = pd.DataFrame([['_', str(state), filePath]], columns = ['subject', 'state', 'path'])\n",
    "#         temp = temp.append(tempRow)\n",
    "#         np.savetxt(filePath, series)\n",
    "        \n",
    "# temp.to_csv('SSVEPDatasetFullDataset_'+s+'.csv', index = False)\n",
    "    "
   ]
  },
  {
   "cell_type": "markdown",
   "metadata": {},
   "source": [
    "***"
   ]
  },
  {
   "cell_type": "code",
   "execution_count": 26,
   "metadata": {},
   "outputs": [],
   "source": [
    "path = 'C:\\\\Users\\\\Patrick\\\\Documents\\\\GitHub\\\\ICDeepLearning\\\\Data\\\\Backup\\\\Originais\\\\512'\n",
    "\n",
    "subjects = os.listdir(path)\n",
    "\n",
    "for subject in subjects:\n",
    "    for state in ['1', '2', '3', '4', '5']:\n",
    "        new_path = path + '\\\\' + subject + '\\\\' + state\n",
    "        files = os.listdir(new_path)\n",
    "        for file in files:\n",
    "            file_path = new_path + '\\\\' + file\n",
    "            data = pd.read_csv(file_path, sep = ' ', header = None, dtype = np.float64).loc[:, :15].values\n",
    "            np.savetxt(file_path, data)\n",
    "            \n",
    "    "
   ]
  },
  {
   "cell_type": "code",
   "execution_count": null,
   "metadata": {},
   "outputs": [],
   "source": []
  }
 ],
 "metadata": {
  "kernelspec": {
   "display_name": "Python 3",
   "language": "python",
   "name": "python3"
  },
  "language_info": {
   "codemirror_mode": {
    "name": "ipython",
    "version": 3
   },
   "file_extension": ".py",
   "mimetype": "text/x-python",
   "name": "python",
   "nbconvert_exporter": "python",
   "pygments_lexer": "ipython3",
   "version": "3.7.6"
  }
 },
 "nbformat": 4,
 "nbformat_minor": 4
}
