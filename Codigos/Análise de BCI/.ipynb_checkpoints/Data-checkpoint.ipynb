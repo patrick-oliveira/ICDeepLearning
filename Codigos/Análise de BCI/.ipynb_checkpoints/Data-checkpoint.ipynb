{
 "cells": [
  {
   "cell_type": "code",
   "execution_count": 27,
   "metadata": {},
   "outputs": [],
   "source": [
    "import sys\n",
    "sys.path.append('Scripts')\n",
    "sys.path.append('C:\\\\Users\\\\Patrick\\\\Documents\\\\GitHub\\\\BCI_ssvep_dataset')\n",
    "import os\n",
    "\n",
    "from utils import path\n",
    "from dsloader import *\n",
    "import pandas as pd\n",
    "import numpy as np"
   ]
  },
  {
   "cell_type": "code",
   "execution_count": 57,
   "metadata": {},
   "outputs": [
    {
     "name": "stdout",
     "output_type": "stream",
     "text": [
      "Directory C:\\Users\\Patrick\\Documents\\GitHub\\BCI_ssvep_dataset\\dataset loaded successfully.\n",
      "Directory C:\\Users\\Patrick\\Documents\\GitHub\\ICDeepLearning\\Data\\Originais\\768 loaded successfully.\n"
     ]
    }
   ],
   "source": [
    "split = {\n",
    "    '256':1,\n",
    "    '512':2,\n",
    "    '768':3\n",
    "}\n",
    "s = 768\n",
    "\n",
    "RawDataPath = path(\"C:\\\\Users\\\\Patrick\\\\Documents\\\\GitHub\\\\BCI_ssvep_dataset\\\\dataset\")\n",
    "DataPath = path('C:\\\\Users\\\\Patrick\\\\Documents\\\\GitHub\\\\ICDeepLearning\\\\Data\\\\Originais\\\\'+str(s))\n",
    "\n",
    "Subjects = set()\n",
    "Stages = ['1', '2', '3', '4', '5']\n",
    "for filename in os.listdir(RawDataPath()):\n",
    "    Subjects.add(filename[6:20])\n",
    "    \n",
    "for subjectName in Subjects:\n",
    "    os.mkdir(DataPath/subjectName)\n",
    "    for i in Stages:\n",
    "        os.mkdir(DataPath/subjectName+\"//\"+i)\n",
    "        \n",
    "for file in RawDataFiles:\n",
    "    filename = file[6:20]\n",
    "    stage = file[-5]\n",
    "    outputPath = DataPath()+\"\\\\\"+filename+\"\\\\\"+stage\n",
    "    \n",
    "    data = get_data_from_file(RawDataPath()+'\\\\'+file)\n",
    "    splittedData = get_splitted_dataset(data[0], split[str(s)])\n",
    "    k = len(splittedData)\n",
    "    \n",
    "    for i, data in zip(range(1, k), splittedData[:-1]):\n",
    "        data.to_csv(outputPath+\"\\\\\"+str(i)+\".csv\", sep = ',', header = False, index = False)\n",
    "        \n",
    "    if len(splittedData[-1]) == s:\n",
    "        splittedData[-1].to_csv(outputPath+\"\\\\\"+str(i + 1)+\".csv\", header = False, index=  False)"
   ]
  },
  {
   "cell_type": "code",
   "execution_count": 58,
   "metadata": {},
   "outputs": [],
   "source": [
    "split = {\n",
    "    '256':1,\n",
    "    '512':2,\n",
    "    '768':3\n",
    "}\n",
    "s = str(256)\n",
    "cols = ['Cz', 'Oz']\n",
    "\n",
    "dataset1 = get_dataset(path='C:\\\\Users\\\\Patrick\\\\Documents\\\\GitHub\\\\BCI_ssvep_dataset\\\\dataset', cols = cols, export_to_file=False, filename='cz-oz.txt', n_seconds_split = split[s])\n",
    "temp = pd.DataFrame(columns = ['subject', 'state', 'path'])\n",
    "\n",
    "for state in [1, 2, 3, 4, 5]:\n",
    "    df = dataset1[dataset1['class'] == state].reset_index()\n",
    "    path = 'C:\\\\Users\\\\Patrick\\\\Documents\\\\GitHub\\\\ICDeepLearning\\\\Data\\\\FullDataset\\\\'+s+'\\\\_\\\\'+str(state)\n",
    "    \n",
    "    for i in range(len(df)):\n",
    "        series = df.loc[i][:-1].values\n",
    "        filePath = path+'\\\\'+str(i)+'.csv'\n",
    "        \n",
    "        tempRow = pd.DataFrame([['_', str(state), filePath]], columns = ['subject', 'state', 'path'])\n",
    "        temp = temp.append(tempRow)\n",
    "        np.savetxt(filePath, series)\n",
    "        \n",
    "temp.to_csv('SSVEPDatasetFullDataset_'+s+'.csv', index = False)\n",
    "    "
   ]
  },
  {
   "cell_type": "code",
   "execution_count": null,
   "metadata": {},
   "outputs": [],
   "source": []
  }
 ],
 "metadata": {
  "kernelspec": {
   "display_name": "Python 3",
   "language": "python",
   "name": "python3"
  },
  "language_info": {
   "codemirror_mode": {
    "name": "ipython",
    "version": 3
   },
   "file_extension": ".py",
   "mimetype": "text/x-python",
   "name": "python",
   "nbconvert_exporter": "python",
   "pygments_lexer": "ipython3",
   "version": "3.7.6"
  }
 },
 "nbformat": 4,
 "nbformat_minor": 4
}
