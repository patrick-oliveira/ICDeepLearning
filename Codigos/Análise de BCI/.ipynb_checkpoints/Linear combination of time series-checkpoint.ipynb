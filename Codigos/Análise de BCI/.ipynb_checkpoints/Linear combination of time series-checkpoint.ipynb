{
 "cells": [
  {
   "cell_type": "code",
   "execution_count": 1,
   "metadata": {},
   "outputs": [],
   "source": [
    "%load_ext autoreload\n",
    "%autoreload 2"
   ]
  },
  {
   "cell_type": "code",
   "execution_count": 2,
   "metadata": {},
   "outputs": [],
   "source": [
    "import sys\n",
    "sys.path.append('Scripts')\n",
    "\n",
    "import torch\n",
    "import torch.nn as nn\n",
    "import torch.optim as optim\n",
    "import torch.nn.functional as F\n",
    "from torchvision import transforms, utils\n",
    "from torch.utils.data import Dataset, DataLoader\n",
    "\n",
    "import pandas as pd\n",
    "import matplotlib.pyplot as plt\n",
    "import numpy as np\n",
    "\n",
    "from utils import path, batchVisualization, createInputFigure\n",
    "from dataprep import dataprep\n",
    "from SSVEPDataset import SSVEPDataset\n",
    "from classes import *\n",
    "from SSVEPDataloader import *\n",
    "\n",
    "from sklearn import preprocessing\n",
    "import os\n",
    "import time\n",
    "import copy\n",
    "from functools import partial"
   ]
  },
  {
   "cell_type": "code",
   "execution_count": 17,
   "metadata": {},
   "outputs": [],
   "source": [
    "def read_data(dataframe):\n",
    "    return pd.read_csv(dataframe['path'], sep = ' ', header = None, dtype = np.float64)"
   ]
  },
  {
   "cell_type": "markdown",
   "metadata": {},
   "source": [
    "***\n",
    "Primeira tentativa: combinação por proporção simples."
   ]
  },
  {
   "cell_type": "code",
   "execution_count": 25,
   "metadata": {},
   "outputs": [],
   "source": [
    "dataType = '768'\n",
    "dataprep(dataType)\n",
    "data = pd.read_csv('SSVEPDataset_'+dataType+'.csv')\n",
    "combData = pd.DataFrame(columns = ['subject', 'path', \"state\"])\n",
    "for i in range(len(data)):\n",
    "    indData = data.loc[i]\n",
    "    sample = read_data(indData).values.T\n",
    "#     sample = pd.read_csv(indData['path'], sep = ' ', usecols = range(16), names = range(1, 17), dtype = float)\n",
    "    series = (sample[2] + sample[11])/2\n",
    "    \n",
    "#     for j in range(4, 16):\n",
    "#         series += (0.4/13)*sample[j]\n",
    "        \n",
    "    newPath = indData['path'].replace('Originais', 'Dados_BCI_Combinados')\n",
    "    tempRow = pd.DataFrame([[indData['subject'], newPath, indData['state']]], columns = ['subject', 'path', 'state'])\n",
    "    combData = combData.append(tempRow)\n",
    "    np.savetxt(newPath, series)\n",
    "#     series.to_csv(newPath+\".csv\", index = False)\n",
    "\n",
    "combData.to_csv(\"SSVEPDatasetCombined_\"+dataType+\".csv\", index = False)"
   ]
  },
  {
   "cell_type": "markdown",
   "metadata": {},
   "source": [
    "***\n",
    "\n",
    "Segunda tentativa: PCA\n",
    "\n",
    "A variância explicada é baixa demais."
   ]
  },
  {
   "cell_type": "code",
   "execution_count": 27,
   "metadata": {},
   "outputs": [
    {
     "name": "stderr",
     "output_type": "stream",
     "text": [
      "C:\\Users\\Patrick\\Anaconda3\\lib\\site-packages\\sklearn\\decomposition\\_pca.py:545: RuntimeWarning: invalid value encountered in true_divide\n",
      "  self.explained_variance_ / total_var.sum()\n"
     ]
    }
   ],
   "source": [
    "from sklearn.decomposition import PCA\n",
    "pca = PCA(n_components = 3)\n",
    "\n",
    "dataType = '768'\n",
    "dataprep(dataType)\n",
    "data = pd.read_csv('SSVEPDataset_'+dataType+'.csv')\n",
    "combData = pd.DataFrame(columns = ['subject', 'path', \"state\"])\n",
    "for i in range(len(data)):\n",
    "    indData = data.loc[i]\n",
    "    sample = read_data(indData).values\n",
    "    pca.fit(sample)\n",
    "    C1, C2, C3 = pca.components_\n",
    "    series = (C1.dot(sample.T) + C2.dot(sample.T) + C3.dot(sample.T))/3\n",
    "    \n",
    "    newPath = indData['path'].replace('Originais', 'Dados_BCI_CombinadosPCA')\n",
    "    tempRow = pd.DataFrame([[indData['subject'], newPath, indData['state']]], columns = ['subject', 'path', 'state'])\n",
    "    combData = combData.append(tempRow)\n",
    "    np.savetxt(newPath, series)\n",
    "    \n",
    "combData.to_csv(\"SSVEPDatasetPCA_\"+dataType+\".csv\", index = False)"
   ]
  },
  {
   "cell_type": "markdown",
   "metadata": {},
   "source": [
    "***"
   ]
  },
  {
   "cell_type": "markdown",
   "metadata": {},
   "source": [
    "Terceira Tentativa: Utilizar um autoencoder para fazer a combinação."
   ]
  },
  {
   "cell_type": "code",
   "execution_count": 5,
   "metadata": {},
   "outputs": [
    {
     "name": "stdout",
     "output_type": "stream",
     "text": [
      "Directory C:\\Users\\Patrick\\Documents\\GitHub\\ICDeepLearning\\Data\\Originais\\512 loaded successfully.\n"
     ]
    }
   ],
   "source": [
    "def read_data(dataframe, path, ind):\n",
    "    return torch.tensor(pd.read_csv(path/dataframe.loc[ind]['path'],  sep = ' ', usecols = range(16), names = range(1, 17), dtype = float).values)\n",
    "\n",
    "dataType = '512'\n",
    "#dataPath = path('/home/roboto/Documents/GitHub/ICDeepLearning/Data/Originais')\n",
    "dataPath = path('C:\\\\Users\\\\Patrick\\\\Documents\\\\GitHub\\\\ICDeepLearning\\\\Data\\\\Originais\\\\'+dataType)\n",
    "data = pd.read_csv('SSVEPDataset.csv')\n",
    "dataset = SSVEPDataset(data, dataPath)\n",
    "\n",
    "batchSize = 64\n",
    "dataloaders, datasetsSizes = SSVEPDataloaders(dataset, batchSize)\n",
    "# example = next(iter(dataloaders['train']))['series']"
   ]
  },
  {
   "cell_type": "code",
   "execution_count": 4,
   "metadata": {},
   "outputs": [],
   "source": [
    "n = 5"
   ]
  },
  {
   "cell_type": "code",
   "execution_count": 6,
   "metadata": {},
   "outputs": [],
   "source": [
    "# ** Training algorithms\n",
    "\n",
    "def train(model, dataloaders, criterion, optimizer, scheduler, device,\n",
    "          num_epochs = 25, learningRate = 1e-3):\n",
    "    since = time.time()\n",
    "    bestModel = copy.deepcopy(model.state_dict())\n",
    "    bestLoss = np.inf\n",
    "    \n",
    "    trainLoss = []\n",
    "    validLoss = []\n",
    "    \n",
    "    for epoch in range(num_epochs):\n",
    "        print('Epoch {}/{}'.format(epoch, num_epochs - 1))\n",
    "        print('-' * 10)\n",
    "        \n",
    "        # Each epoch has a training and a validation phase\n",
    "        for phase in ['train', 'val']:\n",
    "            if phase == 'train':\n",
    "                model.train()\n",
    "            else:\n",
    "                model.eval()\n",
    "                \n",
    "            runningLoss = 0.0\n",
    "            runningCorrects = 0\n",
    "            \n",
    "            for inputs in dataloaders[phase]:\n",
    "                inputs = inputs['series'].to(device)\n",
    "                \n",
    "                optimizer.zero_grad()\n",
    "                \n",
    "                with torch.set_grad_enabled(phase == 'train'):\n",
    "                    outputs = model(inputs)\n",
    "                    loss = criterion(outputs, inputs)\n",
    "                    \n",
    "                    \n",
    "                    if phase == 'train':\n",
    "                        loss.backward()\n",
    "                        optimizer.step()\n",
    "                        \n",
    "                runningLoss += loss.item() * inputs.size(0)\n",
    "            if phase == 'train':\n",
    "                scheduler.step()\n",
    "                \n",
    "            epochLoss = runningLoss/datasetsSizes[phase]\n",
    "            \n",
    "            if phase == 'train':\n",
    "                trainLoss.append(epochLoss)\n",
    "            else:\n",
    "                validLoss.append(epochLoss)\n",
    "            \n",
    "            print('{} Loss: {:.4f}'.format(phase, epochLoss))\n",
    "            \n",
    "            if phase == 'val' and epochLoss < bestLoss:\n",
    "                bestLoss = epochLoss\n",
    "                bestModel = copy.deepcopy(model.state_dict())\n",
    "                \n",
    "        print()\n",
    "        \n",
    "    time_elapsed = time.time() - since\n",
    "    print('Training complete in {:.0f}m {:.0f}s'.format(time_elapsed // 60, time_elapsed % 60))\n",
    "    print('Best val Loss: {:4f}'.format(bestLoss))\n",
    "    \n",
    "    model.load_state_dict(bestModel)\n",
    "    return model, [trainLoss, validLoss], bestLoss"
   ]
  },
  {
   "cell_type": "code",
   "execution_count": 7,
   "metadata": {},
   "outputs": [],
   "source": [
    "def dataVisualization(X):\n",
    "    X = X.squeeze().T\n",
    "    \n",
    "    fig = plt.figure(figsize = (15, 15))\n",
    "    ax = fig.add_subplot()\n",
    "    ax.imshow(X, cmap = 'gray')"
   ]
  },
  {
   "cell_type": "code",
   "execution_count": 46,
   "metadata": {},
   "outputs": [],
   "source": [
    "class Resize(nn.Module):\n",
    "    def __init__(self):\n",
    "        super().__init__()\n",
    "        \n",
    "    def forward(self, X):\n",
    "        size = X.shape[0]\n",
    "        return X.view(size, 1, 512, 16)\n",
    "\n",
    "class Autoencoder(nn.Module):\n",
    "    def __init__(self,):\n",
    "        super().__init__()\n",
    "        \n",
    "        self.encoder = nn.Sequential(\n",
    "            *ConvBlocks([1, 16], kernel_size = [5, 5], padding = [2, 2]),\n",
    "            ConvBlock(16, 1, kernel_size = [1, 16])\n",
    "        )\n",
    "        self.decoder = nn.Sequential(\n",
    "            *ConvBlocks([1, 16], kernel_size = [5, 1], padding = [2, 0]),\n",
    "            Resize()\n",
    "        )\n",
    "    \n",
    "    def forward(self, X):\n",
    "        X = self.encoder(X)\n",
    "        X = self.decoder(X)\n",
    "        return X\n",
    "    \n",
    "    \n",
    "device = torch.device(\"cuda:0\" if (torch.cuda.is_available()) else \"cpu\")\n",
    "\n",
    "model = Autoencoder().double().to(device)\n",
    "\n",
    "criterion = nn.MSELoss()\n",
    "optimizer = optim.Adam(model.parameters(), lr = 0.01)\n",
    "scheduler = optim.lr_scheduler.StepLR(optimizer, step_size = 7, gamma = 0.1)"
   ]
  },
  {
   "cell_type": "code",
   "execution_count": 47,
   "metadata": {
    "collapsed": true,
    "jupyter": {
     "outputs_hidden": true
    }
   },
   "outputs": [
    {
     "name": "stdout",
     "output_type": "stream",
     "text": [
      "Directory Models\\Autoencoders loaded successfully.\n",
      "Epoch 0/19\n",
      "----------\n",
      "train Loss: 3.1138\n",
      "val Loss: 3.0153\n",
      "\n",
      "Epoch 1/19\n",
      "----------\n",
      "train Loss: 2.7598\n",
      "val Loss: 3.2261\n",
      "\n",
      "Epoch 2/19\n",
      "----------\n",
      "train Loss: 2.6216\n",
      "val Loss: 2.7668\n",
      "\n",
      "Epoch 3/19\n",
      "----------\n",
      "train Loss: 2.5670\n",
      "val Loss: 2.6530\n",
      "\n",
      "Epoch 4/19\n",
      "----------\n",
      "train Loss: 2.5689\n",
      "val Loss: 2.6851\n",
      "\n",
      "Epoch 5/19\n",
      "----------\n",
      "train Loss: 2.5303\n",
      "val Loss: 2.6431\n",
      "\n",
      "Epoch 6/19\n",
      "----------\n",
      "train Loss: 2.5419\n",
      "val Loss: 2.6826\n",
      "\n",
      "Epoch 7/19\n",
      "----------\n",
      "train Loss: 2.5308\n",
      "val Loss: 2.6397\n",
      "\n",
      "Epoch 8/19\n",
      "----------\n",
      "train Loss: 2.5384\n",
      "val Loss: 2.6399\n",
      "\n",
      "Epoch 9/19\n",
      "----------\n",
      "train Loss: 2.5101\n",
      "val Loss: 2.6384\n",
      "\n",
      "Epoch 10/19\n",
      "----------\n",
      "train Loss: 2.5581\n",
      "val Loss: 2.6509\n",
      "\n",
      "Epoch 11/19\n",
      "----------\n",
      "train Loss: 2.5131\n",
      "val Loss: 2.6390\n",
      "\n",
      "Epoch 12/19\n",
      "----------\n",
      "train Loss: 2.5223\n",
      "val Loss: 2.6372\n",
      "\n",
      "Epoch 13/19\n",
      "----------\n",
      "train Loss: 2.5206\n",
      "val Loss: 2.6367\n",
      "\n",
      "Epoch 14/19\n",
      "----------\n",
      "train Loss: 2.5234\n",
      "val Loss: 2.6389\n",
      "\n",
      "Epoch 15/19\n",
      "----------\n",
      "train Loss: 2.5294\n",
      "val Loss: 2.6444\n",
      "\n",
      "Epoch 16/19\n",
      "----------\n",
      "train Loss: 2.5407\n",
      "val Loss: 2.6401\n",
      "\n",
      "Epoch 17/19\n",
      "----------\n",
      "train Loss: 2.5183\n",
      "val Loss: 2.6531\n",
      "\n",
      "Epoch 18/19\n",
      "----------\n",
      "train Loss: 2.5132\n",
      "val Loss: 2.6377\n",
      "\n",
      "Epoch 19/19\n",
      "----------\n",
      "train Loss: 2.5197\n",
      "val Loss: 2.6482\n",
      "\n",
      "Training complete in 3m 21s\n",
      "Best val Loss: 2.636651\n"
     ]
    }
   ],
   "source": [
    "n = n + 1\n",
    "modelPath = path('Models\\\\Autoencoders\\\\SeriesCombination')\n",
    "modelName = 'Autoencoder'+str(n)\n",
    "file = open(modelPath/modelName+\".txt\", 'w')\n",
    "\n",
    "model, stats, bestLoss = train(model, dataloaders, criterion, optimizer, scheduler, device,\n",
    "                         num_epochs = 20)\n",
    "\n",
    "file.write(str(model)+\"\\n\\n\")\n",
    "file.write(\"Best Val Loss:{}\\n\\n\".format(bestLoss))\n",
    "file.write(\"Training Loss: {}\\n\\n\".format(stats[0]))\n",
    "file.write(\"Validation Loss: {}\\n\\n\".format(stats[1]))\n",
    "file.close()"
   ]
  },
  {
   "cell_type": "code",
   "execution_count": 83,
   "metadata": {},
   "outputs": [],
   "source": [
    "exemplo = iter(dataloaders['train']).next()['series']\n",
    "model = model.to('cpu')"
   ]
  },
  {
   "cell_type": "code",
   "execution_count": 104,
   "metadata": {},
   "outputs": [
    {
     "data": {
      "image/png": "[encoded data removed]",
      "text/plain": [
       "<Figure size 1080x1080 with 1 Axes>"
      ]
     },
     "metadata": {
      "needs_background": "light"
     },
     "output_type": "display_data"
    }
   ],
   "source": [
    "dataVisualization(exemplo[0])"
   ]
  },
  {
   "cell_type": "code",
   "execution_count": 105,
   "metadata": {},
   "outputs": [
    {
     "data": {
      "image/png": "[encoded data removed]",
      "text/plain": [
       "<Figure size 1080x1080 with 1 Axes>"
      ]
     },
     "metadata": {
      "needs_background": "light"
     },
     "output_type": "display_data"
    }
   ],
   "source": [
    "X = model(exemplo)[0].detach().numpy()\n",
    "dataVisualization(X)"
   ]
  },
  {
   "cell_type": "code",
   "execution_count": null,
   "metadata": {},
   "outputs": [],
   "source": []
  }
 ],
 "metadata": {
  "kernelspec": {
   "display_name": "Python 3",
   "language": "python",
   "name": "python3"
  },
  "language_info": {
   "codemirror_mode": {
    "name": "ipython",
    "version": 3
   },
   "file_extension": ".py",
   "mimetype": "text/x-python",
   "name": "python",
   "nbconvert_exporter": "python",
   "pygments_lexer": "ipython3",
   "version": "3.7.6"
  }
 },
 "nbformat": 4,
 "nbformat_minor": 4
}
