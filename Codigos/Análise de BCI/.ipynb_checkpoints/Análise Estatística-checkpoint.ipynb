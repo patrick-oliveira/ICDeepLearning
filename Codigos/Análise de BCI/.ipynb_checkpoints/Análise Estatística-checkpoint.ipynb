{
 "cells": [
  {
   "cell_type": "code",
   "execution_count": 1,
   "metadata": {},
   "outputs": [],
   "source": [
    "import os\n",
    "import torch\n",
    "import torch.nn as nn\n",
    "import torch.optim as optim\n",
    "import torch.nn.functional as F\n",
    "from torchvision import transforms, utils, datasets, models\n",
    "\n",
    "import sys\n",
    "sys.path.append('Scripts')\n",
    "from utils import getData"
   ]
  },
  {
   "cell_type": "code",
   "execution_count": 2,
   "metadata": {},
   "outputs": [],
   "source": [
    "%load_ext autoreload\n",
    "%autoreload 2"
   ]
  },
  {
   "cell_type": "code",
   "execution_count": 4,
   "metadata": {},
   "outputs": [],
   "source": [
    "image_size = 224\n",
    "batch_size = 8\n",
    "workers = 1\n",
    "ngpu = 1\n",
    "validation_split = .2\n",
    "train_split = 0\n",
    "shuffle_dataset = True\n",
    "random_seed = 42\n",
    "image_size = 224\n",
    "device = torch.device(\"cuda:0\" if (torch.cuda.is_available() and ngpu > 0) else \"cpu\")\n",
    "# device = \"cpu\"    "
   ]
  },
  {
   "cell_type": "code",
   "execution_count": 6,
   "metadata": {},
   "outputs": [
    {
     "ename": "NameError",
     "evalue": "name 'SubsetRandomSampler' is not defined",
     "output_type": "error",
     "traceback": [
      "\u001b[1;31m---------------------------------------------------------------------------\u001b[0m",
      "\u001b[1;31mNameError\u001b[0m                                 Traceback (most recent call last)",
      "\u001b[1;32m<ipython-input-6-150c512a7aff>\u001b[0m in \u001b[0;36m<module>\u001b[1;34m\u001b[0m\n\u001b[0;32m      1\u001b[0m \u001b[0mfolder\u001b[0m \u001b[1;33m=\u001b[0m \u001b[1;34m'Test_GASF'\u001b[0m\u001b[1;33m\u001b[0m\u001b[1;33m\u001b[0m\u001b[0m\n\u001b[0;32m      2\u001b[0m \u001b[0mfigPath\u001b[0m \u001b[1;33m=\u001b[0m \u001b[1;34m'C:\\\\Users\\\\Patrick\\\\Documents\\\\GitHub\\\\ICDeepLearning\\\\Data\\\\'\u001b[0m\u001b[1;33m+\u001b[0m\u001b[0mfolder\u001b[0m\u001b[1;33m+\u001b[0m\u001b[1;34m'\\\\512'\u001b[0m\u001b[1;33m\u001b[0m\u001b[1;33m\u001b[0m\u001b[0m\n\u001b[1;32m----> 3\u001b[1;33m \u001b[0mgetData\u001b[0m\u001b[1;33m(\u001b[0m\u001b[0mfigPath\u001b[0m\u001b[1;33m,\u001b[0m \u001b[0mimage_size\u001b[0m\u001b[1;33m,\u001b[0m \u001b[0mtrain_split\u001b[0m\u001b[1;33m,\u001b[0m \u001b[0mvalidation_split\u001b[0m\u001b[1;33m)\u001b[0m\u001b[1;33m\u001b[0m\u001b[1;33m\u001b[0m\u001b[0m\n\u001b[0m",
      "\u001b[1;32m~\\Documents\\GitHub\\ICDeepLearning\\Codigos\\Análise de BCI\\Scripts\\utils.py\u001b[0m in \u001b[0;36mgetData\u001b[1;34m(figPath, image_size, train_split, validation_split, batch_size, shuffle_dataset, random_seed, workers, ngpu)\u001b[0m\n\u001b[0;32m     90\u001b[0m     \u001b[0mtrain_indices\u001b[0m\u001b[1;33m,\u001b[0m \u001b[0mval_indices\u001b[0m \u001b[1;33m=\u001b[0m \u001b[0mtrain_indices\u001b[0m\u001b[1;33m[\u001b[0m\u001b[0mvalsplit\u001b[0m\u001b[1;33m:\u001b[0m\u001b[1;33m]\u001b[0m\u001b[1;33m,\u001b[0m \u001b[0mtrain_indices\u001b[0m\u001b[1;33m[\u001b[0m\u001b[1;33m:\u001b[0m\u001b[0mvalsplit\u001b[0m\u001b[1;33m]\u001b[0m\u001b[1;33m\u001b[0m\u001b[1;33m\u001b[0m\u001b[0m\n\u001b[0;32m     91\u001b[0m \u001b[1;33m\u001b[0m\u001b[0m\n\u001b[1;32m---> 92\u001b[1;33m     \u001b[0mtrain_sampler\u001b[0m \u001b[1;33m=\u001b[0m \u001b[0mSubsetRandomSampler\u001b[0m\u001b[1;33m(\u001b[0m\u001b[0mtrain_indices\u001b[0m\u001b[1;33m)\u001b[0m\u001b[1;33m\u001b[0m\u001b[1;33m\u001b[0m\u001b[0m\n\u001b[0m\u001b[0;32m     93\u001b[0m     \u001b[0mvalid_sampler\u001b[0m \u001b[1;33m=\u001b[0m \u001b[0mSubsetRandomSampler\u001b[0m\u001b[1;33m(\u001b[0m\u001b[0mval_indices\u001b[0m\u001b[1;33m)\u001b[0m\u001b[1;33m\u001b[0m\u001b[1;33m\u001b[0m\u001b[0m\n\u001b[0;32m     94\u001b[0m     \u001b[0mtest_sampler\u001b[0m \u001b[1;33m=\u001b[0m \u001b[0mSubsetRandomSampler\u001b[0m\u001b[1;33m(\u001b[0m\u001b[0mtrain_indices\u001b[0m\u001b[1;33m)\u001b[0m\u001b[1;33m\u001b[0m\u001b[1;33m\u001b[0m\u001b[0m\n",
      "\u001b[1;31mNameError\u001b[0m: name 'SubsetRandomSampler' is not defined"
     ]
    }
   ],
   "source": [
    "folder = 'Test_GASF'\n",
    "figPath = 'C:\\\\Users\\\\Patrick\\\\Documents\\\\GitHub\\\\ICDeepLearning\\\\Data\\\\'+folder+'\\\\512'\n",
    "getData(figPath, image_size, train_split, validation_split)"
   ]
  },
  {
   "cell_type": "code",
   "execution_count": 73,
   "metadata": {},
   "outputs": [],
   "source": [
    "modelDict = {\n",
    "    'resnet18': models.resnet18(),\n",
    "    'resnet34': models.resnet34(),\n",
    "    'resnet50': models.resnet50(),\n",
    "    'resnet101': models.resnet101(),\n",
    "    'resnet152': models.resnet152(),\n",
    "    'densenet121': models.densenet121(),\n",
    "    'densenet161': models.densenet161(),\n",
    "    'densenet169': models.densenet169(),\n",
    "    'densenet201': models.densenet201(),\n",
    "    'alexnet': models.alexnet(),\n",
    "    'googlenet': models.googlenet(),\n",
    "    'vgg11': models.vgg11(),\n",
    "    'vgg13': models.vgg13(),\n",
    "    'vgg16': models.vgg16()\n",
    "}\n",
    "\n",
    "def lastLayer(modelType, model):\n",
    "    Dict = {\n",
    "        'resnet': lambda model: model.fc,\n",
    "        'densenet': lambda model: model.classifier,\n",
    "        'alexnet': lambda model: model.classifier[6],\n",
    "        'vgg': lambda model: model.classifier[6],\n",
    "        'googlenet': lambda model: model.fc,\n",
    "        'mnasnet': lambda model: model.classifier[1],\n",
    "        'resnext': lambda model: model.fc,\n",
    "        'shufflenet': lambda model: model.fc\n",
    "    }\n",
    "    return [model, Dict[modelType](model)]"
   ]
  },
  {
   "cell_type": "code",
   "execution_count": 37,
   "metadata": {},
   "outputs": [],
   "source": [
    "method = 'gadf'\n",
    "path = 'Models\\\\'+method\n",
    "names = os.listdir(path)[1:]"
   ]
  },
  {
   "cell_type": "code",
   "execution_count": 74,
   "metadata": {},
   "outputs": [],
   "source": [
    "model = modelDict['resnet18']"
   ]
  },
  {
   "cell_type": "code",
   "execution_count": 79,
   "metadata": {},
   "outputs": [
    {
     "data": {
      "text/plain": [
       "<All keys matched successfully>"
      ]
     },
     "execution_count": 79,
     "metadata": {},
     "output_type": "execute_result"
    }
   ],
   "source": [
    "model.load_state_dict(torch.load(path+\"\\\\resnet18\\\\cca128\\\\model.pth\"))"
   ]
  },
  {
   "cell_type": "code",
   "execution_count": 45,
   "metadata": {},
   "outputs": [
    {
     "ename": "SyntaxError",
     "evalue": "can't assign to function call (<ipython-input-45-d2be0260c52e>, line 10)",
     "output_type": "error",
     "traceback": [
      "\u001b[1;36m  File \u001b[1;32m\"<ipython-input-45-d2be0260c52e>\"\u001b[1;36m, line \u001b[1;32m10\u001b[0m\n\u001b[1;33m    lastLayer(temp, network) = nn.Linear(numFeatures, 5)\u001b[0m\n\u001b[1;37m    ^\u001b[0m\n\u001b[1;31mSyntaxError\u001b[0m\u001b[1;31m:\u001b[0m can't assign to function call\n"
     ]
    }
   ],
   "source": [
    "for modelName in names:\n",
    "    network = modelDict[modelName][0]\n",
    "    modelPath = path+\"\\\\\"+modelName+'\\\\cca128'\n",
    "    \n",
    "#     numFeatures = modelDict[modelName][1]\n",
    "\n",
    "#     temp = modelName\n",
    "#     for d in modelName:\n",
    "#         if d.isdigit():\n",
    "#             temp = temp.replace(d, '')\n",
    "\n",
    "    "
   ]
  },
  {
   "cell_type": "code",
   "execution_count": null,
   "metadata": {},
   "outputs": [],
   "source": []
  }
 ],
 "metadata": {
  "kernelspec": {
   "display_name": "Python 3",
   "language": "python",
   "name": "python3"
  },
  "language_info": {
   "codemirror_mode": {
    "name": "ipython",
    "version": 3
   },
   "file_extension": ".py",
   "mimetype": "text/x-python",
   "name": "python",
   "nbconvert_exporter": "python",
   "pygments_lexer": "ipython3",
   "version": "3.7.6"
  }
 },
 "nbformat": 4,
 "nbformat_minor": 4
}
