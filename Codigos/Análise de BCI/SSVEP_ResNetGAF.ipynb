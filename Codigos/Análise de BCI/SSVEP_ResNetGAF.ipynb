{
 "cells": [
  {
   "cell_type": "code",
   "execution_count": 1,
   "metadata": {},
   "outputs": [],
   "source": [
    "import sys\n",
    "sys.path.append('C:\\\\Users\\\\Patrick\\\\Documents\\\\GitHub\\\\ICDeepLearning\\\\Scripts')\n",
    "%load_ext autoreload\n",
    "%autoreload 2\n",
    "\n",
    "import torch\n",
    "import torch.nn as nn\n",
    "import torch.optim as optim\n",
    "import torch.nn.functional as F\n",
    "from torchvision import transforms, utils, datasets, models\n",
    "from torch.utils.data import Dataset, DataLoader\n",
    "from torch.utils.data.sampler import SubsetRandomSampler\n",
    "\n",
    "import pandas as pd\n",
    "import matplotlib.pyplot as plt\n",
    "plt.style.use('ggplot')\n",
    "import numpy as np\n",
    "\n",
    "from utils import path\n",
    "from DataVis import createInputFigure\n",
    "from NNUtils import *\n",
    "from NNCreationAux import *\n",
    "\n",
    "from sklearn import preprocessing\n",
    "import os\n",
    "import time\n",
    "import copy"
   ]
  },
  {
   "cell_type": "markdown",
   "metadata": {},
   "source": [
    "***"
   ]
  },
  {
   "cell_type": "code",
   "execution_count": 2,
   "metadata": {},
   "outputs": [],
   "source": [
    "modelType = 'dense'\n",
    "modelSize = '161'\n",
    "data_type = '512'\n",
    "figSize = '128'\n",
    "folder = 'GAF_Combinados_difference'\n",
    "\n",
    "model_name = modelType+modelSize"
   ]
  },
  {
   "cell_type": "code",
   "execution_count": null,
   "metadata": {},
   "outputs": [],
   "source": [
    "dataloader, dataloaders, dataset_sizes, class_names = getData(data_type, folder)"
   ]
  },
  {
   "cell_type": "code",
   "execution_count": null,
   "metadata": {},
   "outputs": [],
   "source": [
    "model = model_selection(modelName, numClasses)\n",
    "model = model.to(device)\n",
    "criterion = nn.CrossEntropyLoss()\n",
    "optimizer = optim.SGD(model.parameters(), lr = 0.001, momentum = 0.4)\n",
    "scheduler = optim.lr_scheduler.StepLR(optimizer, step_size = 10, gamma = 0.1)\n",
    "model, stats = train(model, dataloaders, dataset_sizes, criterion, optimizer, scheduler, num_epochs = 2)"
   ]
  },
  {
   "cell_type": "markdown",
   "metadata": {},
   "source": [
    "***"
   ]
  },
  {
   "cell_type": "code",
   "execution_count": 2,
   "metadata": {},
   "outputs": [],
   "source": [
    "data_type = '256'\n",
    "folder = 'RP_Combinados'\n",
    "path = 'C:\\\\Users\\\\Patrick\\\\Documents\\\\GitHub\\\\ICDeepLearning\\\\Data\\\\Imagens\\\\'+folder+'\\\\'+data_type\n",
    "dataset = get_dataset(path, 224)\n",
    "dataloader, dataloaders, dataset_sizes, class_names = getData(data_type, folder, batch_size = 64)"
   ]
  },
  {
   "cell_type": "code",
   "execution_count": 3,
   "metadata": {},
   "outputs": [],
   "source": [
    "model = model_selection('resnet50', 5).to(device)\n",
    "optimizer = optim.SGD(model.parameters(), lr = 0.001, momentum = 0.9)\n",
    "criterion = nn.CrossEntropyLoss()\n",
    "# scheduler = optim.lr_scheduler.StepLR(optimizer, step_size = 7, gamma = 0.1)"
   ]
  },
  {
   "cell_type": "code",
   "execution_count": null,
   "metadata": {},
   "outputs": [
    {
     "name": "stdout",
     "output_type": "stream",
     "text": [
      "Fold 0\n",
      "--\n",
      "Epoch 1/20\n",
      "-----\n",
      "Stage: train\n",
      "Loss: 1.7121 - Accuracy: 0.2283\n",
      "Stage: test\n",
      "Loss: 1.5747 - Accuracy: 0.2784\n",
      "--\n",
      "Epoch 2/20\n",
      "-----\n",
      "Stage: train\n",
      "Loss: 1.5111 - Accuracy: 0.3436\n",
      "Stage: test\n",
      "Loss: 1.3460 - Accuracy: 0.4286\n",
      "--\n",
      "Epoch 3/20\n",
      "-----\n",
      "Stage: train\n",
      "Loss: 1.2339 - Accuracy: 0.5050\n",
      "Stage: test\n",
      "Loss: 1.0169 - Accuracy: 0.6227\n",
      "--\n",
      "Epoch 4/20\n",
      "-----\n",
      "Stage: train\n",
      "Loss: 0.8901 - Accuracy: 0.6676\n",
      "Stage: test\n",
      "Loss: 0.5251 - Accuracy: 0.8370\n",
      "--\n",
      "Epoch 5/20\n",
      "-----\n",
      "Stage: train\n",
      "Loss: 0.6232 - Accuracy: 0.7729\n",
      "Stage: test\n",
      "Loss: 0.3324 - Accuracy: 0.8956\n",
      "--\n",
      "Epoch 6/20\n",
      "-----\n",
      "Stage: train\n",
      "Loss: 0.4416 - Accuracy: 0.8446\n",
      "Stage: test\n",
      "Loss: 0.3122 - Accuracy: 0.9002\n",
      "--\n",
      "Epoch 7/20\n",
      "-----\n",
      "Stage: train\n",
      "Loss: 0.3405 - Accuracy: 0.8901\n",
      "Stage: test\n",
      "Loss: 0.1876 - Accuracy: 0.9524\n",
      "--\n",
      "Epoch 8/20\n",
      "-----\n",
      "Stage: train\n",
      "Loss: 0.2699 - Accuracy: 0.9119\n",
      "Stage: test\n",
      "Loss: 0.2070 - Accuracy: 0.9460\n",
      "--\n",
      "Epoch 9/20\n",
      "-----\n",
      "Stage: train\n",
      "Loss: 0.2201 - Accuracy: 0.9233\n",
      "Stage: test\n",
      "Loss: 0.1347 - Accuracy: 0.9661\n",
      "--\n",
      "Epoch 10/20\n",
      "-----\n",
      "Stage: train\n",
      "Loss: 0.1611 - Accuracy: 0.9464\n",
      "Stage: test\n",
      "Loss: 0.1714 - Accuracy: 0.9689\n",
      "--\n",
      "Epoch 11/20\n",
      "-----\n",
      "Stage: train\n",
      "Loss: 0.1215 - Accuracy: 0.9638\n",
      "Stage: test\n",
      "Loss: 0.1342 - Accuracy: 0.9716\n",
      "--\n",
      "Epoch 12/20\n",
      "-----\n",
      "Stage: train\n",
      "Loss: 0.1151 - Accuracy: 0.9661\n",
      "Stage: test\n",
      "Loss: 0.1090 - Accuracy: 0.9734\n",
      "--\n",
      "Epoch 13/20\n",
      "-----\n",
      "Stage: train\n",
      "Loss: 0.0801 - Accuracy: 0.9764\n",
      "Stage: test\n",
      "Loss: 0.1414 - Accuracy: 0.9707\n",
      "--\n",
      "Epoch 14/20\n",
      "-----\n",
      "Stage: train\n",
      "Loss: 0.0550 - Accuracy: 0.9872\n",
      "Stage: test\n",
      "Loss: 0.1134 - Accuracy: 0.9707\n",
      "--\n",
      "Epoch 15/20\n",
      "-----\n",
      "Stage: train\n",
      "Loss: 0.0482 - Accuracy: 0.9876\n",
      "Stage: test\n",
      "Loss: 0.1259 - Accuracy: 0.9734\n",
      "--\n",
      "Epoch 16/20\n",
      "-----\n",
      "Stage: train\n",
      "Loss: 0.0476 - Accuracy: 0.9853\n",
      "Stage: test\n",
      "Loss: 0.1571 - Accuracy: 0.9670\n",
      "--\n",
      "Epoch 17/20\n",
      "-----\n",
      "Stage: train\n",
      "Loss: 0.0392 - Accuracy: 0.9886\n",
      "Stage: test\n",
      "Loss: 0.1441 - Accuracy: 0.9689\n",
      "--\n",
      "Epoch 18/20\n",
      "-----\n",
      "Stage: train\n",
      "Loss: 0.0328 - Accuracy: 0.9918\n",
      "Stage: test\n",
      "Loss: 0.1154 - Accuracy: 0.9762\n",
      "--\n",
      "Epoch 19/20\n",
      "-----\n",
      "Stage: train\n",
      "Loss: 0.0212 - Accuracy: 0.9938\n",
      "Stage: test\n",
      "Loss: 0.1605 - Accuracy: 0.9679\n",
      "--\n",
      "Epoch 20/20\n",
      "-----\n",
      "Stage: train\n",
      "Loss: 0.0253 - Accuracy: 0.9913\n",
      "Stage: test\n",
      "Loss: 0.1502 - Accuracy: 0.9716\n",
      "Best validation accuracy: 0.976190\n",
      "\n",
      "Fold 1\n",
      "--\n",
      "Epoch 1/20\n",
      "-----\n",
      "Stage: train\n",
      "Loss: 1.6631 - Accuracy: 0.2571\n",
      "Stage: test\n",
      "Loss: 1.5398 - Accuracy: 0.3068\n",
      "--\n",
      "Epoch 2/20\n",
      "-----\n",
      "Stage: train\n"
     ]
    }
   ],
   "source": [
    "model, _, _ = kfold_train(model, dataset, criterion, optimizer, num_epochs = 20, num_folds = 5)"
   ]
  },
  {
   "cell_type": "markdown",
   "metadata": {},
   "source": [
    "***"
   ]
  },
  {
   "cell_type": "code",
   "execution_count": 5,
   "metadata": {},
   "outputs": [],
   "source": [
    "batch_size = 1\n",
    "image_size = 224\n",
    "folder = 'Test_GASF'\n",
    "figPath = 'C:\\\\Users\\\\Patrick\\\\Documents\\\\GitHub\\\\ICDeepLearning\\\\Data\\\\'+folder+'\\\\512'\n",
    "dataloader, dataloaders, dataset_sizes, class_names = getData(data_type, folder, batch_size = 1)"
   ]
  },
  {
   "cell_type": "code",
   "execution_count": 6,
   "metadata": {},
   "outputs": [],
   "source": [
    "class predictor(nn.Module):\n",
    "    def __init__(self, model):\n",
    "        super().__init__()\n",
    "        self.model = model\n",
    "        \n",
    "    def predict(self, dataloader):\n",
    "        outputs = []\n",
    "        targets = []\n",
    "        for sample, target in dataloader:\n",
    "            sample = sample.to(device)\n",
    "            target = target.to(device)\n",
    "            o = torch.argmax(F.softmax(self.model(sample), dim = 1)).item()\n",
    "            outputs.append(o)\n",
    "            targets.append(target.item())\n",
    "            \n",
    "        outputs = np.array(outputs)\n",
    "        targets = np.array(targets)\n",
    "        right_pred = 1*(outputs == targets)\n",
    "        return outputs, right_pred"
   ]
  },
  {
   "cell_type": "code",
   "execution_count": 14,
   "metadata": {},
   "outputs": [],
   "source": [
    "predic = predictor(res18)\n",
    "_, outres18 = predic.predict(dataloader)"
   ]
  },
  {
   "cell_type": "code",
   "execution_count": 15,
   "metadata": {},
   "outputs": [],
   "source": [
    "predic = predictor(res34)\n",
    "_, outres34 = predic.predict(dataloader)"
   ]
  },
  {
   "cell_type": "code",
   "execution_count": 7,
   "metadata": {},
   "outputs": [],
   "source": [
    "predic = predictor(model)\n",
    "_, outmodel = predic.predict(dataloader)"
   ]
  },
  {
   "cell_type": "code",
   "execution_count": 8,
   "metadata": {},
   "outputs": [
    {
     "data": {
      "text/plain": [
       "0.188"
      ]
     },
     "execution_count": 8,
     "metadata": {},
     "output_type": "execute_result"
    }
   ],
   "source": [
    "np.count_nonzero(outmodel)/500"
   ]
  },
  {
   "cell_type": "code",
   "execution_count": 19,
   "metadata": {},
   "outputs": [
    {
     "data": {
      "text/plain": [
       "0.178"
      ]
     },
     "execution_count": 19,
     "metadata": {},
     "output_type": "execute_result"
    }
   ],
   "source": [
    "np.count_nonzero(outres18)/500"
   ]
  },
  {
   "cell_type": "code",
   "execution_count": 20,
   "metadata": {},
   "outputs": [
    {
     "data": {
      "text/plain": [
       "0.202"
      ]
     },
     "execution_count": 20,
     "metadata": {},
     "output_type": "execute_result"
    }
   ],
   "source": [
    "np.count_nonzero(outres34)/500"
   ]
  },
  {
   "cell_type": "code",
   "execution_count": 22,
   "metadata": {},
   "outputs": [
    {
     "data": {
      "text/plain": [
       "Ttest_indResult(statistic=-0.9667862845385763, pvalue=0.33388509993212834)"
      ]
     },
     "execution_count": 22,
     "metadata": {},
     "output_type": "execute_result"
    }
   ],
   "source": [
    "from scipy import stats\n",
    "stats.ttest_ind(outres18, outres34, equal_var=True)"
   ]
  },
  {
   "cell_type": "code",
   "execution_count": null,
   "metadata": {},
   "outputs": [],
   "source": []
  }
 ],
 "metadata": {
  "kernelspec": {
   "display_name": "Python 3",
   "language": "python",
   "name": "python3"
  },
  "language_info": {
   "codemirror_mode": {
    "name": "ipython",
    "version": 3
   },
   "file_extension": ".py",
   "mimetype": "text/x-python",
   "name": "python",
   "nbconvert_exporter": "python",
   "pygments_lexer": "ipython3",
   "version": "3.7.6"
  }
 },
 "nbformat": 4,
 "nbformat_minor": 4
}
