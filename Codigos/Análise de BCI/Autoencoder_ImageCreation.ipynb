{
 "cells": [
  {
   "cell_type": "code",
   "execution_count": 1,
   "metadata": {},
   "outputs": [],
   "source": [
    "# %run \"Scripts/dataprep.py\"\n",
    "%load_ext autoreload\n",
    "%autoreload 2\n",
    "import sys\n",
    "sys.path.append('Scripts')\n",
    "\n",
    "import torch\n",
    "import torch.nn as nn\n",
    "import torch.optim as optim\n",
    "import torch.nn.functional as F\n",
    "from torchvision import transforms, utils\n",
    "from torch.utils.data import Dataset, DataLoader\n",
    "\n",
    "import pandas as pd\n",
    "import matplotlib.pyplot as plt\n",
    "import numpy as np\n",
    "\n",
    "from utils import *\n",
    "from SSVEPDataset import SSVEPDataset\n",
    "from classes import *\n",
    "from SSVEPDataloader import *\n",
    "\n",
    "from sklearn import preprocessing\n",
    "import os\n",
    "import time\n",
    "import copy\n",
    "from functools import partial"
   ]
  },
  {
   "cell_type": "code",
   "execution_count": 2,
   "metadata": {},
   "outputs": [
    {
     "name": "stdout",
     "output_type": "stream",
     "text": [
      "Directory C:\\Users\\Patrick\\Documents\\GitHub\\ICDeepLearning\\Data\\Originais\\512 loaded successfully.\n",
      "Directory C:\\Users\\Patrick\\Documents\\GitHub\\ICDeepLearning\\Data\\Dados_BCI_Combinados\\512 loaded successfully.\n"
     ]
    }
   ],
   "source": [
    "def read_data(dataframe, ind, dataPath):\n",
    "    return pd.read_csv(dataPath/dataframe.loc[ind]['path'], sep = ' ', usecols = range(16), names = range(1, 17), dtype = float)\n",
    "\n",
    "dataType = '512'\n",
    "\n",
    "# dataPath = path(\"/home/roboto/Documents/GitHub/ICDeepLearning/Data/\"+dataType)\n",
    "# combDataPath = path('/home/roboto/Documents/GitHub/ICDeepLearning/Data/Dados_BCI_Combinados/'+dataType)\n",
    "\n",
    "dataPath = path('C:\\\\Users\\\\Patrick\\\\Documents\\\\GitHub\\\\ICDeepLearning\\\\Data\\\\Originais\\\\'+dataType)\n",
    "combDataPath = path('C:\\\\Users\\\\Patrick\\\\Documents\\\\GitHub\\\\ICDeepLearning\\\\Data\\\\Dados_BCI_Combinados\\\\'+dataType)"
   ]
  },
  {
   "cell_type": "code",
   "execution_count": 3,
   "metadata": {},
   "outputs": [
    {
     "name": "stdout",
     "output_type": "stream",
     "text": [
      "Directory C:\\Users\\Patrick\\Documents\\GitHub\\ICDeepLearning\\Data\\Originais\\512 loaded successfully.\n"
     ]
    }
   ],
   "source": [
    "def read_data(dataframe, path, ind):\n",
    "    return torch.tensor(pd.read_csv(path/dataframe.loc[ind]['path'],  sep = ' ', usecols = range(16), names = range(1, 17), dtype = float).values)\n",
    "\n",
    "dataType = '512'\n",
    "#dataPath = path('/home/roboto/Documents/GitHub/ICDeepLearning/Data/Originais')\n",
    "dataPath = path('C:\\\\Users\\\\Patrick\\\\Documents\\\\GitHub\\\\ICDeepLearning\\\\Data\\\\Originais\\\\'+dataType)\n",
    "data = pd.read_csv('SSVEPDataset.csv')\n",
    "dataset = SSVEPDataset(data, dataPath)\n",
    "\n",
    "batchSize = 16\n",
    "dataloaders, datasetsSizes = SSVEPDataloaders(dataset, batchSize)\n",
    "# example = next(iter(dataloaders['train']))['series']"
   ]
  },
  {
   "cell_type": "code",
   "execution_count": 4,
   "metadata": {},
   "outputs": [],
   "source": [
    "def dataVisualization(X):\n",
    "    X = X.squeeze().T\n",
    "    \n",
    "    fig = plt.figure(figsize = (15, 15))\n",
    "    ax = fig.add_subplot()\n",
    "    ax.imshow(X, cmap = 'gray')"
   ]
  },
  {
   "cell_type": "markdown",
   "metadata": {},
   "source": [
    "***"
   ]
  },
  {
   "cell_type": "code",
   "execution_count": 28,
   "metadata": {},
   "outputs": [
    {
     "data": {
      "text/plain": [
       "350"
      ]
     },
     "execution_count": 28,
     "metadata": {},
     "output_type": "execute_result"
    }
   ],
   "source": [
    "ConvArithSelect('R5', i = 512, k = 163, s = 1)"
   ]
  },
  {
   "cell_type": "code",
   "execution_count": 26,
   "metadata": {},
   "outputs": [
    {
     "data": {
      "text/plain": [
       "436"
      ]
     },
     "execution_count": 26,
     "metadata": {},
     "output_type": "execute_result"
    }
   ],
   "source": [
    "ConvArithSelect('R5', i = 512, k = 77, s = 1)"
   ]
  },
  {
   "cell_type": "code",
   "execution_count": 55,
   "metadata": {},
   "outputs": [
    {
     "data": {
      "text/plain": [
       "384.0"
      ]
     },
     "execution_count": 55,
     "metadata": {},
     "output_type": "execute_result"
    }
   ],
   "source": [
    "512*0.75"
   ]
  },
  {
   "cell_type": "code",
   "execution_count": 5,
   "metadata": {},
   "outputs": [],
   "source": [
    "# ** Training algorithms\n",
    "\n",
    "def train(model, dataloaders, criterion, optimizer, scheduler, device,\n",
    "          num_epochs = 25, learningRate = 1e-3):\n",
    "    since = time.time()\n",
    "    bestModel = copy.deepcopy(model.state_dict())\n",
    "    bestLoss = np.inf\n",
    "    \n",
    "    trainLoss = []\n",
    "    validLoss = []\n",
    "    \n",
    "    for epoch in range(num_epochs):\n",
    "        print('Epoch {}/{}'.format(epoch, num_epochs - 1))\n",
    "        print('-' * 10)\n",
    "        \n",
    "        # Each epoch has a training and a validation phase\n",
    "        for phase in ['train', 'val']:\n",
    "            if phase == 'train':\n",
    "                model.train()\n",
    "            else:\n",
    "                model.eval()\n",
    "                \n",
    "            runningLoss = 0.0\n",
    "            runningCorrects = 0\n",
    "            \n",
    "            for inputs in dataloaders[phase]:\n",
    "                inputs = inputs['series'].to(device)\n",
    "                \n",
    "                optimizer.zero_grad()\n",
    "                \n",
    "                with torch.set_grad_enabled(phase == 'train'):\n",
    "                    outputs = model(inputs)\n",
    "                    loss = criterion(outputs, inputs)\n",
    "                    \n",
    "                    \n",
    "                    if phase == 'train':\n",
    "                        loss.backward()\n",
    "                        optimizer.step()\n",
    "                        \n",
    "                runningLoss += loss.item() * inputs.size(0)\n",
    "            if phase == 'train':\n",
    "                scheduler.step()\n",
    "                \n",
    "            epochLoss = runningLoss/datasetsSizes[phase]\n",
    "            \n",
    "            if phase == 'train':\n",
    "                trainLoss.append(epochLoss)\n",
    "            else:\n",
    "                validLoss.append(epochLoss)\n",
    "            \n",
    "            print('{} Loss: {:.4f}'.format(phase, epochLoss))\n",
    "            \n",
    "            if phase == 'val' and epochLoss < bestLoss:\n",
    "                bestLoss = epochLoss\n",
    "                bestModel = copy.deepcopy(model.state_dict())\n",
    "                \n",
    "        print()\n",
    "        \n",
    "    time_elapsed = time.time() - since\n",
    "    print('Training complete in {:.0f}m {:.0f}s'.format(time_elapsed // 60, time_elapsed % 60))\n",
    "    print('Best val Loss: {:4f}'.format(bestLoss))\n",
    "    \n",
    "    model.load_state_dict(bestModel)\n",
    "    return model, [trainLoss, validLoss], bestLoss"
   ]
  },
  {
   "cell_type": "code",
   "execution_count": 6,
   "metadata": {},
   "outputs": [],
   "source": [
    "class _DenseBlock(nn.Module):\n",
    "    def __init__(self, firstChannels, fixedSizeOutChannels, layerSize, kernel_size):\n",
    "        super().__init__()\n",
    "        \n",
    "        inSizes = [firstChannels, fixedSizeOutChannels]\n",
    "        outSizes = [fixedSizeOutChannels]*layerSize\n",
    "        self.relu = nn.ReLU()\n",
    "        for i in range(layerSize - 2):\n",
    "            inSizes.append(inSizes[-1] + fixedSizeOutChannels)\n",
    "            \n",
    "        self.BN = nn.BatchNorm2d(num_features = firstChannels)\n",
    "        self.ConvLayers = ConvBlocks(inSizes, outSizes, \n",
    "                                     kernel_size = (kernel_size, 1), stride = 1, padding = (kernel_size//2, 0))\n",
    "    \n",
    "    def forward(self, X):\n",
    "        X = self.BN(X)\n",
    "        output = [self.ConvLayers[0](X)]\n",
    "        dense  = self.relu(torch.cat(output, 1))\n",
    "        for conv in self.ConvLayers[1:]:\n",
    "            Y = conv(dense)\n",
    "            output.append(Y)\n",
    "            dense = self.relu(torch.cat(output, 1))\n",
    "\n",
    "        return dense    \n",
    "    \n",
    "class _TransitionLayer(nn.Module):\n",
    "    def __init__(self, in_channels, out_channels):\n",
    "        super().__init__()\n",
    "        \n",
    "        self.relu = nn.ReLU(inplace = True)\n",
    "        self.bn   = nn.BatchNorm2d(num_features = out_channels)\n",
    "        self.conv = nn.Conv2d(in_channels = in_channels, out_channels = out_channels,\n",
    "                              kernel_size = 1, bias = False)\n",
    "        self.avg_pool = nn.AvgPool2d(kernel_size = (2, 1), stride = 2, padding = 0)\n",
    "        \n",
    "    def forward(self, X):\n",
    "        bn = self.bn(self.relu(self.conv(X)))\n",
    "        out = bn\n",
    "        \n",
    "        return out"
   ]
  },
  {
   "cell_type": "code",
   "execution_count": 7,
   "metadata": {},
   "outputs": [],
   "source": [
    "class Resize(nn.Module):\n",
    "    def __init__(self):\n",
    "        super().__init__()\n",
    "        \n",
    "    def forward(self, X):\n",
    "        size = X.shape[0]\n",
    "        return X.view(size, 1, 512, 16)\n",
    "\n",
    "class Autoencoder(nn.Module):\n",
    "    def __init__(self,):\n",
    "        super(Autoencoder, self).__init__()\n",
    "        \n",
    "        self.encoder = nn.Sequential(\n",
    "            _DenseBlock(1, 32, 3, 11),\n",
    "            _TransitionLayer(3*32, 32),\n",
    "            ConvBlock(32, 32, kernel_size = (77, 1))\n",
    "        )\n",
    "        self.decoder = nn.Sequential(\n",
    "            DeconvBlock(32, 1, kernel_size = (77, 1)),\n",
    "        )\n",
    "        \n",
    "    def forward(self, X):\n",
    "        X = self.encoder(X)\n",
    "        X = self.decoder(X)\n",
    "        return X\n",
    "    \n",
    "    \n",
    "device = torch.device(\"cuda:0\" if (torch.cuda.is_available()) else \"cpu\")\n",
    "# device = 'cpu'\n",
    "\n",
    "model = Autoencoder().double().to(device)\n",
    "\n",
    "criterion = nn.MSELoss()\n",
    "optimizer = optim.Adam(model.parameters(), lr = 0.01)\n",
    "scheduler = optim.lr_scheduler.StepLR(optimizer, step_size = 7, gamma = 0.1)"
   ]
  },
  {
   "cell_type": "code",
   "execution_count": 8,
   "metadata": {},
   "outputs": [],
   "source": [
    "n = 13"
   ]
  },
  {
   "cell_type": "code",
   "execution_count": 9,
   "metadata": {},
   "outputs": [
    {
     "name": "stdout",
     "output_type": "stream",
     "text": [
      "Directory Models\\Autoencoders\\ImageGeneration loaded successfully.\n",
      "Epoch 0/9\n",
      "----------\n",
      "train Loss: 0.0801\n",
      "val Loss: 0.0365\n",
      "\n",
      "Epoch 1/9\n",
      "----------\n",
      "train Loss: 0.0367\n",
      "val Loss: 0.0363\n",
      "\n",
      "Epoch 2/9\n",
      "----------\n",
      "train Loss: 0.0346\n",
      "val Loss: 0.0319\n",
      "\n",
      "Epoch 3/9\n",
      "----------\n",
      "train Loss: 0.0288\n",
      "val Loss: 0.0267\n",
      "\n",
      "Epoch 4/9\n",
      "----------\n",
      "train Loss: 0.0271\n",
      "val Loss: 0.0259\n",
      "\n",
      "Epoch 5/9\n",
      "----------\n",
      "train Loss: 0.0266\n",
      "val Loss: 0.0255\n",
      "\n",
      "Epoch 6/9\n",
      "----------\n",
      "train Loss: 0.0241\n",
      "val Loss: 0.0238\n",
      "\n",
      "Epoch 7/9\n",
      "----------\n",
      "train Loss: 0.0232\n",
      "val Loss: 0.0237\n",
      "\n",
      "Epoch 8/9\n",
      "----------\n",
      "train Loss: 0.0233\n",
      "val Loss: 0.0234\n",
      "\n",
      "Epoch 9/9\n",
      "----------\n",
      "train Loss: 0.0230\n",
      "val Loss: 0.0235\n",
      "\n",
      "Training complete in 14m 32s\n",
      "Best val Loss: 0.023418\n"
     ]
    }
   ],
   "source": [
    "n = n + 1\n",
    "modelPath = path('Models\\\\Autoencoders\\\\ImageGeneration')\n",
    "modelName = 'Autoencoder'+str(n)\n",
    "file = open(modelPath/modelName+\".txt\", 'w')\n",
    "\n",
    "model, stats, bestLoss = train(model, dataloaders, criterion, optimizer, scheduler, device,\n",
    "                         num_epochs = 10)\n",
    "\n",
    "file.write(str(model)+\"\\n\\n\")\n",
    "file.write(\"Best Val Loss:{}\\n\\n\".format(bestLoss))\n",
    "file.write(\"Training Loss: {}\\n\\n\".format(stats[0]))\n",
    "file.write(\"Validation Loss: {}\\n\\n\".format(stats[1]))\n",
    "file.close()"
   ]
  },
  {
   "cell_type": "code",
   "execution_count": 22,
   "metadata": {},
   "outputs": [],
   "source": [
    "exemplo = iter(dataloaders['train']).next()['series']\n"
   ]
  },
  {
   "cell_type": "code",
   "execution_count": 23,
   "metadata": {},
   "outputs": [
    {
     "name": "stdout",
     "output_type": "stream",
     "text": [
      "tensor([[[ 0.2575,  0.2018,  0.2351,  ...,  0.0225,  0.0818,  0.4029],\n",
      "         [ 0.2913,  0.2262,  0.3228,  ...,  0.0265,  0.0463,  0.2251],\n",
      "         [ 0.2860,  0.2192,  0.2111,  ...,  0.0704,  0.0596,  0.2060],\n",
      "         ...,\n",
      "         [ 0.1398, -0.1533, -0.0639,  ...,  0.0754,  0.2205,  0.1945],\n",
      "         [ 0.0924, -0.1491, -0.1235,  ...,  0.1123,  0.2013,  0.1759],\n",
      "         [ 0.0797, -0.0626,  0.0498,  ...,  0.0986,  0.1406,  0.1460]]],\n",
      "       dtype=torch.float64)\n",
      "[[[0.07255615 0.07588617 0.0751473  ... 0.07727141 0.07845719 0.08116014]\n",
      "  [0.07034463 0.07424032 0.07616767 ... 0.07565075 0.07842593 0.09017447]\n",
      "  [0.06523217 0.07231819 0.07562773 ... 0.07509585 0.08033561 0.09687521]\n",
      "  ...\n",
      "  [0.08853195 0.09039956 0.09020457 ... 0.0805229  0.08346745 0.09364161]\n",
      "  [0.08660812 0.08684475 0.08705708 ... 0.07773086 0.08070175 0.08809492]\n",
      "  [0.08264273 0.08269333 0.08181514 ... 0.083031   0.08407741 0.08312561]]]\n"
     ]
    }
   ],
   "source": [
    "print(exemplo[0])\n",
    "print(model(exemplo.to(device))[0].cpu().detach().numpy())"
   ]
  },
  {
   "cell_type": "code",
   "execution_count": 24,
   "metadata": {},
   "outputs": [
    {
     "data": {
      "image/png": "[encoded data removed]",
      "text/plain": [
       "<Figure size 1080x1080 with 1 Axes>"
      ]
     },
     "metadata": {
      "needs_background": "light"
     },
     "output_type": "display_data"
    },
    {
     "data": {
      "image/png": "[encoded data removed]",
      "text/plain": [
       "<Figure size 1080x1080 with 1 Axes>"
      ]
     },
     "metadata": {
      "needs_background": "light"
     },
     "output_type": "display_data"
    }
   ],
   "source": [
    "dataVisualization(exemplo[0])\n",
    "dataVisualization(model(exemplo.to(device))[0].cpu().detach().numpy())"
   ]
  },
  {
   "cell_type": "code",
   "execution_count": 25,
   "metadata": {},
   "outputs": [
    {
     "name": "stdout",
     "output_type": "stream",
     "text": [
      "tensor([[[ 0.2575,  0.2018,  0.2351,  ...,  0.0225,  0.0818,  0.4029],\n",
      "         [ 0.2913,  0.2262,  0.3228,  ...,  0.0265,  0.0463,  0.2251],\n",
      "         [ 0.2860,  0.2192,  0.2111,  ...,  0.0704,  0.0596,  0.2060],\n",
      "         ...,\n",
      "         [ 0.1398, -0.1533, -0.0639,  ...,  0.0754,  0.2205,  0.1945],\n",
      "         [ 0.0924, -0.1491, -0.1235,  ...,  0.1123,  0.2013,  0.1759],\n",
      "         [ 0.0797, -0.0626,  0.0498,  ...,  0.0986,  0.1406,  0.1460]]],\n",
      "       dtype=torch.float64)\n",
      "[[[0.07255615 0.07588617 0.0751473  ... 0.07727141 0.07845719 0.08116014]\n",
      "  [0.07034463 0.07424032 0.07616767 ... 0.07565075 0.07842593 0.09017447]\n",
      "  [0.06523217 0.07231819 0.07562773 ... 0.07509585 0.08033561 0.09687521]\n",
      "  ...\n",
      "  [0.08853195 0.09039956 0.09020457 ... 0.0805229  0.08346745 0.09364161]\n",
      "  [0.08660812 0.08684475 0.08705708 ... 0.07773086 0.08070175 0.08809492]\n",
      "  [0.08264273 0.08269333 0.08181514 ... 0.083031   0.08407741 0.08312561]]]\n"
     ]
    }
   ],
   "source": [
    "print(exemplo[0])\n",
    "print(model(exemplo.to(device))[0].cpu().detach().numpy())"
   ]
  },
  {
   "cell_type": "code",
   "execution_count": null,
   "metadata": {},
   "outputs": [],
   "source": []
  }
 ],
 "metadata": {
  "kernelspec": {
   "display_name": "Python 3",
   "language": "python",
   "name": "python3"
  },
  "language_info": {
   "codemirror_mode": {
    "name": "ipython",
    "version": 3
   },
   "file_extension": ".py",
   "mimetype": "text/x-python",
   "name": "python",
   "nbconvert_exporter": "python",
   "pygments_lexer": "ipython3",
   "version": "3.7.6"
  }
 },
 "nbformat": 4,
 "nbformat_minor": 4
}
