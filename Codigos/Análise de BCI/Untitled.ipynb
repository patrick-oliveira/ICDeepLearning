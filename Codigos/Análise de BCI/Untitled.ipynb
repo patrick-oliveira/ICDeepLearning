{
 "cells": [
  {
   "cell_type": "code",
   "execution_count": 1,
   "metadata": {},
   "outputs": [],
   "source": [
    "# %run \"Scripts/dataprep.py\"\n",
    "%load_ext autoreload\n",
    "%autoreload 2\n",
    "import sys\n",
    "sys.path.append('Scripts')\n",
    "\n",
    "import torch\n",
    "import torch.nn as nn\n",
    "import torch.optim as optim\n",
    "import torch.nn.functional as F\n",
    "from torchvision import transforms, utils, models\n",
    "from torch.utils.data import Dataset, DataLoader\n",
    "\n",
    "import pandas as pd\n",
    "import matplotlib.pyplot as plt\n",
    "import numpy as np\n",
    "\n",
    "from utils import *\n",
    "from SSVEPDataset import SSVEPDataset\n",
    "from classes import *\n",
    "from SSVEPDataloader import *\n",
    "\n",
    "from sklearn import preprocessing\n",
    "import os\n",
    "import time\n",
    "import copy\n",
    "from functools import partial\n",
    "\n",
    "def read_data(dataframe):\n",
    "    return torch.tensor(pd.read_csv(dataframe['path'], names = range(1, 16+1), dtype = float).values)\n",
    "\n",
    "def dataVisualization(X):\n",
    "    X = X.squeeze().T\n",
    "    \n",
    "    fig = plt.figure(figsize = (15, 15))\n",
    "    ax = fig.add_subplot()\n",
    "    ax.imshow(X, cmap = 'gray')"
   ]
  },
  {
   "cell_type": "code",
   "execution_count": 3,
   "metadata": {},
   "outputs": [],
   "source": [
    "dataType = '512'\n",
    "data = pd.read_csv('SSVEPDataset_'+dataType+'.csv')\n",
    "dataset = SSVEPDataset(data)\n",
    "\n",
    "batchSize = 16\n",
    "dataloaders, datasetsSizes = SSVEPDataloaders(dataset, batchSize)\n",
    "# example = next(iter(dataloaders['train']))['series']\n",
    "\n",
    "device = torch.device(\"cuda:0\" if (torch.cuda.is_available()) else \"cpu\")\n",
    "# device = 'cpu'"
   ]
  },
  {
   "cell_type": "code",
   "execution_count": 32,
   "metadata": {},
   "outputs": [],
   "source": [
    "exemplo = iter(dataloaders['train']).next()['series']"
   ]
  },
  {
   "cell_type": "code",
   "execution_count": 39,
   "metadata": {},
   "outputs": [],
   "source": [
    "transform = transforms.Compose([\n",
    "                transforms.ToTensor(),\n",
    "                transforms.Normalize(mean=[0],\n",
    "                                     std=[1])\n",
    "            ])"
   ]
  },
  {
   "cell_type": "code",
   "execution_count": 51,
   "metadata": {},
   "outputs": [
    {
     "name": "stdout",
     "output_type": "stream",
     "text": [
      "[[-6.818296e-06 -1.062118e-05  1.715923e-05 ...  1.012539e-05\n",
      "   7.513396e-06  1.192666e-05]\n",
      " [-2.553090e-06 -3.151899e-06  1.845703e-05 ...  7.557974e-06\n",
      "   4.130769e-06  8.793182e-06]\n",
      " [ 3.023112e-06  2.285022e-06  1.373611e-05 ...  3.570052e-06\n",
      "   3.797359e-06  5.191748e-06]\n",
      " ...\n",
      " [ 1.454958e-07 -8.599689e-06  2.569384e-06 ...  2.745817e-07\n",
      "  -3.079348e-06  1.112557e-06]\n",
      " [-2.083038e-06 -8.903886e-06  5.275793e-06 ... -5.962302e-07\n",
      "  -4.263009e-06  4.682228e-07]\n",
      " [-3.578899e-06 -7.435193e-06  1.246767e-05 ... -2.661810e-06\n",
      "  -7.347203e-06  1.684010e-06]]\n",
      "[[-0.06182189 -0.08151051  0.086925   ...  0.0807268   0.05155364\n",
      "   0.1317798 ]\n",
      " [-0.02314902 -0.02418873  0.09349938 ...  0.06025754  0.02834353\n",
      "   0.09715744]\n",
      " [ 0.02741073  0.01753603  0.06958421 ...  0.02846299  0.02605582\n",
      "   0.05736455]\n",
      " ...\n",
      " [ 0.00131922 -0.0659969   0.01301595 ...  0.00218916 -0.02112914\n",
      "   0.01229284]\n",
      " [-0.01888703 -0.06833141  0.02672604 ... -0.00475357 -0.02925091\n",
      "   0.00517348]\n",
      " [-0.03245009 -0.05706017  0.06315856 ... -0.02122184 -0.0504133\n",
      "   0.01860693]]\n"
     ]
    }
   ],
   "source": [
    "temp = exemplo[0].squeeze().numpy()\n",
    "print(temp)\n",
    "temp = preprocessing.normalize(temp, axis = 0)\n",
    "print(temp)"
   ]
  },
  {
   "cell_type": "code",
   "execution_count": 2,
   "metadata": {
    "collapsed": true,
    "jupyter": {
     "outputs_hidden": true
    }
   },
   "outputs": [
    {
     "data": {
      "text/plain": [
       "\u001b[1;31mSignature:\u001b[0m \u001b[0mpreprocessing\u001b[0m\u001b[1;33m.\u001b[0m\u001b[0mnormalize\u001b[0m\u001b[1;33m(\u001b[0m\u001b[0mX\u001b[0m\u001b[1;33m,\u001b[0m \u001b[0mnorm\u001b[0m\u001b[1;33m=\u001b[0m\u001b[1;34m'l2'\u001b[0m\u001b[1;33m,\u001b[0m \u001b[0maxis\u001b[0m\u001b[1;33m=\u001b[0m\u001b[1;36m1\u001b[0m\u001b[1;33m,\u001b[0m \u001b[0mcopy\u001b[0m\u001b[1;33m=\u001b[0m\u001b[1;32mTrue\u001b[0m\u001b[1;33m,\u001b[0m \u001b[0mreturn_norm\u001b[0m\u001b[1;33m=\u001b[0m\u001b[1;32mFalse\u001b[0m\u001b[1;33m)\u001b[0m\u001b[1;33m\u001b[0m\u001b[1;33m\u001b[0m\u001b[0m\n",
       "\u001b[1;31mDocstring:\u001b[0m\n",
       "Scale input vectors individually to unit norm (vector length).\n",
       "\n",
       "Read more in the :ref:`User Guide <preprocessing_normalization>`.\n",
       "\n",
       "Parameters\n",
       "----------\n",
       "X : {array-like, sparse matrix}, shape [n_samples, n_features]\n",
       "    The data to normalize, element by element.\n",
       "    scipy.sparse matrices should be in CSR format to avoid an\n",
       "    un-necessary copy.\n",
       "\n",
       "norm : 'l1', 'l2', or 'max', optional ('l2' by default)\n",
       "    The norm to use to normalize each non zero sample (or each non-zero\n",
       "    feature if axis is 0).\n",
       "\n",
       "axis : 0 or 1, optional (1 by default)\n",
       "    axis used to normalize the data along. If 1, independently normalize\n",
       "    each sample, otherwise (if 0) normalize each feature.\n",
       "\n",
       "copy : boolean, optional, default True\n",
       "    set to False to perform inplace row normalization and avoid a\n",
       "    copy (if the input is already a numpy array or a scipy.sparse\n",
       "    CSR matrix and if axis is 1).\n",
       "\n",
       "return_norm : boolean, default False\n",
       "    whether to return the computed norms\n",
       "\n",
       "Returns\n",
       "-------\n",
       "X : {array-like, sparse matrix}, shape [n_samples, n_features]\n",
       "    Normalized input X.\n",
       "\n",
       "norms : array, shape [n_samples] if axis=1 else [n_features]\n",
       "    An array of norms along given axis for X.\n",
       "    When X is sparse, a NotImplementedError will be raised\n",
       "    for norm 'l1' or 'l2'.\n",
       "\n",
       "See also\n",
       "--------\n",
       "Normalizer: Performs normalization using the ``Transformer`` API\n",
       "    (e.g. as part of a preprocessing :class:`sklearn.pipeline.Pipeline`).\n",
       "\n",
       "Notes\n",
       "-----\n",
       "For a comparison of the different scalers, transformers, and normalizers,\n",
       "see :ref:`examples/preprocessing/plot_all_scaling.py\n",
       "<sphx_glr_auto_examples_preprocessing_plot_all_scaling.py>`.\n",
       "\u001b[1;31mFile:\u001b[0m      c:\\users\\patrick\\anaconda3\\lib\\site-packages\\sklearn\\preprocessing\\_data.py\n",
       "\u001b[1;31mType:\u001b[0m      function\n"
      ]
     },
     "metadata": {},
     "output_type": "display_data"
    }
   ],
   "source": [
    "preprocessing.normalize?"
   ]
  },
  {
   "cell_type": "code",
   "execution_count": 52,
   "metadata": {},
   "outputs": [
    {
     "data": {
      "text/plain": [
       "(array([ 13.,  21.,  54., 105., 138., 105.,  41.,  28.,   4.,   3.]),\n",
       " array([-0.11788762, -0.09109719, -0.06430675, -0.03751631, -0.01072588,\n",
       "         0.01606456,  0.042855  ,  0.06964543,  0.09643587,  0.12322631,\n",
       "         0.15001674]),\n",
       " <a list of 10 Patch objects>)"
      ]
     },
     "execution_count": 52,
     "metadata": {},
     "output_type": "execute_result"
    },
    {
     "data": {
      "image/png": "[encoded data removed]",
      "text/plain": [
       "<Figure size 432x288 with 1 Axes>"
      ]
     },
     "metadata": {
      "needs_background": "light"
     },
     "output_type": "display_data"
    }
   ],
   "source": [
    "fig, ax = plt.subplots()\n",
    "ax.hist(temp.T[0], bins = 10)"
   ]
  },
  {
   "cell_type": "code",
   "execution_count": 20,
   "metadata": {},
   "outputs": [
    {
     "data": {
      "text/plain": [
       "(array([1., 3., 1., 1., 2., 3., 3., 1., 0., 1.]),\n",
       " array([-1.2303220e-05, -9.5964950e-06, -6.8897700e-06, -4.1830450e-06,\n",
       "        -1.4763200e-06,  1.2304050e-06,  3.9371300e-06,  6.6438550e-06,\n",
       "         9.3505800e-06,  1.2057305e-05,  1.4764030e-05]),\n",
       " <a list of 10 Patch objects>)"
      ]
     },
     "execution_count": 20,
     "metadata": {},
     "output_type": "execute_result"
    },
    {
     "data": {
      "image/png": "[encoded data removed]",
      "text/plain": [
       "<Figure size 432x288 with 1 Axes>"
      ]
     },
     "metadata": {
      "needs_background": "light"
     },
     "output_type": "display_data"
    }
   ],
   "source": [
    "fig, ax = plt.subplots()\n",
    "ax.hist(exemplo[0][0][1], bins = 10)"
   ]
  },
  {
   "cell_type": "markdown",
   "metadata": {},
   "source": [
    "***"
   ]
  },
  {
   "cell_type": "code",
   "execution_count": 3,
   "metadata": {},
   "outputs": [],
   "source": [
    "path = 'C:\\\\Users\\\\Patrick\\\\Documents\\\\GitHub\\\\ICDeepLearning\\\\Data\\\\Backup\\\\Originais\\\\512'\n",
    "subjects = os.listdir(path)"
   ]
  },
  {
   "cell_type": "code",
   "execution_count": 38,
   "metadata": {},
   "outputs": [],
   "source": [
    "from copy import deepcopy\n",
    "for subject in subjects:\n",
    "    for state in [1, 2, 3, 4, 5]:\n",
    "        full_data = pd.DataFrame(columns = range(16))\n",
    "        new_path = path+'\\\\'+subject+'\\\\'+str(state)\n",
    "        files = os.listdir(new_path)\n",
    "        for file in files:\n",
    "            data = pd.read_csv(new_path+'\\\\'+file, sep = ' ', header = None).loc[:, 0:15]\n",
    "            full_data = pd.concat([full_data, data])\n",
    "        \n",
    "        full_data.to_csv(new_path+'\\\\full.csv', index = False)"
   ]
  }
 ],
 "metadata": {
  "kernelspec": {
   "display_name": "Python 3",
   "language": "python",
   "name": "python3"
  },
  "language_info": {
   "codemirror_mode": {
    "name": "ipython",
    "version": 3
   },
   "file_extension": ".py",
   "mimetype": "text/x-python",
   "name": "python",
   "nbconvert_exporter": "python",
   "pygments_lexer": "ipython3",
   "version": "3.7.6"
  }
 },
 "nbformat": 4,
 "nbformat_minor": 4
}
