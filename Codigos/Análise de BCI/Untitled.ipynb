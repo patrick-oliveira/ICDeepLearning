{
 "cells": [
  {
   "cell_type": "code",
   "execution_count": 1,
   "metadata": {},
   "outputs": [],
   "source": [
    "# %run \"Scripts/dataprep.py\"\n",
    "%load_ext autoreload\n",
    "%autoreload 2\n",
    "import sys\n",
    "sys.path.append('Scripts')\n",
    "\n",
    "import torch\n",
    "import torch.nn as nn\n",
    "import torch.optim as optim\n",
    "import torch.nn.functional as F\n",
    "from torchvision import transforms, utils, models\n",
    "from torch.utils.data import Dataset, DataLoader\n",
    "\n",
    "import pandas as pd\n",
    "import matplotlib.pyplot as plt\n",
    "import numpy as np\n",
    "\n",
    "from utils import *\n",
    "from SSVEPDataset import SSVEPDataset\n",
    "from classes import *\n",
    "from SSVEPDataloader import *\n",
    "\n",
    "from sklearn import preprocessing\n",
    "import os\n",
    "import time\n",
    "import copy\n",
    "from functools import partial\n",
    "\n",
    "def read_data(dataframe):\n",
    "    return torch.tensor(pd.read_csv(dataframe['path'], names = range(1, 16+1), dtype = float).values)\n",
    "\n",
    "def dataVisualization(X):\n",
    "    X = X.squeeze().T\n",
    "    \n",
    "    fig = plt.figure(figsize = (15, 15))\n",
    "    ax = fig.add_subplot()\n",
    "    ax.imshow(X, cmap = 'gray')"
   ]
  },
  {
   "cell_type": "code",
   "execution_count": 2,
   "metadata": {},
   "outputs": [],
   "source": [
    "dataType = '512'\n",
    "data = pd.read_csv('SSVEPDataset_'+dataType+'.csv')\n",
    "dataset = SSVEPDataset(data)\n",
    "\n",
    "batchSize = 16\n",
    "dataloaders, datasetsSizes = SSVEPDataloaders(dataset, batchSize)\n",
    "# example = next(iter(dataloaders['train']))['series']\n",
    "\n",
    "device = torch.device(\"cuda:0\" if (torch.cuda.is_available()) else \"cpu\")\n",
    "# device = 'cpu'"
   ]
  },
  {
   "cell_type": "code",
   "execution_count": 3,
   "metadata": {},
   "outputs": [],
   "source": [
    "exemplo = iter(dataloaders['train']).next()['series']"
   ]
  },
  {
   "cell_type": "code",
   "execution_count": 25,
   "metadata": {},
   "outputs": [
    {
     "data": {
      "text/plain": [
       "array([ 8.745334e-06, -4.960007e-06, -6.310140e-06, -1.729158e-06,\n",
       "        1.940045e-06,  1.520842e-07,  6.406735e-06, -9.586012e-06,\n",
       "       -6.364327e-07, -3.857083e-06,  3.723009e-06,  1.941128e-05,\n",
       "       -3.954186e-06,  1.298264e-06,  8.346640e-07, -1.147840e-05])"
      ]
     },
     "execution_count": 25,
     "metadata": {},
     "output_type": "execute_result"
    }
   ],
   "source": [
    "temp.numpy()"
   ]
  },
  {
   "cell_type": "code",
   "execution_count": 46,
   "metadata": {},
   "outputs": [],
   "source": [
    "temp = exemplo[0]\n",
    "transform = transforms.Compose([\n",
    "                transforms.ToTensor(),\n",
    "                transforms.Normalize(mean=[0],\n",
    "                                     std=[10])\n",
    "            ])"
   ]
  },
  {
   "cell_type": "code",
   "execution_count": 47,
   "metadata": {
    "collapsed": true,
    "jupyter": {
     "outputs_hidden": true
    }
   },
   "outputs": [
    {
     "name": "stdout",
     "output_type": "stream",
     "text": [
      "tensor([[[ 8.7453e-06, -4.9600e-06, -6.3101e-06,  ...,  1.2983e-06,\n",
      "           8.3466e-07, -1.1478e-05],\n",
      "         [-4.2176e-06,  4.2323e-06, -1.2303e-05,  ...,  2.4556e-06,\n",
      "           5.2304e-06, -6.9429e-06],\n",
      "         [-6.5819e-06,  2.0908e-05, -7.8848e-06,  ..., -4.6542e-07,\n",
      "           3.5678e-06, -2.1380e-06],\n",
      "         ...,\n",
      "         [-4.2319e-06, -1.7032e-05, -3.6567e-06,  ...,  3.5395e-06,\n",
      "           4.1876e-07,  5.5776e-06],\n",
      "         [-8.3480e-06, -9.2296e-06, -7.7801e-06,  ...,  3.5227e-06,\n",
      "           2.2672e-06,  7.3274e-06],\n",
      "         [-1.6241e-05, -4.5076e-06, -1.2887e-05,  ...,  3.6085e-06,\n",
      "           4.0421e-06,  9.4512e-06]]], dtype=torch.float64)\n",
      "tensor([[ 8.7453e-07, -4.2176e-07, -6.5819e-07,  4.1195e-09,  1.0103e-06,\n",
      "          1.9182e-06,  1.6265e-06,  8.3292e-08, -7.1839e-07,  9.1577e-08,\n",
      "          9.1991e-07,  7.4892e-07,  1.9793e-07, -3.4310e-07, -7.0862e-07,\n",
      "         -2.7470e-07,  7.3739e-07,  1.2143e-06,  1.0757e-06,  9.2650e-07,\n",
      "          4.6162e-07, -6.2301e-07, -1.5901e-06, -1.7558e-06, -1.1155e-06,\n",
      "         -1.1525e-07,  3.0338e-07, -3.5293e-07, -1.3224e-06, -1.8767e-06,\n",
      "         -2.1279e-06, -1.9445e-06, -1.0127e-06, -2.2318e-09,  3.1161e-07,\n",
      "          3.9259e-07,  7.3506e-07,  7.8918e-07,  4.9084e-07,  8.1628e-07,\n",
      "          1.8862e-06,  2.5924e-06,  1.9228e-06, -1.9413e-07, -2.2676e-06,\n",
      "         -2.5370e-06, -1.4327e-06, -5.9440e-07, -3.0375e-07,  3.1521e-08,\n",
      "          6.4507e-07,  1.5081e-06,  1.7382e-06,  3.9256e-07, -1.1026e-06,\n",
      "         -7.5526e-07,  5.0329e-07,  6.0569e-07, -3.7605e-07, -1.0739e-06,\n",
      "         -1.0190e-06, -4.3836e-07,  5.5729e-07,  1.3785e-06,  1.1893e-06,\n",
      "          3.0051e-07, -3.2690e-07, -5.9667e-07, -7.0875e-07, -2.5674e-07,\n",
      "          4.8863e-07,  2.8094e-07, -8.2606e-07, -1.1378e-06,  1.0911e-07,\n",
      "          1.6028e-06,  1.9075e-06,  1.4927e-06,  1.5390e-06,  1.6220e-06,\n",
      "          8.7229e-07,  2.1251e-07,  6.3631e-07,  9.5425e-07, -5.5136e-08,\n",
      "         -1.3118e-06, -1.5514e-06, -1.4949e-06, -1.8001e-06, -1.4675e-06,\n",
      "         -3.4739e-07,  3.7170e-08, -4.5843e-07, -5.9668e-07, -4.2647e-07,\n",
      "         -4.0291e-07, -4.2126e-10,  5.7183e-07,  2.0861e-07, -7.6411e-07,\n",
      "         -9.6364e-07, -2.4402e-07,  4.3048e-07,  3.7526e-07, -2.7368e-07,\n",
      "         -6.4980e-07, -1.8673e-07,  3.6412e-07, -4.8353e-08, -9.1860e-07,\n",
      "         -6.4468e-07,  1.1851e-06,  3.1071e-06,  3.2077e-06,  1.1152e-06,\n",
      "         -1.1564e-06, -1.5283e-06, -4.9959e-07,  2.8381e-07,  3.4560e-07,\n",
      "         -4.8129e-08, -5.0728e-07, -4.9415e-07, -1.6314e-07, -2.8411e-07,\n",
      "         -4.9099e-07,  4.8346e-07,  2.1123e-06,  2.1090e-06, -1.3610e-08,\n",
      "         -1.9114e-06, -1.8218e-06, -6.9542e-07, -2.3456e-07, -8.3697e-07,\n",
      "         -1.5174e-06, -1.0935e-06,  9.8487e-08,  7.2420e-07,  6.1462e-07,\n",
      "          3.7315e-07, -1.7221e-08, -4.4732e-07, -3.5758e-07,  1.0066e-07,\n",
      "          2.8142e-07,  1.8642e-07,  1.2701e-07,  1.4191e-09, -1.9473e-07,\n",
      "         -9.2205e-08,  3.0000e-07,  5.7938e-07,  7.0208e-07,  9.0518e-07,\n",
      "          1.1466e-06,  1.2135e-06,  1.0716e-06,  9.1219e-07,  1.0566e-06,\n",
      "          1.2826e-06,  6.6822e-07, -8.7787e-07, -2.2486e-06, -2.8267e-06,\n",
      "         -2.7093e-06, -1.9147e-06, -9.3836e-07, -4.8830e-07, -1.4595e-07,\n",
      "          6.8656e-07,  1.3215e-06,  1.0304e-06,  1.3712e-07, -7.9657e-07,\n",
      "         -1.1743e-06, -3.7786e-07,  9.5506e-07,  1.2900e-06,  7.0915e-07,\n",
      "          5.4910e-07,  6.0607e-07, -1.2833e-07, -9.7766e-07, -6.8757e-07,\n",
      "          4.4281e-07,  1.3981e-06,  1.9802e-06,  2.1363e-06,  1.3186e-06,\n",
      "         -2.0453e-07, -1.2949e-06, -1.6012e-06, -1.3358e-06, -5.0588e-07,\n",
      "          4.8925e-07,  1.1468e-06,  1.3634e-06,  9.0662e-07, -1.5784e-07,\n",
      "         -1.0314e-06, -1.2761e-06, -1.0630e-06, -3.3077e-07,  5.3131e-07,\n",
      "          3.6432e-07, -5.5345e-07, -5.9020e-07,  8.0145e-08,  5.3650e-08,\n",
      "         -2.3629e-07,  9.7041e-08,  9.2700e-08, -8.8360e-07, -1.9673e-06,\n",
      "         -2.6390e-06, -2.4783e-06, -1.0954e-06,  1.7816e-07, -1.4529e-07,\n",
      "         -1.1337e-06, -1.0373e-06,  2.9116e-07,  1.7894e-06,  2.4636e-06,\n",
      "          2.1890e-06,  1.8682e-06,  2.1557e-06,  2.3106e-06,  1.5654e-06,\n",
      "          6.6031e-07,  4.0068e-07,  1.3060e-07, -7.7593e-07, -1.6282e-06,\n",
      "         -1.7286e-06, -1.2298e-06, -5.1209e-07, -5.2425e-09,  5.2481e-08,\n",
      "          8.8275e-08,  5.5091e-07,  1.1452e-06,  1.3267e-06,  1.0995e-06,\n",
      "          8.2479e-07,  7.1231e-07,  8.1302e-07,  7.8078e-07,  1.1571e-07,\n",
      "         -6.2147e-07, -4.8881e-07, -3.5463e-08, -1.8908e-07, -5.7273e-07,\n",
      "         -7.3524e-07, -8.2713e-07, -7.0208e-07, -5.0489e-07, -8.6271e-07,\n",
      "         -1.4730e-06, -1.6352e-06, -1.6277e-06, -1.8173e-06, -1.8854e-06,\n",
      "         -1.5786e-06, -8.2531e-07,  5.4598e-07,  2.1189e-06,  2.7720e-06,\n",
      "          2.1047e-06,  9.8288e-07,  1.5257e-08, -1.0833e-06, -1.9620e-06,\n",
      "         -1.7192e-06, -7.0045e-07,  1.2887e-07,  7.2538e-07,  1.4254e-06,\n",
      "          2.1206e-06,  2.3753e-06,  1.8888e-06,  1.0520e-06,  6.0454e-07,\n",
      "          4.6768e-07, -1.1624e-07, -1.0764e-06, -1.4662e-06, -9.7552e-07,\n",
      "         -5.4230e-09,  1.1049e-06,  1.5825e-06,  6.3524e-07, -9.4465e-07,\n",
      "         -1.7292e-06, -1.6707e-06, -1.3309e-06, -5.7022e-07,  7.1965e-07,\n",
      "          1.7160e-06,  1.5136e-06,  3.8100e-07, -6.1771e-07, -5.5593e-07,\n",
      "          6.1169e-07,  1.5474e-06,  1.1379e-06,  1.1319e-07, -5.9197e-07,\n",
      "         -1.0840e-06, -1.1378e-06, -3.8530e-07,  3.2101e-07,  1.6242e-07,\n",
      "         -4.9593e-07, -1.1892e-06, -1.6558e-06, -1.5417e-06, -1.0986e-06,\n",
      "         -9.4843e-07, -9.3370e-07, -7.7384e-07, -8.3160e-07, -8.8347e-07,\n",
      "         -7.7293e-08,  1.6047e-06,  3.3947e-06,  4.2327e-06,  3.1266e-06,\n",
      "          8.2417e-07, -2.4629e-07,  4.9136e-07,  9.2245e-07,  5.4115e-08,\n",
      "         -8.7089e-07, -1.1946e-06, -1.3839e-06, -1.5202e-06, -1.5201e-06,\n",
      "         -1.3879e-06, -7.0237e-07,  4.1851e-07,  1.0598e-06,  1.3099e-06,\n",
      "          1.7995e-06,  1.5248e-06, -4.7688e-07, -2.3893e-06, -2.2270e-06,\n",
      "         -9.6029e-07, -8.4134e-08,  4.7223e-07,  6.5806e-07,  2.4539e-07,\n",
      "         -8.6810e-08, -1.3516e-07, -4.0050e-07, -3.1176e-07,  7.2077e-07,\n",
      "          1.5509e-06,  1.2706e-06,  7.6508e-07,  5.7909e-07,  8.4617e-08,\n",
      "         -4.4583e-07, -8.6567e-08,  9.1399e-07,  1.6814e-06,  1.3890e-06,\n",
      "         -2.1113e-07, -1.5816e-06, -1.0822e-06,  3.6161e-07,  7.2961e-07,\n",
      "         -1.9934e-07, -1.2275e-06, -1.6176e-06, -1.3916e-06, -9.9293e-07,\n",
      "         -8.2442e-07, -5.5352e-07, -3.1552e-08, -1.2775e-07, -9.0885e-07,\n",
      "         -9.8825e-07, -7.8755e-08,  3.4650e-07, -1.2208e-07, -5.0224e-08,\n",
      "          9.6843e-07,  1.3838e-06,  4.4955e-07, -6.8844e-07, -1.1414e-06,\n",
      "         -8.3498e-07,  3.3563e-07,  1.5675e-06,  1.6707e-06,  1.0554e-06,\n",
      "          5.6682e-07,  1.8992e-07,  2.8395e-07,  9.9396e-07,  1.1041e-06,\n",
      "          1.7866e-07, -5.3888e-07, -5.9454e-07, -5.8622e-07, -3.3027e-07,\n",
      "          2.0486e-07, -1.7666e-09, -6.9720e-07, -4.9520e-07, -5.3260e-08,\n",
      "         -8.9762e-07, -2.0694e-06, -1.6224e-06,  2.2674e-07,  1.6025e-06,\n",
      "          1.4065e-06,  6.1092e-07,  9.0581e-07,  1.8297e-06,  1.3643e-06,\n",
      "         -2.4627e-07, -9.1436e-07, -5.1144e-07, -2.5858e-07, -2.2978e-07,\n",
      "         -3.3503e-07, -7.1078e-07, -4.8998e-07,  6.4861e-07,  1.1586e-06,\n",
      "          1.8182e-07, -8.3528e-07, -6.1706e-07,  1.0002e-07,  3.3454e-07,\n",
      "          2.5841e-07,  2.4326e-07,  1.9671e-07, -2.5669e-07, -1.2356e-06,\n",
      "         -1.9118e-06, -1.3273e-06,  2.6648e-08,  8.2816e-07,  8.6804e-07,\n",
      "          9.9427e-07,  1.5224e-06,  1.8527e-06,  1.3491e-06,  1.4797e-07,\n",
      "         -7.3877e-07, -6.7015e-07, -4.6789e-07, -8.8340e-07, -1.1104e-06,\n",
      "         -6.7076e-07, -5.2371e-07, -7.6740e-07, -5.8051e-07, -5.4024e-07,\n",
      "         -1.3063e-06, -1.7721e-06, -1.2837e-06, -8.5014e-07, -9.9369e-07,\n",
      "         -1.0753e-06, -6.7966e-07,  1.1651e-07,  1.1184e-06,  1.6945e-06,\n",
      "          1.1555e-06,  7.1731e-08, -1.4507e-07,  7.5945e-07,  1.8199e-06,\n",
      "          2.2000e-06,  1.7443e-06,  1.2284e-06,  1.6638e-06,  2.6591e-06,\n",
      "          2.7293e-06,  1.5847e-06,  3.3006e-07, -5.7673e-07, -1.1917e-06,\n",
      "         -9.7133e-07, -2.6170e-08,  4.9420e-07,  1.6623e-07, -5.1472e-07,\n",
      "         -1.0635e-06, -9.6598e-07, -3.1799e-07, -4.3434e-07, -1.6443e-06,\n",
      "         -2.0587e-06, -7.5877e-07,  7.0606e-07,  1.1410e-06,  7.4963e-07,\n",
      "         -1.8037e-07, -1.1249e-06, -1.2533e-06, -6.9856e-07, -4.2319e-07,\n",
      "         -8.3480e-07, -1.6241e-06]], dtype=torch.float64)\n"
     ]
    }
   ],
   "source": [
    "print(temp)\n",
    "temp = transform(temp.numpy())[0]\n",
    "print(temp)"
   ]
  },
  {
   "cell_type": "code",
   "execution_count": 41,
   "metadata": {},
   "outputs": [
    {
     "data": {
      "text/plain": [
       "(array([ 10.,  42.,  88., 126., 110.,  78.,  40.,  13.,   4.,   1.]),\n",
       " array([-2.8267320e-05, -2.1207922e-05, -1.4148524e-05, -7.0891260e-06,\n",
       "        -2.9728000e-08,  7.0296700e-06,  1.4089068e-05,  2.1148466e-05,\n",
       "         2.8207864e-05,  3.5267262e-05,  4.2326660e-05]),\n",
       " <a list of 10 Patch objects>)"
      ]
     },
     "execution_count": 41,
     "metadata": {},
     "output_type": "execute_result"
    },
    {
     "data": {
      "image/png": "[encoded data removed]",
      "text/plain": [
       "<Figure size 432x288 with 1 Axes>"
      ]
     },
     "metadata": {
      "needs_background": "light"
     },
     "output_type": "display_data"
    }
   ],
   "source": [
    "fig, ax = plt.subplots()\n",
    "ax.hist(temp[0], bins = 10)"
   ]
  },
  {
   "cell_type": "code",
   "execution_count": 20,
   "metadata": {},
   "outputs": [
    {
     "data": {
      "text/plain": [
       "(array([1., 3., 1., 1., 2., 3., 3., 1., 0., 1.]),\n",
       " array([-1.2303220e-05, -9.5964950e-06, -6.8897700e-06, -4.1830450e-06,\n",
       "        -1.4763200e-06,  1.2304050e-06,  3.9371300e-06,  6.6438550e-06,\n",
       "         9.3505800e-06,  1.2057305e-05,  1.4764030e-05]),\n",
       " <a list of 10 Patch objects>)"
      ]
     },
     "execution_count": 20,
     "metadata": {},
     "output_type": "execute_result"
    },
    {
     "data": {
      "image/png": "[encoded data removed]",
      "text/plain": [
       "<Figure size 432x288 with 1 Axes>"
      ]
     },
     "metadata": {
      "needs_background": "light"
     },
     "output_type": "display_data"
    }
   ],
   "source": [
    "fig, ax = plt.subplots()\n",
    "ax.hist(exemplo[0][0][1], bins = 10)"
   ]
  },
  {
   "cell_type": "code",
   "execution_count": null,
   "metadata": {},
   "outputs": [],
   "source": []
  }
 ],
 "metadata": {
  "kernelspec": {
   "display_name": "Python 3",
   "language": "python",
   "name": "python3"
  },
  "language_info": {
   "codemirror_mode": {
    "name": "ipython",
    "version": 3
   },
   "file_extension": ".py",
   "mimetype": "text/x-python",
   "name": "python",
   "nbconvert_exporter": "python",
   "pygments_lexer": "ipython3",
   "version": "3.7.6"
  }
 },
 "nbformat": 4,
 "nbformat_minor": 4
}
