{
 "cells": [
  {
   "cell_type": "code",
   "execution_count": 56,
   "id": "raising-draft",
   "metadata": {},
   "outputs": [],
   "source": [
    "import numpy as np\n",
    "from typing import Dict"
   ]
  },
  {
   "cell_type": "markdown",
   "id": "commercial-promotion",
   "metadata": {},
   "source": [
    "- Jesús Monge-Álvarez (2021). A set of Entropy measures for temporal series (1D signals) (https://www.mathworks.com/matlabcentral/fileexchange/50289-a-set-of-entropy-measures-for-temporal-series-1d-signals), MATLAB Central File Exchange. Retrieved March 15, 2021. "
   ]
  },
  {
   "cell_type": "code",
   "execution_count": 41,
   "id": "cross-paraguay",
   "metadata": {},
   "outputs": [],
   "source": [
    "sample = np.random.randn(50, 512)\n",
    "series = sample[0]"
   ]
  },
  {
   "cell_type": "code",
   "execution_count": 44,
   "id": "aerial-carbon",
   "metadata": {},
   "outputs": [],
   "source": [
    "def normalize(array: np.array) -> np.array:\n",
    "    '''\n",
    "    Input:\n",
    "        array: a numpy array of dimension m x n, where m := number of samples and n := vector size.\n",
    "    '''\n",
    "    return (array - array.mean())/(array.std())"
   ]
  },
  {
   "cell_type": "code",
   "execution_count": 46,
   "id": "ranging-agent",
   "metadata": {},
   "outputs": [],
   "source": [
    "epsilon = (series.max() - series.min())/20"
   ]
  },
  {
   "cell_type": "code",
   "execution_count": 53,
   "id": "foster-league",
   "metadata": {},
   "outputs": [
    {
     "data": {
      "text/plain": [
       "array([-2.90478599, -2.59285383, -2.28092167, -1.96898951, -1.65705735,\n",
       "       -1.34512519, -1.03319303, -0.72126088, -0.40932872, -0.09739656,\n",
       "        0.2145356 ,  0.52646776,  0.83839992,  1.15033208,  1.46226424,\n",
       "        1.7741964 ,  2.08612856,  2.39806072,  2.70999288,  3.02192504])"
      ]
     },
     "execution_count": 53,
     "metadata": {},
     "output_type": "execute_result"
    }
   ],
   "source": [
    "np.linspace(series.min(), series.max(), 20)"
   ]
  },
  {
   "cell_type": "code",
   "execution_count": 54,
   "id": "virgin-moment",
   "metadata": {},
   "outputs": [
    {
     "data": {
      "text/plain": [
       "-2.9047859911428344"
      ]
     },
     "execution_count": 54,
     "metadata": {},
     "output_type": "execute_result"
    }
   ],
   "source": [
    "series.min()"
   ]
  },
  {
   "cell_type": "code",
   "execution_count": 58,
   "id": "greek-danger",
   "metadata": {},
   "outputs": [],
   "source": [
    "def quantiz(series: np.array, partition: np.array, codebook: Dict):\n",
    "    "
   ]
  },
  {
   "cell_type": "code",
   "execution_count": null,
   "id": "decreased-pharmacology",
   "metadata": {},
   "outputs": [],
   "source": [
    "def ShannonEntropy(series: np.array, L: int, num_int: int) -> float:\n",
    "    '''\n",
    "    Input:\n",
    "        series: a time series (numpy array).\n",
    "        L: embedding dimension.\n",
    "        num_int: number of uniform intervals used in the quantification of the series.\n",
    "    Output:\n",
    "        SE: the Shannon Entropy value.\n",
    "    '''\n",
    "    series = normalize(series)\n",
    "    \n",
    "    partition = np.linspace(series.min(), series.max(), num_int)"
   ]
  }
 ],
 "metadata": {
  "kernelspec": {
   "display_name": "Python 3",
   "language": "python",
   "name": "python3"
  },
  "language_info": {
   "codemirror_mode": {
    "name": "ipython",
    "version": 3
   },
   "file_extension": ".py",
   "mimetype": "text/x-python",
   "name": "python",
   "nbconvert_exporter": "python",
   "pygments_lexer": "ipython3",
   "version": "3.8.5"
  }
 },
 "nbformat": 4,
 "nbformat_minor": 5
}
