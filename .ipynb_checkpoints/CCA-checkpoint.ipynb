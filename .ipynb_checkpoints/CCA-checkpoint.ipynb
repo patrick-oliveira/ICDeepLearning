{
 "cells": [
  {
   "cell_type": "code",
   "execution_count": 1,
   "id": "productive-participant",
   "metadata": {},
   "outputs": [],
   "source": [
    "%load_ext autoreload\n",
    "%autoreload 2"
   ]
  },
  {
   "cell_type": "code",
   "execution_count": 2,
   "id": "featured-newspaper",
   "metadata": {},
   "outputs": [],
   "source": [
    "from Project import Project\n",
    "\n",
    "import numpy as np\n",
    "import matplotlib.pyplot as plt\n",
    "from sklearn.cross_decomposition import CCA\n",
    "from typing import List\n",
    "import os\n",
    "from pathlib import Path\n",
    "\n",
    "from Scripts.datahandling.BenchmarkDataset import BenchmarkDataset\n",
    "from Scripts.datahandling.Dataloader import Dataloader"
   ]
  },
  {
   "cell_type": "code",
   "execution_count": 114,
   "id": "middle-boxing",
   "metadata": {},
   "outputs": [],
   "source": [
    "def normalize(X: np.array, varAxis: int = 1) -> np.array:\n",
    "    '''\n",
    "    varAxis \n",
    "    '''\n",
    "    return (X - np.mean(X, axis = 0))/np.std(X, axis = 0) if varAxis == 1 else (X - np.mean(X, axis = 1))/np.std(X, axis = 1)\n",
    "\n",
    "def referenceSignal(f: float, Nh: int, Fs: int, N: int) -> np.array:\n",
    "    '''\n",
    "    f: reference frequency\n",
    "    Nh: number of harmonics\n",
    "    Fs: sampling rate\n",
    "    N: number of time samples\n",
    "    '''\n",
    "    t = np.asarray(range(1, N + 1))/Fs\n",
    "    return np.vstack(np.asarray([[np.sin(2*np.pi*Ni*f*t), np.cos(2*np.pi*Ni*f*t)] for Ni in range(1, Nh + 1)]))"
   ]
  },
  {
   "cell_type": "code",
   "execution_count": 139,
   "id": "juvenile-lesbian",
   "metadata": {},
   "outputs": [],
   "source": [
    "Y = np.vstack([referenceSignal(f, 2, 250, 500) for f in np.arange(8, 15.8 + 0.2, 0.2)]).T\n",
    "Y = normalize(Y)\n",
    "\n",
    "ca = CCA(n_components = 64, max_iter = 2000)\n",
    "\n",
    "base_path = Project.tsinghua_raw_dir / 'benchmark' / 'separated_500'\n",
    "outp_path = Project.tsinghua_cca_dir / 'benchmark' / 'separated_500'\n",
    "\n",
    "def part1():\n",
    "    for C in range(1, 20 + 1):\n",
    "        for file in os.listdir(base_path / str(C)):\n",
    "            X = normalize(np.loadtxt((base_path / str(C) / file).__str__()))\n",
    "            ca.fit(X, Y)\n",
    "            X_c, Y_c = ca.transform(X, Y)\n",
    "            (outp_path / str(C)).mkdir(parents = True, exist_ok = True)\n",
    "            np.savetxt((outp_path / str(C) / file).__str__(), X_c)\n",
    "            \n",
    "def part2():\n",
    "    for C in range(21, 40 + 1):\n",
    "        for file in os.listdir(base_path / str(C)):\n",
    "            X = normalize(np.loadtxt((base_path / str(C) / file).__str__()))\n",
    "            ca.fit(X, Y)\n",
    "            X_c, Y_c = ca.transform(X, Y)\n",
    "            (outp_path / str(C)).mkdir(parents = True, exist_ok = True)\n",
    "            np.savetxt((outp_path / str(C) / file).__str__(), X_c)"
   ]
  },
  {
   "cell_type": "code",
   "execution_count": 3,
   "id": "advanced-purse",
   "metadata": {},
   "outputs": [
    {
     "name": "stderr",
     "output_type": "stream",
     "text": [
      "2021-04-07 17:12:24,621\tINFO services.py:1172 -- View the Ray dashboard at \u001b[1m\u001b[32mhttp://127.0.0.1:8265\u001b[39m\u001b[22m\n",
      "2021-04-07 20:20:50,802\tERROR import_thread.py:89 -- ImportThread: Error while reading from socket: (10054, 'An existing connection was forcibly closed by the remote host', None, 10054, None)\n",
      "2021-04-07 20:20:50,810\tERROR worker.py:1109 -- listen_error_messages_raylet: Error while reading from socket: (10054, 'An existing connection was forcibly closed by the remote host', None, 10054, None)\n",
      "2021-04-07 20:20:50,813\tERROR worker.py:919 -- print_logs: Error while reading from socket: (10054, 'An existing connection was forcibly closed by the remote host', None, 10054, None)\n"
     ]
    }
   ],
   "source": [
    "%run CCA.py"
   ]
  }
 ],
 "metadata": {
  "kernelspec": {
   "display_name": "Python 3",
   "language": "python",
   "name": "python3"
  },
  "language_info": {
   "codemirror_mode": {
    "name": "ipython",
    "version": 3
   },
   "file_extension": ".py",
   "mimetype": "text/x-python",
   "name": "python",
   "nbconvert_exporter": "python",
   "pygments_lexer": "ipython3",
   "version": "3.8.5"
  }
 },
 "nbformat": 4,
 "nbformat_minor": 5
}
