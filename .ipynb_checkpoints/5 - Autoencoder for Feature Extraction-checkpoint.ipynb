{
 "cells": [
  {
   "cell_type": "code",
   "execution_count": 1,
   "metadata": {},
   "outputs": [],
   "source": [
    "%load_ext autoreload\n",
    "%autoreload 2"
   ]
  },
  {
   "cell_type": "code",
   "execution_count": 2,
   "metadata": {},
   "outputs": [],
   "source": [
    "from Project import Project"
   ]
  },
  {
   "cell_type": "code",
   "execution_count": 3,
   "metadata": {},
   "outputs": [],
   "source": [
    "import torch\n",
    "import torch.nn as nn\n",
    "import torch.optim as optim\n",
    "from torchsummary import summary\n",
    "\n",
    "import pandas as pd\n",
    "import numpy as np\n",
    "import matplotlib.pyplot as plt\n",
    "\n",
    "from Scripts.neuralnets.NNTrainingUtils import train_autoencoder\n",
    "from Scripts.neuralnets.NNPreinstalledModelSelection import *\n",
    "from Scripts.neuralnets.NNTrainingUtils import train, kfold_train\n",
    "from Scripts.data.SSVEPDataset import SSVEPDataset\n",
    "from Scripts.data.SSVEPDataloader import SSVEPDataloader"
   ]
  },
  {
   "cell_type": "code",
   "execution_count": 4,
   "metadata": {},
   "outputs": [],
   "source": [
    "ngpu = 1; device = torch.device(\"cuda:0\" if (torch.cuda.is_available() and ngpu > 0) else \"cpu\")"
   ]
  },
  {
   "cell_type": "markdown",
   "metadata": {},
   "source": [
    "***"
   ]
  },
  {
   "cell_type": "code",
   "execution_count": 5,
   "metadata": {},
   "outputs": [],
   "source": [
    "def read_data(dataframe):\n",
    "    return torch.tensor(pd.read_csv(dataframe['path'], sep = ' ', header = None, dtype = float).values)\n",
    "\n",
    "def dataVisualization(X1, X2, save = False, filename = None):\n",
    "    fig, axs = plt.subplots(nrows = 2, ncols = 1)\n",
    "    \n",
    "    fig.set_size_inches(12, 5)\n",
    "    fig.subplots_adjust(hspace = 0)\n",
    "    \n",
    "    for ax in axs:\n",
    "        ax.xaxis.set_major_formatter(plt.NullFormatter())\n",
    "        ax.yaxis.set_major_formatter(plt.NullFormatter())\n",
    "    \n",
    "    axs[0].imshow(X1, cmap = 'gray'); axs[0].set_title(\"Original\")\n",
    "    axs[1].imshow(X2, cmap = 'gray'); axs[1].set_title(\"Autoencoder's Output\")\n",
    "    \n",
    "    if save: fig.savefig(filename)\n",
    "    \n",
    "    return fig, axs\n",
    "\n",
    "def EncoderVisualization(model, data, save = False, filename = None):\n",
    "    fig, ax = plt.subplots(nrows = 1, ncols = 1)\n",
    "    fig.set_size_inches(15, 15)\n",
    "    fig.tight_layout()\n",
    "    ax.xaxis.set_major_formatter(plt.NullFormatter())\n",
    "    ax.yaxis.set_major_formatter(plt.NullFormatter())\n",
    "    \n",
    "    image = model.encode(data).detach()[0]\n",
    "    image = (image.transpose(0, 2).transpose(0, 1).numpy())\n",
    "    ax.imshow(image)\n",
    "    if save: fig.savefig(filename)\n",
    "        \n",
    "    return fig, axs"
   ]
  },
  {
   "cell_type": "markdown",
   "metadata": {},
   "source": [
    "***"
   ]
  },
  {
   "cell_type": "code",
   "execution_count": 16,
   "metadata": {},
   "outputs": [],
   "source": [
    "preprocessing = 'cca'\n",
    "signal_length = '512'\n",
    "data = pd.read_csv((Project.output_dir / ('SSVEPDataset_'+signal_length+'.csv')).__str__(), dtype = 'str')\n",
    "dataset = SSVEPDataset(Project, preprocessing, data, signal_length)"
   ]
  },
  {
   "cell_type": "code",
   "execution_count": 7,
   "metadata": {},
   "outputs": [
    {
     "name": "stdout",
     "output_type": "stream",
     "text": [
      "{'train': 8716, 'val': 2178}\n"
     ]
    }
   ],
   "source": [
    "batch_size = 64\n",
    "dataloaders, dataset_sizes = SSVEPDataloader(dataset, batch_size)\n",
    "print(dataset_sizes)"
   ]
  },
  {
   "cell_type": "code",
   "execution_count": 8,
   "metadata": {},
   "outputs": [],
   "source": [
    "from Models.Autoencoder1 import Autoencoder"
   ]
  },
  {
   "cell_type": "code",
   "execution_count": 9,
   "metadata": {},
   "outputs": [
    {
     "name": "stdout",
     "output_type": "stream",
     "text": [
      "----------------------------------------------------------------\n",
      "        Layer (type)               Output Shape         Param #\n",
      "================================================================\n",
      "            Conv2d-1            [-1, 3, 16, 32]              36\n",
      "       BatchNorm2d-2            [-1, 3, 16, 32]               6\n",
      "              ReLU-3            [-1, 3, 16, 32]               0\n",
      "         MaxPool2d-4  [[-1, 3, 16, 16], [-1, 3, 16, 16]]               0\n",
      "       MaxUnpool2d-5            [-1, 3, 16, 32]               0\n",
      "   ConvTranspose2d-6           [-1, 1, 16, 128]              34\n",
      "================================================================\n",
      "Total params: 76\n",
      "Trainable params: 76\n",
      "Non-trainable params: 0\n",
      "----------------------------------------------------------------\n",
      "Input size (MB): 0.01\n",
      "Forward/backward pass size (MB): 4.44\n",
      "Params size (MB): 0.00\n",
      "Estimated Total Size (MB): 4.45\n",
      "----------------------------------------------------------------\n"
     ]
    }
   ],
   "source": [
    "model = Autoencoder(kernel_n = 5, stride = 4).to(device)\n",
    "summary(model, (1, 16, 128))"
   ]
  },
  {
   "cell_type": "code",
   "execution_count": 10,
   "metadata": {},
   "outputs": [],
   "source": [
    "criterion = nn.MSELoss()\n",
    "optimizer = optim.SGD(model.parameters(), lr = 0.0001, momentum = 0.9)\n",
    "# scheduler = optim.lr_scheduler.StepLR(optimizer, step_size = 5, gamma = 0.5)"
   ]
  },
  {
   "cell_type": "code",
   "execution_count": null,
   "metadata": {},
   "outputs": [],
   "source": [
    "model, stats = train_autoencoder(Project, model, dataloaders, dataset_sizes, criterion, optimizer, num_epochs = 100)"
   ]
  },
  {
   "cell_type": "markdown",
   "metadata": {},
   "source": [
    "***"
   ]
  },
  {
   "cell_type": "code",
   "execution_count": 18,
   "metadata": {},
   "outputs": [],
   "source": [
    "exemplo = next(iter(dataloaders['train']))[0][0].unsqueeze(0).to(device)"
   ]
  },
  {
   "cell_type": "code",
   "execution_count": 19,
   "metadata": {},
   "outputs": [],
   "source": [
    "output = model(exemplo).detach()"
   ]
  },
  {
   "cell_type": "code",
   "execution_count": null,
   "metadata": {},
   "outputs": [],
   "source": [
    "fig, ax = dataVisualization(exemplo.squeeze()[:, :100], output.squeeze()[:, :100], save = False, filename = \"16x64_comparison.png\")"
   ]
  },
  {
   "cell_type": "code",
   "execution_count": null,
   "metadata": {},
   "outputs": [],
   "source": [
    "fig, ax = EncoderVisualization(model, exemplo, save = False, filename = '16x16_encoded.png')"
   ]
  },
  {
   "cell_type": "markdown",
   "metadata": {},
   "source": [
    "***"
   ]
  },
  {
   "cell_type": "code",
   "execution_count": 12,
   "metadata": {},
   "outputs": [],
   "source": [
    "class HybridModel(nn.Module):\n",
    "    def __init__(self, classifier, encoder):\n",
    "        super(HybridModel, self).__init__()\n",
    "        self.encoder = encoder\n",
    "        self.classifier = classifier\n",
    "        \n",
    "    def forward(self, x):\n",
    "        with torch.set_grad_enabled(False):\n",
    "            x = self.encoder(x)\n",
    "        \n",
    "        x = self.classifier(x)\n",
    "        \n",
    "        return x"
   ]
  },
  {
   "cell_type": "code",
   "execution_count": 13,
   "metadata": {},
   "outputs": [],
   "source": [
    "model_type = 'resnet'; model_size = '50'; num_classes = 5; model_name = model_type + model_size\n",
    "classifier = model_selection(model_name, num_classes)\n",
    "encoder = model.encoder\n",
    "hybrid = HybridModel(classifier, encoder).to(device)"
   ]
  },
  {
   "cell_type": "code",
   "execution_count": 14,
   "metadata": {},
   "outputs": [],
   "source": [
    "optimizer = optim.SGD(hybrid.parameters(), lr = 0.001, momentum = 0.9)\n",
    "scheduler = optim.lr_scheduler.StepLR(optimizer, step_size = 5, gamma = 0.5)\n",
    "criterion = nn.CrossEntropyLoss()"
   ]
  },
  {
   "cell_type": "code",
   "execution_count": 15,
   "metadata": {},
   "outputs": [
    {
     "name": "stdout",
     "output_type": "stream",
     "text": [
      "[22/Sep/2020 07:20:18] INFO - Fold 0\n",
      "[22/Sep/2020 07:20:18] INFO - Epoch    Stage       Loss    Accuracy\n",
      "\n",
      "[22/Sep/2020 07:23:45] INFO - 1/20     Training    2.01    0.21    \n",
      "[22/Sep/2020 07:24:03] INFO -          Validation  1.73    0.26    \n",
      "[22/Sep/2020 07:27:23] INFO - 2/20     Training    1.82    0.21    \n",
      "[22/Sep/2020 07:27:40] INFO -          Validation  1.62    0.19    \n",
      "[22/Sep/2020 07:31:00] INFO - 3/20     Training    1.78    0.21    \n",
      "[22/Sep/2020 07:31:17] INFO -          Validation  1.69    0.23    \n",
      "[22/Sep/2020 07:34:36] INFO - 4/20     Training    1.78    0.20    \n",
      "[22/Sep/2020 07:34:53] INFO -          Validation  1.66    0.22    \n",
      "[22/Sep/2020 07:38:12] INFO - 5/20     Training    1.76    0.21    \n",
      "[22/Sep/2020 07:38:30] INFO -          Validation  1.61    0.21    \n",
      "[22/Sep/2020 07:41:49] INFO - 6/20     Training    1.76    0.21    \n",
      "[22/Sep/2020 07:42:07] INFO -          Validation  1.69    0.23    \n",
      "[22/Sep/2020 07:45:26] INFO - 7/20     Training    1.73    0.22    \n",
      "[22/Sep/2020 07:45:43] INFO -          Validation  1.67    0.20    \n",
      "[22/Sep/2020 07:49:02] INFO - 8/20     Training    1.73    0.21    \n",
      "[22/Sep/2020 07:49:20] INFO -          Validation  1.76    0.20    \n",
      "[22/Sep/2020 07:52:39] INFO - 9/20     Training    1.72    0.21    \n",
      "[22/Sep/2020 07:52:57] INFO -          Validation  1.67    0.23    \n",
      "[22/Sep/2020 07:56:16] INFO - 10/20    Training    1.71    0.21    \n",
      "[22/Sep/2020 07:56:33] INFO -          Validation  1.72    0.23    \n",
      "[22/Sep/2020 07:59:52] INFO - 11/20    Training    1.70    0.22    \n",
      "[22/Sep/2020 08:00:10] INFO -          Validation  1.64    0.23    \n",
      "[22/Sep/2020 08:03:29] INFO - 12/20    Training    1.70    0.21    \n",
      "[22/Sep/2020 08:03:46] INFO -          Validation  1.67    0.19    \n",
      "[22/Sep/2020 08:07:05] INFO - 13/20    Training    1.70    0.20    \n",
      "[22/Sep/2020 08:07:23] INFO -          Validation  1.67    0.23    \n",
      "[22/Sep/2020 08:10:42] INFO - 14/20    Training    1.69    0.22    \n",
      "[22/Sep/2020 08:10:59] INFO -          Validation  1.68    0.24    \n",
      "[22/Sep/2020 08:14:18] INFO - 15/20    Training    1.68    0.21    \n",
      "[22/Sep/2020 08:14:35] INFO -          Validation  1.76    0.20    \n",
      "[22/Sep/2020 08:17:55] INFO - 16/20    Training    1.69    0.21    \n",
      "[22/Sep/2020 08:18:12] INFO -          Validation  1.72    0.23    \n",
      "[22/Sep/2020 08:21:31] INFO - 17/20    Training    1.68    0.21    \n",
      "[22/Sep/2020 08:21:49] INFO -          Validation  1.73    0.20    \n",
      "[22/Sep/2020 08:25:07] INFO - 18/20    Training    1.68    0.21    \n",
      "[22/Sep/2020 08:25:25] INFO -          Validation  1.75    0.19    \n",
      "[22/Sep/2020 08:28:44] INFO - 19/20    Training    1.67    0.22    \n",
      "[22/Sep/2020 08:29:02] INFO -          Validation  1.65    0.19    \n",
      "[22/Sep/2020 08:32:21] INFO - 20/20    Training    1.67    0.21    \n",
      "[22/Sep/2020 08:32:38] INFO -          Validation  1.62    0.22    \n",
      "[22/Sep/2020 08:32:38] INFO - Training complete in 72m 20s\n",
      "[22/Sep/2020 08:32:38] INFO - Best Validation Accuracy: 0.26\n",
      "[22/Sep/2020 08:32:38] INFO - Best Validation Loss: 1.73\n",
      "\n",
      "[22/Sep/2020 08:32:38] INFO - Fold 1\n",
      "[22/Sep/2020 08:32:38] INFO - Epoch    Stage       Loss    Accuracy\n",
      "\n",
      "[22/Sep/2020 08:35:58] INFO - 1/20     Training    1.94    0.21    \n",
      "[22/Sep/2020 08:36:15] INFO -          Validation  1.82    0.20    \n",
      "[22/Sep/2020 08:39:34] INFO - 2/20     Training    1.81    0.21    \n",
      "[22/Sep/2020 08:39:52] INFO -          Validation  1.84    0.18    \n",
      "[22/Sep/2020 08:43:11] INFO - 3/20     Training    1.80    0.21    \n",
      "[22/Sep/2020 08:43:28] INFO -          Validation  1.78    0.24    \n",
      "[22/Sep/2020 08:46:47] INFO - 4/20     Training    1.78    0.21    \n",
      "[22/Sep/2020 08:47:04] INFO -          Validation  1.87    0.22    \n",
      "[22/Sep/2020 08:50:24] INFO - 5/20     Training    1.76    0.22    \n",
      "[22/Sep/2020 08:50:41] INFO -          Validation  1.62    0.24    \n",
      "[22/Sep/2020 08:54:00] INFO - 6/20     Training    1.74    0.21    \n",
      "[22/Sep/2020 08:54:18] INFO -          Validation  1.77    0.24    \n",
      "[22/Sep/2020 08:57:37] INFO - 7/20     Training    1.74    0.21    \n",
      "[22/Sep/2020 08:57:54] INFO -          Validation  1.86    0.19    \n",
      "[22/Sep/2020 09:01:14] INFO - 8/20     Training    1.73    0.21    \n",
      "[22/Sep/2020 09:01:31] INFO -          Validation  1.68    0.20    \n",
      "[22/Sep/2020 09:04:50] INFO - 9/20     Training    1.72    0.21    \n",
      "[22/Sep/2020 09:05:08] INFO -          Validation  1.86    0.18    \n",
      "[22/Sep/2020 09:08:28] INFO - 10/20    Training    1.74    0.22    \n",
      "[22/Sep/2020 09:08:45] INFO -          Validation  1.78    0.19    \n",
      "[22/Sep/2020 09:12:04] INFO - 11/20    Training    1.72    0.22    \n",
      "[22/Sep/2020 09:12:22] INFO -          Validation  1.67    0.23    \n",
      "[22/Sep/2020 09:15:41] INFO - 12/20    Training    1.71    0.21    \n",
      "[22/Sep/2020 09:15:58] INFO -          Validation  1.65    0.23    \n",
      "[22/Sep/2020 09:19:18] INFO - 13/20    Training    1.69    0.22    \n",
      "[22/Sep/2020 09:19:35] INFO -          Validation  1.73    0.23    \n",
      "[22/Sep/2020 09:22:55] INFO - 14/20    Training    1.71    0.21    \n",
      "[22/Sep/2020 09:23:12] INFO -          Validation  2.01    0.18    \n",
      "[22/Sep/2020 09:26:32] INFO - 15/20    Training    1.69    0.21    \n",
      "[22/Sep/2020 09:26:49] INFO -          Validation  1.84    0.22    \n",
      "[22/Sep/2020 09:30:08] INFO - 16/20    Training    1.70    0.22    \n",
      "[22/Sep/2020 09:30:26] INFO -          Validation  1.75    0.20    \n",
      "[22/Sep/2020 09:33:45] INFO - 17/20    Training    1.70    0.21    \n",
      "[22/Sep/2020 09:34:03] INFO -          Validation  1.73    0.23    \n",
      "[22/Sep/2020 09:37:22] INFO - 18/20    Training    1.68    0.21    \n",
      "[22/Sep/2020 09:37:39] INFO -          Validation  1.72    0.22    \n",
      "[22/Sep/2020 09:40:59] INFO - 19/20    Training    1.67    0.22    \n",
      "[22/Sep/2020 09:41:16] INFO -          Validation  1.64    0.23    \n",
      "[22/Sep/2020 09:44:36] INFO - 20/20    Training    1.68    0.21    \n",
      "[22/Sep/2020 09:44:53] INFO -          Validation  1.72    0.23    \n",
      "[22/Sep/2020 09:44:53] INFO - Training complete in 72m 15s\n",
      "[22/Sep/2020 09:44:53] INFO - Best Validation Accuracy: 0.24\n",
      "[22/Sep/2020 09:44:53] INFO - Best Validation Loss: 1.62\n",
      "\n",
      "[22/Sep/2020 09:44:53] INFO - Fold 2\n",
      "[22/Sep/2020 09:44:53] INFO - Epoch    Stage       Loss    Accuracy\n",
      "\n",
      "[22/Sep/2020 09:48:13] INFO - 1/20     Training    1.99    0.20    \n",
      "[22/Sep/2020 09:48:30] INFO -          Validation  1.94    0.20    \n",
      "[22/Sep/2020 09:51:50] INFO - 2/20     Training    1.82    0.21    \n",
      "[22/Sep/2020 09:52:07] INFO -          Validation  1.81    0.20    \n",
      "[22/Sep/2020 09:55:26] INFO - 3/20     Training    1.78    0.20    \n",
      "[22/Sep/2020 09:55:43] INFO -          Validation  1.78    0.21    \n",
      "[22/Sep/2020 09:59:02] INFO - 4/20     Training    1.78    0.21    \n",
      "[22/Sep/2020 09:59:20] INFO -          Validation  1.63    0.23    \n",
      "[22/Sep/2020 10:02:39] INFO - 5/20     Training    1.75    0.22    \n",
      "[22/Sep/2020 10:02:56] INFO -          Validation  1.70    0.23    \n",
      "[22/Sep/2020 10:06:16] INFO - 6/20     Training    1.75    0.22    \n",
      "[22/Sep/2020 10:06:33] INFO -          Validation  1.69    0.20    \n",
      "[22/Sep/2020 10:09:52] INFO - 7/20     Training    1.74    0.22    \n",
      "[22/Sep/2020 10:10:09] INFO -          Validation  1.68    0.19    \n",
      "[22/Sep/2020 10:13:29] INFO - 8/20     Training    1.73    0.21    \n",
      "[22/Sep/2020 10:13:46] INFO -          Validation  1.90    0.22    \n",
      "[22/Sep/2020 10:17:05] INFO - 9/20     Training    1.73    0.20    \n",
      "[22/Sep/2020 10:17:23] INFO -          Validation  1.81    0.22    \n",
      "[22/Sep/2020 10:20:41] INFO - 10/20    Training    1.73    0.21    \n",
      "[22/Sep/2020 10:20:59] INFO -          Validation  1.63    0.21    \n",
      "[22/Sep/2020 10:24:18] INFO - 11/20    Training    1.72    0.21    \n",
      "[22/Sep/2020 10:24:35] INFO -          Validation  1.71    0.23    \n",
      "[22/Sep/2020 10:27:55] INFO - 12/20    Training    1.71    0.21    \n",
      "[22/Sep/2020 10:28:12] INFO -          Validation  1.71    0.20    \n",
      "[22/Sep/2020 10:31:31] INFO - 13/20    Training    1.70    0.21    \n",
      "[22/Sep/2020 10:31:49] INFO -          Validation  1.67    0.20    \n",
      "[22/Sep/2020 10:35:08] INFO - 14/20    Training    1.70    0.21    \n",
      "[22/Sep/2020 10:35:25] INFO -          Validation  1.66    0.23    \n",
      "[22/Sep/2020 10:38:44] INFO - 15/20    Training    1.69    0.22    \n",
      "[22/Sep/2020 10:39:02] INFO -          Validation  1.79    0.23    \n",
      "[22/Sep/2020 10:42:25] INFO - 16/20    Training    1.69    0.21    \n",
      "[22/Sep/2020 10:42:44] INFO -          Validation  1.63    0.22    \n",
      "[22/Sep/2020 10:46:07] INFO - 17/20    Training    1.68    0.22    \n",
      "[22/Sep/2020 10:46:24] INFO -          Validation  1.70    0.20    \n",
      "[22/Sep/2020 10:49:44] INFO - 18/20    Training    1.68    0.21    \n",
      "[22/Sep/2020 10:50:01] INFO -          Validation  1.69    0.23    \n",
      "[22/Sep/2020 10:53:20] INFO - 19/20    Training    1.68    0.21    \n",
      "[22/Sep/2020 10:53:37] INFO -          Validation  1.75    0.20    \n",
      "[22/Sep/2020 10:56:56] INFO - 20/20    Training    1.67    0.22    \n",
      "[22/Sep/2020 10:57:13] INFO -          Validation  1.75    0.20    \n",
      "[22/Sep/2020 10:57:13] INFO - Training complete in 72m 20s\n",
      "[22/Sep/2020 10:57:13] INFO - Best Validation Accuracy: 0.23\n",
      "[22/Sep/2020 10:57:13] INFO - Best Validation Loss: 1.79\n",
      "\n",
      "[22/Sep/2020 10:57:13] INFO - Fold 3\n",
      "[22/Sep/2020 10:57:13] INFO - Epoch    Stage       Loss    Accuracy\n",
      "\n",
      "[22/Sep/2020 11:00:32] INFO - 1/20     Training    2.00    0.21    \n",
      "[22/Sep/2020 11:00:50] INFO -          Validation  1.72    0.21    \n",
      "[22/Sep/2020 11:04:09] INFO - 2/20     Training    1.81    0.22    \n",
      "[22/Sep/2020 11:04:27] INFO -          Validation  1.67    0.20    \n",
      "[22/Sep/2020 11:07:45] INFO - 3/20     Training    1.79    0.21    \n",
      "[22/Sep/2020 11:08:03] INFO -          Validation  1.81    0.19    \n",
      "[22/Sep/2020 11:11:21] INFO - 4/20     Training    1.77    0.21    \n",
      "[22/Sep/2020 11:11:39] INFO -          Validation  1.79    0.20    \n",
      "[22/Sep/2020 11:14:58] INFO - 5/20     Training    1.76    0.21    \n",
      "[22/Sep/2020 11:15:15] INFO -          Validation  1.69    0.16    \n",
      "[22/Sep/2020 11:18:49] INFO - 6/20     Training    1.74    0.22    \n",
      "[22/Sep/2020 11:19:06] INFO -          Validation  1.71    0.25    \n",
      "[22/Sep/2020 11:22:30] INFO - 7/20     Training    1.73    0.21    \n",
      "[22/Sep/2020 11:22:48] INFO -          Validation  1.68    0.21    \n",
      "[22/Sep/2020 11:26:19] INFO - 8/20     Training    1.73    0.21    \n",
      "[22/Sep/2020 11:26:41] INFO -          Validation  1.74    0.18    \n",
      "[22/Sep/2020 11:30:15] INFO - 9/20     Training    1.73    0.21    \n",
      "[22/Sep/2020 11:30:35] INFO -          Validation  1.63    0.24    \n",
      "[22/Sep/2020 11:34:01] INFO - 10/20    Training    1.72    0.21    \n",
      "[22/Sep/2020 11:34:19] INFO -          Validation  1.68    0.24    \n",
      "[22/Sep/2020 11:37:58] INFO - 11/20    Training    1.72    0.21    \n",
      "[22/Sep/2020 11:38:17] INFO -          Validation  1.64    0.20    \n",
      "[22/Sep/2020 11:41:52] INFO - 12/20    Training    1.71    0.21    \n",
      "[22/Sep/2020 11:42:11] INFO -          Validation  1.72    0.22    \n",
      "[22/Sep/2020 11:46:06] INFO - 13/20    Training    1.69    0.22    \n",
      "[22/Sep/2020 11:46:38] INFO -          Validation  1.81    0.18    \n",
      "[22/Sep/2020 11:51:17] INFO - 14/20    Training    1.69    0.21    \n",
      "[22/Sep/2020 11:51:34] INFO -          Validation  1.72    0.24    \n",
      "[22/Sep/2020 11:55:39] INFO - 15/20    Training    1.69    0.21    \n",
      "[22/Sep/2020 11:55:59] INFO -          Validation  1.76    0.25    \n",
      "[22/Sep/2020 11:59:30] INFO - 16/20    Training    1.68    0.22    \n",
      "[22/Sep/2020 11:59:48] INFO -          Validation  1.73    0.20    \n",
      "[22/Sep/2020 12:03:05] INFO - 17/20    Training    1.67    0.21    \n",
      "[22/Sep/2020 12:03:23] INFO -          Validation  1.61    0.21    \n",
      "[22/Sep/2020 12:06:45] INFO - 18/20    Training    1.67    0.22    \n",
      "[22/Sep/2020 12:07:02] INFO -          Validation  1.64    0.22    \n",
      "[22/Sep/2020 12:10:24] INFO - 19/20    Training    1.67    0.21    \n",
      "[22/Sep/2020 12:10:41] INFO -          Validation  1.64    0.22    \n",
      "[22/Sep/2020 12:14:03] INFO - 20/20    Training    1.67    0.21    \n",
      "[22/Sep/2020 12:14:21] INFO -          Validation  1.60    0.25    \n",
      "[22/Sep/2020 12:14:21] INFO - Training complete in 77m 7s\n",
      "[22/Sep/2020 12:14:21] INFO - Best Validation Accuracy: 0.25\n",
      "[22/Sep/2020 12:14:21] INFO - Best Validation Loss: 1.60\n",
      "\n",
      "[22/Sep/2020 12:14:21] INFO - Fold 4\n",
      "[22/Sep/2020 12:14:21] INFO - Epoch    Stage       Loss    Accuracy\n",
      "\n",
      "[22/Sep/2020 12:17:43] INFO - 1/20     Training    2.03    0.21    \n",
      "[22/Sep/2020 12:18:00] INFO -          Validation  1.86    0.16    \n",
      "[22/Sep/2020 12:21:22] INFO - 2/20     Training    1.86    0.20    \n",
      "[22/Sep/2020 12:21:39] INFO -          Validation  1.72    0.24    \n",
      "[22/Sep/2020 12:25:01] INFO - 3/20     Training    1.81    0.21    \n",
      "[22/Sep/2020 12:25:19] INFO -          Validation  1.77    0.19    \n",
      "[22/Sep/2020 12:28:41] INFO - 4/20     Training    1.78    0.21    \n",
      "[22/Sep/2020 12:28:59] INFO -          Validation  1.70    0.23    \n",
      "[22/Sep/2020 12:32:21] INFO - 5/20     Training    1.78    0.20    \n",
      "[22/Sep/2020 12:32:39] INFO -          Validation  1.81    0.19    \n",
      "[22/Sep/2020 12:36:00] INFO - 6/20     Training    1.77    0.20    \n",
      "[22/Sep/2020 12:36:18] INFO -          Validation  1.90    0.19    \n",
      "[22/Sep/2020 12:39:40] INFO - 7/20     Training    1.75    0.21    \n",
      "[22/Sep/2020 12:39:57] INFO -          Validation  1.67    0.22    \n",
      "[22/Sep/2020 12:43:19] INFO - 8/20     Training    1.75    0.22    \n",
      "[22/Sep/2020 12:43:36] INFO -          Validation  1.81    0.16    \n",
      "[22/Sep/2020 12:46:57] INFO - 9/20     Training    1.75    0.21    \n",
      "[22/Sep/2020 12:47:15] INFO -          Validation  1.73    0.24    \n",
      "[22/Sep/2020 12:50:36] INFO - 10/20    Training    1.73    0.21    \n",
      "[22/Sep/2020 12:50:54] INFO -          Validation  1.69    0.16    \n",
      "[22/Sep/2020 12:54:15] INFO - 11/20    Training    1.72    0.21    \n",
      "[22/Sep/2020 12:54:32] INFO -          Validation  1.82    0.25    \n",
      "[22/Sep/2020 12:57:54] INFO - 12/20    Training    1.72    0.21    \n",
      "[22/Sep/2020 12:58:11] INFO -          Validation  1.65    0.22    \n",
      "[22/Sep/2020 13:01:32] INFO - 13/20    Training    1.70    0.22    \n",
      "[22/Sep/2020 13:01:50] INFO -          Validation  1.72    0.24    \n",
      "[22/Sep/2020 13:05:11] INFO - 14/20    Training    1.70    0.21    \n",
      "[22/Sep/2020 13:05:28] INFO -          Validation  1.75    0.25    \n",
      "[22/Sep/2020 13:08:50] INFO - 15/20    Training    1.70    0.21    \n",
      "[22/Sep/2020 13:09:07] INFO -          Validation  1.65    0.19    \n",
      "[22/Sep/2020 13:12:29] INFO - 16/20    Training    1.69    0.21    \n",
      "[22/Sep/2020 13:12:47] INFO -          Validation  1.70    0.18    \n",
      "[22/Sep/2020 13:16:08] INFO - 17/20    Training    1.68    0.22    \n",
      "[22/Sep/2020 13:16:25] INFO -          Validation  1.70    0.21    \n",
      "[22/Sep/2020 13:19:46] INFO - 18/20    Training    1.68    0.22    \n",
      "[22/Sep/2020 13:20:04] INFO -          Validation  1.74    0.23    \n",
      "[22/Sep/2020 13:23:25] INFO - 19/20    Training    1.68    0.21    \n",
      "[22/Sep/2020 13:23:42] INFO -          Validation  1.69    0.22    \n",
      "[22/Sep/2020 13:27:03] INFO - 20/20    Training    1.67    0.21    \n",
      "[22/Sep/2020 13:27:21] INFO -          Validation  1.67    0.23    \n",
      "[22/Sep/2020 13:27:21] INFO - Training complete in 72m 60s\n",
      "[22/Sep/2020 13:27:21] INFO - Best Validation Accuracy: 0.25\n",
      "[22/Sep/2020 13:27:21] INFO - Best Validation Loss: 1.82\n",
      "\n",
      "[22/Sep/2020 13:27:21] INFO - Training complete in 367m 2s\n",
      "[22/Sep/2020 13:27:21] INFO - Mean acc: 0.24\n"
     ]
    }
   ],
   "source": [
    "hybrid, stats = kfold_train(Project, hybrid, dataset, criterion, optimizer, num_epochs = 20, num_folds = 5)"
   ]
  },
  {
   "cell_type": "markdown",
   "metadata": {},
   "source": [
    "***"
   ]
  },
  {
   "cell_type": "code",
   "execution_count": 17,
   "metadata": {},
   "outputs": [],
   "source": [
    "losses = {}"
   ]
  },
  {
   "cell_type": "code",
   "execution_count": 31,
   "metadata": {},
   "outputs": [],
   "source": [
    "losses['16x_train'] = stats['Train'] \n",
    "losses['16x_test']  = stats['Validation']"
   ]
  },
  {
   "cell_type": "code",
   "execution_count": 34,
   "metadata": {},
   "outputs": [],
   "source": [
    "from matplotlib.lines import Line2D\n",
    "plt.style.use('seaborn')"
   ]
  },
  {
   "cell_type": "code",
   "execution_count": 50,
   "metadata": {},
   "outputs": [
    {
     "data": {
      "image/png": "[encoded data removed]",
      "text/plain": [
       "<Figure size 864x432 with 1 Axes>"
      ]
     },
     "metadata": {},
     "output_type": "display_data"
    }
   ],
   "source": [
    "fig, ax = plt.subplots(nrows = 1, ncols = 1)\n",
    "fig.set_size_inches(12, 6)\n",
    "\n",
    "colors = {\n",
    "    '16':'m',\n",
    "    '32':'y',\n",
    "    '64':'g',\n",
    "    '128':'b',\n",
    "    '256':'r'\n",
    "}\n",
    "\n",
    "# sizes = ['16', '32', '64', '128', '256']\n",
    "# sizes = ['16', '32', '64', '128']\n",
    "# sizes = ['16', '32', '64']\n",
    "labels = []\n",
    "for s in sizes:\n",
    "    labels.append('16x'+s)\n",
    "    ax.plot(range(100), losses['16x'+s+'_train'], color = colors[s])\n",
    "\n",
    "lines = ax.get_lines()\n",
    "    \n",
    "for s in sizes:\n",
    "    ax.plot(range(100), losses['16x'+s+'_test'], linestyle = '--', color = colors[s])\n",
    "    \n",
    "    \n",
    "trainline = Line2D([0], [0], color='k', linewidth=3, linestyle='-')\n",
    "valline   = Line2D([0], [0], color='k', linewidth=3, linestyle='--')\n",
    "\n",
    "\n",
    "legend1 = plt.legend(lines, labels, loc = (0.85, 0.805), fontsize = 15)\n",
    "legend2 = plt.legend([trainline, valline], ['Train', 'Validation'], loc = (0.68, 0.86), fontsize = 15)\n",
    "\n",
    "plt.xlabel('Época', fontweight='bold', fontsize = 17)\n",
    "plt.ylabel('Erro', fontweight = 'bold', fontsize = 17)\n",
    "\n",
    "plt.gca().add_artist(legend1)\n",
    "fig.tight_layout()\n",
    "# fig.savefig(\"trainingautoencoder_128.png\")"
   ]
  },
  {
   "cell_type": "code",
   "execution_count": null,
   "metadata": {},
   "outputs": [],
   "source": []
  }
 ],
 "metadata": {
  "kernelspec": {
   "display_name": "Python 3",
   "language": "python",
   "name": "python3"
  },
  "language_info": {
   "codemirror_mode": {
    "name": "ipython",
    "version": 3
   },
   "file_extension": ".py",
   "mimetype": "text/x-python",
   "name": "python",
   "nbconvert_exporter": "python",
   "pygments_lexer": "ipython3",
   "version": "3.7.9"
  }
 },
 "nbformat": 4,
 "nbformat_minor": 4
}
