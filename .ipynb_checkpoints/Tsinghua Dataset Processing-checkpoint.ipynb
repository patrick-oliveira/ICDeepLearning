{
 "cells": [
  {
   "cell_type": "code",
   "execution_count": 1,
   "metadata": {},
   "outputs": [],
   "source": [
    "%load_ext autoreload\n",
    "%autoreload 2"
   ]
  },
  {
   "cell_type": "code",
   "execution_count": 2,
   "metadata": {},
   "outputs": [],
   "source": [
    "from TsinghuaProcessing import *\n",
    "from Project import Project   \n",
    "import ray"
   ]
  },
  {
   "cell_type": "code",
   "execution_count": 3,
   "metadata": {},
   "outputs": [
    {
     "name": "stderr",
     "output_type": "stream",
     "text": [
      "2021-05-14 07:57:54,271\tINFO services.py:1267 -- View the Ray dashboard at \u001b[1m\u001b[32mhttp://127.0.0.1:8265\u001b[39m\u001b[22m\n"
     ]
    },
    {
     "data": {
      "text/plain": [
       "{'node_ip_address': '192.168.15.141',\n",
       " 'raylet_ip_address': '192.168.15.141',\n",
       " 'redis_address': '192.168.15.141:6379',\n",
       " 'object_store_address': 'tcp://127.0.0.1:63867',\n",
       " 'raylet_socket_name': 'tcp://127.0.0.1:59783',\n",
       " 'webui_url': '127.0.0.1:8265',\n",
       " 'session_dir': 'C:\\\\Users\\\\olipp\\\\AppData\\\\Local\\\\Temp\\\\ray\\\\session_2021-05-14_07-57-48_182591_10316',\n",
       " 'metrics_export_port': 54421,\n",
       " 'node_id': '01d58e0d4f19058e380fe3d160985f85974d2b39a63187e52ccbd92f'}"
      ]
     },
     "execution_count": 3,
     "metadata": {},
     "output_type": "execute_result"
    }
   ],
   "source": [
    "ray.init(log_to_driver = False)"
   ]
  },
  {
   "cell_type": "markdown",
   "metadata": {},
   "source": [
    "Funções necessárias:\n",
    "\n",
    "1. Extrair os dados dos arquivos _.mat_ originais, salvando-os como _.csv_ separados por classe e identificados por indivíduo e bloco.\n",
    "2. Recortar as séries separadas em tamanhos ajustáveis.\n",
    "3. Definir as classes dos datasets. Uma classe para cada um, uma classe reunindo os dois.\n",
    "\n",
    "Os ítens 1 e 2 podem ser feitos em paralelo, com a classe multiprocessing.Pool. "
   ]
  },
  {
   "cell_type": "code",
   "execution_count": 3,
   "metadata": {},
   "outputs": [],
   "source": [
    "from Project import Project\n",
    "\n",
    "import numpy as np\n",
    "import pandas as pd\n",
    "import matplotlib.pyplot as plt\n",
    "import scipy.io\n",
    "\n",
    "import os\n",
    "import random\n",
    "\n",
    "\n",
    "from Scripts.datahandling.BenchmarkDataset import BenchmarkDataset\n",
    "from Scripts.datahandling.Dataloader import Dataloader"
   ]
  },
  {
   "cell_type": "code",
   "execution_count": null,
   "metadata": {},
   "outputs": [],
   "source": [
    "# path = Project.tsinghua_raw_dir / 'benchmark' / 'separated'\n",
    "path = Path('D:/Datasets/Tsinghua/Raw/benchmark/separated')\n",
    "new_path = Project.tsinghua_raw_dir / 'benchmark' / 'separated_500'\n",
    "for t in range(1, 5 + 1):\n",
    "# for t in [1]:\n",
    "    (new_path / str(t)).mkdir(parents = True, exist_ok = True)\n",
    "    files = os.listdir(path / str(t))\n",
    "    for file in files:\n",
    "        X = np.loadtxt((path / str(t) / file).__str__())\n",
    "        file_identifier = file[:-4]\n",
    "        X1 = X[:500, :]\n",
    "        X2 = X[500:1000, :]\n",
    "        X3 = X[1000:, :]\n",
    "#         X4 = X[750:1000, :]\n",
    "#         X5 = X[1000:1250, :]\n",
    "#         X6 = X[1250:, :]\n",
    "        np.savetxt(new_path / str(t) / (file_identifier + \"_1.csv\"), X1)\n",
    "        np.savetxt(new_path / str(t) / (file_identifier + \"_2.csv\"), X2)\n",
    "        np.savetxt(new_path / str(t) / (file_identifier + \"_3.csv\"), X3)\n",
    "#         np.savetxt(new_path / str(t) / (file_identifier + \"_4.csv\"), X4)\n",
    "#         np.savetxt(new_path / str(t) / (file_identifier + \"_5.csv\"), X5)\n",
    "#         np.savetxt(new_path / str(t) / (file_identifier + \"_6.csv\"), X6)\n",
    "#         os.remove(path / str(t) / file)"
   ]
  },
  {
   "cell_type": "code",
   "execution_count": 23,
   "metadata": {},
   "outputs": [
    {
     "data": {
      "text/plain": [
       "[0, 250, 500, 750, 1000, 1250, 1500]"
      ]
     },
     "execution_count": 23,
     "metadata": {},
     "output_type": "execute_result"
    }
   ],
   "source": []
  },
  {
   "cell_type": "code",
   "execution_count": 28,
   "metadata": {},
   "outputs": [
    {
     "name": "stdout",
     "output_type": "stream",
     "text": [
      "0 250\n",
      "250 500\n",
      "500 750\n",
      "750 1000\n",
      "1000 1250\n",
      "1250 1500\n"
     ]
    }
   ],
   "source": [
    "L = list(range(0, 1500+1, 250))\n",
    "for x,y in list(zip(L, L[1:])):\n",
    "    print(x, y)"
   ]
  },
  {
   "cell_type": "code",
   "execution_count": 29,
   "metadata": {},
   "outputs": [],
   "source": [
    "import numpy as np"
   ]
  },
  {
   "cell_type": "code",
   "execution_count": 41,
   "metadata": {},
   "outputs": [],
   "source": [
    "X = np.random.rand(750, 64)"
   ]
  },
  {
   "cell_type": "code",
   "execution_count": 44,
   "metadata": {},
   "outputs": [
    {
     "data": {
      "text/plain": [
       "[[1, 2, 3, 4, 5, 6, 7, 8, 9, 10],\n",
       " [11, 12, 13, 14, 15, 16, 17, 18, 19, 20],\n",
       " [21, 22, 23, 24, 25, 26, 27, 28, 29, 30],\n",
       " [31, 32, 33, 34, 35, 36, 37, 38, 39, 40]]"
      ]
     },
     "execution_count": 44,
     "metadata": {},
     "output_type": "execute_result"
    }
   ],
   "source": [
    "[list(range(x, y)) for x, y in [(1, 11), (11, 21), (21, 31), (31, 41)]]"
   ]
  },
  {
   "cell_type": "code",
   "execution_count": null,
   "metadata": {},
   "outputs": [],
   "source": [
    "def splitDataset(dataset:str, outputPath:str, time:int, inputPath:str = 'D://Datasets//Tsinghua'):\n",
    "    if dataset == 'benchmark':\n",
    "        assert 1500%(time*250) == 0\n",
    "        num_blocks = 6\n",
    "    else: \n",
    "        assert 750%(time*250) == 0\n",
    "        num_blocks = 4\n",
    "        \n",
    "    datasetPath = Path(inputPath + '//' + dataset)\n",
    "    outputPath = Path(outputPath + '//{}//{} points'.format(dataset, str(interval)))\n",
    "    outputPath.mkdir(parents = True, exist_ok = True)\n",
    "    sublists = [list(range(x, y)) for x, y in [(1, 11), (11, 21), (21, 31), (31, 41)]]\n",
    "    \n",
    "    f = partial(_splitDataset, inputPath = datasetPath, outputPath = outputPath, time = time)\n",
    "    with Pool(processes = 4) as pool:\n",
    "        pool.map(f, sublists)\n",
    "    \n",
    "def _splitDataset(inputPath, outputPath, time:int, classes: List[int]):\n",
    "    for c in classes:\n",
    "        input_path = inputPath / str(c)\n",
    "        output_path = outputPath / str(c)\n",
    "        output_path.mkdir(parents = True, exist_ok = True)\n",
    "        files = os.listdir(input_path)\n",
    "        for file in files:\n",
    "            X = np.loadtxt((input_path / file).__str__())\n",
    "            segments = np.vsplit(X, time)\n",
    "            for k in range(len(segments)):\n",
    "                np.savetxt(output_path / file.replace('.csv', '_{}.csv'.format(k)), segments[k])\n",
    "    "
   ]
  },
  {
   "cell_type": "code",
   "execution_count": 4,
   "metadata": {},
   "outputs": [],
   "source": [
    "output_path = Project.tsinghua / 'benchmark'"
   ]
  },
  {
   "cell_type": "code",
   "execution_count": 9,
   "metadata": {},
   "outputs": [],
   "source": [
    "extractSeparatedFiles('benchmark')"
   ]
  },
  {
   "cell_type": "code",
   "execution_count": 8,
   "metadata": {},
   "outputs": [],
   "source": [
    "extractSeparatedFiles('beta')"
   ]
  },
  {
   "cell_type": "code",
   "execution_count": null,
   "metadata": {},
   "outputs": [],
   "source": [
    "splitDataset('benchmark', Project.tsinghua.__str__(), 2)"
   ]
  },
  {
   "cell_type": "code",
   "execution_count": null,
   "metadata": {},
   "outputs": [],
   "source": [
    "splitDataset('beta', Project.tsinghua.__str__(), 2)"
   ]
  }
 ],
 "metadata": {
  "kernelspec": {
   "display_name": "Python 3",
   "language": "python",
   "name": "python3"
  },
  "language_info": {
   "codemirror_mode": {
    "name": "ipython",
    "version": 3
   },
   "file_extension": ".py",
   "mimetype": "text/x-python",
   "name": "python",
   "nbconvert_exporter": "python",
   "pygments_lexer": "ipython3",
   "version": "3.8.5"
  }
 },
 "nbformat": 4,
 "nbformat_minor": 4
}
