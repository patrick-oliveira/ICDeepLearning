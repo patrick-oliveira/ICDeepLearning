{
 "cells": [
  {
   "cell_type": "code",
   "execution_count": 1,
   "id": "sudden-reply",
   "metadata": {},
   "outputs": [],
   "source": [
    "import time"
   ]
  },
  {
   "cell_type": "code",
   "execution_count": 5,
   "id": "reflected-daniel",
   "metadata": {},
   "outputs": [
    {
     "data": {
      "text/plain": [
       "'Feb-07-2021'"
      ]
     },
     "execution_count": 5,
     "metadata": {},
     "output_type": "execute_result"
    }
   ],
   "source": [
    "time.strftime('%b-%d-%Y', time.localtime())"
   ]
  },
  {
   "cell_type": "code",
   "execution_count": 7,
   "id": "lesbian-sullivan",
   "metadata": {},
   "outputs": [
    {
     "name": "stdout",
     "output_type": "stream",
     "text": [
      "Not None.\n"
     ]
    }
   ],
   "source": [
    "if None:\n",
    "    print(\"None\")\n",
    "else:\n",
    "    print(\"Not None.\")"
   ]
  },
  {
   "cell_type": "code",
   "execution_count": 8,
   "id": "dated-ethernet",
   "metadata": {},
   "outputs": [],
   "source": [
    "from pathlib import Path\n"
   ]
  },
  {
   "cell_type": "code",
   "execution_count": 1,
   "id": "compact-religious",
   "metadata": {},
   "outputs": [],
   "source": [
    "from torch import nn"
   ]
  },
  {
   "cell_type": "code",
   "execution_count": 6,
   "id": "binding-simple",
   "metadata": {},
   "outputs": [],
   "source": [
    "deconv = nn.ConvTranspose2d(1, 1, kernel_size = (1, 2*1 + 1), padding = (0, 1), stride = (1, 1), output_padding = (0, 1 - 1))"
   ]
  },
  {
   "cell_type": "code",
   "execution_count": 7,
   "id": "frank-experiment",
   "metadata": {},
   "outputs": [
    {
     "data": {
      "text/plain": [
       "Parameter containing:\n",
       "tensor([[[[-0.2384,  0.0251,  0.0657]]]], requires_grad=True)"
      ]
     },
     "execution_count": 7,
     "metadata": {},
     "output_type": "execute_result"
    }
   ],
   "source": [
    "deconv.weight"
   ]
  },
  {
   "cell_type": "code",
   "execution_count": 1,
   "id": "cheap-webcam",
   "metadata": {},
   "outputs": [],
   "source": [
    "import numpy as np"
   ]
  },
  {
   "cell_type": "code",
   "execution_count": 5,
   "id": "julian-camping",
   "metadata": {},
   "outputs": [
    {
     "data": {
      "text/plain": [
       "array([[[0],\n",
       "        [1],\n",
       "        [2],\n",
       "        [3],\n",
       "        [4],\n",
       "        [5],\n",
       "        [6],\n",
       "        [7],\n",
       "        [8],\n",
       "        [9]],\n",
       "\n",
       "       [[0],\n",
       "        [0],\n",
       "        [0],\n",
       "        [0],\n",
       "        [0],\n",
       "        [0],\n",
       "        [0],\n",
       "        [0],\n",
       "        [0],\n",
       "        [0]]])"
      ]
     },
     "execution_count": 5,
     "metadata": {},
     "output_type": "execute_result"
    }
   ],
   "source": [
    "np.indices((10, 1))"
   ]
  },
  {
   "cell_type": "code",
   "execution_count": 97,
   "id": "undefined-blond",
   "metadata": {},
   "outputs": [],
   "source": [
    "import pickle\n",
    "from typing import Dict, List, Tuple\n",
    "from itertools import product\n",
    "import pandas as pd"
   ]
  },
  {
   "cell_type": "code",
   "execution_count": 31,
   "id": "express-bermuda",
   "metadata": {},
   "outputs": [],
   "source": [
    "specifications = 's = {} k = {} fm = {} - 5 classes - stats'.format(1, 1, 1)"
   ]
  },
  {
   "cell_type": "code",
   "execution_count": 47,
   "id": "encouraging-rochester",
   "metadata": {},
   "outputs": [],
   "source": [
    "teste = '{} {} {}'"
   ]
  },
  {
   "cell_type": "code",
   "execution_count": 48,
   "id": "treated-heading",
   "metadata": {},
   "outputs": [
    {
     "data": {
      "text/plain": [
       "'1 2 3'"
      ]
     },
     "execution_count": 48,
     "metadata": {},
     "output_type": "execute_result"
    }
   ],
   "source": [
    "teste.format(1, 2, 3)"
   ]
  },
  {
   "cell_type": "code",
   "execution_count": 85,
   "id": "sunrise-guyana",
   "metadata": {},
   "outputs": [],
   "source": [
    "def _get_best_stats(statistics: Dict) -> List[float]:\n",
    "    accuracy = []\n",
    "    loss = []\n",
    "    for fold in range(len(statistics) - 1):\n",
    "        accuracy.append(statistics['Fold {}'.format(fold)]['BestAccuracy'])\n",
    "        loss.append(statistics['Fold {}'.format(fold)]['BestLoss'])\n",
    "        \n",
    "    accuracy.append(np.mean(accuracy))\n",
    "    loss.append(np.mean(loss))\n",
    "    \n",
    "    accuracy.append(np.std(accuracy[:-1]))\n",
    "    loss.append(np.std(loss[:-1]))\n",
    "    \n",
    "    return accuracy, loss\n",
    "\n",
    "def get_best_stats(path: str, specifications: str, *args, **kwargs) -> pd.DataFrame:\n",
    "    specifications = specifications.format(*args)\n",
    "    \n",
    "    with open(path + specifications, 'rb') as stats_file:\n",
    "        stats = pickle.load(stats_file)\n",
    "    best_stats = _get_best_stats(stats)\n",
    "    \n",
    "    return best_stats\n"
   ]
  },
  {
   "cell_type": "code",
   "execution_count": 88,
   "id": "laden-boards",
   "metadata": {},
   "outputs": [],
   "source": [
    "table = pd.DataFrame(columns = ['1', '3', '5'], index = ['1', '3', '5'])\n",
    "for (s, k, fm) in product(S, K, FM):\n",
    "    best_stats = get_best_stats(path, 's = {} k = {} fm = {} - 5 classes - stats', s, k, fm)\n",
    "    table.loc[str(k)][str(fm)] = str(round(best_stats[0][-2], ndigits = 2)) + \" \" + str(round(best_stats[0][-1], ndigits = 2))"
   ]
  },
  {
   "cell_type": "code",
   "execution_count": 89,
   "id": "advisory-ready",
   "metadata": {},
   "outputs": [
    {
     "data": {
      "text/html": [
       "<div>\n",
       "<style scoped>\n",
       "    .dataframe tbody tr th:only-of-type {\n",
       "        vertical-align: middle;\n",
       "    }\n",
       "\n",
       "    .dataframe tbody tr th {\n",
       "        vertical-align: top;\n",
       "    }\n",
       "\n",
       "    .dataframe thead th {\n",
       "        text-align: right;\n",
       "    }\n",
       "</style>\n",
       "<table border=\"1\" class=\"dataframe\">\n",
       "  <thead>\n",
       "    <tr style=\"text-align: right;\">\n",
       "      <th></th>\n",
       "      <th>1</th>\n",
       "      <th>3</th>\n",
       "      <th>5</th>\n",
       "    </tr>\n",
       "  </thead>\n",
       "  <tbody>\n",
       "    <tr>\n",
       "      <th>1</th>\n",
       "      <td>0.82 0.02</td>\n",
       "      <td>0.61 0.06</td>\n",
       "      <td>0.61 0.13</td>\n",
       "    </tr>\n",
       "    <tr>\n",
       "      <th>3</th>\n",
       "      <td>0.77 0.04</td>\n",
       "      <td>0.44 0.05</td>\n",
       "      <td>0.5 0.05</td>\n",
       "    </tr>\n",
       "    <tr>\n",
       "      <th>5</th>\n",
       "      <td>0.76 0.04</td>\n",
       "      <td>0.64 0.05</td>\n",
       "      <td>0.57 0.09</td>\n",
       "    </tr>\n",
       "  </tbody>\n",
       "</table>\n",
       "</div>"
      ],
      "text/plain": [
       "           1          3          5\n",
       "1  0.82 0.02  0.61 0.06  0.61 0.13\n",
       "3  0.77 0.04  0.44 0.05   0.5 0.05\n",
       "5  0.76 0.04  0.64 0.05  0.57 0.09"
      ]
     },
     "execution_count": 89,
     "metadata": {},
     "output_type": "execute_result"
    }
   ],
   "source": [
    "table"
   ]
  },
  {
   "cell_type": "code",
   "execution_count": 94,
   "id": "suburban-reception",
   "metadata": {},
   "outputs": [],
   "source": [
    "table = pd.DataFrame(columns = ['0.1', '0.25', '0.5', '0.75'], index = ['1'])\n",
    "S = [1]; K = [1]; FM = [1]; DP = [0.1, 0.25, 0.5, 0.75]; \n",
    "path = 'Outputs/ResNet50 - N-TL - Autoencoder - '\n",
    "for (s, k, fm, dp) in product(S, K, FM, DP):\n",
    "    best_stats = get_best_stats(path, 's = {} k = {} fm = {} dp = {} - 5 classes - stats', s, k, fm, dp)\n",
    "    table.loc[str(k)][str(dp)] = str(round(best_stats[0][-2], ndigits = 2)) + \" \" + str(round(best_stats[0][-1], ndigits = 2))"
   ]
  },
  {
   "cell_type": "code",
   "execution_count": 95,
   "id": "emotional-hearing",
   "metadata": {},
   "outputs": [
    {
     "data": {
      "text/html": [
       "<div>\n",
       "<style scoped>\n",
       "    .dataframe tbody tr th:only-of-type {\n",
       "        vertical-align: middle;\n",
       "    }\n",
       "\n",
       "    .dataframe tbody tr th {\n",
       "        vertical-align: top;\n",
       "    }\n",
       "\n",
       "    .dataframe thead th {\n",
       "        text-align: right;\n",
       "    }\n",
       "</style>\n",
       "<table border=\"1\" class=\"dataframe\">\n",
       "  <thead>\n",
       "    <tr style=\"text-align: right;\">\n",
       "      <th></th>\n",
       "      <th>0.1</th>\n",
       "      <th>0.25</th>\n",
       "      <th>0.5</th>\n",
       "      <th>0.75</th>\n",
       "    </tr>\n",
       "  </thead>\n",
       "  <tbody>\n",
       "    <tr>\n",
       "      <th>1</th>\n",
       "      <td>0.81 0.06</td>\n",
       "      <td>0.76 0.11</td>\n",
       "      <td>0.35 0.07</td>\n",
       "      <td>0.25 0.02</td>\n",
       "    </tr>\n",
       "  </tbody>\n",
       "</table>\n",
       "</div>"
      ],
      "text/plain": [
       "         0.1       0.25        0.5       0.75\n",
       "1  0.81 0.06  0.76 0.11  0.35 0.07  0.25 0.02"
      ]
     },
     "execution_count": 95,
     "metadata": {},
     "output_type": "execute_result"
    }
   ],
   "source": [
    "table"
   ]
  },
  {
   "cell_type": "code",
   "execution_count": null,
   "id": "theoretical-median",
   "metadata": {},
   "outputs": [],
   "source": []
  },
  {
   "cell_type": "code",
   "execution_count": 60,
   "id": "invisible-covering",
   "metadata": {},
   "outputs": [
    {
     "name": "stdout",
     "output_type": "stream",
     "text": [
      "3\n",
      "[(1, 1, 1), (1, 1, 3), (1, 1, 5), (1, 3, 1), (1, 3, 3), (1, 3, 5), (1, 5, 1), (1, 5, 3), (1, 5, 5)]\n"
     ]
    }
   ],
   "source": [
    "teste(S, K, FM)"
   ]
  },
  {
   "cell_type": "code",
   "execution_count": 45,
   "id": "formed-antenna",
   "metadata": {},
   "outputs": [],
   "source": [
    "path = 'Outputs/Model (1 Layer)/ResNet50 - N-TL - Autoencoder - '\n",
    "S = [1]\n",
    "K = [1, 3, 5]\n",
    "FM = [1, 3, 5]\n",
    "\n",
    "table = pd.DataFrame(columns = ['1', '3', '5'], index = ['1', '3', '5'])\n",
    "\n",
    "for (s, k, fm) in product(S, K, FM):\n",
    "    specifications = 's = {} k = {} fm = {} - 5 classes - stats'.format(s, k, fm)\n",
    "    \n",
    "    with open(path + specifications, 'rb') as stats_file:\n",
    "        stats = pickle.load(stats_file)\n",
    "    best_stats = get_best_stats(stats)\n",
    "    \n",
    "    table.loc[str(k)][str(fm)] = str(round(best_stats[0][-2], ndigits = 2)) + \" \" + str(round(best_stats[0][-1], ndigits = 2))\n",
    "    "
   ]
  },
  {
   "cell_type": "code",
   "execution_count": 46,
   "id": "continental-hydrogen",
   "metadata": {},
   "outputs": [
    {
     "data": {
      "text/html": [
       "<div>\n",
       "<style scoped>\n",
       "    .dataframe tbody tr th:only-of-type {\n",
       "        vertical-align: middle;\n",
       "    }\n",
       "\n",
       "    .dataframe tbody tr th {\n",
       "        vertical-align: top;\n",
       "    }\n",
       "\n",
       "    .dataframe thead th {\n",
       "        text-align: right;\n",
       "    }\n",
       "</style>\n",
       "<table border=\"1\" class=\"dataframe\">\n",
       "  <thead>\n",
       "    <tr style=\"text-align: right;\">\n",
       "      <th></th>\n",
       "      <th>1</th>\n",
       "      <th>3</th>\n",
       "      <th>5</th>\n",
       "    </tr>\n",
       "  </thead>\n",
       "  <tbody>\n",
       "    <tr>\n",
       "      <th>1</th>\n",
       "      <td>0.82 0.02</td>\n",
       "      <td>0.61 0.06</td>\n",
       "      <td>0.61 0.13</td>\n",
       "    </tr>\n",
       "    <tr>\n",
       "      <th>3</th>\n",
       "      <td>0.77 0.04</td>\n",
       "      <td>0.44 0.05</td>\n",
       "      <td>0.5 0.05</td>\n",
       "    </tr>\n",
       "    <tr>\n",
       "      <th>5</th>\n",
       "      <td>0.76 0.04</td>\n",
       "      <td>0.64 0.05</td>\n",
       "      <td>0.57 0.09</td>\n",
       "    </tr>\n",
       "  </tbody>\n",
       "</table>\n",
       "</div>"
      ],
      "text/plain": [
       "           1          3          5\n",
       "1  0.82 0.02  0.61 0.06  0.61 0.13\n",
       "3  0.77 0.04  0.44 0.05   0.5 0.05\n",
       "5  0.76 0.04  0.64 0.05  0.57 0.09"
      ]
     },
     "execution_count": 46,
     "metadata": {},
     "output_type": "execute_result"
    }
   ],
   "source": [
    "table"
   ]
  },
  {
   "cell_type": "code",
   "execution_count": 30,
   "id": "absolute-gravity",
   "metadata": {},
   "outputs": [
    {
     "data": {
      "text/plain": [
       "([0.8333333333333334,\n",
       "  0.8415032679738562,\n",
       "  0.8202614379084967,\n",
       "  0.7957516339869282,\n",
       "  0.7957516339869282,\n",
       "  0.8173202614379085,\n",
       "  0.018869542527126845],\n",
       " [0.5620139241218567,\n",
       "  0.5635195374488831,\n",
       "  0.711151659488678,\n",
       "  0.8410573601722717,\n",
       "  0.6727930903434753,\n",
       "  0.670107114315033,\n",
       "  0.10388542248335204])"
      ]
     },
     "execution_count": 30,
     "metadata": {},
     "output_type": "execute_result"
    }
   ],
   "source": [
    "temp(stats)"
   ]
  },
  {
   "cell_type": "markdown",
   "id": "individual-comfort",
   "metadata": {},
   "source": [
    "___"
   ]
  },
  {
   "cell_type": "markdown",
   "id": "comparative-translator",
   "metadata": {},
   "source": [
    "__Extracting statistics from a saved object__"
   ]
  },
  {
   "cell_type": "code",
   "execution_count": null,
   "id": "pressed-color",
   "metadata": {},
   "outputs": [],
   "source": []
  },
  {
   "cell_type": "markdown",
   "id": "closed-respondent",
   "metadata": {},
   "source": [
    "__Extracting statistics from log files__"
   ]
  },
  {
   "cell_type": "code",
   "execution_count": 126,
   "id": "warming-tower",
   "metadata": {},
   "outputs": [],
   "source": [
    "def _read_folds_from_file(path: str, epochs: int) -> Dict:\n",
    "    file = open(path).readlines()\n",
    "    return [file[i+3:i+3+2*epochs+3] for i in range(0, len(file) - 1, 2*epochs + 7)]\n",
    "\n",
    "def extract_values(path: str, epochs: int) -> Tuple[Dict]:\n",
    "    folds = _read_folds_from_file(path, epochs)[:-1]\n",
    "    training = {}\n",
    "    validation = {}\n",
    "    for i, f in enumerate(folds):\n",
    "        training[i + 1] = [np.asarray([]), np.asarray([])]  # loss = 0, accuracy = 1\n",
    "        validation[i + 1] = [np.asarray([]), np.asarray([])]\n",
    "        for line in f:\n",
    "            if 'Training' in line and 'complete' not in line:\n",
    "                training[i+1][0] = np.append(training[i+1][0], float(line[21:25]))\n",
    "                training[i+1][1] = np.append(training[i+1][1], float(line[29:34]))\n",
    "            if 'Validation' in line and 'Best' not in line:\n",
    "                validation[i+1][0] = np.append(validation[i+1][0], float(line[21:25]))\n",
    "                validation[i+1][1] = np.append(validation[i+1][1], float(line[29:34]))\n",
    "\n",
    "            if 'Best Validation Accuracy' in line:\n",
    "                validation[i + 1].append(float(line[26:30]))\n",
    "\n",
    "            if 'Best Validation Loss' in line:\n",
    "                validation[i+1].append(float(line[22:26]))\n",
    "                \n",
    "    return training, validation\n",
    "\n",
    "def get_best_validation(validation_data: Dict):\n",
    "    best_acc = []\n",
    "    best_loss = []\n",
    "    \n",
    "    for fold in validation_data.keys():\n",
    "        best_acc.append(validation_data[fold][-2])\n",
    "        best_loss.append(validation_data[fold][-1])\n",
    "    \n",
    "    best_acc.append(np.mean(best_acc)); best_acc.append(np.std(best_acc[:-1]))\n",
    "    best_loss.append(np.mean(best_loss)); best_loss.append(np.std(best_loss[:-1]))\n",
    "    \n",
    "    return best_acc, best_loss"
   ]
  },
  {
   "cell_type": "code",
   "execution_count": 129,
   "id": "prostate-jaguar",
   "metadata": {},
   "outputs": [
    {
     "name": "stdout",
     "output_type": "stream",
     "text": [
      "[0.85, 0.81, 0.86, 0.84, 0.82, 0.836, 0.01854723699099139]\n"
     ]
    }
   ],
   "source": [
    "path = 'Outputs/Training - Resnet18 - Pretrained - 5 Classes - Adam - Feb-18-2021.log'\n",
    "epochs = 50\n",
    "training, validation = extract_values(path, epochs)\n",
    "best_validation_acc, best_validation_loss = get_best_validation(validation)\n",
    "print(best_validation_acc)"
   ]
  },
  {
   "cell_type": "code",
   "execution_count": 130,
   "id": "descending-contemporary",
   "metadata": {},
   "outputs": [
    {
     "name": "stdout",
     "output_type": "stream",
     "text": [
      "[0.82, 0.81, 0.82, 0.78, 0.82, 0.8099999999999999, 0.015491933384829638]\n"
     ]
    }
   ],
   "source": [
    "path = 'Outputs/Training - Resnet18 - N Pretrained - 5 Classes - Adam - Feb-18-2021.log'\n",
    "epochs = 50\n",
    "training, validation = extract_values(path, epochs)\n",
    "best_validation_acc, best_validation_loss = get_best_validation(validation)\n",
    "print(best_validation_acc)"
   ]
  },
  {
   "cell_type": "code",
   "execution_count": null,
   "id": "compressed-exhibition",
   "metadata": {},
   "outputs": [],
   "source": []
  }
 ],
 "metadata": {
  "kernelspec": {
   "display_name": "Python 3",
   "language": "python",
   "name": "python3"
  },
  "language_info": {
   "codemirror_mode": {
    "name": "ipython",
    "version": 3
   },
   "file_extension": ".py",
   "mimetype": "text/x-python",
   "name": "python",
   "nbconvert_exporter": "python",
   "pygments_lexer": "ipython3",
   "version": "3.8.5"
  }
 },
 "nbformat": 4,
 "nbformat_minor": 5
}
