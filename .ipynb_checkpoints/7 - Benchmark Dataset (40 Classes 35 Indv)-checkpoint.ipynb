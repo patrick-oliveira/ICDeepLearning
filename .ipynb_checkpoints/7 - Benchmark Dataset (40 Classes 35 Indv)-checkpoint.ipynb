{
 "cells": [
  {
   "cell_type": "code",
   "execution_count": 1,
   "metadata": {},
   "outputs": [],
   "source": [
    "%load_ext autoreload\n",
    "%autoreload 2"
   ]
  },
  {
   "cell_type": "code",
   "execution_count": 9,
   "metadata": {},
   "outputs": [],
   "source": [
    "from Project import Project\n",
    "\n",
    "import numpy as np\n",
    "import pandas as pd\n",
    "import matplotlib.pyplot as plt\n",
    "import scipy.io\n",
    "\n",
    "import os\n",
    "import random\n",
    "\n",
    "from Scripts.datahandling.BenchmarkDataset import BenchmarkDataset\n",
    "from Scripts.datahandling.Dataloader import Dataloader"
   ]
  },
  {
   "cell_type": "markdown",
   "metadata": {},
   "source": [
    "#### Scripts to Process Raw Data"
   ]
  },
  {
   "cell_type": "code",
   "execution_count": 37,
   "metadata": {},
   "outputs": [],
   "source": [
    "getFreqsPhases = lambda : [{'frequency': data['freqs'][0], 'phases': data['phases'][0]} for data in [scipy.io.loadmat(Project.tsinghua_raw_dir / 'benchmark' / 'Freq_Phase.mat')]][0]\n",
    "getData        = lambda file: scipy.io.loadmat(file)['data']\n",
    "\n",
    "def saveSeparatedFiles():\n",
    "    files = [file for file in os.listdir(Project.tsinghua_raw_dir / 'benchmark') if \"mat\" in file][1:]\n",
    "    for s in range(len(files)):\n",
    "        path  = Project.tsinghua_raw_dir / 'benchmark' / files[s]\n",
    "        data = getData(path)\n",
    "        for b in range(6):\n",
    "            for t in range(40):\n",
    "                X = data[:, :, t, b].T\n",
    "                (Project.tsinghua_raw_dir / 'benchmark' / 'separated' / str(t + 1)).mkdir(parents=True, exist_ok=True)\n",
    "                np.savetxt(Project.tsinghua_raw_dir / 'benchmark' / 'separated' / str(t+1) / \"S{}_{}.csv\".format(s+1, b+1), X)"
   ]
  },
  {
   "cell_type": "code",
   "execution_count": 38,
   "metadata": {},
   "outputs": [],
   "source": [
    "saveSeparatedFiles()"
   ]
  },
  {
   "cell_type": "code",
   "execution_count": 43,
   "metadata": {},
   "outputs": [],
   "source": [
    "path = Project.tsinghua_raw_dir / 'benchmark' / 'separated'\n",
    "new_path = Project.tsinghua_raw_dir / 'benchmark' / 'separated_512'\n",
    "for t in range(1, 40 + 1):\n",
    "# for t in [1]:\n",
    "    (new_path / str(t)).mkdir(parents = True, exist_ok = True)\n",
    "    files = os.listdir(path / str(t))\n",
    "    for file in files:\n",
    "        X = np.loadtxt((path / str(t) / file).__str__())\n",
    "        file_identifier = file[:-4]\n",
    "        X1 = X[:512, :]\n",
    "        X2 = X[494:1006, :]\n",
    "        X3 = X[988:, :]\n",
    "        np.savetxt(new_path / str(t) / (file_identifier + \"_1.csv\"), X1)\n",
    "        np.savetxt(new_path / str(t) / (file_identifier + \"_2.csv\"), X2)\n",
    "        np.savetxt(new_path / str(t) / (file_identifier + \"_3.csv\"), X3)\n",
    "#         os.remove(path / str(t) / file)"
   ]
  },
  {
   "cell_type": "markdown",
   "metadata": {},
   "source": [
    "#### Visualization"
   ]
  },
  {
   "cell_type": "code",
   "execution_count": 4,
   "metadata": {},
   "outputs": [],
   "source": [
    "dataset = BenchmarkDataset(Project, classes = list(range(1, 5 + 1)))"
   ]
  },
  {
   "cell_type": "code",
   "execution_count": 5,
   "metadata": {},
   "outputs": [
    {
     "name": "stdout",
     "output_type": "stream",
     "text": [
      "{'train': 2448, 'val': 612}\n"
     ]
    }
   ],
   "source": [
    "batch_size = 256\n",
    "signal_length = 500\n",
    "dataloaders, dataset_sizes = Dataloader(dataset, batch_size)\n",
    "print(dataset_sizes)"
   ]
  },
  {
   "cell_type": "code",
   "execution_count": 31,
   "metadata": {},
   "outputs": [],
   "source": [
    "sample = next(iter(dataloaders['train']))[0]\n",
    "subset_sample = sample[random.sample(range(1, batch_size + 1), 10), :, :, :]\n",
    "sensor        = random.sample(range(1, 64 + 1), 1)"
   ]
  },
  {
   "cell_type": "markdown",
   "metadata": {},
   "source": [
    "___To do:___\n",
    "\n",
    "- Build a function to generate the underlying structure of this kind of plot\n",
    "    - Use the scripts you've built for the HRV analysis"
   ]
  }
 ],
 "metadata": {
  "kernelspec": {
   "display_name": "Python 3",
   "language": "python",
   "name": "python3"
  },
  "language_info": {
   "codemirror_mode": {
    "name": "ipython",
    "version": 3
   },
   "file_extension": ".py",
   "mimetype": "text/x-python",
   "name": "python",
   "nbconvert_exporter": "python",
   "pygments_lexer": "ipython3",
   "version": "3.8.5"
  }
 },
 "nbformat": 4,
 "nbformat_minor": 4
}
