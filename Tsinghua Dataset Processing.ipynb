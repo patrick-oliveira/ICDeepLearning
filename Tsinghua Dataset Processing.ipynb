{
 "cells": [
  {
   "cell_type": "code",
   "execution_count": 1,
   "metadata": {},
   "outputs": [],
   "source": [
    "%load_ext autoreload\n",
    "%autoreload 2"
   ]
  },
  {
   "cell_type": "code",
   "execution_count": 2,
   "metadata": {},
   "outputs": [],
   "source": [
    "from Scripts.data.TsinghuaProcessing import *\n",
    "from Project import Project   \n",
    "import ray"
   ]
  },
  {
   "cell_type": "code",
   "execution_count": 3,
   "metadata": {},
   "outputs": [
    {
     "name": "stderr",
     "output_type": "stream",
     "text": [
      "2021-05-14 09:36:23,139\tINFO services.py:1267 -- View the Ray dashboard at \u001b[1m\u001b[32mhttp://127.0.0.1:8265\u001b[39m\u001b[22m\n"
     ]
    },
    {
     "data": {
      "text/plain": [
       "{'node_ip_address': '192.168.15.141',\n",
       " 'raylet_ip_address': '192.168.15.141',\n",
       " 'redis_address': '192.168.15.141:6379',\n",
       " 'object_store_address': 'tcp://127.0.0.1:61380',\n",
       " 'raylet_socket_name': 'tcp://127.0.0.1:63097',\n",
       " 'webui_url': '127.0.0.1:8265',\n",
       " 'session_dir': 'C:\\\\Users\\\\olipp\\\\AppData\\\\Local\\\\Temp\\\\ray\\\\session_2021-05-14_09-36-19_951315_9804',\n",
       " 'metrics_export_port': 62781,\n",
       " 'node_id': 'a1d0d9210b95ef6e65e850b518a19bf5970000becf1f80484050db38'}"
      ]
     },
     "execution_count": 3,
     "metadata": {},
     "output_type": "execute_result"
    }
   ],
   "source": [
    "ray.init(log_to_driver = False)"
   ]
  },
  {
   "cell_type": "markdown",
   "metadata": {},
   "source": [
    "Funções necessárias:\n",
    "\n",
    "1. \\[ X \\]. Extrair os dados dos arquivos _.mat_ originais, salvando-os como _.csv_ separados por classe e identificados por indivíduo e bloco.\n",
    "2. \\[ X \\]. Recortar as séries separadas em tamanhos ajustáveis.\n",
    "3. \\[   \\]. Definir as classes dos datasets. Uma classe para cada um, uma classe reunindo os dois.\n",
    "\n",
    "Os ítens 1 e 2 podem ser feitos em paralelo, com a classe multiprocessing.Pool. "
   ]
  },
  {
   "cell_type": "code",
   "execution_count": 9,
   "metadata": {},
   "outputs": [],
   "source": [
    "extractSeparatedFiles('benchmark')"
   ]
  },
  {
   "cell_type": "code",
   "execution_count": 8,
   "metadata": {},
   "outputs": [],
   "source": [
    "extractSeparatedFiles('beta')"
   ]
  },
  {
   "cell_type": "code",
   "execution_count": 10,
   "metadata": {},
   "outputs": [],
   "source": [
    "splitDataset('benchmark', Project.tsinghua.__str__(), 1)"
   ]
  },
  {
   "cell_type": "code",
   "execution_count": 11,
   "metadata": {},
   "outputs": [],
   "source": [
    "splitDataset('beta', Project.tsinghua.__str__(), 1)"
   ]
  }
 ],
 "metadata": {
  "kernelspec": {
   "display_name": "Python 3",
   "language": "python",
   "name": "python3"
  },
  "language_info": {
   "codemirror_mode": {
    "name": "ipython",
    "version": 3
   },
   "file_extension": ".py",
   "mimetype": "text/x-python",
   "name": "python",
   "nbconvert_exporter": "python",
   "pygments_lexer": "ipython3",
   "version": "3.8.5"
  }
 },
 "nbformat": 4,
 "nbformat_minor": 4
}
