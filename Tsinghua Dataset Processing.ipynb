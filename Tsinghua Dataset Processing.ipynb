{
 "cells": [
  {
   "cell_type": "code",
   "execution_count": 1,
   "metadata": {},
   "outputs": [],
   "source": [
    "%load_ext autoreload\n",
    "%autoreload 2"
   ]
  },
  {
   "cell_type": "code",
   "execution_count": 2,
   "metadata": {},
   "outputs": [],
   "source": [
    "from Scripts.data.TsinghuaProcessing import *\n",
    "from Scripts.data.TsinghuaDataset import Dataset\n",
    "\n",
    "from Project import Project   \n",
    "import ray"
   ]
  },
  {
   "cell_type": "code",
   "execution_count": 67,
   "metadata": {},
   "outputs": [
    {
     "name": "stderr",
     "output_type": "stream",
     "text": [
      "2021-05-17 07:18:07,349\tINFO services.py:1267 -- View the Ray dashboard at \u001b[1m\u001b[32mhttp://127.0.0.1:8265\u001b[39m\u001b[22m\n"
     ]
    },
    {
     "data": {
      "text/plain": [
       "{'node_ip_address': '192.168.15.141',\n",
       " 'raylet_ip_address': '192.168.15.141',\n",
       " 'redis_address': '192.168.15.141:6379',\n",
       " 'object_store_address': 'tcp://127.0.0.1:58383',\n",
       " 'raylet_socket_name': 'tcp://127.0.0.1:65311',\n",
       " 'webui_url': '127.0.0.1:8265',\n",
       " 'session_dir': 'C:\\\\Users\\\\olipp\\\\AppData\\\\Local\\\\Temp\\\\ray\\\\session_2021-05-17_07-18-01_728410_1456',\n",
       " 'metrics_export_port': 60638,\n",
       " 'node_id': '5257b738069b645462a091813a6528c65ce094b92bccc123562eafe3'}"
      ]
     },
     "execution_count": 67,
     "metadata": {},
     "output_type": "execute_result"
    }
   ],
   "source": [
    "ray.init(log_to_driver = False)"
   ]
  },
  {
   "cell_type": "markdown",
   "metadata": {},
   "source": [
    "Funções necessárias:\n",
    "\n",
    "1. \\[ X \\]. Extrair os dados dos arquivos _.mat_ originais, salvando-os como _.csv_ separados por classe e identificados por indivíduo e bloco.\n",
    "2. \\[ X \\]. Recortar as séries separadas em tamanhos ajustáveis.\n",
    "3. \\[ X \\]. Definir as classes dos datasets. Uma classe para cada um, uma classe reunindo os dois.\n",
    "\n",
    "Os ítens 1 e 2 podem ser feitos em paralelo, com a classe multiprocessing.Pool.\n",
    "\n",
    "__To do:__\n",
    "\n",
    "3.1 \\[ \\]. Testar meios de paralelizar a criação dos datasets.\n",
    "3.2 \\[ \\]. Modificar a classe dos datasets para trabalhar com endereços de arquivos (para possibilitar o uso dos datas) "
   ]
  },
  {
   "cell_type": "code",
   "execution_count": 9,
   "metadata": {},
   "outputs": [],
   "source": [
    "extractSeparatedFiles('benchmark')"
   ]
  },
  {
   "cell_type": "code",
   "execution_count": 8,
   "metadata": {},
   "outputs": [],
   "source": [
    "extractSeparatedFiles('beta')"
   ]
  },
  {
   "cell_type": "code",
   "execution_count": 27,
   "metadata": {},
   "outputs": [],
   "source": [
    "splitDataset('benchmark', Project.tsinghua.__str__(), 1)"
   ]
  },
  {
   "cell_type": "code",
   "execution_count": 38,
   "metadata": {},
   "outputs": [],
   "source": [
    "splitDataset('beta', Project.tsinghua.__str__(), 1)"
   ]
  },
  {
   "cell_type": "code",
   "execution_count": 39,
   "metadata": {},
   "outputs": [],
   "source": [
    "ray.shutdown()"
   ]
  },
  {
   "cell_type": "code",
   "execution_count": 8,
   "metadata": {},
   "outputs": [],
   "source": [
    "dataset = Dataset('beta', Project, 250, [*range(1, 5 + 1)])"
   ]
  },
  {
   "cell_type": "code",
   "execution_count": 9,
   "metadata": {},
   "outputs": [
    {
     "data": {
      "text/plain": [
       "4200"
      ]
     },
     "execution_count": 9,
     "metadata": {},
     "output_type": "execute_result"
    }
   ],
   "source": [
    "len(dataset)"
   ]
  }
 ],
 "metadata": {
  "kernelspec": {
   "display_name": "Python 3",
   "language": "python",
   "name": "python3"
  },
  "language_info": {
   "codemirror_mode": {
    "name": "ipython",
    "version": 3
   },
   "file_extension": ".py",
   "mimetype": "text/x-python",
   "name": "python",
   "nbconvert_exporter": "python",
   "pygments_lexer": "ipython3",
   "version": "3.8.5"
  }
 },
 "nbformat": 4,
 "nbformat_minor": 4
}
