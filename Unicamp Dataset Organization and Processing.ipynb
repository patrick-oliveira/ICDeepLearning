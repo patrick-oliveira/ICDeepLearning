{
 "cells": [
  {
   "cell_type": "code",
   "execution_count": 1,
   "id": "cc9bd61a-8e41-4831-9526-4bd001f45c09",
   "metadata": {},
   "outputs": [],
   "source": [
    "%load_ext autoreload\n",
    "%autoreload 2\n",
    "from Project import Project"
   ]
  },
  {
   "cell_type": "code",
   "execution_count": 21,
   "id": "6e877aba-0040-4a53-8a25-d60a8f054277",
   "metadata": {},
   "outputs": [],
   "source": [
    "import pandas as pd"
   ]
  },
  {
   "cell_type": "markdown",
   "id": "3e8de551-741b-4996-bb6d-f3fed2b33512",
   "metadata": {},
   "source": [
    "1. __Load raw data__\n",
    "2. __Segment signals into windows of specified length__\n",
    "3. __Save the segmented signals for ease of access, organizing it by Individual and Class__"
   ]
  },
  {
   "cell_type": "code",
   "execution_count": 3,
   "id": "b5edfd88-1176-4fb3-b750-3156e9e39ca5",
   "metadata": {},
   "outputs": [
    {
     "data": {
      "text/plain": [
       "['.DS_Store',\n",
       " '.git',\n",
       " '.ipynb_checkpoints',\n",
       " 'cca_dataset',\n",
       " 'cca_OzCz_dataset_allclasses',\n",
       " 'cz-oz.txt',\n",
       " 'dataset',\n",
       " 'dsloader.py',\n",
       " 'Exemplo.ipynb',\n",
       " 'fft_dataset_2s',\n",
       " 'fft_dataset_3s',\n",
       " 'matlab_files',\n",
       " 'pwelch_dataset_2s',\n",
       " 'pwelch_dataset_3s',\n",
       " 'README.md',\n",
       " 'wcar_dataset',\n",
       " '__pycache__']"
      ]
     },
     "execution_count": 3,
     "metadata": {},
     "output_type": "execute_result"
    }
   ],
   "source": [
    "import os\n",
    "os.listdir(Project.unicamp_raw)"
   ]
  },
  {
   "cell_type": "code",
   "execution_count": 16,
   "id": "95c05b4d-00d4-4ad2-8932-50f83b3d69d4",
   "metadata": {},
   "outputs": [],
   "source": [
    "split_length = '128'\n",
    "raw_data_path = Project.unicamp_raw/'cca_dataset'\n",
    "pure_signal_path = Project.unicamp_signals / 'CCA' / split_length"
   ]
  },
  {
   "cell_type": "code",
   "execution_count": 17,
   "id": "89e27748-321f-4d6f-b71e-9622c918b0ec",
   "metadata": {},
   "outputs": [],
   "source": [
    "from Scripts.data import SplitDataset\n",
    "SplitDataset.load(split_length, raw_data_path, pure_signal_path)"
   ]
  },
  {
   "cell_type": "markdown",
   "id": "52abc248-fe55-421b-936a-60555fba8108",
   "metadata": {},
   "source": [
    "***"
   ]
  },
  {
   "cell_type": "markdown",
   "id": "67b069fb-8dee-443f-93f7-8369307c9be1",
   "metadata": {},
   "source": [
    "#### __Combination of Time Series__ (Dimensionality Reduction)\n",
    "\n",
    "1. Combine multiple electrode's signals into a single signal, a necessary step before image encoding."
   ]
  },
  {
   "cell_type": "markdown",
   "id": "15df3763-3bd0-43d3-8ded-f4691d57fe18",
   "metadata": {},
   "source": [
    "__Linear combination of electrodes.__"
   ]
  },
  {
   "cell_type": "code",
   "execution_count": 18,
   "id": "f3e3e5b0-cb57-42da-a2d0-3c2a3f7427f3",
   "metadata": {},
   "outputs": [],
   "source": [
    "from Scripts.data import LinearCombination\n",
    "signal_length = '128'\n",
    "# electrodes = ['Oz', 'Cz']\n",
    "LinearCombination.combine(Project, signal_length)"
   ]
  },
  {
   "cell_type": "markdown",
   "id": "9128a3fd-5ead-4a44-881d-c837e6e01624",
   "metadata": {},
   "source": [
    "__Autoencoders for time series dimensionality reduction.__"
   ]
  },
  {
   "cell_type": "code",
   "execution_count": null,
   "id": "24d2d382-9748-40b9-ab76-e97dc1a79e6c",
   "metadata": {},
   "outputs": [],
   "source": []
  },
  {
   "cell_type": "markdown",
   "id": "7b237c6e-bac4-46c5-8583-711a961c62c0",
   "metadata": {},
   "source": [
    "***"
   ]
  },
  {
   "cell_type": "markdown",
   "id": "750d388a-9473-4eaa-9fc1-8fc6e3990dae",
   "metadata": {},
   "source": [
    "#### __Dataset Structures__ (for PyTorch)"
   ]
  },
  {
   "cell_type": "code",
   "execution_count": 25,
   "id": "de0be8ad-56a3-4805-928f-69bb16c9e40a",
   "metadata": {},
   "outputs": [],
   "source": [
    "from Scripts.UnicampSSVEPDataset import SSVEPDataset\n",
    "from Scripts.UnicampSSVEPDataloader import SSVEPDataloader"
   ]
  },
  {
   "cell_type": "code",
   "execution_count": 23,
   "id": "34299d49-a57d-433a-a1a4-331858852b0f",
   "metadata": {},
   "outputs": [],
   "source": [
    "signal_length = '512'\n",
    "preprocessing = 'CCA'\n",
    "data_info = pd.read_csv((Project.output/('SSVEPDataset_'+signal_length+'.csv')).__str__(), dtype = 'str')\n",
    "dataset = SSVEPDataset(Project, preprocessing, data_info, signal_length)"
   ]
  },
  {
   "cell_type": "code",
   "execution_count": 28,
   "id": "d762dfd8-28ba-414c-8635-c45f009756a1",
   "metadata": {},
   "outputs": [],
   "source": [
    "batch_size = 64\n",
    "dataloaders, dataset_sizes = SSVEPDataloader(dataset, batch_size)"
   ]
  }
 ],
 "metadata": {
  "kernelspec": {
   "display_name": "Python 3",
   "language": "python",
   "name": "python3"
  },
  "language_info": {
   "codemirror_mode": {
    "name": "ipython",
    "version": 3
   },
   "file_extension": ".py",
   "mimetype": "text/x-python",
   "name": "python",
   "nbconvert_exporter": "python",
   "pygments_lexer": "ipython3",
   "version": "3.8.10"
  }
 },
 "nbformat": 4,
 "nbformat_minor": 5
}
