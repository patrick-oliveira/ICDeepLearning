{
 "cells": [
  {
   "cell_type": "code",
   "execution_count": 1,
   "metadata": {},
   "outputs": [],
   "source": [
    "%load_ext autoreload\n",
    "%autoreload 2"
   ]
  },
  {
   "cell_type": "code",
   "execution_count": 2,
   "metadata": {},
   "outputs": [],
   "source": [
    "from Project import Project\n",
    "\n",
    "import numpy as np\n",
    "import pandas as pd\n",
    "import matplotlib.pyplot as plt\n",
    "import scipy.io\n",
    "\n",
    "import os\n",
    "import random\n",
    "from pathlib import Path\n",
    "\n",
    "from Scripts.datahandling.BenchmarkDataset import BenchmarkDataset\n",
    "from Scripts.datahandling.Dataloader import Dataloader"
   ]
  },
  {
   "cell_type": "markdown",
   "metadata": {},
   "source": [
    "#### Scripts to Process Raw Data"
   ]
  },
  {
   "cell_type": "code",
   "execution_count": 37,
   "metadata": {},
   "outputs": [],
   "source": [
    "getFreqsPhases = lambda : [{'frequency': data['freqs'][0], 'phases': data['phases'][0]} for data in [scipy.io.loadmat(Project.tsinghua_raw_dir / 'benchmark' / 'Freq_Phase.mat')]][0]\n",
    "getData        = lambda file: scipy.io.loadmat(file)['data']\n",
    "\n",
    "def saveSeparatedFiles():\n",
    "    files = [file for file in os.listdir(Project.tsinghua_raw_dir / 'benchmark') if \"mat\" in file][1:]\n",
    "    for s in range(len(files)):\n",
    "        path  = Project.tsinghua_raw_dir / 'benchmark' / files[s]\n",
    "        data = getData(path)\n",
    "        for b in range(6):\n",
    "            for t in range(40):\n",
    "                X = data[:, :, t, b].T\n",
    "                (Project.tsinghua_raw_dir / 'benchmark' / 'separated' / str(t + 1)).mkdir(parents=True, exist_ok=True)\n",
    "                np.savetxt(Project.tsinghua_raw_dir / 'benchmark' / 'separated' / str(t+1) / \"S{}_{}.csv\".format(s+1, b+1), X)"
   ]
  },
  {
   "cell_type": "code",
   "execution_count": 38,
   "metadata": {},
   "outputs": [],
   "source": [
    "saveSeparatedFiles()"
   ]
  },
  {
   "cell_type": "code",
   "execution_count": 3,
   "metadata": {},
   "outputs": [],
   "source": [
    "# path = Project.tsinghua_raw_dir / 'benchmark' / 'separated'\n",
    "path = Path('D:/Datasets/Tsinghua/Raw/benchmark/separated')\n",
    "new_path = Project.tsinghua_raw_dir / 'benchmark' / 'separated_500'\n",
    "for t in range(1, 5 + 1):\n",
    "# for t in [1]:\n",
    "    (new_path / str(t)).mkdir(parents = True, exist_ok = True)\n",
    "    files = os.listdir(path / str(t))\n",
    "    for file in files:\n",
    "        X = np.loadtxt((path / str(t) / file).__str__())\n",
    "        file_identifier = file[:-4]\n",
    "        X1 = X[:500, :]\n",
    "        X2 = X[500:1000, :]\n",
    "        X3 = X[1000:, :]\n",
    "#         X4 = X[750:1000, :]\n",
    "#         X5 = X[1000:1250, :]\n",
    "#         X6 = X[1250:, :]\n",
    "        np.savetxt(new_path / str(t) / (file_identifier + \"_1.csv\"), X1)\n",
    "        np.savetxt(new_path / str(t) / (file_identifier + \"_2.csv\"), X2)\n",
    "        np.savetxt(new_path / str(t) / (file_identifier + \"_3.csv\"), X3)\n",
    "#         np.savetxt(new_path / str(t) / (file_identifier + \"_4.csv\"), X4)\n",
    "#         np.savetxt(new_path / str(t) / (file_identifier + \"_5.csv\"), X5)\n",
    "#         np.savetxt(new_path / str(t) / (file_identifier + \"_6.csv\"), X6)\n",
    "#         os.remove(path / str(t) / file)"
   ]
  }
 ],
 "metadata": {
  "kernelspec": {
   "display_name": "Python 3",
   "language": "python",
   "name": "python3"
  },
  "language_info": {
   "codemirror_mode": {
    "name": "ipython",
    "version": 3
   },
   "file_extension": ".py",
   "mimetype": "text/x-python",
   "name": "python",
   "nbconvert_exporter": "python",
   "pygments_lexer": "ipython3",
   "version": "3.8.8"
  }
 },
 "nbformat": 4,
 "nbformat_minor": 4
}
