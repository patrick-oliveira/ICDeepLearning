{
 "cells": [
  {
   "cell_type": "code",
   "execution_count": 1,
   "id": "afb2047c-8a0b-4901-833d-7b1709d59dba",
   "metadata": {},
   "outputs": [],
   "source": [
    "from torch import optim"
   ]
  },
  {
   "cell_type": "code",
   "execution_count": 4,
   "id": "2ebfbdd5-015c-4390-9150-2deef93b1186",
   "metadata": {},
   "outputs": [],
   "source": [
    "from Models.Autoencoders import mAutoencoder\n",
    "autoencoder = mAutoencoder(depth = 1, kernel_size = 5, n_filters = 64)"
   ]
  },
  {
   "cell_type": "code",
   "execution_count": 8,
   "id": "9f622b1e-028b-4a34-ba1b-11ab0d1bc8d3",
   "metadata": {},
   "outputs": [
    {
     "data": {
      "text/plain": [
       "'mAutoencoder'"
      ]
     },
     "execution_count": 8,
     "metadata": {},
     "output_type": "execute_result"
    }
   ],
   "source": [
    "autoencoder.__class__.__name__"
   ]
  },
  {
   "cell_type": "code",
   "execution_count": null,
   "id": "47fd7bda-2c2f-4a10-93ff-a4324c7e5681",
   "metadata": {},
   "outputs": [],
   "source": [
    "teste = optim.SGD(autoencoder.paramet)"
   ]
  }
 ],
 "metadata": {
  "kernelspec": {
   "display_name": "Python 3",
   "language": "python",
   "name": "python3"
  },
  "language_info": {
   "codemirror_mode": {
    "name": "ipython",
    "version": 3
   },
   "file_extension": ".py",
   "mimetype": "text/x-python",
   "name": "python",
   "nbconvert_exporter": "python",
   "pygments_lexer": "ipython3",
   "version": "3.8.10"
  }
 },
 "nbformat": 4,
 "nbformat_minor": 5
}
