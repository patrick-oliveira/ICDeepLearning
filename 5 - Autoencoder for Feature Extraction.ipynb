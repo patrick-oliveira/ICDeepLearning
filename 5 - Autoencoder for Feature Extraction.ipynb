{
 "cells": [
  {
   "cell_type": "code",
   "execution_count": 1,
   "metadata": {},
   "outputs": [],
   "source": [
    "%load_ext autoreload\n",
    "%autoreload 2"
   ]
  },
  {
   "cell_type": "code",
   "execution_count": 2,
   "metadata": {},
   "outputs": [],
   "source": [
    "from Project import Project"
   ]
  },
  {
   "cell_type": "code",
   "execution_count": 3,
   "metadata": {},
   "outputs": [],
   "source": [
    "import torch\n",
    "import torch.nn as nn\n",
    "import torch.optim as optim\n",
    "from torchsummary import summary\n",
    "\n",
    "import pandas as pd\n",
    "import numpy as np\n",
    "import matplotlib.pyplot as plt\n",
    "\n",
    "from Scripts.neuralnets.NNTrainingUtils import train_autoencoder\n",
    "from Scripts.neuralnets.NNPreinstalledModelSelection import *\n",
    "from Scripts.neuralnets.NNTrainingUtils import train, kfold_train\n",
    "from Scripts.data.SSVEPDataset import SSVEPDataset\n",
    "from Scripts.data.SSVEPDataloader import SSVEPDataloader"
   ]
  },
  {
   "cell_type": "code",
   "execution_count": 4,
   "metadata": {},
   "outputs": [],
   "source": [
    "ngpu = 1; device = torch.device(\"cuda:0\" if (torch.cuda.is_available() and ngpu > 0) else \"cpu\")"
   ]
  },
  {
   "cell_type": "markdown",
   "metadata": {},
   "source": [
    "***"
   ]
  },
  {
   "cell_type": "code",
   "execution_count": 5,
   "metadata": {},
   "outputs": [],
   "source": [
    "def read_data(dataframe):\n",
    "    return torch.tensor(pd.read_csv(dataframe['path'], sep = ' ', header = None, dtype = float).values)\n",
    "\n",
    "def dataVisualization(X1, X2, save = False, filename = None):\n",
    "    fig, axs = plt.subplots(nrows = 2, ncols = 1)\n",
    "    \n",
    "    fig.set_size_inches(12, 5)\n",
    "    fig.subplots_adjust(hspace = 0)\n",
    "    \n",
    "    for ax in axs:\n",
    "        ax.xaxis.set_major_formatter(plt.NullFormatter())\n",
    "        ax.yaxis.set_major_formatter(plt.NullFormatter())\n",
    "    \n",
    "    axs[0].imshow(X1, cmap = 'gray'); axs[0].set_title(\"Original\")\n",
    "    axs[1].imshow(X2, cmap = 'gray'); axs[1].set_title(\"Autoencoder's Output\")\n",
    "    \n",
    "    if save: fig.savefig(filename)\n",
    "    \n",
    "    return fig, axs\n",
    "\n",
    "def EncoderVisualization(model, data, save = False, filename = None):\n",
    "    fig, ax = plt.subplots(nrows = 1, ncols = 1)\n",
    "    fig.set_size_inches(15, 15)\n",
    "    fig.tight_layout()\n",
    "    ax.xaxis.set_major_formatter(plt.NullFormatter())\n",
    "    ax.yaxis.set_major_formatter(plt.NullFormatter())\n",
    "    \n",
    "    image = model.encode(data).detach()[0]\n",
    "    image = (image.transpose(0, 2).transpose(0, 1).numpy())\n",
    "    ax.imshow(image)\n",
    "    if save: fig.savefig(filename)\n",
    "        \n",
    "    return fig, axs"
   ]
  },
  {
   "cell_type": "markdown",
   "metadata": {},
   "source": [
    "***"
   ]
  },
  {
   "cell_type": "code",
   "execution_count": 24,
   "metadata": {},
   "outputs": [],
   "source": [
    "preprocessing = 'cca'\n",
    "signal_length = '512'\n",
    "data = pd.read_csv((Project.output_dir / ('SSVEPDataset_'+signal_length+'.csv')).__str__(), dtype = 'str')\n",
    "dataset = SSVEPDataset(Project, preprocessing, data, signal_length)"
   ]
  },
  {
   "cell_type": "code",
   "execution_count": 6,
   "metadata": {},
   "outputs": [
    {
     "name": "stdout",
     "output_type": "stream",
     "text": [
      "{'train': 2184, 'val': 546}\n"
     ]
    }
   ],
   "source": [
    "batch_size = 64\n",
    "dataloaders, dataset_sizes = SSVEPDataloader(dataset, batch_size)\n",
    "print(dataset_sizes)"
   ]
  },
  {
   "cell_type": "code",
   "execution_count": 7,
   "metadata": {},
   "outputs": [],
   "source": [
    "from Models.Autoencoder1 import Autoencoder"
   ]
  },
  {
   "cell_type": "code",
   "execution_count": 33,
   "metadata": {},
   "outputs": [
    {
     "name": "stdout",
     "output_type": "stream",
     "text": [
      "----------------------------------------------------------------\n",
      "        Layer (type)               Output Shape         Param #\n",
      "================================================================\n",
      "            Conv2d-1            [-1, 3, 16, 32]              36\n",
      "       BatchNorm2d-2            [-1, 3, 16, 32]               6\n",
      "              ReLU-3            [-1, 3, 16, 32]               0\n",
      "         MaxPool2d-4  [[-1, 3, 16, 16], [-1, 3, 16, 16]]               0\n",
      "       MaxUnpool2d-5            [-1, 3, 16, 32]               0\n",
      "   ConvTranspose2d-6           [-1, 1, 16, 512]              34\n",
      "================================================================\n",
      "Total params: 76\n",
      "Trainable params: 76\n",
      "Non-trainable params: 0\n",
      "----------------------------------------------------------------\n",
      "Input size (MB): 0.03\n",
      "Forward/backward pass size (MB): 4.39\n",
      "Params size (MB): 0.00\n",
      "Estimated Total Size (MB): 4.42\n",
      "----------------------------------------------------------------\n"
     ]
    }
   ],
   "source": [
    "model = Autoencoder(kernel_n = 5, stride = 16).to(device)\n",
    "summary(model, (1, 16, int(signal_length)))"
   ]
  },
  {
   "cell_type": "code",
   "execution_count": 34,
   "metadata": {},
   "outputs": [],
   "source": [
    "criterion = nn.MSELoss()\n",
    "optimizer = optim.SGD(model.parameters(), lr = 0.001, momentum = 0.9)\n",
    "# scheduler = optim.lr_scheduler.StepLR(optimizer, step_size = 5, gamma = 0.5)"
   ]
  },
  {
   "cell_type": "code",
   "execution_count": 35,
   "metadata": {},
   "outputs": [
    {
     "name": "stdout",
     "output_type": "stream",
     "text": [
      "[23/Sep/2020 16:13:07] INFO - Epoch    Stage       Loss  \n",
      "\n",
      "[23/Sep/2020 16:13:08] INFO - 1/100    Training    1.03  \n",
      "[23/Sep/2020 16:13:08] INFO -          Validation  1.01  \n",
      "[23/Sep/2020 16:13:08] INFO - 2/100    Training    1.00  \n",
      "[23/Sep/2020 16:13:08] INFO -          Validation  0.99  \n",
      "[23/Sep/2020 16:13:09] INFO - 3/100    Training    0.98  \n",
      "[23/Sep/2020 16:13:09] INFO -          Validation  0.97  \n",
      "[23/Sep/2020 16:13:09] INFO - 4/100    Training    0.97  \n",
      "[23/Sep/2020 16:13:09] INFO -          Validation  0.96  \n",
      "[23/Sep/2020 16:13:10] INFO - 5/100    Training    0.95  \n",
      "[23/Sep/2020 16:13:10] INFO -          Validation  0.94  \n",
      "[23/Sep/2020 16:13:10] INFO - 6/100    Training    0.94  \n",
      "[23/Sep/2020 16:13:10] INFO -          Validation  0.93  \n",
      "[23/Sep/2020 16:13:10] INFO - 7/100    Training    0.93  \n",
      "[23/Sep/2020 16:13:11] INFO -          Validation  0.92  \n",
      "[23/Sep/2020 16:13:11] INFO - 8/100    Training    0.92  \n",
      "[23/Sep/2020 16:13:11] INFO -          Validation  0.91  \n",
      "[23/Sep/2020 16:13:11] INFO - 9/100    Training    0.90  \n",
      "[23/Sep/2020 16:13:11] INFO -          Validation  0.90  \n",
      "[23/Sep/2020 16:13:12] INFO - 10/100   Training    0.89  \n",
      "[23/Sep/2020 16:13:12] INFO -          Validation  0.89  \n",
      "[23/Sep/2020 16:13:12] INFO - 11/100   Training    0.88  \n",
      "[23/Sep/2020 16:13:12] INFO -          Validation  0.88  \n",
      "[23/Sep/2020 16:13:13] INFO - 12/100   Training    0.87  \n",
      "[23/Sep/2020 16:13:13] INFO -          Validation  0.87  \n",
      "[23/Sep/2020 16:13:13] INFO - 13/100   Training    0.86  \n",
      "[23/Sep/2020 16:13:13] INFO -          Validation  0.86  \n",
      "[23/Sep/2020 16:13:14] INFO - 14/100   Training    0.85  \n",
      "[23/Sep/2020 16:13:14] INFO -          Validation  0.85  \n",
      "[23/Sep/2020 16:13:14] INFO - 15/100   Training    0.84  \n",
      "[23/Sep/2020 16:13:14] INFO -          Validation  0.84  \n",
      "[23/Sep/2020 16:13:15] INFO - 16/100   Training    0.83  \n",
      "[23/Sep/2020 16:13:15] INFO -          Validation  0.83  \n",
      "[23/Sep/2020 16:13:15] INFO - 17/100   Training    0.83  \n",
      "[23/Sep/2020 16:13:15] INFO -          Validation  0.82  \n",
      "[23/Sep/2020 16:13:15] INFO - 18/100   Training    0.82  \n",
      "[23/Sep/2020 16:13:16] INFO -          Validation  0.81  \n",
      "[23/Sep/2020 16:13:16] INFO - 19/100   Training    0.81  \n",
      "[23/Sep/2020 16:13:16] INFO -          Validation  0.80  \n",
      "[23/Sep/2020 16:13:16] INFO - 20/100   Training    0.80  \n",
      "[23/Sep/2020 16:13:16] INFO -          Validation  0.79  \n",
      "[23/Sep/2020 16:13:17] INFO - 21/100   Training    0.79  \n",
      "[23/Sep/2020 16:13:17] INFO -          Validation  0.79  \n",
      "[23/Sep/2020 16:13:17] INFO - 22/100   Training    0.78  \n",
      "[23/Sep/2020 16:13:17] INFO -          Validation  0.78  \n",
      "[23/Sep/2020 16:13:18] INFO - 23/100   Training    0.78  \n",
      "[23/Sep/2020 16:13:18] INFO -          Validation  0.77  \n",
      "[23/Sep/2020 16:13:18] INFO - 24/100   Training    0.77  \n",
      "[23/Sep/2020 16:13:18] INFO -          Validation  0.76  \n",
      "[23/Sep/2020 16:13:19] INFO - 25/100   Training    0.76  \n",
      "[23/Sep/2020 16:13:19] INFO -          Validation  0.76  \n",
      "[23/Sep/2020 16:13:19] INFO - 26/100   Training    0.75  \n",
      "[23/Sep/2020 16:13:19] INFO -          Validation  0.75  \n",
      "[23/Sep/2020 16:13:20] INFO - 27/100   Training    0.75  \n",
      "[23/Sep/2020 16:13:20] INFO -          Validation  0.74  \n",
      "[23/Sep/2020 16:13:20] INFO - 28/100   Training    0.74  \n",
      "[23/Sep/2020 16:13:20] INFO -          Validation  0.74  \n",
      "[23/Sep/2020 16:13:21] INFO - 29/100   Training    0.74  \n",
      "[23/Sep/2020 16:13:21] INFO -          Validation  0.73  \n",
      "[23/Sep/2020 16:13:21] INFO - 30/100   Training    0.73  \n",
      "[23/Sep/2020 16:13:21] INFO -          Validation  0.73  \n",
      "[23/Sep/2020 16:13:22] INFO - 31/100   Training    0.72  \n",
      "[23/Sep/2020 16:13:22] INFO -          Validation  0.72  \n",
      "[23/Sep/2020 16:13:22] INFO - 32/100   Training    0.72  \n",
      "[23/Sep/2020 16:13:22] INFO -          Validation  0.72  \n",
      "[23/Sep/2020 16:13:22] INFO - 33/100   Training    0.72  \n",
      "[23/Sep/2020 16:13:22] INFO -          Validation  0.71  \n",
      "[23/Sep/2020 16:13:23] INFO - 34/100   Training    0.71  \n",
      "[23/Sep/2020 16:13:23] INFO -          Validation  0.71  \n",
      "[23/Sep/2020 16:13:23] INFO - 35/100   Training    0.71  \n",
      "[23/Sep/2020 16:13:23] INFO -          Validation  0.70  \n",
      "[23/Sep/2020 16:13:24] INFO - 36/100   Training    0.70  \n",
      "[23/Sep/2020 16:13:24] INFO -          Validation  0.70  \n",
      "[23/Sep/2020 16:13:24] INFO - 37/100   Training    0.70  \n",
      "[23/Sep/2020 16:13:24] INFO -          Validation  0.70  \n",
      "[23/Sep/2020 16:13:25] INFO - 38/100   Training    0.70  \n",
      "[23/Sep/2020 16:13:25] INFO -          Validation  0.69  \n",
      "[23/Sep/2020 16:13:25] INFO - 39/100   Training    0.69  \n",
      "[23/Sep/2020 16:13:25] INFO -          Validation  0.69  \n",
      "[23/Sep/2020 16:13:26] INFO - 40/100   Training    0.69  \n",
      "[23/Sep/2020 16:13:26] INFO -          Validation  0.69  \n",
      "[23/Sep/2020 16:13:26] INFO - 41/100   Training    0.69  \n",
      "[23/Sep/2020 16:13:26] INFO -          Validation  0.68  \n",
      "[23/Sep/2020 16:13:27] INFO - 42/100   Training    0.68  \n",
      "[23/Sep/2020 16:13:27] INFO -          Validation  0.68  \n",
      "[23/Sep/2020 16:13:27] INFO - 43/100   Training    0.68  \n",
      "[23/Sep/2020 16:13:27] INFO -          Validation  0.68  \n",
      "[23/Sep/2020 16:13:27] INFO - 44/100   Training    0.68  \n",
      "[23/Sep/2020 16:13:27] INFO -          Validation  0.67  \n",
      "[23/Sep/2020 16:13:28] INFO - 45/100   Training    0.67  \n",
      "[23/Sep/2020 16:13:28] INFO -          Validation  0.67  \n",
      "[23/Sep/2020 16:13:28] INFO - 46/100   Training    0.67  \n",
      "[23/Sep/2020 16:13:28] INFO -          Validation  0.67  \n",
      "[23/Sep/2020 16:13:29] INFO - 47/100   Training    0.67  \n",
      "[23/Sep/2020 16:13:29] INFO -          Validation  0.67  \n",
      "[23/Sep/2020 16:13:29] INFO - 48/100   Training    0.67  \n",
      "[23/Sep/2020 16:13:29] INFO -          Validation  0.66  \n",
      "[23/Sep/2020 16:13:30] INFO - 49/100   Training    0.66  \n",
      "[23/Sep/2020 16:13:30] INFO -          Validation  0.66  \n",
      "[23/Sep/2020 16:13:30] INFO - 50/100   Training    0.66  \n",
      "[23/Sep/2020 16:13:30] INFO -          Validation  0.66  \n",
      "[23/Sep/2020 16:13:31] INFO - 51/100   Training    0.66  \n",
      "[23/Sep/2020 16:13:31] INFO -          Validation  0.66  \n",
      "[23/Sep/2020 16:13:31] INFO - 52/100   Training    0.66  \n",
      "[23/Sep/2020 16:13:31] INFO -          Validation  0.65  \n",
      "[23/Sep/2020 16:13:31] INFO - 53/100   Training    0.65  \n",
      "[23/Sep/2020 16:13:31] INFO -          Validation  0.65  \n",
      "[23/Sep/2020 16:13:32] INFO - 54/100   Training    0.65  \n",
      "[23/Sep/2020 16:13:32] INFO -          Validation  0.65  \n",
      "[23/Sep/2020 16:13:32] INFO - 55/100   Training    0.65  \n",
      "[23/Sep/2020 16:13:32] INFO -          Validation  0.65  \n",
      "[23/Sep/2020 16:13:33] INFO - 56/100   Training    0.65  \n",
      "[23/Sep/2020 16:13:33] INFO -          Validation  0.65  \n",
      "[23/Sep/2020 16:13:33] INFO - 57/100   Training    0.64  \n",
      "[23/Sep/2020 16:13:33] INFO -          Validation  0.64  \n",
      "[23/Sep/2020 16:13:34] INFO - 58/100   Training    0.64  \n",
      "[23/Sep/2020 16:13:34] INFO -          Validation  0.64  \n",
      "[23/Sep/2020 16:13:34] INFO - 59/100   Training    0.64  \n",
      "[23/Sep/2020 16:13:34] INFO -          Validation  0.64  \n",
      "[23/Sep/2020 16:13:35] INFO - 60/100   Training    0.64  \n",
      "[23/Sep/2020 16:13:35] INFO -          Validation  0.64  \n",
      "[23/Sep/2020 16:13:35] INFO - 61/100   Training    0.64  \n",
      "[23/Sep/2020 16:13:35] INFO -          Validation  0.64  \n",
      "[23/Sep/2020 16:13:36] INFO - 62/100   Training    0.64  \n",
      "[23/Sep/2020 16:13:36] INFO -          Validation  0.63  \n",
      "[23/Sep/2020 16:13:36] INFO - 63/100   Training    0.63  \n",
      "[23/Sep/2020 16:13:36] INFO -          Validation  0.63  \n",
      "[23/Sep/2020 16:13:36] INFO - 64/100   Training    0.63  \n",
      "[23/Sep/2020 16:13:37] INFO -          Validation  0.63  \n",
      "[23/Sep/2020 16:13:37] INFO - 65/100   Training    0.63  \n",
      "[23/Sep/2020 16:13:37] INFO -          Validation  0.63  \n",
      "[23/Sep/2020 16:13:37] INFO - 66/100   Training    0.63  \n",
      "[23/Sep/2020 16:13:38] INFO -          Validation  0.63  \n",
      "[23/Sep/2020 16:13:38] INFO - 67/100   Training    0.63  \n",
      "[23/Sep/2020 16:13:38] INFO -          Validation  0.63  \n",
      "[23/Sep/2020 16:13:39] INFO - 68/100   Training    0.63  \n",
      "[23/Sep/2020 16:13:39] INFO -          Validation  0.63  \n",
      "[23/Sep/2020 16:13:39] INFO - 69/100   Training    0.63  \n",
      "[23/Sep/2020 16:13:39] INFO -          Validation  0.63  \n",
      "[23/Sep/2020 16:13:40] INFO - 70/100   Training    0.62  \n",
      "[23/Sep/2020 16:13:40] INFO -          Validation  0.62  \n",
      "[23/Sep/2020 16:13:40] INFO - 71/100   Training    0.62  \n",
      "[23/Sep/2020 16:13:40] INFO -          Validation  0.62  \n",
      "[23/Sep/2020 16:13:40] INFO - 72/100   Training    0.62  \n",
      "[23/Sep/2020 16:13:40] INFO -          Validation  0.62  \n",
      "[23/Sep/2020 16:13:41] INFO - 73/100   Training    0.62  \n",
      "[23/Sep/2020 16:13:41] INFO -          Validation  0.62  \n",
      "[23/Sep/2020 16:13:41] INFO - 74/100   Training    0.62  \n",
      "[23/Sep/2020 16:13:41] INFO -          Validation  0.62  \n",
      "[23/Sep/2020 16:13:42] INFO - 75/100   Training    0.62  \n",
      "[23/Sep/2020 16:13:42] INFO -          Validation  0.62  \n",
      "[23/Sep/2020 16:13:42] INFO - 76/100   Training    0.62  \n",
      "[23/Sep/2020 16:13:42] INFO -          Validation  0.62  \n",
      "[23/Sep/2020 16:13:43] INFO - 77/100   Training    0.62  \n",
      "[23/Sep/2020 16:13:43] INFO -          Validation  0.62  \n",
      "[23/Sep/2020 16:13:43] INFO - 78/100   Training    0.62  \n",
      "[23/Sep/2020 16:13:43] INFO -          Validation  0.62  \n",
      "[23/Sep/2020 16:13:44] INFO - 79/100   Training    0.62  \n",
      "[23/Sep/2020 16:13:44] INFO -          Validation  0.62  \n",
      "[23/Sep/2020 16:13:44] INFO - 80/100   Training    0.61  \n",
      "[23/Sep/2020 16:13:44] INFO -          Validation  0.61  \n",
      "[23/Sep/2020 16:13:45] INFO - 81/100   Training    0.61  \n",
      "[23/Sep/2020 16:13:45] INFO -          Validation  0.61  \n",
      "[23/Sep/2020 16:13:45] INFO - 82/100   Training    0.61  \n",
      "[23/Sep/2020 16:13:45] INFO -          Validation  0.61  \n",
      "[23/Sep/2020 16:13:45] INFO - 83/100   Training    0.61  \n",
      "[23/Sep/2020 16:13:45] INFO -          Validation  0.61  \n",
      "[23/Sep/2020 16:13:46] INFO - 84/100   Training    0.61  \n",
      "[23/Sep/2020 16:13:46] INFO -          Validation  0.61  \n",
      "[23/Sep/2020 16:13:46] INFO - 85/100   Training    0.61  \n",
      "[23/Sep/2020 16:13:46] INFO -          Validation  0.61  \n",
      "[23/Sep/2020 16:13:47] INFO - 86/100   Training    0.61  \n",
      "[23/Sep/2020 16:13:47] INFO -          Validation  0.61  \n",
      "[23/Sep/2020 16:13:47] INFO - 87/100   Training    0.61  \n",
      "[23/Sep/2020 16:13:47] INFO -          Validation  0.61  \n",
      "[23/Sep/2020 16:13:48] INFO - 88/100   Training    0.61  \n",
      "[23/Sep/2020 16:13:48] INFO -          Validation  0.61  \n",
      "[23/Sep/2020 16:13:48] INFO - 89/100   Training    0.61  \n",
      "[23/Sep/2020 16:13:48] INFO -          Validation  0.61  \n",
      "[23/Sep/2020 16:13:49] INFO - 90/100   Training    0.61  \n",
      "[23/Sep/2020 16:13:49] INFO -          Validation  0.61  \n",
      "[23/Sep/2020 16:13:49] INFO - 91/100   Training    0.61  \n",
      "[23/Sep/2020 16:13:49] INFO -          Validation  0.61  \n",
      "[23/Sep/2020 16:13:50] INFO - 92/100   Training    0.61  \n",
      "[23/Sep/2020 16:13:50] INFO -          Validation  0.61  \n",
      "[23/Sep/2020 16:13:50] INFO - 93/100   Training    0.61  \n",
      "[23/Sep/2020 16:13:50] INFO -          Validation  0.61  \n",
      "[23/Sep/2020 16:13:51] INFO - 94/100   Training    0.61  \n",
      "[23/Sep/2020 16:13:51] INFO -          Validation  0.61  \n",
      "[23/Sep/2020 16:13:51] INFO - 95/100   Training    0.61  \n",
      "[23/Sep/2020 16:13:51] INFO -          Validation  0.61  \n",
      "[23/Sep/2020 16:13:51] INFO - 96/100   Training    0.61  \n",
      "[23/Sep/2020 16:13:52] INFO -          Validation  0.61  \n",
      "[23/Sep/2020 16:13:52] INFO - 97/100   Training    0.61  \n",
      "[23/Sep/2020 16:13:52] INFO -          Validation  0.61  \n",
      "[23/Sep/2020 16:13:52] INFO - 98/100   Training    0.61  \n",
      "[23/Sep/2020 16:13:52] INFO -          Validation  0.61  \n",
      "[23/Sep/2020 16:13:53] INFO - 99/100   Training    0.61  \n",
      "[23/Sep/2020 16:13:53] INFO -          Validation  0.61  \n",
      "[23/Sep/2020 16:13:53] INFO - 100/100  Training    0.61  \n",
      "[23/Sep/2020 16:13:53] INFO -          Validation  0.61  \n",
      "[23/Sep/2020 16:13:53] INFO - Training complete in 0m 46s\n",
      "[23/Sep/2020 16:13:53] INFO - Best Validation Loss: 0.61\n",
      "\n"
     ]
    }
   ],
   "source": [
    "model, stats = train_autoencoder(Project, model, dataloaders, dataset_sizes, criterion, optimizer, num_epochs = 100)"
   ]
  },
  {
   "cell_type": "markdown",
   "metadata": {},
   "source": [
    "***"
   ]
  },
  {
   "cell_type": "code",
   "execution_count": 18,
   "metadata": {},
   "outputs": [],
   "source": [
    "exemplo = next(iter(dataloaders['train']))[0][0].unsqueeze(0).to(device)"
   ]
  },
  {
   "cell_type": "code",
   "execution_count": 19,
   "metadata": {},
   "outputs": [],
   "source": [
    "output = model(exemplo).detach()"
   ]
  },
  {
   "cell_type": "code",
   "execution_count": null,
   "metadata": {},
   "outputs": [],
   "source": [
    "fig, ax = dataVisualization(exemplo.squeeze()[:, :100], output.squeeze()[:, :100], save = False, filename = \"16x64_comparison.png\")"
   ]
  },
  {
   "cell_type": "code",
   "execution_count": null,
   "metadata": {},
   "outputs": [],
   "source": [
    "fig, ax = EncoderVisualization(model, exemplo, save = False, filename = '16x16_encoded.png')"
   ]
  },
  {
   "cell_type": "markdown",
   "metadata": {},
   "source": [
    "***"
   ]
  },
  {
   "cell_type": "code",
   "execution_count": 12,
   "metadata": {},
   "outputs": [],
   "source": [
    "class HybridModel(nn.Module):\n",
    "    def __init__(self, classifier, encoder):\n",
    "        super(HybridModel, self).__init__()\n",
    "        self.encoder = encoder\n",
    "        self.classifier = classifier\n",
    "        \n",
    "    def forward(self, x):\n",
    "        with torch.set_grad_enabled(False):\n",
    "            x = self.encoder(x)\n",
    "        \n",
    "        x = self.classifier(x)\n",
    "        \n",
    "        return x"
   ]
  },
  {
   "cell_type": "code",
   "execution_count": 13,
   "metadata": {},
   "outputs": [],
   "source": [
    "model_type = 'resnet'; model_size = '50'; num_classes = 5; model_name = model_type + model_size\n",
    "classifier = model_selection(model_name, num_classes)\n",
    "encoder = model.encoder\n",
    "hybrid = HybridModel(classifier, encoder).to(device)"
   ]
  },
  {
   "cell_type": "code",
   "execution_count": 14,
   "metadata": {},
   "outputs": [],
   "source": [
    "optimizer = optim.SGD(hybrid.parameters(), lr = 0.001, momentum = 0.9)\n",
    "scheduler = optim.lr_scheduler.StepLR(optimizer, step_size = 5, gamma = 0.5)\n",
    "criterion = nn.CrossEntropyLoss()"
   ]
  },
  {
   "cell_type": "code",
   "execution_count": null,
   "metadata": {},
   "outputs": [],
   "source": [
    "hybrid, stats = kfold_train(Project, hybrid, dataset, criterion, optimizer, num_epochs = 20, num_folds = 5)"
   ]
  },
  {
   "cell_type": "markdown",
   "metadata": {},
   "source": [
    "***"
   ]
  },
  {
   "cell_type": "code",
   "execution_count": 13,
   "metadata": {},
   "outputs": [],
   "source": [
    "losses = {}"
   ]
  },
  {
   "cell_type": "code",
   "execution_count": 38,
   "metadata": {},
   "outputs": [],
   "source": [
    "losses['16x16_train'] = stats['Train'] \n",
    "losses['16x16_test']  = stats['Validation']"
   ]
  },
  {
   "cell_type": "code",
   "execution_count": 36,
   "metadata": {},
   "outputs": [],
   "source": [
    "from matplotlib.lines import Line2D\n",
    "plt.style.use('seaborn')"
   ]
  },
  {
   "cell_type": "code",
   "execution_count": 48,
   "metadata": {},
   "outputs": [
    {
     "data": {
      "image/png": "[encoded data removed]",
      "text/plain": [
       "<Figure size 864x432 with 1 Axes>"
      ]
     },
     "metadata": {},
     "output_type": "display_data"
    }
   ],
   "source": [
    "fig, ax = plt.subplots(nrows = 1, ncols = 1)\n",
    "fig.set_size_inches(12, 6)\n",
    "\n",
    "colors = {\n",
    "    '16':'m',\n",
    "    '32':'y',\n",
    "    '64':'g',\n",
    "    '128':'b',\n",
    "    '256':'r'\n",
    "}\n",
    "\n",
    "sizes = ['16', '32', '64', '128', '256']\n",
    "# sizes = ['16', '32', '64', '128']\n",
    "# sizes = ['16', '32', '64']\n",
    "labels = []\n",
    "for s in sizes:\n",
    "    labels.append('16x'+s)\n",
    "    ax.plot(range(100), losses['16x'+s+'_train'], color = colors[s])\n",
    "\n",
    "lines = ax.get_lines()\n",
    "    \n",
    "for s in sizes:\n",
    "    ax.plot(range(100), losses['16x'+s+'_test'], linestyle = '--', color = colors[s])\n",
    "    \n",
    "    \n",
    "trainline = Line2D([0], [0], color='k', linewidth=3, linestyle='-')\n",
    "valline   = Line2D([0], [0], color='k', linewidth=3, linestyle='--')\n",
    "\n",
    "\n",
    "legend1 = plt.legend(lines, labels, loc = (0.85, 0.69), fontsize = 15)\n",
    "legend2 = plt.legend([trainline, valline], ['Train', 'Validation'], loc = (0.68, 0.86), fontsize = 15)\n",
    "\n",
    "plt.xlabel('Época', fontweight='bold', fontsize = 17)\n",
    "plt.ylabel('Erro', fontweight = 'bold', fontsize = 17)\n",
    "\n",
    "plt.gca().add_artist(legend1)\n",
    "fig.tight_layout()\n",
    "fig.savefig(\"trainingautoencoder_512.png\")"
   ]
  },
  {
   "cell_type": "code",
   "execution_count": null,
   "metadata": {},
   "outputs": [],
   "source": []
  }
 ],
 "metadata": {
  "kernelspec": {
   "display_name": "Python 3",
   "language": "python",
   "name": "python3"
  },
  "language_info": {
   "codemirror_mode": {
    "name": "ipython",
    "version": 3
   },
   "file_extension": ".py",
   "mimetype": "text/x-python",
   "name": "python",
   "nbconvert_exporter": "python",
   "pygments_lexer": "ipython3",
   "version": "3.7.9"
  }
 },
 "nbformat": 4,
 "nbformat_minor": 4
}
