{
 "cells": [
  {
   "cell_type": "code",
   "execution_count": 1,
   "metadata": {},
   "outputs": [],
   "source": [
    "%load_ext autoreload\n",
    "%autoreload 2"
   ]
  },
  {
   "cell_type": "code",
   "execution_count": 2,
   "metadata": {},
   "outputs": [],
   "source": [
    "from Project import Project"
   ]
  },
  {
   "cell_type": "code",
   "execution_count": 3,
   "metadata": {},
   "outputs": [],
   "source": [
    "import torch\n",
    "import torch.nn as nn\n",
    "import torch.optim as optim\n",
    "from torchsummary import summary\n",
    "\n",
    "import pandas as pd\n",
    "import numpy as np\n",
    "import matplotlib.pyplot as plt\n",
    "\n",
    "from Scripts.neuralnets.NNTrainingUtils import train_autoencoder\n",
    "from Scripts.neuralnets.NNPreinstalledModelSelection import *\n",
    "from Scripts.neuralnets.NNTrainingUtils import train, kfold_train\n",
    "from Scripts.data.SSVEPDataset import SSVEPDataset\n",
    "from Scripts.data.SSVEPDataloader import SSVEPDataloader"
   ]
  },
  {
   "cell_type": "code",
   "execution_count": 4,
   "metadata": {},
   "outputs": [],
   "source": [
    "ngpu = 1; device = torch.device(\"cuda:0\" if (torch.cuda.is_available() and ngpu > 0) else \"cpu\")"
   ]
  },
  {
   "cell_type": "markdown",
   "metadata": {},
   "source": [
    "***"
   ]
  },
  {
   "cell_type": "code",
   "execution_count": null,
   "metadata": {},
   "outputs": [],
   "source": [
    "def read_data(dataframe):\n",
    "    return torch.tensor(pd.read_csv(dataframe['path'], sep = ' ', header = None, dtype = float).values)\n",
    "\n",
    "def dataVisualization(X1, X2, save = False, filename = None):\n",
    "    fig, axs = plt.subplots(nrows = 2, ncols = 1)\n",
    "    \n",
    "    fig.set_size_inches(12, 5)\n",
    "    fig.subplots_adjust(hspace = 0)\n",
    "    \n",
    "    for ax in axs:\n",
    "        ax.xaxis.set_major_formatter(plt.NullFormatter())\n",
    "        ax.yaxis.set_major_formatter(plt.NullFormatter())\n",
    "    \n",
    "    axs[0].imshow(X1, cmap = 'gray'); axs[0].set_title(\"Original\")\n",
    "    axs[1].imshow(X2, cmap = 'gray'); axs[1].set_title(\"Autoencoder's Output\")\n",
    "    \n",
    "    if save: fig.savefig(filename)\n",
    "    \n",
    "    return fig, axs\n",
    "\n",
    "def EncoderVisualization(model, data, save = False, filename = None):\n",
    "    fig, ax = plt.subplots(nrows = 1, ncols = 1)\n",
    "    fig.set_size_inches(15, 15)\n",
    "    fig.tight_layout()\n",
    "    ax.xaxis.set_major_formatter(plt.NullFormatter())\n",
    "    ax.yaxis.set_major_formatter(plt.NullFormatter())\n",
    "    \n",
    "    image = model.encode(data).detach()[0]\n",
    "    image = (image.transpose(0, 2).transpose(0, 1).numpy())\n",
    "    ax.imshow(image)\n",
    "    if save: fig.savefig(filename)\n",
    "        \n",
    "    return fig, ax"
   ]
  },
  {
   "cell_type": "markdown",
   "metadata": {},
   "source": [
    "***"
   ]
  },
  {
   "cell_type": "code",
   "execution_count": 5,
   "metadata": {},
   "outputs": [],
   "source": [
    "preprocessing = 'cca'\n",
    "signal_length = '512'\n",
    "data = pd.read_csv((Project.output_dir / ('SSVEPDataset_'+signal_length+'.csv')).__str__(), dtype = 'str')\n",
    "dataset = SSVEPDataset(Project, preprocessing, data, signal_length)"
   ]
  },
  {
   "cell_type": "code",
   "execution_count": 6,
   "metadata": {},
   "outputs": [
    {
     "name": "stdout",
     "output_type": "stream",
     "text": [
      "{'train': 2184, 'val': 546}\n"
     ]
    }
   ],
   "source": [
    "batch_size = 64\n",
    "dataloaders, dataset_sizes = SSVEPDataloader(dataset, batch_size)\n",
    "print(dataset_sizes)"
   ]
  },
  {
   "cell_type": "code",
   "execution_count": 7,
   "metadata": {},
   "outputs": [],
   "source": [
    "from Models.Autoencoder1 import Autoencoder"
   ]
  },
  {
   "cell_type": "code",
   "execution_count": 8,
   "metadata": {},
   "outputs": [
    {
     "name": "stdout",
     "output_type": "stream",
     "text": [
      "----------------------------------------------------------------\n",
      "        Layer (type)               Output Shape         Param #\n",
      "================================================================\n",
      "            Conv2d-1           [-1, 3, 16, 512]              36\n",
      "              ReLU-2           [-1, 3, 16, 512]               0\n",
      "         MaxPool2d-3  [[-1, 3, 16, 256], [-1, 3, 16, 256]]               0\n",
      "       BatchNorm2d-4           [-1, 3, 16, 256]               6\n",
      "       MaxUnpool2d-5           [-1, 3, 16, 512]               0\n",
      "   ConvTranspose2d-6           [-1, 1, 16, 512]              34\n",
      "================================================================\n",
      "Total params: 76\n",
      "Trainable params: 76\n",
      "Non-trainable params: 0\n",
      "----------------------------------------------------------------\n",
      "Input size (MB): 0.03\n",
      "Forward/backward pass size (MB): 1151.28\n",
      "Params size (MB): 0.00\n",
      "Estimated Total Size (MB): 1151.31\n",
      "----------------------------------------------------------------\n"
     ]
    }
   ],
   "source": [
    "model = Autoencoder(kernel_n = 5, stride = 1).to(device)\n",
    "summary(model, (1, 16, int(signal_length)))"
   ]
  },
  {
   "cell_type": "code",
   "execution_count": 9,
   "metadata": {},
   "outputs": [],
   "source": [
    "criterion = nn.MSELoss()\n",
    "optimizer = optim.SGD(model.parameters(), lr = 0.001, momentum = 0.9)\n",
    "# scheduler = optim.lr_scheduler.StepLR(optimizer, step_size = 5, gamma = 0.5)"
   ]
  },
  {
   "cell_type": "code",
   "execution_count": 10,
   "metadata": {},
   "outputs": [
    {
     "name": "stdout",
     "output_type": "stream",
     "text": [
      "[24/Sep/2020 13:13:48] INFO - Epoch    Stage       Loss  \n",
      "\n",
      "[24/Sep/2020 13:13:49] INFO - 1/100    Training    0.63  \n",
      "[24/Sep/2020 13:13:49] INFO -          Validation  0.30  \n",
      "[24/Sep/2020 13:13:49] INFO - 2/100    Training    0.24  \n",
      "[24/Sep/2020 13:13:49] INFO -          Validation  0.20  \n",
      "[24/Sep/2020 13:13:50] INFO - 3/100    Training    0.18  \n",
      "[24/Sep/2020 13:13:50] INFO -          Validation  0.16  \n",
      "[24/Sep/2020 13:13:51] INFO - 4/100    Training    0.15  \n",
      "[24/Sep/2020 13:13:51] INFO -          Validation  0.13  \n",
      "[24/Sep/2020 13:13:51] INFO - 5/100    Training    0.13  \n",
      "[24/Sep/2020 13:13:51] INFO -          Validation  0.12  \n",
      "[24/Sep/2020 13:13:52] INFO - 6/100    Training    0.11  \n",
      "[24/Sep/2020 13:13:52] INFO -          Validation  0.11  \n",
      "[24/Sep/2020 13:13:52] INFO - 7/100    Training    0.10  \n",
      "[24/Sep/2020 13:13:52] INFO -          Validation  0.10  \n",
      "[24/Sep/2020 13:13:53] INFO - 8/100    Training    0.09  \n",
      "[24/Sep/2020 13:13:53] INFO -          Validation  0.09  \n",
      "[24/Sep/2020 13:13:54] INFO - 9/100    Training    0.08  \n",
      "[24/Sep/2020 13:13:54] INFO -          Validation  0.08  \n",
      "[24/Sep/2020 13:13:54] INFO - 10/100   Training    0.08  \n",
      "[24/Sep/2020 13:13:54] INFO -          Validation  0.07  \n",
      "[24/Sep/2020 13:13:55] INFO - 11/100   Training    0.07  \n",
      "[24/Sep/2020 13:13:55] INFO -          Validation  0.07  \n",
      "[24/Sep/2020 13:13:56] INFO - 12/100   Training    0.06  \n",
      "[24/Sep/2020 13:13:56] INFO -          Validation  0.06  \n",
      "[24/Sep/2020 13:13:56] INFO - 13/100   Training    0.06  \n",
      "[24/Sep/2020 13:13:56] INFO -          Validation  0.06  \n",
      "[24/Sep/2020 13:13:57] INFO - 14/100   Training    0.05  \n",
      "[24/Sep/2020 13:13:57] INFO -          Validation  0.05  \n",
      "[24/Sep/2020 13:13:58] INFO - 15/100   Training    0.05  \n",
      "[24/Sep/2020 13:13:58] INFO -          Validation  0.05  \n",
      "[24/Sep/2020 13:13:58] INFO - 16/100   Training    0.05  \n",
      "[24/Sep/2020 13:13:58] INFO -          Validation  0.05  \n",
      "[24/Sep/2020 13:13:59] INFO - 17/100   Training    0.05  \n",
      "[24/Sep/2020 13:13:59] INFO -          Validation  0.05  \n",
      "[24/Sep/2020 13:14:00] INFO - 18/100   Training    0.05  \n",
      "[24/Sep/2020 13:14:00] INFO -          Validation  0.04  \n",
      "[24/Sep/2020 13:14:00] INFO - 19/100   Training    0.04  \n",
      "[24/Sep/2020 13:14:00] INFO -          Validation  0.04  \n",
      "[24/Sep/2020 13:14:01] INFO - 20/100   Training    0.04  \n",
      "[24/Sep/2020 13:14:01] INFO -          Validation  0.04  \n",
      "[24/Sep/2020 13:14:01] INFO - 21/100   Training    0.04  \n",
      "[24/Sep/2020 13:14:02] INFO -          Validation  0.04  \n",
      "[24/Sep/2020 13:14:02] INFO - 22/100   Training    0.04  \n",
      "[24/Sep/2020 13:14:02] INFO -          Validation  0.04  \n",
      "[24/Sep/2020 13:14:03] INFO - 23/100   Training    0.04  \n",
      "[24/Sep/2020 13:14:03] INFO -          Validation  0.04  \n",
      "[24/Sep/2020 13:14:03] INFO - 24/100   Training    0.04  \n",
      "[24/Sep/2020 13:14:03] INFO -          Validation  0.04  \n",
      "[24/Sep/2020 13:14:04] INFO - 25/100   Training    0.04  \n",
      "[24/Sep/2020 13:14:04] INFO -          Validation  0.04  \n",
      "[24/Sep/2020 13:14:05] INFO - 26/100   Training    0.04  \n",
      "[24/Sep/2020 13:14:05] INFO -          Validation  0.04  \n",
      "[24/Sep/2020 13:14:05] INFO - 27/100   Training    0.04  \n",
      "[24/Sep/2020 13:14:05] INFO -          Validation  0.03  \n",
      "[24/Sep/2020 13:14:06] INFO - 28/100   Training    0.04  \n",
      "[24/Sep/2020 13:14:06] INFO -          Validation  0.03  \n",
      "[24/Sep/2020 13:14:07] INFO - 29/100   Training    0.03  \n",
      "[24/Sep/2020 13:14:07] INFO -          Validation  0.03  \n",
      "[24/Sep/2020 13:14:07] INFO - 30/100   Training    0.03  \n",
      "[24/Sep/2020 13:14:07] INFO -          Validation  0.03  \n",
      "[24/Sep/2020 13:14:08] INFO - 31/100   Training    0.03  \n",
      "[24/Sep/2020 13:14:08] INFO -          Validation  0.03  \n",
      "[24/Sep/2020 13:14:08] INFO - 32/100   Training    0.03  \n",
      "[24/Sep/2020 13:14:08] INFO -          Validation  0.03  \n",
      "[24/Sep/2020 13:14:09] INFO - 33/100   Training    0.03  \n",
      "[24/Sep/2020 13:14:09] INFO -          Validation  0.03  \n",
      "[24/Sep/2020 13:14:10] INFO - 34/100   Training    0.03  \n",
      "[24/Sep/2020 13:14:10] INFO -          Validation  0.03  \n",
      "[24/Sep/2020 13:14:10] INFO - 35/100   Training    0.03  \n",
      "[24/Sep/2020 13:14:10] INFO -          Validation  0.03  \n",
      "[24/Sep/2020 13:14:11] INFO - 36/100   Training    0.03  \n",
      "[24/Sep/2020 13:14:11] INFO -          Validation  0.03  \n",
      "[24/Sep/2020 13:14:12] INFO - 37/100   Training    0.03  \n",
      "[24/Sep/2020 13:14:12] INFO -          Validation  0.03  \n",
      "[24/Sep/2020 13:14:12] INFO - 38/100   Training    0.03  \n",
      "[24/Sep/2020 13:14:12] INFO -          Validation  0.03  \n",
      "[24/Sep/2020 13:14:13] INFO - 39/100   Training    0.03  \n",
      "[24/Sep/2020 13:14:13] INFO -          Validation  0.03  \n",
      "[24/Sep/2020 13:14:13] INFO - 40/100   Training    0.03  \n",
      "[24/Sep/2020 13:14:14] INFO -          Validation  0.03  \n",
      "[24/Sep/2020 13:14:14] INFO - 41/100   Training    0.03  \n",
      "[24/Sep/2020 13:14:14] INFO -          Validation  0.03  \n",
      "[24/Sep/2020 13:14:15] INFO - 42/100   Training    0.03  \n",
      "[24/Sep/2020 13:14:15] INFO -          Validation  0.03  \n",
      "[24/Sep/2020 13:14:15] INFO - 43/100   Training    0.03  \n",
      "[24/Sep/2020 13:14:15] INFO -          Validation  0.03  \n",
      "[24/Sep/2020 13:14:16] INFO - 44/100   Training    0.03  \n",
      "[24/Sep/2020 13:14:16] INFO -          Validation  0.03  \n",
      "[24/Sep/2020 13:14:17] INFO - 45/100   Training    0.03  \n",
      "[24/Sep/2020 13:14:17] INFO -          Validation  0.03  \n",
      "[24/Sep/2020 13:14:17] INFO - 46/100   Training    0.03  \n",
      "[24/Sep/2020 13:14:17] INFO -          Validation  0.03  \n",
      "[24/Sep/2020 13:14:18] INFO - 47/100   Training    0.03  \n",
      "[24/Sep/2020 13:14:18] INFO -          Validation  0.03  \n",
      "[24/Sep/2020 13:14:19] INFO - 48/100   Training    0.03  \n",
      "[24/Sep/2020 13:14:19] INFO -          Validation  0.03  \n",
      "[24/Sep/2020 13:14:19] INFO - 49/100   Training    0.03  \n",
      "[24/Sep/2020 13:14:19] INFO -          Validation  0.03  \n",
      "[24/Sep/2020 13:14:20] INFO - 50/100   Training    0.03  \n",
      "[24/Sep/2020 13:14:20] INFO -          Validation  0.03  \n",
      "[24/Sep/2020 13:14:20] INFO - 51/100   Training    0.03  \n",
      "[24/Sep/2020 13:14:21] INFO -          Validation  0.02  \n",
      "[24/Sep/2020 13:14:21] INFO - 52/100   Training    0.03  \n",
      "[24/Sep/2020 13:14:21] INFO -          Validation  0.02  \n",
      "[24/Sep/2020 13:14:22] INFO - 53/100   Training    0.03  \n",
      "[24/Sep/2020 13:14:22] INFO -          Validation  0.02  \n",
      "[24/Sep/2020 13:14:22] INFO - 54/100   Training    0.03  \n",
      "[24/Sep/2020 13:14:22] INFO -          Validation  0.02  \n",
      "[24/Sep/2020 13:14:23] INFO - 55/100   Training    0.02  \n",
      "[24/Sep/2020 13:14:23] INFO -          Validation  0.02  \n",
      "[24/Sep/2020 13:14:24] INFO - 56/100   Training    0.02  \n",
      "[24/Sep/2020 13:14:24] INFO -          Validation  0.02  \n",
      "[24/Sep/2020 13:14:24] INFO - 57/100   Training    0.02  \n",
      "[24/Sep/2020 13:14:24] INFO -          Validation  0.02  \n",
      "[24/Sep/2020 13:14:25] INFO - 58/100   Training    0.02  \n",
      "[24/Sep/2020 13:14:25] INFO -          Validation  0.02  \n",
      "[24/Sep/2020 13:14:26] INFO - 59/100   Training    0.02  \n",
      "[24/Sep/2020 13:14:26] INFO -          Validation  0.02  \n",
      "[24/Sep/2020 13:14:26] INFO - 60/100   Training    0.02  \n",
      "[24/Sep/2020 13:14:26] INFO -          Validation  0.02  \n",
      "[24/Sep/2020 13:14:27] INFO - 61/100   Training    0.02  \n",
      "[24/Sep/2020 13:14:27] INFO -          Validation  0.02  \n",
      "[24/Sep/2020 13:14:28] INFO - 62/100   Training    0.02  \n",
      "[24/Sep/2020 13:14:28] INFO -          Validation  0.02  \n",
      "[24/Sep/2020 13:14:28] INFO - 63/100   Training    0.02  \n",
      "[24/Sep/2020 13:14:28] INFO -          Validation  0.02  \n",
      "[24/Sep/2020 13:14:29] INFO - 64/100   Training    0.02  \n",
      "[24/Sep/2020 13:14:29] INFO -          Validation  0.02  \n",
      "[24/Sep/2020 13:14:29] INFO - 65/100   Training    0.02  \n",
      "[24/Sep/2020 13:14:29] INFO -          Validation  0.02  \n",
      "[24/Sep/2020 13:14:30] INFO - 66/100   Training    0.02  \n",
      "[24/Sep/2020 13:14:30] INFO -          Validation  0.02  \n",
      "[24/Sep/2020 13:14:31] INFO - 67/100   Training    0.02  \n",
      "[24/Sep/2020 13:14:31] INFO -          Validation  0.02  \n",
      "[24/Sep/2020 13:14:31] INFO - 68/100   Training    0.02  \n",
      "[24/Sep/2020 13:14:31] INFO -          Validation  0.02  \n",
      "[24/Sep/2020 13:14:32] INFO - 69/100   Training    0.02  \n",
      "[24/Sep/2020 13:14:32] INFO -          Validation  0.02  \n",
      "[24/Sep/2020 13:14:33] INFO - 70/100   Training    0.02  \n",
      "[24/Sep/2020 13:14:33] INFO -          Validation  0.02  \n",
      "[24/Sep/2020 13:14:33] INFO - 71/100   Training    0.02  \n",
      "[24/Sep/2020 13:14:33] INFO -          Validation  0.02  \n",
      "[24/Sep/2020 13:14:34] INFO - 72/100   Training    0.02  \n",
      "[24/Sep/2020 13:14:34] INFO -          Validation  0.02  \n",
      "[24/Sep/2020 13:14:34] INFO - 73/100   Training    0.02  \n",
      "[24/Sep/2020 13:14:35] INFO -          Validation  0.02  \n",
      "[24/Sep/2020 13:14:35] INFO - 74/100   Training    0.02  \n",
      "[24/Sep/2020 13:14:35] INFO -          Validation  0.02  \n",
      "[24/Sep/2020 13:14:36] INFO - 75/100   Training    0.02  \n",
      "[24/Sep/2020 13:14:36] INFO -          Validation  0.02  \n",
      "[24/Sep/2020 13:14:36] INFO - 76/100   Training    0.02  \n",
      "[24/Sep/2020 13:14:36] INFO -          Validation  0.02  \n",
      "[24/Sep/2020 13:14:37] INFO - 77/100   Training    0.02  \n",
      "[24/Sep/2020 13:14:37] INFO -          Validation  0.02  \n",
      "[24/Sep/2020 13:14:38] INFO - 78/100   Training    0.02  \n",
      "[24/Sep/2020 13:14:38] INFO -          Validation  0.02  \n",
      "[24/Sep/2020 13:14:38] INFO - 79/100   Training    0.02  \n",
      "[24/Sep/2020 13:14:38] INFO -          Validation  0.02  \n",
      "[24/Sep/2020 13:14:39] INFO - 80/100   Training    0.02  \n",
      "[24/Sep/2020 13:14:39] INFO -          Validation  0.02  \n",
      "[24/Sep/2020 13:14:40] INFO - 81/100   Training    0.02  \n",
      "[24/Sep/2020 13:14:40] INFO -          Validation  0.02  \n",
      "[24/Sep/2020 13:14:40] INFO - 82/100   Training    0.02  \n",
      "[24/Sep/2020 13:14:40] INFO -          Validation  0.02  \n",
      "[24/Sep/2020 13:14:41] INFO - 83/100   Training    0.02  \n",
      "[24/Sep/2020 13:14:41] INFO -          Validation  0.02  \n",
      "[24/Sep/2020 13:14:41] INFO - 84/100   Training    0.02  \n",
      "[24/Sep/2020 13:14:41] INFO -          Validation  0.02  \n",
      "[24/Sep/2020 13:14:42] INFO - 85/100   Training    0.02  \n",
      "[24/Sep/2020 13:14:42] INFO -          Validation  0.02  \n",
      "[24/Sep/2020 13:14:43] INFO - 86/100   Training    0.02  \n",
      "[24/Sep/2020 13:14:43] INFO -          Validation  0.02  \n",
      "[24/Sep/2020 13:14:43] INFO - 87/100   Training    0.02  \n",
      "[24/Sep/2020 13:14:43] INFO -          Validation  0.02  \n",
      "[24/Sep/2020 13:14:44] INFO - 88/100   Training    0.02  \n",
      "[24/Sep/2020 13:14:44] INFO -          Validation  0.02  \n",
      "[24/Sep/2020 13:14:45] INFO - 89/100   Training    0.02  \n",
      "[24/Sep/2020 13:14:45] INFO -          Validation  0.02  \n",
      "[24/Sep/2020 13:14:45] INFO - 90/100   Training    0.02  \n",
      "[24/Sep/2020 13:14:45] INFO -          Validation  0.02  \n",
      "[24/Sep/2020 13:14:46] INFO - 91/100   Training    0.02  \n",
      "[24/Sep/2020 13:14:46] INFO -          Validation  0.02  \n",
      "[24/Sep/2020 13:14:46] INFO - 92/100   Training    0.02  \n",
      "[24/Sep/2020 13:14:47] INFO -          Validation  0.02  \n",
      "[24/Sep/2020 13:14:47] INFO - 93/100   Training    0.02  \n",
      "[24/Sep/2020 13:14:47] INFO -          Validation  0.02  \n",
      "[24/Sep/2020 13:14:48] INFO - 94/100   Training    0.02  \n",
      "[24/Sep/2020 13:14:48] INFO -          Validation  0.02  \n",
      "[24/Sep/2020 13:14:48] INFO - 95/100   Training    0.02  \n",
      "[24/Sep/2020 13:14:48] INFO -          Validation  0.02  \n",
      "[24/Sep/2020 13:14:49] INFO - 96/100   Training    0.02  \n",
      "[24/Sep/2020 13:14:49] INFO -          Validation  0.02  \n",
      "[24/Sep/2020 13:14:50] INFO - 97/100   Training    0.02  \n",
      "[24/Sep/2020 13:14:50] INFO -          Validation  0.02  \n",
      "[24/Sep/2020 13:14:50] INFO - 98/100   Training    0.02  \n",
      "[24/Sep/2020 13:14:50] INFO -          Validation  0.02  \n",
      "[24/Sep/2020 13:14:51] INFO - 99/100   Training    0.02  \n",
      "[24/Sep/2020 13:14:51] INFO -          Validation  0.02  \n",
      "[24/Sep/2020 13:14:52] INFO - 100/100  Training    0.02  \n",
      "[24/Sep/2020 13:14:52] INFO -          Validation  0.02  \n",
      "[24/Sep/2020 13:14:52] INFO - Training complete in 1m 4s\n",
      "[24/Sep/2020 13:14:52] INFO - Best Validation Loss: 0.02\n",
      "\n"
     ]
    }
   ],
   "source": [
    "model, stats = train_autoencoder(Project, model, dataloaders, dataset_sizes, criterion, optimizer, num_epochs = 100)"
   ]
  },
  {
   "cell_type": "markdown",
   "metadata": {},
   "source": [
    "***"
   ]
  },
  {
   "cell_type": "markdown",
   "metadata": {},
   "source": [
    "Visualization"
   ]
  },
  {
   "cell_type": "code",
   "execution_count": null,
   "metadata": {},
   "outputs": [],
   "source": [
    "exemplo = next(iter(dataloaders['train']))[0][0].unsqueeze(0).to(device)"
   ]
  },
  {
   "cell_type": "code",
   "execution_count": null,
   "metadata": {},
   "outputs": [],
   "source": [
    "output = model(exemplo).detach()"
   ]
  },
  {
   "cell_type": "code",
   "execution_count": null,
   "metadata": {},
   "outputs": [],
   "source": [
    "fig, ax = dataVisualization(exemplo.squeeze()[:, :100].cpu(), output.squeeze()[:, :100].cpu(), save = False, filename = \"16x64_comparison.png\")"
   ]
  },
  {
   "cell_type": "code",
   "execution_count": null,
   "metadata": {},
   "outputs": [],
   "source": [
    "fig, ax = EncoderVisualization(model.cpu(), exemplo.cpu(), save = False, filename = '16x16_encoded.png')"
   ]
  },
  {
   "cell_type": "markdown",
   "metadata": {},
   "source": [
    "***"
   ]
  },
  {
   "cell_type": "markdown",
   "metadata": {},
   "source": [
    "Classification"
   ]
  },
  {
   "cell_type": "code",
   "execution_count": null,
   "metadata": {},
   "outputs": [],
   "source": [
    "class HybridModel(nn.Module):\n",
    "    def __init__(self, classifier, encoder):\n",
    "        super(HybridModel, self).__init__()\n",
    "        self.encoder = encoder\n",
    "        self.classifier = classifier\n",
    "        \n",
    "    def forward(self, x):\n",
    "        with torch.set_grad_enabled(False):\n",
    "            x = self.encoder(x)\n",
    "        \n",
    "        x = self.classifier(x)\n",
    "        \n",
    "        return x"
   ]
  },
  {
   "cell_type": "code",
   "execution_count": null,
   "metadata": {},
   "outputs": [],
   "source": [
    "model_type = 'resnet'; model_size = '50'; num_classes = 5; model_name = model_type + model_size\n",
    "classifier = model_selection(model_name, num_classes)\n",
    "encoder = model.encoder\n",
    "hybrid = HybridModel(classifier, encoder).to(device)"
   ]
  },
  {
   "cell_type": "code",
   "execution_count": null,
   "metadata": {},
   "outputs": [],
   "source": [
    "optimizer = optim.SGD(hybrid.parameters(), lr = 0.001, momentum = 0.9)\n",
    "scheduler = optim.lr_scheduler.StepLR(optimizer, step_size = 5, gamma = 0.5)\n",
    "criterion = nn.CrossEntropyLoss()"
   ]
  },
  {
   "cell_type": "code",
   "execution_count": null,
   "metadata": {},
   "outputs": [],
   "source": [
    "hybrid, stats = kfold_train(Project, hybrid, dataset, criterion, optimizer, num_epochs = 20, num_folds = 5)"
   ]
  },
  {
   "cell_type": "markdown",
   "metadata": {},
   "source": [
    "***"
   ]
  }
 ],
 "metadata": {
  "kernelspec": {
   "display_name": "Python 3",
   "language": "python",
   "name": "python3"
  },
  "language_info": {
   "codemirror_mode": {
    "name": "ipython",
    "version": 3
   },
   "file_extension": ".py",
   "mimetype": "text/x-python",
   "name": "python",
   "nbconvert_exporter": "python",
   "pygments_lexer": "ipython3",
   "version": "3.7.9"
  }
 },
 "nbformat": 4,
 "nbformat_minor": 4
}
