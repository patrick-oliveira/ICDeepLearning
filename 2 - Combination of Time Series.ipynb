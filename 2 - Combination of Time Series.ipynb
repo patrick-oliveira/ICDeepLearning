{
 "cells": [
  {
   "cell_type": "code",
   "execution_count": 1,
   "metadata": {},
   "outputs": [],
   "source": [
    "%load_ext autoreload\n",
    "%autoreload 2\n",
    "from Project import Project\n",
    "from Scripts.data import LinearCombination"
   ]
  },
  {
   "cell_type": "code",
   "execution_count": 8,
   "metadata": {},
   "outputs": [],
   "source": [
    "signal_length = '1280'\n",
    "# electrodes = ['Oz', 'Cz']\n",
    "LinearCombination.combine(Project, signal_length)"
   ]
  },
  {
   "cell_type": "code",
   "execution_count": 2,
   "metadata": {},
   "outputs": [
    {
     "data": {
      "text/plain": [
       "\u001b[1;31mSignature:\u001b[0m\n",
       "\u001b[0mLinearCombination\u001b[0m\u001b[1;33m.\u001b[0m\u001b[0mcombine\u001b[0m\u001b[1;33m(\u001b[0m\u001b[1;33m\n",
       "\u001b[0m    \u001b[0mproject\u001b[0m\u001b[1;33m,\u001b[0m\u001b[1;33m\n",
       "\u001b[0m    \u001b[0msignal_length\u001b[0m\u001b[1;33m,\u001b[0m\u001b[1;33m\n",
       "\u001b[0m    \u001b[0mpreprocessing\u001b[0m\u001b[1;33m=\u001b[0m\u001b[1;34m'cca'\u001b[0m\u001b[1;33m,\u001b[0m\u001b[1;33m\n",
       "\u001b[0m    \u001b[0melectrodes\u001b[0m\u001b[1;33m=\u001b[0m\u001b[1;33m[\u001b[0m\u001b[1;34m'O1'\u001b[0m\u001b[1;33m,\u001b[0m \u001b[1;34m'O2'\u001b[0m\u001b[1;33m,\u001b[0m \u001b[1;34m'Oz'\u001b[0m\u001b[1;33m,\u001b[0m \u001b[1;34m'POz'\u001b[0m\u001b[1;33m,\u001b[0m \u001b[1;34m'Pz'\u001b[0m\u001b[1;33m,\u001b[0m \u001b[1;34m'PO3'\u001b[0m\u001b[1;33m,\u001b[0m \u001b[1;34m'PO4'\u001b[0m\u001b[1;33m,\u001b[0m \u001b[1;34m'PO7'\u001b[0m\u001b[1;33m,\u001b[0m \u001b[1;34m'PO8'\u001b[0m\u001b[1;33m,\u001b[0m \u001b[1;34m'P1'\u001b[0m\u001b[1;33m,\u001b[0m \u001b[1;34m'P2'\u001b[0m\u001b[1;33m,\u001b[0m \u001b[1;34m'Cz'\u001b[0m\u001b[1;33m,\u001b[0m \u001b[1;34m'C1'\u001b[0m\u001b[1;33m,\u001b[0m \u001b[1;34m'C2'\u001b[0m\u001b[1;33m,\u001b[0m \u001b[1;34m'CPz'\u001b[0m\u001b[1;33m,\u001b[0m \u001b[1;34m'FCz'\u001b[0m\u001b[1;33m]\u001b[0m\u001b[1;33m,\u001b[0m\u001b[1;33m\n",
       "\u001b[0m\u001b[1;33m)\u001b[0m\u001b[1;33m\u001b[0m\u001b[1;33m\u001b[0m\u001b[0m\n",
       "\u001b[1;31mDocstring:\u001b[0m\n",
       "project : Project\n",
       "data_type : String\n",
       "\u001b[1;31mFile:\u001b[0m      c:\\users\\olipp\\documents\\github\\icdeeplearning\\scripts\\data\\linearcombination.py\n",
       "\u001b[1;31mType:\u001b[0m      function\n"
      ]
     },
     "metadata": {},
     "output_type": "display_data"
    }
   ],
   "source": [
    "LinearCombination.combine?"
   ]
  }
 ],
 "metadata": {
  "kernelspec": {
   "display_name": "Python 3",
   "language": "python",
   "name": "python3"
  },
  "language_info": {
   "codemirror_mode": {
    "name": "ipython",
    "version": 3
   },
   "file_extension": ".py",
   "mimetype": "text/x-python",
   "name": "python",
   "nbconvert_exporter": "python",
   "pygments_lexer": "ipython3",
   "version": "3.8.5"
  }
 },
 "nbformat": 4,
 "nbformat_minor": 4
}
