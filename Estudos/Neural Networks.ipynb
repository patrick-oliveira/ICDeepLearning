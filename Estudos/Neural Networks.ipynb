{
 "cells": [
  {
   "cell_type": "markdown",
   "metadata": {},
   "source": [
    "Even though a Multilayer Perceptron (MLP) architecture wasn't used in this study, a brief description of its working can be given to explain the basic mechanism of training and classification of general neural networks, including Convolutional Neural Networks, the focus of this project. A rigorous explanation can be found at (citação).\n",
    "\t\t\n",
    "        \n",
    "### Feedforward Networks\n",
    "       \n",
    "A MLP is structured by the interconnection of fundamental units called _perceptrons_, organized within a layered structured. Each perceptron is a set of free parameters which is applied to a given input, passing forward a value. All parameters can be adjusted by a learning proccess so that the network becomes capable of returning a expected final output for each input obtained from a training dataset.\n",
    "\n",
    "<img src=\"img\\mlp.png\" width=\"400\" height=\"400\" align=\"center\"/>\n",
    "    \n",
    "Formally, consider a network with $L$ layers, each layer with $D_l \\in \\mathbb{N}^*$ neurons, $l = 1, \\ldots, L$. Hence, each layer has as its outputs a vector from $\\mathbb{R}^{D_l}$, and each layer's parameters can be described as a weight matrix $W^l \\in \\mathbb{R}^{D_l} \\times \\mathbb{R}^{D_{l-1}}$ with bias $b^l \\in \\mathbb{R}^{D_l}$. If $X = \\{ x_1, \\ldots, x_N\\}$ is a dataset, $x_i \\in \\mathbb{R}^{D_1} \\forall i = 1, \\ldots, N$, and $a^l$ denotes the output of layer $l$ to $l+1$, then\n",
    "\t\t\n",
    "\\begin{eqnarray}\n",
    "    a^l = \\sigma (W^l a^{l-1} + b^l)\n",
    "\\end{eqnarray}\n",
    "\t\t\n",
    "where $a^1 = x_i \\in X$ and $\\sigma$ is a non-linear activation function. Therefore, the network can be understood as a mapping $F: \\mathbb{R}^{D_1} \\rightarrow \\mathbb{R}^{D_L}$. Usually, the network is adjusted using optimization methodologies based on the Mean-Squared Error (MSE) and through algorithms such as the Back-Propagation, that propagates backward the relative error from the last layers, adjusting each layer recursively. "
   ]
  },
  {
   "cell_type": "markdown",
   "metadata": {},
   "source": [
    "### Stochastic Gradient"
   ]
  },
  {
   "cell_type": "markdown",
   "metadata": {},
   "source": [
    "***"
   ]
  },
  {
   "cell_type": "markdown",
   "metadata": {},
   "source": [
    "Implementation"
   ]
  },
  {
   "cell_type": "code",
   "execution_count": null,
   "metadata": {},
   "outputs": [],
   "source": []
  }
 ],
 "metadata": {
  "kernelspec": {
   "display_name": "Python 3",
   "language": "python",
   "name": "python3"
  },
  "language_info": {
   "codemirror_mode": {
    "name": "ipython",
    "version": 3
   },
   "file_extension": ".py",
   "mimetype": "text/x-python",
   "name": "python",
   "nbconvert_exporter": "python",
   "pygments_lexer": "ipython3",
   "version": "3.7.6"
  }
 },
 "nbformat": 4,
 "nbformat_minor": 4
}
