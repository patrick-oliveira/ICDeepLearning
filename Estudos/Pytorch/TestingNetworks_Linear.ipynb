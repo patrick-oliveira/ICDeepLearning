{
 "cells": [
  {
   "cell_type": "code",
   "execution_count": 10,
   "metadata": {},
   "outputs": [],
   "source": [
    "import torch\n",
    "import torch.nn as nn\n",
    "import torch.nn.functional as F\n",
    "import pandas as pd\n",
    "import numpy as np\n",
    "import matplotlib.pyplot as plt\n",
    "from mpl_toolkits.mplot3d import Axes3D\n",
    "%matplotlib qt"
   ]
  },
  {
   "cell_type": "code",
   "execution_count": 2,
   "metadata": {},
   "outputs": [],
   "source": [
    "# data = pd.read_csv('wheat-seeds.csv', names = ['x1', 'x2', 'x3', 'x4', 'x5', 'x6', 'x7', 'y'], sep = ',', dtype = np.float)\n",
    "# train = data.sample(150)\n",
    "# test = data.loc[list(filter(lambda x: x not in train.index, data.index))]\n",
    "# testTarget = torch.tensor(test['y'].values.reshape((56, 1)), dtype = torch.float32)\n",
    "# test = torch.tensor(test[['x1', 'x2', 'x3', 'x4', 'x5', 'x6', 'x7']].values, dtype = torch.float32)\n",
    "# testTarget[testTarget != 1] = 0\n",
    "# X = torch.tensor(train[['x1', 'x2', 'x3', 'x4', 'x5', 'x6', 'x7']].values, dtype = torch.float32)\n",
    "# Y = torch.tensor(train[['y']].values, dtype = torch.float32)\n",
    "# Y[Y != 1.] = 0"
   ]
  },
  {
   "cell_type": "code",
   "execution_count": 3,
   "metadata": {},
   "outputs": [],
   "source": [
    "data = pd.read_csv('dados.csv', names = ['x1', 'x2', 'x3', 'y'], dtype = np.float)\n",
    "data['y'][data['y'] == -1] = 0\n",
    "X = torch.tensor(data[['x1', 'x2', 'x3']].values, dtype = torch.float32)\n",
    "Y = torch.tensor(data[['y']].values, dtype = torch.float32)"
   ]
  },
  {
   "cell_type": "markdown",
   "metadata": {},
   "source": [
    "For some reason, it's not working when the datatype is set to float64."
   ]
  },
  {
   "cell_type": "code",
   "execution_count": 7,
   "metadata": {},
   "outputs": [],
   "source": [
    "class LinearNet(nn.Module):\n",
    "    def __init__(self):\n",
    "        super(LinearNet, self).__init__()\n",
    "        self.fc1 = nn.Linear(3, 1)\n",
    "        self.loss = nn.BCELoss()\n",
    "        \n",
    "    def forward(self, X):\n",
    "        X = self.fc1(X)\n",
    "        X = torch.sigmoid(X)\n",
    "        return X\n",
    "    \n",
    "    def fit(self, X, target, epochs = 10, learningRate = 0.01, cuda = False):\n",
    "        index = np.arange(len(X))\n",
    "        optimizer = torch.optim.SGD(self.parameters(), lr = learningRate)\n",
    "        LossVec = []\n",
    "        for epoch in range(epochs):\n",
    "            np.random.shuffle(index)\n",
    "            for i in index:\n",
    "                optimizer.zero_grad()\n",
    "                \n",
    "                output = self.forward(X[i])\n",
    "                loss = self.loss(output, target[i]); \n",
    "                loss.backward()\n",
    "                \n",
    "                optimizer.step()   \n",
    "            LossVec.append(loss.item())\n",
    "                \n",
    "        return LossVec"
   ]
  },
  {
   "cell_type": "code",
   "execution_count": 8,
   "metadata": {},
   "outputs": [],
   "source": [
    "net = LinearNet()"
   ]
  },
  {
   "cell_type": "code",
   "execution_count": 14,
   "metadata": {},
   "outputs": [
    {
     "data": {
      "text/plain": [
       "<mpl_toolkits.mplot3d.art3d.Poly3DCollection at 0x23c2521a240>"
      ]
     },
     "execution_count": 14,
     "metadata": {},
     "output_type": "execute_result"
    }
   ],
   "source": [
    "loss = net.fit(X, Y, epochs = 10, learningRate = 0.01/2)\n",
    "fig, ax = plt.subplots(figsize = (10, 5))\n",
    "ax.plot(np.arange(len(loss)), loss,  color = 'k')\n",
    "\n",
    "W = list(net.parameters())[0][0]\n",
    "a = W[0].item()\n",
    "b = W[1].item()\n",
    "c = W[2].item()\n",
    "bias = list(net.parameters())[1].item()\n",
    "\n",
    "fig1 = plt.figure()\n",
    "ax1 = Axes3D(fig1)\n",
    "point = X\n",
    "\n",
    "xx, yy = np.meshgrid(range(-3, 5), range(-5, 5))\n",
    "z = (-a*xx - b*yy - bias)*1. / c\n",
    "surface1 = [xx, yy, z]\n",
    "\n",
    "C1 = data.where(data[\"y\"] == 1).dropna().index\n",
    "C2 = data.where(data[\"y\"] == 0).dropna().index\n",
    "\n",
    "ax1.scatter(data[\"x1\"][C1], data[\"x2\"][C1], data[\"x3\"][C1], color = \"r\", s=50)\n",
    "ax1.scatter(data[\"x1\"][C2], data[\"x2\"][C2], data[\"x3\"][C2], color = \"b\", s=50)\n",
    "\n",
    "ax1.plot_surface(xx, yy, z, color = 'grey')"
   ]
  },
  {
   "cell_type": "code",
   "execution_count": 167,
   "metadata": {},
   "outputs": [
    {
     "data": {
      "text/plain": [
       "[0.10117460787296295,\n",
       " 0.07752209901809692,\n",
       " 0.19316145777702332,\n",
       " 0.06095417961478233,\n",
       " 0.0030102096498012543]"
      ]
     },
     "execution_count": 167,
     "metadata": {},
     "output_type": "execute_result"
    }
   ],
   "source": [
    "loss[-5:]"
   ]
  },
  {
   "cell_type": "code",
   "execution_count": 168,
   "metadata": {},
   "outputs": [
    {
     "data": {
      "text/plain": [
       "tensor(0.3707, grad_fn=<BinaryCrossEntropyBackward>)"
      ]
     },
     "execution_count": 168,
     "metadata": {},
     "output_type": "execute_result"
    }
   ],
   "source": [
    "net.loss(net(test), testTarget)"
   ]
  }
 ],
 "metadata": {
  "kernelspec": {
   "display_name": "Python 3",
   "language": "python",
   "name": "python3"
  },
  "language_info": {
   "codemirror_mode": {
    "name": "ipython",
    "version": 3
   },
   "file_extension": ".py",
   "mimetype": "text/x-python",
   "name": "python",
   "nbconvert_exporter": "python",
   "pygments_lexer": "ipython3",
   "version": "3.7.4"
  }
 },
 "nbformat": 4,
 "nbformat_minor": 4
}
